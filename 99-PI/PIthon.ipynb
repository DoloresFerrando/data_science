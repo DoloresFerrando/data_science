{
 "cells": [
  {
   "cell_type": "markdown",
   "metadata": {},
   "source": [
    "## PIthon - Ejemplo de integración de un programa Python con PI Data Archive y PI AF"
   ]
  },
  {
   "cell_type": "markdown",
   "metadata": {},
   "source": [
    "Requiere tener instalado: pythonnet\n",
    "\n",
    "http://pythonnet.github.io/\n",
    "\n",
    "Debe correr en el servidor donde esté instalado el AF SDK."
   ]
  },
  {
   "cell_type": "code",
   "execution_count": 4,
   "metadata": {},
   "outputs": [
    {
     "name": "stdout",
     "output_type": "stream",
     "text": [
      "Collecting pythonnet\n",
      "  Downloading pythonnet-2.5.2-cp37-cp37m-win_amd64.whl (81 kB)\n",
      "Requirement already satisfied: pycparser in c:\\users\\colmo\\anaconda3\\lib\\site-packages (from pythonnet) (2.19)\n",
      "Installing collected packages: pythonnet\n",
      "Successfully installed pythonnet-2.5.2\n"
     ]
    }
   ],
   "source": [
    "# Error! No es esta la librería a instalar, es pip install pythonnet http://pythonnet.github.io/\n",
    "# OJO: clr is a simple terminal string styling library. Its API is a port of the popular chalk module for javascript.\n",
    "# https://pypi.org/project/clr/ Ejemplo: print(clr.red.bold('Hello world!')) NO HAY QUE INSTALAR CLR!!!\n",
    "\n",
    "# Ejecutar lo siguiente en línea de comando\n",
    "#!pip install pythonnet"
   ]
  },
  {
   "cell_type": "code",
   "execution_count": 1,
   "metadata": {},
   "outputs": [],
   "source": [
    "# sys module provides access to some variables used or maintained by the interpreter and to functions that interact \n",
    "# strongly with the interpreter. It is always available. https://docs.python.org/3/library/sys.html\n",
    "# clr es la forma de declarar el package pythonnet (.net para python)\n",
    "import sys\n",
    "import clr"
   ]
  },
  {
   "cell_type": "code",
   "execution_count": 2,
   "metadata": {},
   "outputs": [
    {
     "data": {
      "text/plain": [
       "<System.Reflection.RuntimeAssembly object at 0x000001D4919AAAF0>"
      ]
     },
     "execution_count": 2,
     "metadata": {},
     "output_type": "execute_result"
    }
   ],
   "source": [
    "sys.path.append(r'C:\\Program Files (x86)\\PIPC\\AF\\PublicAssemblies\\4.0')  \n",
    "clr.AddReference('OSIsoft.AFSDK')"
   ]
  },
  {
   "cell_type": "code",
   "execution_count": 3,
   "metadata": {},
   "outputs": [],
   "source": [
    "from OSIsoft.AF import *\n",
    "from OSIsoft.AF.PI import *\n",
    "from OSIsoft.AF.Asset import *\n",
    "from OSIsoft.AF.Data import *\n",
    "from OSIsoft.AF.Time import *\n",
    "from OSIsoft.AF.UnitsOfMeasure import *\n",
    "from OSIsoft.AF.Search import *"
   ]
  },
  {
   "cell_type": "code",
   "execution_count": 4,
   "metadata": {},
   "outputs": [],
   "source": [
    "#initializes a C# list: from System.Collections.Generic import List\n",
    "# Implicit loading is deprecated. Please use clr.AddReference('System.Collections').\n",
    "clr.AddReference('System.Collections')\n",
    "from System.Collections.Generic import List"
   ]
  },
  {
   "cell_type": "code",
   "execution_count": 5,
   "metadata": {},
   "outputs": [],
   "source": [
    "from datetime import datetime, timedelta"
   ]
  },
  {
   "cell_type": "code",
   "execution_count": 6,
   "metadata": {},
   "outputs": [],
   "source": [
    "import pandas as pd"
   ]
  },
  {
   "cell_type": "code",
   "execution_count": 21,
   "metadata": {},
   "outputs": [],
   "source": [
    "# Si coloco dir('OSIsoft.AF') no trae el detalle de las clases agregadas por este módulo. \n",
    "# Entendí que es por cómo se cargan en memoria las referencias a clases. Si sed indica dir() solamente, trae todo lo que \n",
    "# está cargado en memoria\n",
    "#dir()"
   ]
  },
  {
   "cell_type": "markdown",
   "metadata": {},
   "source": [
    "# Conexión a una AF Database"
   ]
  },
  {
   "cell_type": "code",
   "execution_count": 6,
   "metadata": {},
   "outputs": [
    {
     "name": "stdout",
     "output_type": "stream",
     "text": [
      "192.168.103.66\n"
     ]
    }
   ],
   "source": [
    "# PI Data Archive\n",
    "#piServers = PIServers()  \n",
    "#piServer = piServers.DefaultPIServer;\n",
    "#print(piServer, 'Ok, pero no tengo permisos')"
   ]
  },
  {
   "cell_type": "code",
   "execution_count": 24,
   "metadata": {},
   "outputs": [],
   "source": [
    "#piServers = PIServers()\n",
    "#for piServer in piServers:\n",
    "#    piServer.Connect()\n",
    "#    print(piServer.Name + \" -> \" + str(piServer.ConnectionInfo.IsConnected))\n",
    "#    piServer.Disconnect()\n",
    "\n",
    "#No funciona porque no tengo permisos"
   ]
  },
  {
   "cell_type": "code",
   "execution_count": 5,
   "metadata": {},
   "outputs": [],
   "source": [
    "afservers = PISystems()"
   ]
  },
  {
   "cell_type": "code",
   "execution_count": 8,
   "metadata": {},
   "outputs": [
    {
     "name": "stdout",
     "output_type": "stream",
     "text": [
      "PARCCVWPIEDA01\n"
     ]
    }
   ],
   "source": [
    "#afserver = afservers.DefaultPISystem\n",
    "AFServer = afservers['PARCCVWPIEDA01']\n",
    "#AFServer = afservers['QARCCVWPIE01']\n",
    "print(AFServer.Name)"
   ]
  },
  {
   "cell_type": "code",
   "execution_count": 9,
   "metadata": {},
   "outputs": [
    {
     "name": "stdout",
     "output_type": "stream",
     "text": [
      "DOF\n",
      "Database Name: DOF\n"
     ]
    }
   ],
   "source": [
    "# Acceso a una base de datos que no sea la default:\n",
    "DB = AFServer.Databases.DefaultDatabase\n",
    "print(DB.Name)\n",
    "DB = AFServer.Databases.get_Item(\"DOF\")\n",
    "print ('Database Name: {0}'.format(DB.Name))"
   ]
  },
  {
   "cell_type": "code",
   "execution_count": 9,
   "metadata": {},
   "outputs": [
    {
     "name": "stdout",
     "output_type": "stream",
     "text": [
      "192.168.103.66\n",
      "PARCCVWPIEDA01\n",
      "QARCCVWPIE01\n"
     ]
    }
   ],
   "source": [
    "iterator = afservers.GetEnumerator()\n",
    "for server in iterator:\n",
    "    print(server.Name)"
   ]
  },
  {
   "cell_type": "markdown",
   "metadata": {},
   "source": [
    "# Forma para recorrer la Estructura de elementos/assets"
   ]
  },
  {
   "cell_type": "code",
   "execution_count": 10,
   "metadata": {},
   "outputs": [
    {
     "name": "stdout",
     "output_type": "stream",
     "text": [
      "PAMPA ENERGIA S.A.\n"
     ]
    }
   ],
   "source": [
    "for element in DB.Elements:\n",
    "    print(element.Name)"
   ]
  },
  {
   "cell_type": "code",
   "execution_count": 43,
   "metadata": {},
   "outputs": [],
   "source": [
    "# Estas expresiones NO Funcionan\n",
    "#elemTemp = DB.ElementTemplates['Instalacion-PMs'] o DB.ElementTemplates[0]\n",
    "#element = DB.Elements.get_Item('El Mangrullo').Elements.get_Item('Pozos')"
   ]
  },
  {
   "cell_type": "code",
   "execution_count": 11,
   "metadata": {},
   "outputs": [
    {
     "name": "stdout",
     "output_type": "stream",
     "text": [
      "PAMPA ENERGIA S.A.\n"
     ]
    }
   ],
   "source": [
    "# El objeto iterable se debe asignar a una lista de python y esa lista sí se puede acceder:\n",
    "element_lst = list(DB.Elements)\n",
    "print(element_lst[0])"
   ]
  },
  {
   "cell_type": "code",
   "execution_count": 13,
   "metadata": {},
   "outputs": [],
   "source": [
    "# 2° Nivel de elementos:\n",
    "areas_lst = list(element_lst[0].Elements)"
   ]
  },
  {
   "cell_type": "code",
   "execution_count": 14,
   "metadata": {},
   "outputs": [
    {
     "name": "stdout",
     "output_type": "stream",
     "text": [
      "PAMPA ENERGIA S.A.\n",
      "Aguaragüe\n",
      "Anticlinal Campamento\n",
      "Chirete\n",
      "El Mangrullo\n",
      "El Tordillo\n",
      "Estación Fernández Oro\n",
      "Gobernador Ayala\n",
      "La Tapera-Puesto Quiroga\n",
      "Parva Negra Este\n",
      "Red de Transporte\n",
      "Rincón de Aranda\n",
      "Rincón del Mangrullo\n",
      "Río Neuquén\n",
      "Sierra Chata\n"
     ]
    }
   ],
   "source": [
    "for element in DB.Elements:\n",
    "    print(element.Name)\n",
    "    for subelement in element.Elements:\n",
    "        print(subelement.Name)\n",
    "        #for attribute in subelement.Attributes:\n",
    "        #    print(attribute.Name)"
   ]
  },
  {
   "cell_type": "code",
   "execution_count": 25,
   "metadata": {},
   "outputs": [
    {
     "name": "stdout",
     "output_type": "stream",
     "text": [
      "Area\n",
      "Compresor Plantas\n",
      "Compresores (Grupo)\n",
      "Facilidad\n",
      "Instalaciones(Grupo)\n",
      "Instalacion-Plantas\n",
      "Instalacion-PMs\n",
      "Medidores\n",
      "Pozo\n",
      "Pozo Parado\n",
      "Pozos\n"
     ]
    }
   ],
   "source": [
    "for elementTemplate in DB.ElementTemplates:\n",
    "    print(elementTemplate.Name)"
   ]
  },
  {
   "cell_type": "code",
   "execution_count": 49,
   "metadata": {},
   "outputs": [
    {
     "name": "stdout",
     "output_type": "stream",
     "text": [
      "% Gas Promedio Mes vs Cierre Mes Anterior\n"
     ]
    }
   ],
   "source": [
    "element_templates_list = list(DB.ElementTemplates)\n",
    "well_template = element_templates_list[8]\n",
    "well_attribute_templates_list = list(well_template.AttributeTemplates)\n",
    "print(well_attribute_templates_list[0])"
   ]
  },
  {
   "cell_type": "code",
   "execution_count": 15,
   "metadata": {},
   "outputs": [],
   "source": [
    "#elem_templates_lst = AFElementTemplatesList(DB.ElementTemplates)\n",
    "#help(DB.ElementTemplates)\n",
    "#help(well_lst[1].Attributes)\n",
    "#help(AFAttributeList())"
   ]
  },
  {
   "cell_type": "code",
   "execution_count": 96,
   "metadata": {},
   "outputs": [
    {
     "name": "stdout",
     "output_type": "stream",
     "text": [
      "Pozo\n"
     ]
    }
   ],
   "source": [
    "### SEGUIR BUSCANDO EN AFObject Class, porque los objetos heredan de esta clase el método GetItem\n",
    "elem = DB.ElementTemplates.GetItem('Pozo', True, True, True)\n",
    "print(elem.Name)"
   ]
  },
  {
   "cell_type": "code",
   "execution_count": 16,
   "metadata": {},
   "outputs": [],
   "source": [
    "#inspect.getargspec(AFElementTemplates.GetItem)"
   ]
  },
  {
   "cell_type": "code",
   "execution_count": 82,
   "metadata": {},
   "outputs": [
    {
     "name": "stdout",
     "output_type": "stream",
     "text": [
      "<class 'str'>\n"
     ]
    }
   ],
   "source": [
    "# module OSIsoft.AF.Asset\n",
    "import inspect\n",
    "\n",
    "for name, obj in inspect.getmembers('OSIsoft.AF.Asset'):\n",
    "    if inspect.isclass(obj):\n",
    "        print(obj)"
   ]
  },
  {
   "cell_type": "code",
   "execution_count": 86,
   "metadata": {},
   "outputs": [
    {
     "data": {
      "text/plain": [
       "[]"
      ]
     },
     "execution_count": 86,
     "metadata": {},
     "output_type": "execute_result"
    }
   ],
   "source": [
    "#dir('OSIsoft.AF.Asset')\n",
    "[m[0] for m in inspect.getmembers('OSIsoft.AF', inspect.isclass) if m[1].__module__ == 'OSIsoft.AF']"
   ]
  },
  {
   "cell_type": "markdown",
   "metadata": {},
   "source": [
    "# Busquedas de elementos"
   ]
  },
  {
   "cell_type": "code",
   "execution_count": 103,
   "metadata": {},
   "outputs": [],
   "source": [
    "# Búsqueda de elementos que cumplen con un criterio (Template de Pozo) y se encuentran debajo de \"El Mangrullo\"\n",
    "# AFElementSearch: Creates an instance of an AFElementSearch to search for AFElement objects using the specified \n",
    "# search query string. https://techsupport.osisoft.com/Documentation/PI-AF-SDK/Html/T_OSIsoft_AF_Search_AFElementSearch.htm\n",
    "# FindElements() Performs a non-paged text search within the AFDatabase to retrieve a collection of AFElement objects \n",
    "# which have a field that matches the specified query string.\n",
    "\n",
    "# Ejemplos: AFElementSearch(myDB, \"FindValves\", \"Root:'WestPlant\\Area32' (Category:'Valve' OR Name:Valve*)\")\n",
    "# AFEventFrameSearch(myDB, \"FindEventFields\", \"Template:'Event' |Level:<90.0\")\n",
    "# search = AFElementSearch(DB, \"busqueda\", \"Root:'PAMPA ENERGIA S.A.\\Sierra Chata' Template:'Pozo'\").FindElements()"
   ]
  },
  {
   "cell_type": "code",
   "execution_count": 17,
   "metadata": {},
   "outputs": [
    {
     "name": "stdout",
     "output_type": "stream",
     "text": [
      "M.a-1013\n",
      "Presión Boca de Pozo Promedio Hora 12,3499166996021\n",
      "Prod. Gas Pozo Medido BP (RDBMS) 36,8456192016602\n",
      "Fecha Max.Prod.Medida Gas 1555815600\n",
      "Maxima Prod. Gas Medida Pozo 214,5\n",
      "Presión Diferencial Diaria 0,122050285339355\n",
      "Medicion Fecha 30/1/2022 00:00:00\n",
      "GAP Presion Boca de Pozo Pt Created\n",
      "GAP Presion Linea Pt Created\n",
      "GAP Orificio 51\n",
      "Venta de Gas STD (asignada con gas útil) 36,486008149508\n",
      "Maxima Produccion Gas 220,474451096\n",
      "Evento Año 2019\n",
      "Pozo - Variacion Caudal Gas Medido 24hs -3,72820166761504\n",
      "Caudal Pozo Alta Presion 0\n",
      "Caudal Pozo Media Presion 0\n",
      "Caudal Pozo Baja-Baja Presion 0\n",
      "Prod. Promedio Venta Gas 9300 Año 3,73202855311355\n",
      "Prod. Promedio Venta Gas 9300 Mes 33,9614598333333\n",
      "Producción Acum. Venta Gas 9300 del Mes 1018,843795\n",
      "Venta Asignada Balance Diario Gas 9300 40,459884\n",
      "Prod. Promedio Gas Medido Mes 33,8347280292511\n",
      "Factor Asignación Gas Promedio Mes 0,995012614218783\n",
      "Prod. Promedio Petróleo Asignado Mes 0,862080366666666\n",
      "Prod. Promedio Agua Asignado Mes 12,1910639666667\n",
      "Producción Acum. Petroleo del Mes 25,862411\n",
      "Producción Acum. Agua del Mes 365,731919\n",
      "Número Dia  del Mes 30\n",
      "Producción Acum. Gas del Mes 1009,979435633\n",
      "Prod. Agua Pozo Balance (RDBMS) 11,7237672805786\n",
      "Prod. Petróleo Pozo Balance (RDBMS) 0,396331995725632\n",
      "Prod. Gas Pozo Balance (RDBMS) 37,9272880554199\n",
      "Fecha Control Display 10/09/2020\n",
      "Croma Pozo Fecha Display 20/08/2021\n",
      "Promedio Mes Gas Medido No Data\n",
      "Factor Asignación Gas 1,02935678286256\n",
      "Gas Mes/Pot. 68,248545974168\n",
      "Gas Mes/Mes Ant. Division by Zero in expression '(B-A)/A*100'\n",
      "Petróleo Mes (m3/d) 0\n",
      "GAP Pozo con Modelo IPM 1\n",
      "% Merma de Gas -84,22809601\n",
      "Gas Dia/Prom.Mes 9,49758581366061\n",
      "Pozo - Variacion Produccion 9,49758581366061\n",
      "Gas Medido (Prom. Mes) 33,6497091948336\n",
      "Link Ensayo de Pozos en Power Bi https://reports.espaciopampa.com:443/reports/powerbi/EyP%20Reportes%20T%C3%A9cnicos/Ensayos%20de%20Producci%C3%B3n%20EyP/Tablero%20de%20Ensayos%20de%20Produccion?rs:embed=true\n",
      "Paros Pozo Timestamp 30/1/2022 00:00:00\n",
      "Paros Pozo Downtime Teórico Gas Corregido 0\n",
      "Químicos Visita Fecha No Data\n",
      "Químicos Visita Id No Data\n",
      "Proyectado Cierre vs Ayer 35,5787132600802\n",
      "Paros Pozo Duración \n",
      "Paros Pozo Downtime Teórico Calculado Petróleo 0\n",
      "Croma Pozo Fecha 20/8/2021 00:00:00\n",
      "Producción Balance Diario CO2 0,0412670935058594\n",
      "Surface Y 5736504,09\n",
      "Surface X 2460534,63\n",
      "Surface Longitud -69,4525469012624\n",
      "Profundidad Final 1900\n",
      "Cota 671,200012207031\n",
      "Croma Pozo Status 1\n",
      "Croma Pozo Temperatura 14,7\n",
      "Croma Pozo Presión 11,0002241733772\n",
      "Croma Pozo Poder Calorífico 9691,82245126488\n",
      "Croma Pozo C9 0,037\n",
      "Croma Pozo C8 0,064\n",
      "Croma Pozo C7 0,136\n",
      "Croma Pozo C6 0,164\n",
      "Croma Pozo N-C5 0,078\n",
      "Croma Pozo I-C5 0,122\n",
      "Croma Pozo N-C4 0,289\n",
      "Croma Pozo I-C4 0,239\n",
      "Croma Pozo C3 0,997\n",
      "Croma Pozo C2 3,486\n",
      "Croma Pozo C1 94,029\n",
      "Croma Pozo CO2 0,112\n",
      "Croma Pozo O2 0\n",
      "Croma Pozo Comentarios Fecha de muestreo: 13-08-21\n",
      "Croma Pozo N2 0,247\n",
      "Comentario Diario de Pozo Sin Comentario\n",
      "Tipo Presión Baja Presión\n",
      "Sistema Extractivo Surgente Natural\n",
      "Inicio Producción 22/12/2004 00:00:00\n",
      "Químicos Plan de Tratamiento Producto 4 No Data\n",
      "Químicos Plan de Tratamiento Producto 3 No Data\n",
      "Producción Balance Diario Agua 11,723767\n",
      "Acumulada Mensual Pozo Petróleo 497,481048\n",
      "Acumulada Mensual Pozo Gasolina 131,985583\n",
      "Acumulada Mensual Pozo Agua 10739,05304\n",
      "Control Agua Diario 18,3\n",
      "Ensayo Id A001\n",
      "Acumulada Mensual Pozo Gas 34047,748208124\n",
      "Producción Balance Diario Gas Fm Vaca Muerta 0\n",
      "Producción Balance Diario Gas Fm Tordillo 0\n",
      "Producción Balance Diario Gas Fm Mulichinco 1,63504538757684\n",
      "Producción Balance Diario Gas Fm Agrio 36,2922426564232\n",
      "Producción Instantánea Vaca Muerta 0\n",
      "Producción Instantánea Tordillo 0\n",
      "Producción Instantánea Mulichinco 1,50003013183594\n",
      "Producción Instantánea Agrio 33,2953800244141\n",
      "Id OFM M 1013a\n",
      "Contador Estado Sin Comunicación 0\n",
      "Contador Estado Intervenido 0\n",
      "Contador Estado Parado 0\n",
      "Producción Mensual Timestamp 1/12/2021 00:00:00\n",
      "Choke 8\n",
      "Formación Productiva Commingle\n",
      "Evento Objetivo PERFIL CORROSION\n",
      "Producción Mensual Agua 0\n",
      "Producción Mensual Petróleo 0\n",
      "Producción Mensual Gas 0\n",
      "Presion de Fondo 20,8342432482759\n",
      "Medicion Volumen Gas 36,8456192016602\n",
      "Medicion Temperatura Promedio Diario Linea 19,3822078704834\n",
      "Medicion Temperatura Instantanea Linea 16,1166229248047\n",
      "Medicion Presión Instantanea Linea 11,6457567214966\n",
      "Medicion Presión Promedio Diario Linea 13,0525979995728\n",
      "Control Condensado Diario 0,9\n",
      "Potencial Timestamp 24/9/2021 00:00:00\n",
      "Proyectado Cierre 35,5787132600802\n",
      "Area El Mangrullo\n",
      "Estado Produciendo\n",
      "Evento Fecha Inicio 7/10/2021 00:00:00\n",
      "Evento Tipo OPER. SIN EQUIPO\n",
      "Evento Razón PERFILAR\n",
      "Potencial Base Gas Diario 20\n",
      "Presión Diferencial 0,06170654296875\n",
      "Temperatura Boca de Pozo 20,5433464050293\n",
      "Temperatura Línea 21,5379962921143\n",
      "Presión Línea 12,1483058929443\n",
      "Nombre Corto M.a-1013\n",
      "Producción Balance Diario WGR 0,000309111660881186\n",
      "Producción Balance Diario OGR 1,04497848499004E-05\n",
      "Presión Promedio Diario Boca de Pozo 13,1746482849121\n",
      "Nombre IPM M 1013a\n",
      "Producción Balance Diario Gas 37,927288044\n",
      "Presión Boca de Pozo 12,2100124359131\n",
      "Latitud -38,521313619022\n",
      "Longitud -69,452546840985\n",
      "UWI AR1942431764aa0101300\n",
      "Objetivo PRODUCTOR\n",
      "Provincia NEUQUEN\n",
      "Trayectoria VERTICAL\n",
      "Sigla PSF.Nq.M.a-1013\n",
      "Id 14351\n",
      "Acumulado Actual 21,6791725158691\n",
      "Acumulado Cierre 36,8456192016602\n",
      "Caudal Instantaneo 34,79541015625\n",
      "Control Timestamp 10/9/2020 00:00:00\n",
      "Control Gas Diario 42,7\n",
      "Instalación PTG EMAN\n",
      "Temperatura Promedio Diario Boca de Pozo 19,4990501403809\n",
      "Evento Codigo RLO\n",
      "OW Id TzWSuCCeos\n",
      "Evento Fecha Fin 7/10/2021 00:00:00\n",
      "Producción Balance Diario Petróleo 0,396332\n",
      "Link a IFP https://ifp.espaciopampa.com:443/InformeFinalPozo/Reporte/Pozo/M.a-1013/RJqi1\n",
      "Evento Id RJqi1\n",
      "GAP Pronóstico Agua 0\n",
      "GAP Pronóstico Gas 36,3647003173828\n",
      "GAP Pronóstico Petróleo 0\n",
      "GAP Pronóstico Presión 8,74055957794189\n",
      "Contador Estado Produciendo 1\n",
      "PLT Id 218\n",
      "Paros Pozo Causa \n",
      "Paros Pozo Causa Padre \n",
      "Paros Pozo Fecha Desde \n",
      "Paros Pozo Fecha Hasta \n",
      "Paros Pozo Downtime Teórico Calculado Gas 0\n",
      "Control Status Aprobado\n",
      "Producción Balance Diario Gasolina 0,443642\n",
      "Químicos Plan de Tratamiento Id No Data\n",
      "Químicos Plan de Tratamiento Fecha Desde No Data\n",
      "Químicos Plan de Tratamiento Fecha Hasta No Data\n",
      "Químicos Plan de Tratamiento Tipo de Punto de Dosificación No Data\n",
      "Químicos Plan de Tratamiento Tipo de Tratamiento No Data\n",
      "Químicos Plan de Tratamiento Método de Dosificación No Data\n",
      "Químicos Plan de Tratamiento Producto 1 No Data\n",
      "Químicos Plan de Tratamiento Producto 2 No Data\n",
      "Medición de Hierro 270\n",
      "Surface Latitud -38,5213232661504\n",
      "Cuenca NEUQUINA\n",
      "Link Anomalía https://reports.espaciopampa.com:443/reports/powerbi/EyP%20Reportes%20T%C3%A9cnicos/Analytics%20-%20Anomal%C3%ADas/Analytics%20-%20Downtime%20Link?rs:embed=true&filter=ZA_WELL/well_name eq 'M%201013a'\n",
      "Nombre Pozo para Link 'M 1013a'\n",
      "Ensayo - Fecha Inicio 10/4/2019 19:00:00\n",
      "Ensayo - Fecha Fin 20/4/2019 09:00:00\n",
      "Link a Legajo de Pozos http://meridian.espaciopampa.com:80/Meridian/EyP-LP/EL%20MANGRULLO/PSF.Nq.M.a-1013\n",
      "Link App Laboratorio - Análisis de Hierro en Power Bi https://reports.espaciopampa.com:443/reports/powerbi/Reportes%20T%C3%A9cnicos%20EyP/Analisis%20Parametros%20Laboratorios%20EyP/Analisis%20de%20Hierro?filter=MasaDeHierro/Pozo eq 'M%201013a'\n",
      "Laboratorio Análisis Fe Fecha 17/9/2020 00:00:00\n",
      "Laboratorio Análisis Fe Valor Hierro 270\n",
      "Laboratorio Analisis Fe Masa de Hierro Diaria 3,16541709\n",
      "Yacimiento EL MANGRULLO\n",
      "Nombre Oficial PSF.Nq.M.a-1013\n",
      "Merma Diaria Gas -16,8456192016602\n",
      "Paros Pozo Downtime Teórico Calculado TS 31/1/2022 12:20:47\n",
      "Volumen Variacion Produccion 3,19591000682657\n",
      "Merma de Gas -16,845619202\n",
      "Pozo - Caudal Instantáneo Mm3/d 34,79541015625\n",
      "Proyectado Cierre vs Potencial 35,5787132600802\n",
      "GAP Diferencia Caudal Instáneo vs Pronóstico Gas -4,31542167936599\n",
      "Gas Mes Anterior 0\n",
      "Diferencia Gas Promedio Mes vs Cierre Mes Anterior 33,6497091948336\n",
      "Sigla (OWR) PSF.Nq.M.a-1013\n",
      "Evento Abierto (RDBMS) No\n",
      "Existe en Zafiro Si\n",
      "Variación Prod.vs Potencial 13,6497091948336\n",
      "Link Químicos https://reports.espaciopampa.com:443/reports/powerbi/EyP%20Reportes%20T%C3%A9cnicos/Tratamientos%20Qu%C3%ADmicos/An%C3%A1lisis%20Tratamientos%20Qu%C3%ADmicos?rs:embed=true&filter=WELL/Pozo eq 'M%201013a'\n",
      "Prod. Promedio Gas Asignado Mes 33,6659811877667\n",
      "Producción Acum. Gas Medido del Mes 1015,04184087753\n",
      "Croma Pozo Densidad 0,6071\n",
      "Gas Proy./Prom.Mes 5,73260248425208\n",
      "Número Dia  del Año 273\n",
      "Producción Acum. Anual Venta Gas 9300 1018,843795\n",
      "CO2 Volumen Instantáneo 0,038970859375\n",
      "Caudal Instantaneo (Pozos Conectados) o Medicion Ayer (Pozos No Conectados) 34,79541015625\n",
      "Caudal Pozo Baja Presion 34,79541015625\n",
      "Evento WOV Fecha Fin 20/4/2019 00:00:00\n",
      "Gas Pozo Tipo No Data\n",
      "Gas Inicial Pozo No Data\n",
      "Prod. Gas Diario sin CO2 37,8860209619141\n",
      "Stock Actual Balance Diario Gas 8,486555586\n",
      "Stock Anterior Balance Diario Gas 9,211338492\n",
      "Instalacion Id 651\n",
      "Incidencia Pozo en Instalacion 0,0152842285844663\n",
      "Consumo de Gas STD (asignada con gas útil) 1,20696743882674\n",
      "Pozo Tipo - Flag de Presupuesto Año Actual No\n",
      "Pozo Tipo Corresponde Presupuesto Año Actual No\n",
      "Año Presupuesto de Producción No Data\n",
      "Pozo Tipo Ensayo Ya Ejecutado No\n",
      "Pozo Tipo Flag No\n",
      "Parametros - Presión de Tubing Avg 13,1746482849121\n",
      "Medicion Volumen Gas (Sin Limits) 36,8456192016602\n",
      "Caudal Promedio Hora 35,1656873647832\n"
     ]
    }
   ],
   "source": [
    "pozos_lst = list(AFElementSearch(DB, \"busqueda\", \"Root:'PAMPA ENERGIA S.A.\\El Mangrullo' Template:'Pozo'\").FindElements())\n",
    "pozo_1 = pozos_lst[0]\n",
    "attr = list(pozo_1.Attributes)\n",
    "print(pozo_1.Name)\n",
    "for attr in pozo_1.Attributes:\n",
    "    print(attr.Name, attr.GetValue())"
   ]
  },
  {
   "cell_type": "code",
   "execution_count": 9,
   "metadata": {},
   "outputs": [
    {
     "name": "stdout",
     "output_type": "stream",
     "text": [
      "% Gas Promedio Mes vs Cierre Mes Anterior Pozo:  M.a-1013\n"
     ]
    }
   ],
   "source": [
    "#AFValues = myAttribute.GetValues(myTimeRange, 0, Nothing)\n",
    "attr = list(pozo_1.Attributes)\n",
    "print(attr[0], \"Pozo: \", attr[0].Element)"
   ]
  },
  {
   "cell_type": "code",
   "execution_count": null,
   "metadata": {},
   "outputs": [],
   "source": []
  },
  {
   "cell_type": "markdown",
   "metadata": {},
   "source": [
    "# Obtención de Valores de Atributos"
   ]
  },
  {
   "cell_type": "code",
   "execution_count": 34,
   "metadata": {},
   "outputs": [
    {
     "name": "stdout",
     "output_type": "stream",
     "text": [
      "Pozo:  SCh.e-7\n"
     ]
    }
   ],
   "source": [
    "# Último valor de cada atributo para un pozo:\n",
    "#--------------------------------------------\n",
    "# Attribute Status: https://techsupport.osisoft.com/Documentation/PI-AF-SDK/html/T_OSIsoft_AF_Asset_AFValueStatus.htm\n",
    "# Good = 192, Bad = 0, Questionable = 64, Subsituted = 24\n",
    "attributes = AFAttributeList(well_lst[1].Attributes);\n",
    "values = attributes.GetValue()\n",
    "print('Pozo: ', well_lst[1])\n",
    "#for val in values:\n",
    "#    if val.IsGood:\n",
    "#        print(val.Attribute, val.IsGood, val.Status, val.Timestamp, val.UOM, val.Value)\n",
    "#    else:\n",
    "#        print('---', val.Attribute, val.IsGood, val.Status, val.Timestamp, val.UOM, val.Value)"
   ]
  },
  {
   "cell_type": "code",
   "execution_count": null,
   "metadata": {},
   "outputs": [],
   "source": [
    "# Often, however, there is a need to just access a few specific attributes from a collection of elements. \n",
    "# These examples use the LoadAttributes methods to load a specific list of attributes into the client. \n",
    "# https://techsupport.osisoft.com/Documentation/PI-AF-SDK/html/fc6c55c2-3879-4fe0-913c-3e759ba1b189.htm\n",
    "# 1- Busco una lista de elementos:\n",
    "well_lst = AFElementSearch(DB, \"well_search\", \"Root:'PAMPA ENERGIA S.A.\\Sierra Chata' Template:'Pozo'\").FindElements()"
   ]
  },
  {
   "cell_type": "code",
   "execution_count": 37,
   "metadata": {},
   "outputs": [],
   "source": [
    "# 2- Se debe armar la lista de templates de atributos (no es posible sólo pasar la lista de atributos)\n",
    "# Para poder usar CollectionList en Python, se debe agregar esta librería: from System.Collections.Generic import List"
   ]
  },
  {
   "cell_type": "code",
   "execution_count": null,
   "metadata": {},
   "outputs": [],
   "source": [
    "#elementlist = List[AFElement]()\n",
    "#analysislist = List[AFAnalysis]()   #initializes a C# list\n",
    "#search = AFAnalysisSearch(DB, 'All recalced analyses',\"Category:'PMRecalc'\").FindAnalyses()\n",
    "#for analysis in search:\n",
    "#    analysislist.Add(analysis)\n",
    "#myAnalysisService.QueueCalculation(analysislist, timerange, myAnalysisService.CalculationMode.DeleteExistingData)"
   ]
  },
  {
   "cell_type": "code",
   "execution_count": 67,
   "metadata": {},
   "outputs": [
    {
     "name": "stdout",
     "output_type": "stream",
     "text": [
      "1\n"
     ]
    }
   ],
   "source": [
    "print(AFSearchField.Name)"
   ]
  },
  {
   "cell_type": "code",
   "execution_count": 66,
   "metadata": {},
   "outputs": [
    {
     "ename": "TypeError",
     "evalue": "No method matches given arguments for FindElementTemplates: (<class 'OSIsoft.AF.AFDatabase'>, <class 'str'>, <class 'int'>, <class 'int'>, <class 'int'>, <class 'int'>)",
     "output_type": "error",
     "traceback": [
      "\u001b[1;31m---------------------------------------------------------------------------\u001b[0m",
      "\u001b[1;31mTypeError\u001b[0m                                 Traceback (most recent call last)",
      "\u001b[1;32m<ipython-input-66-d901e0ae4c68>\u001b[0m in \u001b[0;36m<module>\u001b[1;34m\u001b[0m\n\u001b[0;32m      1\u001b[0m well_template_lst = AFElementTemplate.FindElementTemplates(DB, \"Template: 'Pozo'\", AFSearchField.Name, AFSortField.Name, \n\u001b[1;32m----> 2\u001b[1;33m                                                            AFSortOrder.Ascending, 10000)\n\u001b[0m",
      "\u001b[1;31mTypeError\u001b[0m: No method matches given arguments for FindElementTemplates: (<class 'OSIsoft.AF.AFDatabase'>, <class 'str'>, <class 'int'>, <class 'int'>, <class 'int'>, <class 'int'>)"
     ]
    }
   ],
   "source": [
    "well_template_lst = AFElementTemplate.FindElementTemplates(DB, \"Template: 'Pozo'\", AFSearchField.Name, AFSortField.Name, \n",
    "                                                           AFSortOrder.Ascending, 10000)"
   ]
  },
  {
   "cell_type": "code",
   "execution_count": 52,
   "metadata": {},
   "outputs": [
    {
     "ename": "AttributeError",
     "evalue": "'AFDatabase' object has no attribute 'AFElementTemplate'",
     "output_type": "error",
     "traceback": [
      "\u001b[1;31m---------------------------------------------------------------------------\u001b[0m",
      "\u001b[1;31mAttributeError\u001b[0m                            Traceback (most recent call last)",
      "\u001b[1;32m<ipython-input-52-7125e7e2f6e1>\u001b[0m in \u001b[0;36m<module>\u001b[1;34m\u001b[0m\n\u001b[0;32m      1\u001b[0m \u001b[1;31m# AFElementTemplate(string) es el constructor que instancia un nuevo objeto, en este caso, elementtemplate\u001b[0m\u001b[1;33m\u001b[0m\u001b[1;33m\u001b[0m\u001b[1;33m\u001b[0m\u001b[0m\n\u001b[1;32m----> 2\u001b[1;33m \u001b[0mwell_template\u001b[0m \u001b[1;33m=\u001b[0m \u001b[0mDB\u001b[0m\u001b[1;33m.\u001b[0m\u001b[0mAFElementTemplate\u001b[0m\u001b[1;33m(\u001b[0m\u001b[1;34m'Pozo'\u001b[0m\u001b[1;33m)\u001b[0m\u001b[1;33m\u001b[0m\u001b[1;33m\u001b[0m\u001b[0m\n\u001b[0m\u001b[0;32m      3\u001b[0m \u001b[0mprint\u001b[0m\u001b[1;33m(\u001b[0m\u001b[0mwell_template\u001b[0m\u001b[1;33m.\u001b[0m\u001b[0mAttributeTemplates\u001b[0m\u001b[1;33m.\u001b[0m\u001b[0mDatabase\u001b[0m\u001b[1;33m)\u001b[0m \u001b[1;31m#Gets the collection of AFAttributeTemplate objects that are owned by this template.\u001b[0m\u001b[1;33m\u001b[0m\u001b[1;33m\u001b[0m\u001b[0m\n\u001b[0;32m      4\u001b[0m \u001b[1;33m\u001b[0m\u001b[0m\n\u001b[0;32m      5\u001b[0m \u001b[1;32mfor\u001b[0m \u001b[0mattr_temp\u001b[0m \u001b[1;32min\u001b[0m \u001b[0mwell_template\u001b[0m\u001b[1;33m.\u001b[0m\u001b[0mAttributeTemplates\u001b[0m\u001b[1;33m:\u001b[0m\u001b[1;33m\u001b[0m\u001b[1;33m\u001b[0m\u001b[0m\n",
      "\u001b[1;31mAttributeError\u001b[0m: 'AFDatabase' object has no attribute 'AFElementTemplate'"
     ]
    }
   ],
   "source": [
    "# AFElementTemplate(string) es el constructor que instancia un nuevo objeto, en este caso, elementtemplate\n",
    "well_template = AFElementTemplate('Pozo')\n",
    "print(well_template.AttributeTemplates.Database) #Gets the collection of AFAttributeTemplate objects that are owned by this template.\n",
    "\n",
    "for attr_temp in well_template.AttributeTemplates:\n",
    "    print(attr_temp.Name)"
   ]
  },
  {
   "cell_type": "code",
   "execution_count": 40,
   "metadata": {},
   "outputs": [
    {
     "data": {
      "text/plain": [
       "<OSIsoft.AF.Asset.AFAttributeTemplate object at 0x0000020C6EF99248>"
      ]
     },
     "execution_count": 40,
     "metadata": {},
     "output_type": "execute_result"
    }
   ],
   "source": [
    "# Con GetItem puedo buscar por nombre los templates de atributos que necesito:\n",
    "well_template.AttributeTemplates.GetItem('Caudal Instantaneo', True, True, True)"
   ]
  },
  {
   "cell_type": "code",
   "execution_count": 41,
   "metadata": {},
   "outputs": [],
   "source": [
    "well_attribute_templates_List = List[AFAttributeTemplate]()   #initializes a C# list"
   ]
  },
  {
   "cell_type": "code",
   "execution_count": 38,
   "metadata": {},
   "outputs": [
    {
     "name": "stdout",
     "output_type": "stream",
     "text": [
      "Pozo\n"
     ]
    }
   ],
   "source": [
    "#--------------------------------------------------------------------------------------------------------------\n",
    "# 1- Necesito un objeto que sea el template de pozo:\n",
    "# No encontré documentación de GetItem() no sé qué significan los True!\n",
    "#--------------------------------------------------------------------------------------------------------------\n",
    "well_template = DB.ElementTemplates.GetItem('Pozo', True, True, True)\n",
    "print(well_template.Name)\n",
    "# Pasé 3 días revisando la documentación de PI AF SDK y para Python no encontré la manera de armar una List de\n",
    "# Probé y no funcionó:\n",
    "# No se puede instanciar un objeto C# List con DB.ElementTemplates!!! element_template_lst = List(DB.ElementTemplates)\n",
    "# AFElementTemplate.FindElementTemplates no funciona en Python \n",
    "\n",
    "# Otra forma, usando sólo Python sería crea una lista de python con el objeto DB.ElementTemplates y busco el objeto \"Pozo\"\n",
    "#element_template_lst = list(DB.ElementTemplates)\n",
    "# well_template = next((x for x in element_template_lst if x.Name == \"Pozo\"), None)"
   ]
  },
  {
   "cell_type": "markdown",
   "metadata": {},
   "source": [
    "# FUNCIONA!! Ojo la diferencia entre AFAttributeList y AFAttribute\n",
    "Se usan distintos objetos AFData y AFDataList, los métodos de recuperación de datos son distintos"
   ]
  },
  {
   "cell_type": "code",
   "execution_count": null,
   "metadata": {},
   "outputs": [],
   "source": [
    "# AFAttributeList --> AFListData\n",
    "#AFListData.Summaries Method"
   ]
  },
  {
   "cell_type": "markdown",
   "metadata": {},
   "source": [
    "### 1- Listado de Pozos"
   ]
  },
  {
   "cell_type": "code",
   "execution_count": 133,
   "metadata": {},
   "outputs": [],
   "source": [
    "#for well in AFElementSearch(DB, \"busqueda\", \"Root:'PAMPA ENERGIA S.A.\\Sierra Chata' Template:'Pozo'\").FindObjects():\n",
    "#    #print(well.Name, type(well))\n",
    "#    well_1 = well"
   ]
  },
  {
   "cell_type": "code",
   "execution_count": 18,
   "metadata": {},
   "outputs": [
    {
     "name": "stdout",
     "output_type": "stream",
     "text": [
      "SCh-0012\n"
     ]
    }
   ],
   "source": [
    "# Armo un dict para acceder a los objetos por el nombre del objeto, en este caso, el nombre del pozo\n",
    "wells_dict = dict()\n",
    "for well in AFElementSearch(DB, \"busqueda\", \"Root:'PAMPA ENERGIA S.A.\\Sierra Chata' Template:'Pozo'\").FindObjects():\n",
    "    wells_dict[well.Name] = well\n",
    "print(wells_dict['SCh-0012'].Name)"
   ]
  },
  {
   "cell_type": "code",
   "execution_count": 23,
   "metadata": {},
   "outputs": [
    {
     "data": {
      "text/plain": [
       "{'Ch-0002X': <OSIsoft.AF.Asset.AFElement object at 0x000001AFF6C6C220>,\n",
       " 'SCh.e-7': <OSIsoft.AF.Asset.AFElement object at 0x000001AFF6C6C1F0>,\n",
       " 'SCh.s-114': <OSIsoft.AF.Asset.AFElement object at 0x000001AFF6C6C280>,\n",
       " 'SCh.x-1004(h)': <OSIsoft.AF.Asset.AFElement object at 0x000001AFF6C6C250>,\n",
       " 'SCh.x-97': <OSIsoft.AF.Asset.AFElement object at 0x000001AFF6C6C190>}"
      ]
     },
     "execution_count": 23,
     "metadata": {},
     "output_type": "execute_result"
    }
   ],
   "source": [
    "# Cómo mostrar un slice de un dict:\n",
    "dict(list(wells_dict.items())[0:5])"
   ]
  },
  {
   "cell_type": "markdown",
   "metadata": {},
   "source": [
    "### 2- Armo un listado de Atributos"
   ]
  },
  {
   "cell_type": "code",
   "execution_count": 27,
   "metadata": {},
   "outputs": [],
   "source": [
    "attribute_lst = AFAttributeList()\n",
    "attribute_lst.Add(wells_dict['SCh-0012'].Attributes.GetItem('Caudal Instantaneo', True, True, True))\n",
    "attribute_lst.Add(wells_dict['SCh-0047'].Attributes.GetItem('Caudal Instantaneo', True, True, True))"
   ]
  },
  {
   "cell_type": "code",
   "execution_count": 24,
   "metadata": {},
   "outputs": [
    {
     "name": "stdout",
     "output_type": "stream",
     "text": [
      "2/2/2021 00:00:00 3/2/2021 00:00:00 1d\n"
     ]
    }
   ],
   "source": [
    "# Definir el rango de tiempo\n",
    "\n",
    "#myTimeRange.StartTime = New AFTime(DateTime.UtcNow.AddHours(-1))\n",
    "#myTimeRange.EndTime = AFTime.Now\n",
    "#### Tiempo Absoluto:\n",
    "timerange_start = AFTime('2021-02-02 00:00:00')\n",
    "timerange_span = AFTimeSpan.Parse('1d')\n",
    "timerange_end = AFTime.op_Addition(timerange_start, timerange_span)\n",
    "timerange = AFTimeRange(timerange_start, timerange_end)\n",
    "print(timerange_start, timerange_end, timerange_span)\n",
    "\n",
    "#### Tiempo Relativo:\n",
    "#timerange = AFTimeRange(\"*-31d\", \"*-30d\")\n",
    "#print(type(timerange), timerange.StartTime, timerange.EndTime, timerange.Span) # Span parece que es en días."
   ]
  },
  {
   "cell_type": "code",
   "execution_count": 35,
   "metadata": {},
   "outputs": [],
   "source": [
    "# The PIPagingConfiguration is used to describe how PIPointList and AFListData data access calls should page results \n",
    "# for better performance.\n",
    "# PIPagingConfiguration(PIPageType pageType, int pageSize)\n",
    "# The PIPageType is used to determine how partial results from list data access calls should be grouped while being \n",
    "# returned to the client. Choosing the appropriate partition type will improve performance:\n",
    "# TagCount 0: Results are paged from the PI Data Archive by tag count, with a maximum tags per page specified in the \n",
    "# PageSize property.\n",
    "# EventCount 2: Results are paged from the PI Data Archive by event count. A new page of data is retrieved when the number \n",
    "# of events exceeds the PageSize property. All events for a single tag are retrieved in one page.\n",
    "pagingconfig = PIPagingConfiguration(PIPageType.TagCount, 100)"
   ]
  },
  {
   "cell_type": "code",
   "execution_count": 39,
   "metadata": {},
   "outputs": [],
   "source": [
    "# RecordedValues(AFTimeRange timeRange, AFBoundaryType boundaryType, string filterExpression, bool includeFilteredValues,\n",
    "# PIPagingConfiguration pagingConfig, int maxCount = 0)\n",
    "values_lst = attribute_lst.Data.RecordedValues(timerange, AFBoundaryType.Inside, \"\", False, pagingconfig, 50)\n",
    "# trae sólo 50 registros"
   ]
  },
  {
   "cell_type": "code",
   "execution_count": 40,
   "metadata": {},
   "outputs": [
    {
     "name": "stdout",
     "output_type": "stream",
     "text": [
      "SCh-0012 Caudal Instantaneo Miles Metros Cubicos\n",
      "2/2/2021 00:00:09 43.50760269165039 Miles Metros Cubicos\n",
      "2/2/2021 00:00:39 40.528831481933594 Miles Metros Cubicos\n",
      "2/2/2021 00:01:09 39.27621841430664 Miles Metros Cubicos\n",
      "2/2/2021 00:01:39 39.798763275146484 Miles Metros Cubicos\n",
      "2/2/2021 00:02:09 42.133182525634766 Miles Metros Cubicos\n",
      "2/2/2021 00:02:39 42.6055793762207 Miles Metros Cubicos\n",
      "2/2/2021 00:04:39 42.57516098022461 Miles Metros Cubicos\n",
      "2/2/2021 00:05:09 39.96065139770508 Miles Metros Cubicos\n",
      "2/2/2021 00:05:39 41.9393196105957 Miles Metros Cubicos\n",
      "2/2/2021 00:06:09 42.97857666015625 Miles Metros Cubicos\n",
      "2/2/2021 00:07:09 42.24734115600586 Miles Metros Cubicos\n",
      "2/2/2021 00:07:39 41.15255355834961 Miles Metros Cubicos\n",
      "2/2/2021 00:08:09 41.086875915527344 Miles Metros Cubicos\n",
      "2/2/2021 00:08:39 42.711185455322266 Miles Metros Cubicos\n",
      "2/2/2021 00:09:09 39.64622497558594 Miles Metros Cubicos\n",
      "2/2/2021 00:09:39 41.85784912109375 Miles Metros Cubicos\n",
      "2/2/2021 00:10:09 42.7234992980957 Miles Metros Cubicos\n",
      "2/2/2021 00:10:44 42.82838439941406 Miles Metros Cubicos\n",
      "2/2/2021 00:11:09 43.50166702270508 Miles Metros Cubicos\n",
      "2/2/2021 00:11:39 41.74610900878906 Miles Metros Cubicos\n",
      "2/2/2021 00:12:09 40.6488037109375 Miles Metros Cubicos\n",
      "2/2/2021 00:12:39 41.93815612792969 Miles Metros Cubicos\n",
      "2/2/2021 00:13:09 42.751014709472656 Miles Metros Cubicos\n",
      "2/2/2021 00:13:39 40.899253845214844 Miles Metros Cubicos\n",
      "2/2/2021 00:14:09 39.994163513183594 Miles Metros Cubicos\n",
      "2/2/2021 00:14:39 42.83057403564453 Miles Metros Cubicos\n",
      "2/2/2021 00:15:09 40.80594253540039 Miles Metros Cubicos\n",
      "2/2/2021 00:15:39 42.98468780517578 Miles Metros Cubicos\n",
      "2/2/2021 00:16:09 40.434547424316406 Miles Metros Cubicos\n",
      "2/2/2021 00:16:39 41.730587005615234 Miles Metros Cubicos\n",
      "2/2/2021 00:17:39 42.733760833740234 Miles Metros Cubicos\n",
      "2/2/2021 00:18:09 40.1797981262207 Miles Metros Cubicos\n",
      "2/2/2021 00:18:39 41.48469543457031 Miles Metros Cubicos\n",
      "2/2/2021 00:19:09 41.36438751220703 Miles Metros Cubicos\n",
      "2/2/2021 00:19:39 40.02851867675781 Miles Metros Cubicos\n",
      "2/2/2021 00:20:39 39.5003776550293 Miles Metros Cubicos\n",
      "2/2/2021 00:21:09 41.88324737548828 Miles Metros Cubicos\n",
      "2/2/2021 00:21:39 39.87843322753906 Miles Metros Cubicos\n",
      "2/2/2021 00:22:09 42.8249397277832 Miles Metros Cubicos\n",
      "2/2/2021 00:22:39 42.815250396728516 Miles Metros Cubicos\n",
      "2/2/2021 00:23:09 39.453033447265625 Miles Metros Cubicos\n",
      "2/2/2021 00:23:39 38.59593963623047 Miles Metros Cubicos\n",
      "2/2/2021 00:24:09 38.93006134033203 Miles Metros Cubicos\n",
      "2/2/2021 00:24:39 41.402400970458984 Miles Metros Cubicos\n",
      "2/2/2021 00:26:14 41.94440841674805 Miles Metros Cubicos\n",
      "2/2/2021 00:26:39 37.920467376708984 Miles Metros Cubicos\n",
      "2/2/2021 00:27:09 42.79017639160156 Miles Metros Cubicos\n",
      "2/2/2021 00:27:39 42.806861877441406 Miles Metros Cubicos\n",
      "2/2/2021 00:28:09 41.37582015991211 Miles Metros Cubicos\n",
      "2/2/2021 00:28:59 38.241119384765625 Miles Metros Cubicos\n",
      "SCh-0047 Caudal Instantaneo Miles Metros Cubicos\n",
      "2/2/2021 00:00:29 26.257471084594727 Miles Metros Cubicos\n",
      "2/2/2021 00:02:29 26.175138473510742 Miles Metros Cubicos\n",
      "2/2/2021 00:02:59 26.597814559936523 Miles Metros Cubicos\n",
      "2/2/2021 00:03:29 25.587032318115234 Miles Metros Cubicos\n",
      "2/2/2021 00:03:59 25.169599533081055 Miles Metros Cubicos\n",
      "2/2/2021 00:04:29 26.122913360595703 Miles Metros Cubicos\n",
      "2/2/2021 00:05:29 25.25857925415039 Miles Metros Cubicos\n",
      "2/2/2021 00:05:59 25.891021728515625 Miles Metros Cubicos\n",
      "2/2/2021 00:07:29 25.132169723510742 Miles Metros Cubicos\n",
      "2/2/2021 00:07:59 26.049522399902344 Miles Metros Cubicos\n",
      "2/2/2021 00:08:59 25.73249053955078 Miles Metros Cubicos\n",
      "2/2/2021 00:10:29 26.55792808532715 Miles Metros Cubicos\n",
      "2/2/2021 00:11:29 26.0950984954834 Miles Metros Cubicos\n",
      "2/2/2021 00:11:59 26.789003372192383 Miles Metros Cubicos\n",
      "2/2/2021 00:12:29 26.38373374938965 Miles Metros Cubicos\n",
      "2/2/2021 00:12:59 26.785486221313477 Miles Metros Cubicos\n",
      "2/2/2021 00:13:29 26.01612091064453 Miles Metros Cubicos\n",
      "2/2/2021 00:13:59 25.938217163085938 Miles Metros Cubicos\n",
      "2/2/2021 00:14:29 26.537389755249023 Miles Metros Cubicos\n",
      "2/2/2021 00:15:29 25.289794921875 Miles Metros Cubicos\n",
      "2/2/2021 00:15:59 25.18191146850586 Miles Metros Cubicos\n",
      "2/2/2021 00:16:59 26.528636932373047 Miles Metros Cubicos\n",
      "2/2/2021 00:17:29 25.24709129333496 Miles Metros Cubicos\n",
      "2/2/2021 00:17:59 25.897769927978516 Miles Metros Cubicos\n",
      "2/2/2021 00:18:29 26.082416534423828 Miles Metros Cubicos\n",
      "2/2/2021 00:18:59 25.77166748046875 Miles Metros Cubicos\n",
      "2/2/2021 00:19:29 26.157211303710938 Miles Metros Cubicos\n",
      "2/2/2021 00:19:59 25.437908172607422 Miles Metros Cubicos\n",
      "2/2/2021 00:20:29 26.138256072998047 Miles Metros Cubicos\n",
      "2/2/2021 00:20:59 25.431407928466797 Miles Metros Cubicos\n",
      "2/2/2021 00:21:29 26.377609252929688 Miles Metros Cubicos\n",
      "2/2/2021 00:21:59 25.859514236450195 Miles Metros Cubicos\n",
      "2/2/2021 00:22:29 26.187721252441406 Miles Metros Cubicos\n",
      "2/2/2021 00:23:29 24.67157554626465 Miles Metros Cubicos\n",
      "2/2/2021 00:23:59 25.76405906677246 Miles Metros Cubicos\n",
      "2/2/2021 00:24:29 25.76698875427246 Miles Metros Cubicos\n",
      "2/2/2021 00:24:59 26.425151824951172 Miles Metros Cubicos\n",
      "2/2/2021 00:25:29 25.323678970336914 Miles Metros Cubicos\n",
      "2/2/2021 00:25:59 26.80219078063965 Miles Metros Cubicos\n",
      "2/2/2021 00:26:29 25.654096603393555 Miles Metros Cubicos\n",
      "2/2/2021 00:26:59 25.116058349609375 Miles Metros Cubicos\n",
      "2/2/2021 00:27:29 25.247474670410156 Miles Metros Cubicos\n",
      "2/2/2021 00:27:59 25.933467864990234 Miles Metros Cubicos\n",
      "2/2/2021 00:28:29 25.332887649536133 Miles Metros Cubicos\n",
      "2/2/2021 00:29:29 25.17043113708496 Miles Metros Cubicos\n",
      "2/2/2021 00:29:59 25.606122970581055 Miles Metros Cubicos\n",
      "2/2/2021 00:30:29 25.382001876831055 Miles Metros Cubicos\n",
      "2/2/2021 00:30:59 26.278772354125977 Miles Metros Cubicos\n",
      "2/2/2021 00:31:29 25.413002014160156 Miles Metros Cubicos\n",
      "2/2/2021 00:31:59 26.196937561035156 Miles Metros Cubicos\n"
     ]
    }
   ],
   "source": [
    "for values in values_lst:\n",
    "    print(values.Attribute.Element, values.Attribute, values.Attribute.DisplayUOM)\n",
    "    att_UOM = values.Attribute.DisplayUOM\n",
    "    for value in values:\n",
    "        print(value.Timestamp, value.Value, att_UOM)"
   ]
  },
  {
   "cell_type": "markdown",
   "metadata": {},
   "source": [
    "#### Summary Values"
   ]
  },
  {
   "cell_type": "code",
   "execution_count": 43,
   "metadata": {},
   "outputs": [
    {
     "name": "stdout",
     "output_type": "stream",
     "text": [
      "TimeSpan  1hr\n"
     ]
    }
   ],
   "source": [
    "# A AFTimeSpan represents a time interval (duration of time or elapsed time) that is measured as a positive or negative \n",
    "# number of years, months, days, hours, minutes, seconds, milliseconds, and fractions of a millisecond. \n",
    "# Create AFTimeSpan using constructor\n",
    "now = AFTime.Now\n",
    "span = AFTimeSpan.Parse('1h')\n",
    "print(\"TimeSpan \", span)"
   ]
  },
  {
   "cell_type": "code",
   "execution_count": 47,
   "metadata": {},
   "outputs": [],
   "source": [
    "# AFSummaryTypes: Total, Average, Maximun, Minimum, Range (diferencia entre Max y Min), StdDev, etc \n",
    "# https://techsupport.osisoft.com/Documentation/PI-AF-SDK/Html/T_OSIsoft_AF_Data_AFSummaryTypes.htm\n",
    "# AFCalculationBasis: \n",
    "# TimeWeighted = Weight the values in the calculation by the time over which they apply. \n",
    "# Interpolation is based on whether the attribute is stepped. \n",
    "# Interpolated events are generated at the boundaries if necessary.\n",
    "# EventWeighted: Evaluate values with equal weighting for each event. \n",
    "# No interpolation is done except in the case of expression calculations evaluated by the PI Server. \n",
    "# There must be at least one event within the time range to perform a successful calculation. \n",
    "# Two events are required for standard deviation. \n",
    "# In handling events at the boundary of the calculation, the AF SDK uses following rules:\n",
    "# 1) use events at both boundaries when there is only one calculation interval;\n",
    "# 2) include events at start time in multiple intervals and the intervals are in ascending time order;\n",
    "# 3) include events at the end time in multiple intervals and the intervals are in descending time order.\n",
    "\n",
    "summary_type = AFSummaryTypes.Average\n",
    "summ_values_dict = attribute_lst.Data.Summaries(timerange, span, summary_type, AFCalculationBasis.TimeWeighted, \n",
    "                                          AFTimestampCalculation.Auto, pagingconfig)"
   ]
  },
  {
   "cell_type": "code",
   "execution_count": 32,
   "metadata": {},
   "outputs": [],
   "source": [
    "# NOTA: el objeto summ_values_dict es un diccionario (C#) que se accede por la key AFSummaryTypes indicada en Data.Summaries\n",
    "# y estaría formado por Key=AFSummaryType usada, AFValues"
   ]
  },
  {
   "cell_type": "code",
   "execution_count": 49,
   "metadata": {},
   "outputs": [
    {
     "name": "stdout",
     "output_type": "stream",
     "text": [
      "SCh-0012 Caudal Instantaneo\n",
      "2/2/2021 00:00:00 True 25.931683794083195\n",
      "2/2/2021 01:00:00 True 25.88488546790946\n",
      "2/2/2021 02:00:00 True 26.03248329165818\n",
      "2/2/2021 03:00:00 True 25.812794734930815\n",
      "2/2/2021 04:00:00 True 25.92428486696973\n",
      "2/2/2021 05:00:00 True 25.891272480769064\n",
      "2/2/2021 06:00:00 True 26.01278297662877\n",
      "2/2/2021 07:00:00 True 25.959127117305734\n",
      "2/2/2021 08:00:00 True 25.79951366744703\n",
      "2/2/2021 09:00:00 True 25.917883201753952\n",
      "2/2/2021 10:00:00 True 25.92630001989274\n",
      "2/2/2021 11:00:00 True 26.203477068853154\n",
      "2/2/2021 12:00:00 True 26.496124450120792\n",
      "2/2/2021 13:00:00 True 26.26444714823118\n",
      "2/2/2021 14:00:00 True 26.41511463696335\n",
      "2/2/2021 15:00:00 True 26.253248197272768\n",
      "2/2/2021 16:00:00 True 26.360675940085752\n",
      "2/2/2021 17:00:00 True 26.039082352296727\n",
      "2/2/2021 18:00:00 True 25.996902315163112\n",
      "2/2/2021 19:00:00 True 26.09127089971513\n",
      "2/2/2021 20:00:00 True 25.913525241528124\n",
      "2/2/2021 21:00:00 True 25.985483416696006\n",
      "2/2/2021 22:00:00 True 26.14728404396298\n",
      "2/2/2021 23:00:00 True 26.02880673840675\n"
     ]
    }
   ],
   "source": [
    "for summ in summ_values_dict:\n",
    "    print(summ[summary_type].Attribute.Element, summ[summary_type].Attribute)\n",
    "    for val in summ[summary_type]:\n",
    "        print(val.Timestamp, val.IsGood, val.Value)"
   ]
  },
  {
   "cell_type": "markdown",
   "metadata": {},
   "source": [
    "# ESTE TRAE PARA UN LISTADO DE POZOS Y ATRIBUTOS LOS VALORES HORARIOS"
   ]
  },
  {
   "cell_type": "markdown",
   "metadata": {},
   "source": [
    "#### Recorded Values At Times"
   ]
  },
  {
   "cell_type": "code",
   "execution_count": 61,
   "metadata": {},
   "outputs": [],
   "source": [
    "# The PIPagingConfiguration is used to describe how PIPointList and AFListData data access calls should page results \n",
    "# for better performance.\n",
    "# PIPagingConfiguration(PIPageType pageType, int pageSize)\n",
    "# The PIPageType is used to determine how partial results from list data access calls should be grouped while being \n",
    "# returned to the client. Choosing the appropriate partition type will improve performance:\n",
    "# TagCount 0: Results are paged from the PI Data Archive by tag count, with a maximum tags per page specified in the \n",
    "# PageSize property.\n",
    "# EventCount 2: Results are paged from the PI Data Archive by event count. A new page of data is retrieved when the number \n",
    "# of events exceeds the PageSize property. All events for a single tag are retrieved in one page.\n",
    "pagingconfig = PIPagingConfiguration(PIPageType.TagCount, 100)"
   ]
  },
  {
   "cell_type": "code",
   "execution_count": 125,
   "metadata": {},
   "outputs": [],
   "source": [
    "attribute_lst = AFAttributeList()\n",
    "dataset = list()\n",
    "for well in wells_dict:\n",
    "    attribute_lst.Add(wells_dict[well].Attributes.GetItem('Caudal Instantaneo', True, True, True))\n",
    "    attribute_lst.Add(wells_dict[well].Attributes.GetItem('Presión Boca de Pozo', True, True, True))\n",
    "\n",
    "#attribute_lst.Add(wells_dict['SCh-0047'].Attributes.GetItem('Caudal Instantaneo', True, True, True))\n",
    "#attribute_lst.Add(wells_dict['SCh-0001X'].Attributes.GetItem('Caudal Instantaneo', True, True, True))"
   ]
  },
  {
   "cell_type": "code",
   "execution_count": 126,
   "metadata": {},
   "outputs": [],
   "source": [
    "# Armo un LIST (C#) de AFTime objects\n",
    "#### Necesito el timesrange de datos. Lo defino como Tiempo Absoluto:\n",
    "timerange_start = AFTime('2021-02-02 00:00:00')\n",
    "timerange_span = AFTimeSpan.Parse('1d')\n",
    "timerange_end = AFTime.op_Addition(timerange_start, timerange_span)\n",
    "timerange = AFTimeRange(timerange_start, timerange_end)\n",
    "\n",
    "times = List[AFTime]()\n",
    "time_span = AFTimeSpan.Parse('1h')\n",
    "time_aux = timerange_start\n",
    "times.Add(time_aux)\n",
    "for h in range(1, int(timerange.Span.TotalHours)):\n",
    "    time_aux = AFTime.op_Addition(time_aux, time_span)\n",
    "    times.Add(time_aux)\n",
    "\n",
    "#for i in times:\n",
    "#    print(i)"
   ]
  },
  {
   "cell_type": "markdown",
   "metadata": {},
   "source": [
    "#### Cómo parsear un timerange en sus partes, year, month, day, etc"
   ]
  },
  {
   "cell_type": "code",
   "execution_count": 79,
   "metadata": {},
   "outputs": [
    {
     "name": "stdout",
     "output_type": "stream",
     "text": [
      "01:00:00 1 0 1.0\n"
     ]
    }
   ],
   "source": [
    "timerange_start = AFTime('2021-02-02 00:00:00')\n",
    "timerange_span = AFTimeSpan.Parse('1h')\n",
    "timerange_end = AFTime.op_Addition(timerange_start, timerange_span)\n",
    "timerange = AFTimeRange(timerange_start, timerange_end)\n",
    "print( timerange.Span.ToString(), timerange.Span.Hours, timerange.Span.Days, timerange.Span.TotalHours)"
   ]
  },
  {
   "cell_type": "code",
   "execution_count": 84,
   "metadata": {},
   "outputs": [
    {
     "name": "stdout",
     "output_type": "stream",
     "text": [
      "1.00:00:00 0 1 24.0 0 1440.0\n"
     ]
    }
   ],
   "source": [
    "timerange_start = AFTime('2021-02-02 00:00:00')\n",
    "timerange_span = AFTimeSpan.Parse('1d')\n",
    "timerange_end = AFTime.op_Addition(timerange_start, timerange_span)\n",
    "timerange = AFTimeRange(timerange_start, timerange_end)\n",
    "print( timerange.Span.ToString(), timerange.Span.Hours, timerange.Span.Days, timerange.Span.TotalHours,\n",
    "      timerange.Span.Minutes, timerange.Span.TotalMinutes)"
   ]
  },
  {
   "cell_type": "markdown",
   "metadata": {},
   "source": [
    "#### Cómo obtener la hora de Now() para realizar los cálculos justo en la hora"
   ]
  },
  {
   "cell_type": "code",
   "execution_count": 107,
   "metadata": {},
   "outputs": [
    {
     "name": "stdout",
     "output_type": "stream",
     "text": [
      "2021-03-05 15:00:00\n"
     ]
    }
   ],
   "source": [
    "date_str = datetime(AFTime.Now.LocalTime.Year, AFTime.Now.LocalTime.Month, AFTime.Now.LocalTime.Day, AFTime.Now.LocalTime.Hour, 0, 0)\n",
    "print(date_str)"
   ]
  },
  {
   "cell_type": "code",
   "execution_count": 127,
   "metadata": {},
   "outputs": [],
   "source": [
    "# IEnumerable<AFValues> InterpolatedValuesAtTimes(IList<AFTime> times, string filterExpression, bool includeFilteredValues,\n",
    "# PIPagingConfiguration pagingConfig)\n",
    "\n",
    "# IEnumerable<AFValues> RecordedValuesAtTimes(IList<AFTime> times, AFRetrievalMode mode, PIPagingConfiguration pagingConfig)\n",
    "# AFRetrievalMode: Auto 0:Automatically determine the best retrieval mode.\n",
    "# AtOrBefore 1: Return a recorded value at the passed time or if no value exists at that time, the previous recorded value.\n",
    "# Before 6: Return the first recorded value before the passed time.\n",
    "# AtOrAfter 2: Return a recorded value at the passed time or if no value exists at that time, the next recorded value.\n",
    "# After 7: Return the first recorded value after the passed time.\n",
    "# Exact 4: Return a recorded value at the passed time or return an error if none exists.\n",
    "recorded_values_lst = attribute_lst.Data.RecordedValuesAtTimes(times, AFRetrievalMode.AtOrBefore, pagingconfig)"
   ]
  },
  {
   "cell_type": "code",
   "execution_count": 172,
   "metadata": {},
   "outputs": [
    {
     "name": "stdout",
     "output_type": "stream",
     "text": [
      "SCh-93 Caudal Instantaneo\n",
      "1/2/2021 23:59:59 2021-02-02 00:00:00 24.42092514038086 False\n",
      "2/2/2021 00:59:59 2021-02-02 01:00:00 24.930519104003906 False\n",
      "2/2/2021 01:59:59 2021-02-02 02:00:00 25.750423431396484 False\n",
      "2/2/2021 02:58:29 2021-02-02 03:00:00 25.40715217590332 False\n",
      "2/2/2021 03:58:59 2021-02-02 04:00:00 25.941129684448242 False\n",
      "2/2/2021 04:59:59 2021-02-02 05:00:00 24.89389419555664 False\n",
      "2/2/2021 05:59:59 2021-02-02 06:00:00 24.6317138671875 False\n",
      "2/2/2021 06:59:59 2021-02-02 07:00:00 25.371322631835938 False\n",
      "2/2/2021 07:59:59 2021-02-02 08:00:00 24.714937210083008 False\n",
      "2/2/2021 08:59:59 2021-02-02 09:00:00 25.568994522094727 False\n",
      "2/2/2021 09:16:59 2021-02-02 10:00:00 0.0 False\n",
      "2/2/2021 10:56:54 2021-02-02 11:00:00 0.0 False\n",
      "2/2/2021 10:56:54 2021-02-02 11:00:00 0.0 False\n",
      "2/2/2021 10:56:54 2021-02-02 11:00:00 0.0 False\n",
      "2/2/2021 13:05:29 2021-02-02 14:00:00 0.0 False\n",
      "2/2/2021 14:55:29 2021-02-02 15:00:00 0.0 False\n",
      "2/2/2021 15:59:59 2021-02-02 16:00:00 41.193641662597656 False\n",
      "2/2/2021 16:59:59 2021-02-02 17:00:00 34.14753341674805 False\n",
      "2/2/2021 17:58:59 2021-02-02 18:00:00 32.37874984741211 False\n",
      "2/2/2021 18:59:19 2021-02-02 19:00:00 30.24842643737793 False\n",
      "2/2/2021 19:59:49 2021-02-02 20:00:00 26.749605178833008 False\n",
      "2/2/2021 20:58:49 2021-02-02 21:00:00 26.349538803100586 False\n",
      "2/2/2021 21:59:49 2021-02-02 22:00:00 27.452407836914062 False\n",
      "2/2/2021 22:58:49 2021-02-02 23:00:00 25.641822814941406 False\n",
      "SCh-93 Presión Boca de Pozo\n",
      "1/2/2021 23:59:49 2021-02-02 00:00:00 12.08762051441976 False\n",
      "2/2/2021 00:58:19 2021-02-02 01:00:00 12.209716846097482 False\n",
      "2/2/2021 01:59:19 2021-02-02 02:00:00 12.331814250574247 False\n",
      "2/2/2021 02:51:49 2021-02-02 03:00:00 12.209716846097482 False\n",
      "2/2/2021 03:59:49 2021-02-02 04:00:00 12.08762051441976 False\n",
      "2/2/2021 04:59:49 2021-02-02 05:00:00 12.08762051441976 False\n",
      "2/2/2021 05:59:49 2021-02-02 06:00:00 12.08762051441976 False\n",
      "2/2/2021 06:57:19 2021-02-02 07:00:00 12.08762051441976 False\n",
      "2/2/2021 07:59:49 2021-02-02 08:00:00 12.026571812181377 False\n",
      "2/2/2021 08:59:19 2021-02-02 09:00:00 12.209716846097482 False\n",
      "2/2/2021 09:59:49 2021-02-02 10:00:00 28.082349389703634 False\n",
      "2/2/2021 10:57:39 2021-02-02 11:00:00 29.242272586634808 False\n",
      "2/2/2021 11:50:39 2021-02-02 12:00:00 29.97485486789731 False\n",
      "2/2/2021 12:43:09 2021-02-02 13:00:00 30.646390592519513 False\n",
      "2/2/2021 13:55:09 2021-02-02 14:00:00 31.378972873782008 False\n",
      "2/2/2021 14:59:39 2021-02-02 15:00:00 10.378260070142188 False\n",
      "2/2/2021 15:59:09 2021-02-02 16:00:00 14.773758048913358 False\n",
      "2/2/2021 16:59:39 2021-02-02 17:00:00 13.613834851982183 False\n",
      "2/2/2021 17:58:09 2021-02-02 18:00:00 13.247542638551893 False\n",
      "2/2/2021 18:57:29 2021-02-02 19:00:00 12.942300200159023 False\n",
      "2/2/2021 19:54:59 2021-02-02 20:00:00 12.514960357289393 False\n",
      "2/2/2021 20:59:29 2021-02-02 21:00:00 12.576009059527772 False\n",
      "2/2/2021 21:58:29 2021-02-02 22:00:00 12.698106464004537 False\n",
      "2/2/2021 22:58:59 2021-02-02 23:00:00 12.392862952812628 False\n"
     ]
    }
   ],
   "source": [
    "for values in recorded_values_lst:\n",
    "    if values.Attribute.Element.Name == 'SCh-93':\n",
    "        print(values.Attribute.Element, values.Attribute)\n",
    "        for val in values:\n",
    "            if val.IsGood:\n",
    "                date_str = datetime(val.Timestamp.LocalTime.Year, val.Timestamp.LocalTime.Month, val.Timestamp.LocalTime.Day, \n",
    "                            val.Timestamp.LocalTime.Hour, 0, 0)\n",
    "                timestamp = datetime(val.Timestamp.LocalTime.Year, val.Timestamp.LocalTime.Month, val.Timestamp.LocalTime.Day, \n",
    "                            val.Timestamp.LocalTime.Hour, val.Timestamp.LocalTime.Minute, val.Timestamp.LocalTime.Second)\n",
    "                td = timestamp-date_str\n",
    "                if td.seconds > 0:\n",
    "                    #print(date_str, timestamp, td.seconds)\n",
    "                    date_str = date_str + add_1_hour\n",
    "                print(val.Timestamp, date_str, val.Value)"
   ]
  },
  {
   "cell_type": "code",
   "execution_count": 173,
   "metadata": {},
   "outputs": [],
   "source": [
    "add_1_hour = timedelta(hours=1)\n",
    "\n",
    "dataset_1 = list()\n",
    "\n",
    "for values in recorded_values_lst:\n",
    "    #print(values.Attribute.Element, values.Attribute)\n",
    "    for val in values:\n",
    "        if val.IsGood:\n",
    "            # Como el criterio es que traiga el valor de la hora o el inmediato anterior, \n",
    "            # hay que sumarle una hora al timestamp sólo en caso de que no sea la hora exacta.\n",
    "            # El dataset quedará con horas repetidas porque en los casos en que tiene un valor para una hora y no \n",
    "            # tiene en las siguientes horas, en las siguientes repetirá el valor y su timestamp\n",
    "            # habría que luego hacer un unique con el dataframe\n",
    "            date_str = datetime(val.Timestamp.LocalTime.Year, val.Timestamp.LocalTime.Month, val.Timestamp.LocalTime.Day, \n",
    "                            val.Timestamp.LocalTime.Hour, 0, 0)\n",
    "            timestamp = datetime(val.Timestamp.LocalTime.Year, val.Timestamp.LocalTime.Month, val.Timestamp.LocalTime.Day, \n",
    "                            val.Timestamp.LocalTime.Hour, val.Timestamp.LocalTime.Minute, val.Timestamp.LocalTime.Second)\n",
    "            td = timestamp-date_str\n",
    "            if td.seconds > 0:\n",
    "                #print(date_str, timestamp, td.seconds)\n",
    "                date_str = date_str + add_1_hour\n",
    "            # print(val.Timestamp, date_str, print_value)\n",
    "            dataset_1.append([values.Attribute.Element.Name, values.Attribute.Name, date_str, val.Value])"
   ]
  },
  {
   "cell_type": "code",
   "execution_count": 174,
   "metadata": {},
   "outputs": [
    {
     "data": {
      "text/html": [
       "<div>\n",
       "<style scoped>\n",
       "    .dataframe tbody tr th:only-of-type {\n",
       "        vertical-align: middle;\n",
       "    }\n",
       "\n",
       "    .dataframe tbody tr th {\n",
       "        vertical-align: top;\n",
       "    }\n",
       "\n",
       "    .dataframe thead th {\n",
       "        text-align: right;\n",
       "    }\n",
       "</style>\n",
       "<table border=\"1\" class=\"dataframe\">\n",
       "  <thead>\n",
       "    <tr style=\"text-align: right;\">\n",
       "      <th></th>\n",
       "      <th>Well</th>\n",
       "      <th>Attribute</th>\n",
       "      <th>Timestamp</th>\n",
       "      <th>Value</th>\n",
       "    </tr>\n",
       "  </thead>\n",
       "  <tbody>\n",
       "    <tr>\n",
       "      <th>0</th>\n",
       "      <td>SCh.e-7</td>\n",
       "      <td>Caudal Instantaneo</td>\n",
       "      <td>2021-02-02 00:00:00</td>\n",
       "      <td>25.966761</td>\n",
       "    </tr>\n",
       "    <tr>\n",
       "      <th>1</th>\n",
       "      <td>SCh.e-7</td>\n",
       "      <td>Caudal Instantaneo</td>\n",
       "      <td>2021-02-02 01:00:00</td>\n",
       "      <td>25.149343</td>\n",
       "    </tr>\n",
       "    <tr>\n",
       "      <th>2</th>\n",
       "      <td>SCh.e-7</td>\n",
       "      <td>Caudal Instantaneo</td>\n",
       "      <td>2021-02-02 02:00:00</td>\n",
       "      <td>26.740486</td>\n",
       "    </tr>\n",
       "    <tr>\n",
       "      <th>3</th>\n",
       "      <td>SCh.e-7</td>\n",
       "      <td>Caudal Instantaneo</td>\n",
       "      <td>2021-02-02 03:00:00</td>\n",
       "      <td>26.640495</td>\n",
       "    </tr>\n",
       "    <tr>\n",
       "      <th>4</th>\n",
       "      <td>SCh.e-7</td>\n",
       "      <td>Caudal Instantaneo</td>\n",
       "      <td>2021-02-02 04:00:00</td>\n",
       "      <td>26.604902</td>\n",
       "    </tr>\n",
       "    <tr>\n",
       "      <th>...</th>\n",
       "      <td>...</td>\n",
       "      <td>...</td>\n",
       "      <td>...</td>\n",
       "      <td>...</td>\n",
       "    </tr>\n",
       "    <tr>\n",
       "      <th>2496</th>\n",
       "      <td>SChS-0001X</td>\n",
       "      <td>Presión Boca de Pozo</td>\n",
       "      <td>2021-02-02 19:00:00</td>\n",
       "      <td>6.995497</td>\n",
       "    </tr>\n",
       "    <tr>\n",
       "      <th>2497</th>\n",
       "      <td>SChS-0001X</td>\n",
       "      <td>Presión Boca de Pozo</td>\n",
       "      <td>2021-02-02 20:00:00</td>\n",
       "      <td>7.038414</td>\n",
       "    </tr>\n",
       "    <tr>\n",
       "      <th>2498</th>\n",
       "      <td>SChS-0001X</td>\n",
       "      <td>Presión Boca de Pozo</td>\n",
       "      <td>2021-02-02 21:00:00</td>\n",
       "      <td>6.995497</td>\n",
       "    </tr>\n",
       "    <tr>\n",
       "      <th>2499</th>\n",
       "      <td>SChS-0001X</td>\n",
       "      <td>Presión Boca de Pozo</td>\n",
       "      <td>2021-02-02 22:00:00</td>\n",
       "      <td>7.081331</td>\n",
       "    </tr>\n",
       "    <tr>\n",
       "      <th>2500</th>\n",
       "      <td>SChS-0001X</td>\n",
       "      <td>Presión Boca de Pozo</td>\n",
       "      <td>2021-02-02 23:00:00</td>\n",
       "      <td>6.909663</td>\n",
       "    </tr>\n",
       "  </tbody>\n",
       "</table>\n",
       "<p>2501 rows × 4 columns</p>\n",
       "</div>"
      ],
      "text/plain": [
       "            Well             Attribute           Timestamp      Value\n",
       "0        SCh.e-7    Caudal Instantaneo 2021-02-02 00:00:00  25.966761\n",
       "1        SCh.e-7    Caudal Instantaneo 2021-02-02 01:00:00  25.149343\n",
       "2        SCh.e-7    Caudal Instantaneo 2021-02-02 02:00:00  26.740486\n",
       "3        SCh.e-7    Caudal Instantaneo 2021-02-02 03:00:00  26.640495\n",
       "4        SCh.e-7    Caudal Instantaneo 2021-02-02 04:00:00  26.604902\n",
       "...          ...                   ...                 ...        ...\n",
       "2496  SChS-0001X  Presión Boca de Pozo 2021-02-02 19:00:00   6.995497\n",
       "2497  SChS-0001X  Presión Boca de Pozo 2021-02-02 20:00:00   7.038414\n",
       "2498  SChS-0001X  Presión Boca de Pozo 2021-02-02 21:00:00   6.995497\n",
       "2499  SChS-0001X  Presión Boca de Pozo 2021-02-02 22:00:00   7.081331\n",
       "2500  SChS-0001X  Presión Boca de Pozo 2021-02-02 23:00:00   6.909663\n",
       "\n",
       "[2501 rows x 4 columns]"
      ]
     },
     "execution_count": 174,
     "metadata": {},
     "output_type": "execute_result"
    }
   ],
   "source": [
    "df = pd.DataFrame(dataset, columns=['Well', 'Attribute', 'Timestamp', 'Value'])\n",
    "df"
   ]
  },
  {
   "cell_type": "code",
   "execution_count": 166,
   "metadata": {},
   "outputs": [],
   "source": [
    "import pathlib\n",
    "from pathlib import Path\n",
    "\n",
    "import os\n",
    "import os.path\n",
    "\n",
    "#path = os.path.join(pathlib.Path().absolute(), '1-Inputs')\n",
    "#path = os.path(pathlib.Path().absolute())\n",
    "#p = Path(path)\n",
    "\n",
    "df.to_csv(os.path.join(pathlib.Path().absolute(), 'prueba.csv'), encoding='ISO-8859-1',sep=';', header=False, index=False)\n",
    "df.to_csv(os.path.join(pathlib.Path().absolute(), 'prueba2.csv'), encoding='utf-8',sep=';', header=False, index=False, float_format=\"%.8f\")"
   ]
  },
  {
   "cell_type": "markdown",
   "metadata": {},
   "source": [
    "#### Interpolated Values"
   ]
  },
  {
   "cell_type": "code",
   "execution_count": null,
   "metadata": {},
   "outputs": [],
   "source": [
    "# Definir el rango de tiempo\n",
    "#### Tiempo Absoluto:\n",
    "timerange_start = AFTime('2021-02-02 00:00:00')\n",
    "timerange_span = AFTimeSpan.Parse('1d')\n",
    "timerange_end = AFTime.op_Addition(timerange_start, timerange_span)\n",
    "timerange = AFTimeRange(timerange_start, timerange_end)\n",
    "print(timerange_start, timerange_end, timerange_span)\n",
    "\n",
    "#### Tiempo Relativo:\n",
    "#timerange = AFTimeRange(\"*-31d\", \"*-30d\")\n",
    "#print(type(timerange), timerange.StartTime, timerange.EndTime, timerange.Span) # Span parece que es en días."
   ]
  },
  {
   "cell_type": "code",
   "execution_count": 181,
   "metadata": {},
   "outputs": [
    {
     "name": "stdout",
     "output_type": "stream",
     "text": [
      "TimeSpan  -1hr\n"
     ]
    }
   ],
   "source": [
    "# Definir el intervalo de consulta:\n",
    "\n",
    "# A AFTimeSpan represents a time interval (duration of time or elapsed time) that is measured as a positive or negative \n",
    "# number of years, months, days, hours, minutes, seconds, milliseconds, and fractions of a millisecond. \n",
    "# Create AFTimeSpan using constructor\n",
    "\n",
    "now = AFTime.Now\n",
    "span = AFTimeSpan.Parse('-1h')\n",
    "print(\"TimeSpan \", span)"
   ]
  },
  {
   "cell_type": "code",
   "execution_count": 182,
   "metadata": {},
   "outputs": [],
   "source": [
    "# Realizar la consulta:\n",
    "\n",
    "# When a positive interval (span) is specified, the interval calculation begins at the earliest bounding time in the \n",
    "# timeRange and applies the interval repeatedly in time ascending direction to generate the calculation intervals.\n",
    "# If a negative interval is specified, the interval calculation begins at the latest bounding time in the timeRange and \n",
    "# applies the interval repeatedly in time descending direction to generate the calculation intervals. Note that the order of values returned will still be reflected by the timeRange, regardless of the interval sign.\n",
    "\n",
    "attribute = attribute_lst.GetItem('Caudal Instantaneo', True, True, True)\n",
    "values_lst = attribute.Data.InterpolatedValues(timerange, span, att_UOM, \"\", False)"
   ]
  },
  {
   "cell_type": "code",
   "execution_count": 183,
   "metadata": {},
   "outputs": [
    {
     "name": "stdout",
     "output_type": "stream",
     "text": [
      "Elemento: SCh-0012 Attribute: Caudal Instantaneo Span: -1hr Time Range: 2/2/2021 00:00:00 - 3/2/2021 00:00:00\n",
      "<class 'OSIsoft.AF.Asset.AFValue'> 2/2/2021 00:00:00 True 43.26295471191406\n",
      "<class 'OSIsoft.AF.Asset.AFValue'> 2/2/2021 01:00:00 True 41.85419464111328\n",
      "<class 'OSIsoft.AF.Asset.AFValue'> 2/2/2021 02:00:00 True 41.22639465332031\n",
      "<class 'OSIsoft.AF.Asset.AFValue'> 2/2/2021 03:00:00 True 42.318023681640625\n",
      "<class 'OSIsoft.AF.Asset.AFValue'> 2/2/2021 04:00:00 True 40.243228912353516\n",
      "<class 'OSIsoft.AF.Asset.AFValue'> 2/2/2021 05:00:00 True 40.53416061401367\n",
      "<class 'OSIsoft.AF.Asset.AFValue'> 2/2/2021 06:00:00 True 42.32358169555664\n",
      "<class 'OSIsoft.AF.Asset.AFValue'> 2/2/2021 07:00:00 True 40.65400314331055\n",
      "<class 'OSIsoft.AF.Asset.AFValue'> 2/2/2021 08:00:00 True 43.14912796020508\n",
      "<class 'OSIsoft.AF.Asset.AFValue'> 2/2/2021 09:00:00 True 41.234352111816406\n",
      "<class 'OSIsoft.AF.Asset.AFValue'> 2/2/2021 10:00:00 True 41.20669937133789\n",
      "<class 'OSIsoft.AF.Asset.AFValue'> 2/2/2021 11:00:00 True 41.278717041015625\n",
      "<class 'OSIsoft.AF.Asset.AFValue'> 2/2/2021 12:00:00 True 13.815963745117188\n",
      "<class 'OSIsoft.AF.Asset.AFValue'> 2/2/2021 13:00:00 True 44.391929626464844\n",
      "<class 'OSIsoft.AF.Asset.AFValue'> 2/2/2021 14:00:00 True 43.434532165527344\n",
      "<class 'OSIsoft.AF.Asset.AFValue'> 2/2/2021 15:00:00 True 43.15692138671875\n",
      "<class 'OSIsoft.AF.Asset.AFValue'> 2/2/2021 16:00:00 True 42.21622085571289\n",
      "<class 'OSIsoft.AF.Asset.AFValue'> 2/2/2021 17:00:00 True 39.61103820800781\n",
      "<class 'OSIsoft.AF.Asset.AFValue'> 2/2/2021 18:00:00 True 38.87063217163086\n",
      "<class 'OSIsoft.AF.Asset.AFValue'> 2/2/2021 19:00:00 True 43.75028991699219\n",
      "<class 'OSIsoft.AF.Asset.AFValue'> 2/2/2021 20:00:00 True 41.699317932128906\n",
      "<class 'OSIsoft.AF.Asset.AFValue'> 2/2/2021 21:00:00 True 43.029354095458984\n",
      "<class 'OSIsoft.AF.Asset.AFValue'> 2/2/2021 22:00:00 True 36.13713073730469\n",
      "<class 'OSIsoft.AF.Asset.AFValue'> 2/2/2021 23:00:00 True 34.93663024902344\n",
      "<class 'OSIsoft.AF.Asset.AFValue'> 3/2/2021 00:00:00 True 36.037139892578125\n"
     ]
    }
   ],
   "source": [
    "# Valores:\n",
    "\n",
    "print('Elemento:', attribute.Element, 'Attribute:', attribute, 'Span:', span, 'Time Range:', timerange)\n",
    "for val in values_lst:\n",
    "    print(type(val), val.Timestamp, val.IsGood, val.Value)"
   ]
  },
  {
   "cell_type": "markdown",
   "metadata": {},
   "source": [
    "#### Recorded Values\n",
    "No sirve porque trae todos los valores guardados en el intervalo\n",
    "\n",
    "AFValues RecordedValues( <br>\n",
    "> AFTimeRange timeRange, <br>\n",
    "> AFBoundaryType boundaryType, <br>\n",
    "> UOM desiredUOM (OSIsoft.AF.UnitsOfMeasure.UOM),<br>\n",
    "> string filterExpression, <br>\n",
    "> bool includeFilteredValues, <br>\n",
    "> int maxCount = 0 <br>\n",
    ")"
   ]
  },
  {
   "cell_type": "code",
   "execution_count": null,
   "metadata": {},
   "outputs": [],
   "source": [
    "# Definir el rango de tiempo\n",
    "#### Tiempo Absoluto:\n",
    "timerange_start = AFTime('2021-02-02 00:00:00')\n",
    "timerange_span = AFTimeSpan.Parse('1d')\n",
    "timerange_end = AFTime.op_Addition(timerange_start, timerange_span)\n",
    "timerange = AFTimeRange(timerange_start, timerange_end)\n",
    "print(timerange_start, timerange_end, timerange_span)\n",
    "\n",
    "#### Tiempo Relativo:\n",
    "#timerange = AFTimeRange(\"*-31d\", \"*-30d\")\n",
    "#print(type(timerange), timerange.StartTime, timerange.EndTime, timerange.Span) # Span parece que es en días."
   ]
  },
  {
   "cell_type": "code",
   "execution_count": 198,
   "metadata": {},
   "outputs": [],
   "source": [
    "# Consulta: OJO estos parámetros funcionan sólo para cuando consulto un atributo \n",
    "# (son distintos si consulto un attributeList)\n",
    "values_lst = attribute.Data.RecordedValues(timerange, AFBoundaryType.Inside, attribute.DisplayUOM, \"\", False, 24)"
   ]
  },
  {
   "cell_type": "code",
   "execution_count": 197,
   "metadata": {},
   "outputs": [
    {
     "name": "stdout",
     "output_type": "stream",
     "text": [
      "Elemento: SCh-0012 Attribute: Time Range: 2/2/2021 00:00:00 - 3/2/2021 00:00:00\n",
      "<class 'OSIsoft.AF.Asset.AFValue'> 2/2/2021 00:00:09 True 43.50760269165039\n",
      "<class 'OSIsoft.AF.Asset.AFValue'> 2/2/2021 00:00:39 True 40.528831481933594\n",
      "<class 'OSIsoft.AF.Asset.AFValue'> 2/2/2021 00:01:09 True 39.27621841430664\n",
      "<class 'OSIsoft.AF.Asset.AFValue'> 2/2/2021 00:01:39 True 39.798763275146484\n",
      "<class 'OSIsoft.AF.Asset.AFValue'> 2/2/2021 00:02:09 True 42.133182525634766\n",
      "<class 'OSIsoft.AF.Asset.AFValue'> 2/2/2021 00:02:39 True 42.6055793762207\n",
      "<class 'OSIsoft.AF.Asset.AFValue'> 2/2/2021 00:04:39 True 42.57516098022461\n",
      "<class 'OSIsoft.AF.Asset.AFValue'> 2/2/2021 00:05:09 True 39.96065139770508\n",
      "<class 'OSIsoft.AF.Asset.AFValue'> 2/2/2021 00:05:39 True 41.9393196105957\n",
      "<class 'OSIsoft.AF.Asset.AFValue'> 2/2/2021 00:06:09 True 42.97857666015625\n",
      "<class 'OSIsoft.AF.Asset.AFValue'> 2/2/2021 00:07:09 True 42.24734115600586\n",
      "<class 'OSIsoft.AF.Asset.AFValue'> 2/2/2021 00:07:39 True 41.15255355834961\n",
      "<class 'OSIsoft.AF.Asset.AFValue'> 2/2/2021 00:08:09 True 41.086875915527344\n",
      "<class 'OSIsoft.AF.Asset.AFValue'> 2/2/2021 00:08:39 True 42.711185455322266\n",
      "<class 'OSIsoft.AF.Asset.AFValue'> 2/2/2021 00:09:09 True 39.64622497558594\n",
      "<class 'OSIsoft.AF.Asset.AFValue'> 2/2/2021 00:09:39 True 41.85784912109375\n",
      "<class 'OSIsoft.AF.Asset.AFValue'> 2/2/2021 00:10:09 True 42.7234992980957\n",
      "<class 'OSIsoft.AF.Asset.AFValue'> 2/2/2021 00:10:44 True 42.82838439941406\n",
      "<class 'OSIsoft.AF.Asset.AFValue'> 2/2/2021 00:11:09 True 43.50166702270508\n",
      "<class 'OSIsoft.AF.Asset.AFValue'> 2/2/2021 00:11:39 True 41.74610900878906\n",
      "<class 'OSIsoft.AF.Asset.AFValue'> 2/2/2021 00:12:09 True 40.6488037109375\n",
      "<class 'OSIsoft.AF.Asset.AFValue'> 2/2/2021 00:12:39 True 41.93815612792969\n",
      "<class 'OSIsoft.AF.Asset.AFValue'> 2/2/2021 00:13:09 True 42.751014709472656\n",
      "<class 'OSIsoft.AF.Asset.AFValue'> 2/2/2021 00:13:39 True 40.899253845214844\n",
      "<class 'OSIsoft.AF.Asset.AFValue'> 2/2/2021 00:14:09 True 39.994163513183594\n",
      "<class 'OSIsoft.AF.Asset.AFValue'> 2/2/2021 00:14:39 True 42.83057403564453\n",
      "<class 'OSIsoft.AF.Asset.AFValue'> 2/2/2021 00:15:09 True 40.80594253540039\n",
      "<class 'OSIsoft.AF.Asset.AFValue'> 2/2/2021 00:15:39 True 42.98468780517578\n",
      "<class 'OSIsoft.AF.Asset.AFValue'> 2/2/2021 00:16:09 True 40.434547424316406\n",
      "<class 'OSIsoft.AF.Asset.AFValue'> 2/2/2021 00:16:39 True 41.730587005615234\n",
      "<class 'OSIsoft.AF.Asset.AFValue'> 2/2/2021 00:17:39 True 42.733760833740234\n",
      "<class 'OSIsoft.AF.Asset.AFValue'> 2/2/2021 00:18:09 True 40.1797981262207\n",
      "<class 'OSIsoft.AF.Asset.AFValue'> 2/2/2021 00:18:39 True 41.48469543457031\n",
      "<class 'OSIsoft.AF.Asset.AFValue'> 2/2/2021 00:19:09 True 41.36438751220703\n",
      "<class 'OSIsoft.AF.Asset.AFValue'> 2/2/2021 00:19:39 True 40.02851867675781\n",
      "<class 'OSIsoft.AF.Asset.AFValue'> 2/2/2021 00:20:39 True 39.5003776550293\n",
      "<class 'OSIsoft.AF.Asset.AFValue'> 2/2/2021 00:21:09 True 41.88324737548828\n",
      "<class 'OSIsoft.AF.Asset.AFValue'> 2/2/2021 00:21:39 True 39.87843322753906\n",
      "<class 'OSIsoft.AF.Asset.AFValue'> 2/2/2021 00:22:09 True 42.8249397277832\n",
      "<class 'OSIsoft.AF.Asset.AFValue'> 2/2/2021 00:22:39 True 42.815250396728516\n",
      "<class 'OSIsoft.AF.Asset.AFValue'> 2/2/2021 00:23:09 True 39.453033447265625\n",
      "<class 'OSIsoft.AF.Asset.AFValue'> 2/2/2021 00:23:39 True 38.59593963623047\n",
      "<class 'OSIsoft.AF.Asset.AFValue'> 2/2/2021 00:24:09 True 38.93006134033203\n",
      "<class 'OSIsoft.AF.Asset.AFValue'> 2/2/2021 00:24:39 True 41.402400970458984\n",
      "<class 'OSIsoft.AF.Asset.AFValue'> 2/2/2021 00:26:14 True 41.94440841674805\n",
      "<class 'OSIsoft.AF.Asset.AFValue'> 2/2/2021 00:26:39 True 37.920467376708984\n",
      "<class 'OSIsoft.AF.Asset.AFValue'> 2/2/2021 00:27:09 True 42.79017639160156\n",
      "<class 'OSIsoft.AF.Asset.AFValue'> 2/2/2021 00:27:39 True 42.806861877441406\n",
      "<class 'OSIsoft.AF.Asset.AFValue'> 2/2/2021 00:28:09 True 41.37582015991211\n",
      "<class 'OSIsoft.AF.Asset.AFValue'> 2/2/2021 00:28:59 True 38.241119384765625\n",
      "<class 'OSIsoft.AF.Asset.AFValue'> 2/2/2021 00:29:09 True 42.93791961669922\n",
      "<class 'OSIsoft.AF.Asset.AFValue'> 2/2/2021 00:29:39 True 41.56768798828125\n",
      "<class 'OSIsoft.AF.Asset.AFValue'> 2/2/2021 00:30:09 True 43.233360290527344\n",
      "<class 'OSIsoft.AF.Asset.AFValue'> 2/2/2021 00:31:09 True 42.412715911865234\n",
      "<class 'OSIsoft.AF.Asset.AFValue'> 2/2/2021 00:31:39 True 42.31642150878906\n",
      "<class 'OSIsoft.AF.Asset.AFValue'> 2/2/2021 00:32:09 True 40.45549011230469\n",
      "<class 'OSIsoft.AF.Asset.AFValue'> 2/2/2021 00:32:39 True 41.511905670166016\n",
      "<class 'OSIsoft.AF.Asset.AFValue'> 2/2/2021 00:33:09 True 39.948081970214844\n",
      "<class 'OSIsoft.AF.Asset.AFValue'> 2/2/2021 00:33:39 True 43.1065559387207\n",
      "<class 'OSIsoft.AF.Asset.AFValue'> 2/2/2021 00:34:09 True 43.44580078125\n",
      "<class 'OSIsoft.AF.Asset.AFValue'> 2/2/2021 00:34:39 True 41.601036071777344\n",
      "<class 'OSIsoft.AF.Asset.AFValue'> 2/2/2021 00:35:09 True 40.54800796508789\n",
      "<class 'OSIsoft.AF.Asset.AFValue'> 2/2/2021 00:35:39 True 40.82926559448242\n",
      "<class 'OSIsoft.AF.Asset.AFValue'> 2/2/2021 00:36:09 True 40.59602355957031\n",
      "<class 'OSIsoft.AF.Asset.AFValue'> 2/2/2021 00:36:39 True 42.544532775878906\n",
      "<class 'OSIsoft.AF.Asset.AFValue'> 2/2/2021 00:37:09 True 42.00203323364258\n",
      "<class 'OSIsoft.AF.Asset.AFValue'> 2/2/2021 00:37:39 True 41.904090881347656\n",
      "<class 'OSIsoft.AF.Asset.AFValue'> 2/2/2021 00:38:09 True 41.3413200378418\n",
      "<class 'OSIsoft.AF.Asset.AFValue'> 2/2/2021 00:38:39 True 43.26276397705078\n",
      "<class 'OSIsoft.AF.Asset.AFValue'> 2/2/2021 00:39:09 True 41.66209411621094\n",
      "<class 'OSIsoft.AF.Asset.AFValue'> 2/2/2021 00:39:39 True 42.86693572998047\n",
      "<class 'OSIsoft.AF.Asset.AFValue'> 2/2/2021 00:40:09 True 42.76485824584961\n",
      "<class 'OSIsoft.AF.Asset.AFValue'> 2/2/2021 00:40:39 True 43.46059799194336\n",
      "<class 'OSIsoft.AF.Asset.AFValue'> 2/2/2021 00:41:09 True 40.44292449951172\n",
      "<class 'OSIsoft.AF.Asset.AFValue'> 2/2/2021 00:41:39 True 43.508750915527344\n",
      "<class 'OSIsoft.AF.Asset.AFValue'> 2/2/2021 00:42:09 True 42.113277435302734\n",
      "<class 'OSIsoft.AF.Asset.AFValue'> 2/2/2021 00:42:39 True 42.919891357421875\n",
      "<class 'OSIsoft.AF.Asset.AFValue'> 2/2/2021 00:43:09 True 42.625240325927734\n",
      "<class 'OSIsoft.AF.Asset.AFValue'> 2/2/2021 00:45:09 True 42.77579116821289\n",
      "<class 'OSIsoft.AF.Asset.AFValue'> 2/2/2021 00:45:39 True 36.6896858215332\n",
      "<class 'OSIsoft.AF.Asset.AFValue'> 2/2/2021 00:46:09 True 42.9405403137207\n",
      "<class 'OSIsoft.AF.Asset.AFValue'> 2/2/2021 00:47:09 True 42.48735809326172\n",
      "<class 'OSIsoft.AF.Asset.AFValue'> 2/2/2021 00:47:39 True 42.64699935913086\n",
      "<class 'OSIsoft.AF.Asset.AFValue'> 2/2/2021 00:48:09 True 42.28934860229492\n",
      "<class 'OSIsoft.AF.Asset.AFValue'> 2/2/2021 00:48:39 True 42.94746398925781\n",
      "<class 'OSIsoft.AF.Asset.AFValue'> 2/2/2021 00:49:39 True 41.12518310546875\n",
      "<class 'OSIsoft.AF.Asset.AFValue'> 2/2/2021 00:50:09 True 41.557220458984375\n",
      "<class 'OSIsoft.AF.Asset.AFValue'> 2/2/2021 00:50:39 True 42.67462158203125\n",
      "<class 'OSIsoft.AF.Asset.AFValue'> 2/2/2021 00:51:09 True 41.1707878112793\n",
      "<class 'OSIsoft.AF.Asset.AFValue'> 2/2/2021 00:51:39 True 42.55780792236328\n",
      "<class 'OSIsoft.AF.Asset.AFValue'> 2/2/2021 00:52:09 True 41.61198806762695\n",
      "<class 'OSIsoft.AF.Asset.AFValue'> 2/2/2021 00:52:39 True 42.41754913330078\n",
      "<class 'OSIsoft.AF.Asset.AFValue'> 2/2/2021 00:53:09 True 42.801109313964844\n",
      "<class 'OSIsoft.AF.Asset.AFValue'> 2/2/2021 00:53:39 True 39.78937911987305\n",
      "<class 'OSIsoft.AF.Asset.AFValue'> 2/2/2021 00:54:09 True 42.549991607666016\n",
      "<class 'OSIsoft.AF.Asset.AFValue'> 2/2/2021 00:55:09 True 42.297000885009766\n",
      "<class 'OSIsoft.AF.Asset.AFValue'> 2/2/2021 00:55:39 True 42.953556060791016\n",
      "<class 'OSIsoft.AF.Asset.AFValue'> 2/2/2021 00:56:09 True 41.504966735839844\n",
      "<class 'OSIsoft.AF.Asset.AFValue'> 2/2/2021 00:56:39 True 42.65789794921875\n",
      "<class 'OSIsoft.AF.Asset.AFValue'> 2/2/2021 00:57:09 True 41.366058349609375\n"
     ]
    }
   ],
   "source": [
    "# Valores:\n",
    "print('Elemento:', attribute.Element, 'Attribute:', 'Time Range:', timerange)\n",
    "for val in values_lst:\n",
    "    print(type(val), val.Timestamp, val.IsGood, val.Value)"
   ]
  },
  {
   "cell_type": "markdown",
   "metadata": {},
   "source": [
    "#### Plot Values"
   ]
  },
  {
   "cell_type": "code",
   "execution_count": 190,
   "metadata": {},
   "outputs": [],
   "source": [
    "# Retrieves values over the specified time range suitable for plotting over the number of intervals \n",
    "# (typically represents pixels).\n",
    "# AFValues PlotValues(AFTimeRange timeRange, int intervals (The number of intervals to plot over. \n",
    "# Typically, this would be the number of horizontal pixels in the trend.), UOM desiredUOM)\n",
    "# Nota: cuanto más grande el parámetro \"intervals\" más datos trae...\n",
    "\n",
    "values_lst = attribute.Data.PlotValues(timerange, 6, att_UOM)"
   ]
  },
  {
   "cell_type": "code",
   "execution_count": 189,
   "metadata": {},
   "outputs": [
    {
     "name": "stdout",
     "output_type": "stream",
     "text": [
      "Elemento: SCh-0012 Attribute: Caudal Instantaneo Span: -1hr Time Range: 2/2/2021 00:00:00 - 3/2/2021 00:00:00\n",
      "<class 'OSIsoft.AF.Asset.AFValue'> 2/2/2021 00:00:00 True 43.26295471191406\n",
      "<class 'OSIsoft.AF.Asset.AFValue'> 2/2/2021 00:45:39 True 36.6896858215332\n",
      "<class 'OSIsoft.AF.Asset.AFValue'> 2/2/2021 01:52:09 True 43.8211784362793\n",
      "<class 'OSIsoft.AF.Asset.AFValue'> 2/2/2021 01:59:09 True 39.421932220458984\n",
      "<class 'OSIsoft.AF.Asset.AFValue'> 2/2/2021 02:00:09 True 41.56065368652344\n",
      "<class 'OSIsoft.AF.Asset.AFValue'> 2/2/2021 02:16:09 True 44.12886428833008\n",
      "<class 'OSIsoft.AF.Asset.AFValue'> 2/2/2021 03:40:39 True 36.00777816772461\n",
      "<class 'OSIsoft.AF.Asset.AFValue'> 2/2/2021 03:59:39 True 41.404964447021484\n",
      "<class 'OSIsoft.AF.Asset.AFValue'> 2/2/2021 04:00:09 True 39.70982360839844\n",
      "<class 'OSIsoft.AF.Asset.AFValue'> 2/2/2021 05:16:09 True 43.47256088256836\n",
      "<class 'OSIsoft.AF.Asset.AFValue'> 2/2/2021 05:25:39 False Comm Fail\n",
      "<class 'OSIsoft.AF.Asset.AFValue'> 2/2/2021 05:31:19 True 37.18874740600586\n",
      "<class 'OSIsoft.AF.Asset.AFValue'> 2/2/2021 05:59:49 True 42.149749755859375\n",
      "<class 'OSIsoft.AF.Asset.AFValue'> 2/2/2021 06:00:19 True 42.64460372924805\n",
      "<class 'OSIsoft.AF.Asset.AFValue'> 2/2/2021 06:15:49 True 43.517154693603516\n",
      "<class 'OSIsoft.AF.Asset.AFValue'> 2/2/2021 06:54:19 True 35.363555908203125\n",
      "<class 'OSIsoft.AF.Asset.AFValue'> 2/2/2021 07:59:49 True 43.293888092041016\n",
      "<class 'OSIsoft.AF.Asset.AFValue'> 2/2/2021 08:00:49 True 42.46598815917969\n",
      "<class 'OSIsoft.AF.Asset.AFValue'> 2/2/2021 09:26:49 True 43.576629638671875\n",
      "<class 'OSIsoft.AF.Asset.AFValue'> 2/2/2021 09:59:19 True 36.91374206542969\n",
      "<class 'OSIsoft.AF.Asset.AFValue'> 2/2/2021 09:59:49 True 41.26537322998047\n",
      "<class 'OSIsoft.AF.Asset.AFValue'> 2/2/2021 10:00:19 True 41.095821380615234\n",
      "<class 'OSIsoft.AF.Asset.AFValue'> 2/2/2021 10:55:44 False Bad\n",
      "<class 'OSIsoft.AF.Asset.AFValue'> 2/2/2021 11:11:39 True 35.84428787231445\n",
      "<class 'OSIsoft.AF.Asset.AFValue'> 2/2/2021 11:59:09 True 45.835357666015625\n",
      "<class 'OSIsoft.AF.Asset.AFValue'> 2/2/2021 11:59:39 True 43.06276321411133\n",
      "<class 'OSIsoft.AF.Asset.AFValue'> 2/2/2021 12:00:09 True 0.0\n",
      "<class 'OSIsoft.AF.Asset.AFValue'> 2/2/2021 12:45:09 True 50.695899963378906\n",
      "<class 'OSIsoft.AF.Asset.AFValue'> 2/2/2021 13:59:39 True 43.53814697265625\n",
      "<class 'OSIsoft.AF.Asset.AFValue'> 2/2/2021 14:00:09 True 43.38494110107422\n",
      "<class 'OSIsoft.AF.Asset.AFValue'> 2/2/2021 14:02:09 True 37.18695831298828\n",
      "<class 'OSIsoft.AF.Asset.AFValue'> 2/2/2021 14:38:39 True 47.76108169555664\n",
      "<class 'OSIsoft.AF.Asset.AFValue'> 2/2/2021 15:59:39 True 41.425071716308594\n",
      "<class 'OSIsoft.AF.Asset.AFValue'> 2/2/2021 16:00:09 True 42.596160888671875\n",
      "<class 'OSIsoft.AF.Asset.AFValue'> 2/2/2021 16:09:39 True 45.806915283203125\n",
      "<class 'OSIsoft.AF.Asset.AFValue'> 2/2/2021 16:58:39 True 37.1884880065918\n",
      "<class 'OSIsoft.AF.Asset.AFValue'> 2/2/2021 17:59:39 True 38.704673767089844\n",
      "<class 'OSIsoft.AF.Asset.AFValue'> 2/2/2021 18:00:09 True 38.951446533203125\n",
      "<class 'OSIsoft.AF.Asset.AFValue'> 2/2/2021 18:26:39 True 37.85020446777344\n",
      "<class 'OSIsoft.AF.Asset.AFValue'> 2/2/2021 18:34:44 False Bad\n",
      "<class 'OSIsoft.AF.Asset.AFValue'> 2/2/2021 19:10:59 True 44.95981216430664\n",
      "<class 'OSIsoft.AF.Asset.AFValue'> 2/2/2021 19:59:59 True 41.690155029296875\n",
      "<class 'OSIsoft.AF.Asset.AFValue'> 2/2/2021 20:00:29 True 43.535282135009766\n",
      "<class 'OSIsoft.AF.Asset.AFValue'> 2/2/2021 21:06:59 True 44.89314651489258\n",
      "<class 'OSIsoft.AF.Asset.AFValue'> 2/2/2021 21:57:59 True 33.3681526184082\n",
      "<class 'OSIsoft.AF.Asset.AFValue'> 2/2/2021 21:59:59 True 36.14064025878906\n",
      "<class 'OSIsoft.AF.Asset.AFValue'> 2/2/2021 22:00:29 True 34.49571228027344\n",
      "<class 'OSIsoft.AF.Asset.AFValue'> 2/2/2021 22:08:59 True 40.59304428100586\n",
      "<class 'OSIsoft.AF.Asset.AFValue'> 2/2/2021 23:57:59 True 32.3680419921875\n",
      "<class 'OSIsoft.AF.Asset.AFValue'> 3/2/2021 00:00:00 True 36.037139892578125\n"
     ]
    }
   ],
   "source": [
    "# Valores:\n",
    "\n",
    "print('Elemento:', attribute.Element, 'Attribute:', attribute, 'Span:', span, 'Time Range:', timerange)\n",
    "for val in values_lst:\n",
    "    print(type(val), val.Timestamp, val.IsGood, val.Value)"
   ]
  },
  {
   "cell_type": "code",
   "execution_count": 26,
   "metadata": {},
   "outputs": [],
   "source": [
    "# 2- para luego armar una colección con los atributos de presión, temp que necesito\n",
    "# AFAttributeTemplate.FindAttributeTemplate Method (AFElementTemplate, Guid)\n",
    "# AFAttribute.FindAttribute Method (AFBaseElement, AFAttributeTemplate)\n"
   ]
  },
  {
   "cell_type": "code",
   "execution_count": 34,
   "metadata": {},
   "outputs": [
    {
     "data": {
      "text/plain": [
       "<OSIsoft.AF.Asset.AFElementTemplate object at 0x0000020C6EF64AC8>"
      ]
     },
     "execution_count": 34,
     "metadata": {},
     "output_type": "execute_result"
    }
   ],
   "source": []
  },
  {
   "cell_type": "code",
   "execution_count": 27,
   "metadata": {},
   "outputs": [
    {
     "ename": "TypeError",
     "evalue": "No method matches given arguments for FindElementTemplates: (<class 'OSIsoft.AF.AFDatabase'>, <class 'str'>)",
     "output_type": "error",
     "traceback": [
      "\u001b[1;31m---------------------------------------------------------------------------\u001b[0m",
      "\u001b[1;31mTypeError\u001b[0m                                 Traceback (most recent call last)",
      "\u001b[1;32m<ipython-input-27-63173ffd9753>\u001b[0m in \u001b[0;36m<module>\u001b[1;34m\u001b[0m\n\u001b[0;32m      1\u001b[0m \u001b[1;31m#well_element_template = DB.ElementTemplates.FindElementTemplates(DB, 'Pozo', AFSearchField.Name, AFSortField.Name, AFSortOrder.Ascending, 1)\u001b[0m\u001b[1;33m\u001b[0m\u001b[1;33m\u001b[0m\u001b[1;33m\u001b[0m\u001b[0m\n\u001b[1;32m----> 2\u001b[1;33m \u001b[0mwell_element_template\u001b[0m \u001b[1;33m=\u001b[0m \u001b[0mAFElementTemplate\u001b[0m\u001b[1;33m.\u001b[0m\u001b[0mFindElementTemplates\u001b[0m\u001b[1;33m(\u001b[0m\u001b[0mDB\u001b[0m\u001b[1;33m,\u001b[0m \u001b[1;34m\"Pozo\"\u001b[0m\u001b[1;33m)\u001b[0m\u001b[1;31m#, AFSearchField.Name, AFSortField.Name, AFSortOrder.Ascending, 1)\u001b[0m\u001b[1;33m\u001b[0m\u001b[1;33m\u001b[0m\u001b[0m\n\u001b[0m",
      "\u001b[1;31mTypeError\u001b[0m: No method matches given arguments for FindElementTemplates: (<class 'OSIsoft.AF.AFDatabase'>, <class 'str'>)"
     ]
    }
   ],
   "source": [
    "#well_element_template = DB.ElementTemplates.FindElementTemplates(DB, 'Pozo', AFSearchField.Name, AFSortField.Name, AFSortOrder.Ascending, 1)\n",
    "well_element_template = AFElementTemplate.FindElementTemplates(DB, \"Pozo\")#, AFSearchField.Name, AFSortField.Name, AFSortOrder.Ascending, 1)"
   ]
  },
  {
   "cell_type": "code",
   "execution_count": 12,
   "metadata": {},
   "outputs": [],
   "source": [
    "# requiere la sentencia clr.AddReference('System.Collections')\n",
    "well_attr_lst = List[AFAttributeTemplate]()"
   ]
  },
  {
   "cell_type": "code",
   "execution_count": 25,
   "metadata": {},
   "outputs": [
    {
     "name": "stdout",
     "output_type": "stream",
     "text": [
      "Area\n",
      "Compresor Plantas\n",
      "Compresores (Grupo)\n",
      "Facilidad\n",
      "Instalaciones(Grupo)\n",
      "Instalacion-Plantas\n",
      "Instalacion-PMs\n",
      "Medidores\n",
      "Pozo\n",
      "Pozo Parado\n",
      "Pozos\n"
     ]
    }
   ],
   "source": [
    "for elementTemplate in DB.ElementTemplates:\n",
    "    print(elementTemplate.Name)"
   ]
  },
  {
   "cell_type": "markdown",
   "metadata": {},
   "source": [
    "# Armado de una Estructura Dict con los datos recorded"
   ]
  },
  {
   "cell_type": "code",
   "execution_count": 8,
   "metadata": {},
   "outputs": [],
   "source": [
    "# 1- Obtengo los pozos:\n",
    "well_lst = list(AFElementSearch(DB, \"well_search\", \"Root:'PAMPA ENERGIA S.A.\\Sierra Chata' Template:'Pozo'\").FindElements())"
   ]
  },
  {
   "cell_type": "code",
   "execution_count": 26,
   "metadata": {},
   "outputs": [
    {
     "name": "stdout",
     "output_type": "stream",
     "text": [
      "Attributes\n",
      "Ch-0002X\n",
      "Attributes\n"
     ]
    }
   ],
   "source": [
    "# 2-Armo un dict para acceder a los objetos por el nombre del objeto, en este caso, el nombre del pozo\n",
    "well_dict = dict()\n",
    "for i in well_lst:\n",
    "    well_dict[i.Name] = i\n",
    "print(well_dict['Ch-0002X'].Attributes)\n",
    "print(well_lst[0])\n",
    "print(well_dict[well_lst[0].Name].Attributes)"
   ]
  },
  {
   "cell_type": "code",
   "execution_count": null,
   "metadata": {},
   "outputs": [],
   "source": []
  },
  {
   "cell_type": "code",
   "execution_count": null,
   "metadata": {},
   "outputs": [],
   "source": []
  },
  {
   "cell_type": "code",
   "execution_count": null,
   "metadata": {},
   "outputs": [],
   "source": []
  },
  {
   "cell_type": "code",
   "execution_count": null,
   "metadata": {},
   "outputs": [],
   "source": [
    "piPoint = AFAttribute.FindAttribute(\"string_to_attribute\", piSys)  \n",
    "recordedValues = piPoint.GetValues(nowTime, 0, None)\n",
    " '#create a dictionary entry for Python '\n",
    " recordedValuesDict = dict()\n",
    " for event in recordedValues:\n",
    "    dt = datetime.datetime.strptime(event.Timestamp.LocalTime.ToString(),'%d.%m.%Y %H:%M:%S')\n",
    "    recordedValuesDict[dt] = event.Value\n",
    " \n",
    "#load the data\n",
    "df = pd.DataFrame(recordedValuesDict.items(), columns=['TimeStamp', 'Value'])\n",
    " #Send it to a dateTime Index then set the index\n",
    "df['TimeStamp'] = pd.to_datetime(df['TimeStamp'])\n"
   ]
  },
  {
   "cell_type": "code",
   "execution_count": null,
   "metadata": {},
   "outputs": [],
   "source": []
  },
  {
   "cell_type": "code",
   "execution_count": null,
   "metadata": {},
   "outputs": [],
   "source": []
  },
  {
   "cell_type": "code",
   "execution_count": null,
   "metadata": {},
   "outputs": [],
   "source": []
  },
  {
   "cell_type": "markdown",
   "metadata": {},
   "source": [
    "# Acceso a Valores"
   ]
  },
  {
   "cell_type": "code",
   "execution_count": 10,
   "metadata": {},
   "outputs": [
    {
     "data": {
      "text/plain": [
       "<OSIsoft.AF.Data.AFData object at 0x0000023A39ED25C8>"
      ]
     },
     "execution_count": 10,
     "metadata": {},
     "output_type": "execute_result"
    }
   ],
   "source": [
    "# This property returns a temporary AFData object to be used for accessing data associated with this AFAttribute.\n",
    "# and is used to retrieve and set extended historical data.\n",
    "attr[0].Data"
   ]
  },
  {
   "cell_type": "markdown",
   "metadata": {},
   "source": [
    "## Current Value"
   ]
  },
  {
   "cell_type": "code",
   "execution_count": 45,
   "metadata": {},
   "outputs": [
    {
     "name": "stdout",
     "output_type": "stream",
     "text": [
      "-11,4409035383812\n"
     ]
    }
   ],
   "source": [
    "# No existe el currentvalue para un atributo:\n",
    "# print(attr[0].Data.CurrentValue())\n",
    "# AFAttribute.GetValue Method\n",
    "\n",
    "# Returns the AFValue for the attribute. If AFValue.IsGood returned by the data reference is true, then the returned value \n",
    "# is converted to the proper UOM and Type.\n",
    "print(attr[0].GetValue())"
   ]
  },
  {
   "cell_type": "code",
   "execution_count": 51,
   "metadata": {},
   "outputs": [
    {
     "name": "stdout",
     "output_type": "stream",
     "text": [
      "27/2/2021 18:56:40\n",
      "Attr:  % Gas Promedio Mes vs Cierre Mes Anterior\n",
      "Now:  -11,4453750688756\n",
      "1 Hour Ago:  -11,4391450885459\n"
     ]
    }
   ],
   "source": [
    "# AFAttribute.GetValue Method (AFTime)\n",
    "# AFTime: used to represent time and convert between various time formats.\n",
    "oneHourAgo = AFTime(\"*-1h\")\n",
    "print(oneHourAgo)\n",
    "now = AFTime('*')\n",
    "print('Attr: ', attr[0].Name)\n",
    "print('Now: ', attr[0].GetValue(now))\n",
    "print('1 Hour Ago: ', attr[0].GetValue(oneHourAgo))"
   ]
  },
  {
   "cell_type": "code",
   "execution_count": 35,
   "metadata": {},
   "outputs": [
    {
     "name": "stdout",
     "output_type": "stream",
     "text": [
      "<class 'OSIsoft.AF.Time.AFTimeRange'>\n"
     ]
    }
   ],
   "source": [
    "#myTimeRange.StartTime = New AFTime(DateTime.UtcNow.AddHours(-1))\n",
    "#myTimeRange.EndTime = AFTime.Now\n",
    "timerange = AFTimeRange(\"*-1d\", \"*\")\n",
    "print(type(timerange))"
   ]
  },
  {
   "cell_type": "code",
   "execution_count": 36,
   "metadata": {},
   "outputs": [
    {
     "name": "stdout",
     "output_type": "stream",
     "text": [
      "TimeSpan = {0}, Now+Span = {1} 1hr 27/2/2021 17:47:57\n"
     ]
    }
   ],
   "source": [
    "# A AFTimeSpan represents a time interval (duration of time or elapsed time) that is measured as a positive or negative \n",
    "# number of years, months, days, hours, minutes, seconds, milliseconds, and fractions of a millisecond. \n",
    "# Create AFTimeSpan using constructor\n",
    "now = AFTime.Now\n",
    "span = AFTimeSpan.Parse('1h')\n",
    "#span = AFTimeSpan(hours=12, minutes=30)\n",
    "newTime = span.Add(now)\n",
    "print(\"TimeSpan = {0}, Now+Span = {1}\", span, newTime.LocalTime)"
   ]
  },
  {
   "cell_type": "markdown",
   "metadata": {},
   "source": [
    "## Valores Interpolados"
   ]
  },
  {
   "cell_type": "code",
   "execution_count": 37,
   "metadata": {},
   "outputs": [
    {
     "name": "stdout",
     "output_type": "stream",
     "text": [
      "-11.395340572190262 26/2/2021 16:47:55\n",
      "-11.396839051876787 26/2/2021 17:47:55\n",
      "-11.398626745497783 26/2/2021 18:47:55\n",
      "-11.401392699367001 26/2/2021 19:47:55\n",
      "-11.404158653236209 26/2/2021 20:47:55\n",
      "-11.406924607105427 26/2/2021 21:47:55\n",
      "-11.409690560974646 26/2/2021 22:47:55\n",
      "-11.412456514843864 26/2/2021 23:47:55\n",
      "-11.415222468713084 27/2/2021 00:47:55\n",
      "-11.417988422582303 27/2/2021 01:47:55\n",
      "-11.419782523366333 27/2/2021 02:47:55\n",
      "-11.418390736761372 27/2/2021 03:47:55\n",
      "-11.416998950156412 27/2/2021 04:47:55\n",
      "-11.415607163551453 27/2/2021 05:47:55\n",
      "-11.414215376946494 27/2/2021 06:47:55\n",
      "-11.412823590341533 27/2/2021 07:47:55\n",
      "-11.411431803736573 27/2/2021 08:47:55\n",
      "-11.410040017131614 27/2/2021 09:47:55\n",
      "-11.410024300099407 27/2/2021 10:47:55\n",
      "-11.414519191944134 27/2/2021 11:47:55\n",
      "-11.419014083788873 27/2/2021 12:47:55\n",
      "-11.4235089756336 27/2/2021 13:47:55\n",
      "-11.428003867478328 27/2/2021 14:47:55\n",
      "-11.432498759323053 27/2/2021 15:47:55\n"
     ]
    }
   ],
   "source": [
    "# https://techsupport.osisoft.com/Documentation/PI-AF-SDK/html/M_OSIsoft_AF_Data_AFData_InterpolatedValues.htm\n",
    "# InterpolatedValues: Retrieves interpolated values over the specified time range at the specified sampling interval.\n",
    "# Returns anAFValue object\n",
    "# InterpolatedValues(AFTimeRange timeRange, AFTimeSpan interval, UOM desiredUOM, string filterExpression, bool includeFilteredValues)\n",
    "# interval: Type: OSIsoft.AF.Time.AFTimeSpan The Sample interval. If specified in hours, minutes, seconds, or milliseconds,\n",
    "interpolated_values = list(attr[0].Data.InterpolatedValues(timerange, span, None, \"\", False))\n",
    "for i in range(0, len(interpolated_values)-1):\n",
    "    print(interpolated_values[i].Value, interpolated_values[i].Timestamp)"
   ]
  },
  {
   "cell_type": "markdown",
   "metadata": {},
   "source": [
    "## Valores Registrados"
   ]
  },
  {
   "cell_type": "code",
   "execution_count": 38,
   "metadata": {},
   "outputs": [
    {
     "name": "stdout",
     "output_type": "stream",
     "text": [
      "-11.397995606487626 26/2/2021 18:34:13\n",
      "-11.42010784720854 27/2/2021 02:33:53\n"
     ]
    }
   ],
   "source": [
    "# AFData.RecordedValues Method\n",
    "# RecordedValues(AFTimeRange timeRange, AFBoundaryType boundaryType, UOM desiredUOM, string filterExpression, \n",
    "# bool includeFilteredValues, int maxCount = 0)\n",
    "# boundaryType Type: OSIsoft.AF.Data.AFBoundaryType. A value from the AFBoundaryType enumeration that determines how the \n",
    "# times and values of the returned end points are determined.\n",
    "# Inside: 0 Specifies to return the recorded values on the inside of the requested time range as the first and last values.\n",
    "# Outside: 1 Specifies to return the recorded values on the outside of the requested time range as the first and last values.\n",
    "# Interpolated: 2 Specifies to create an interpolated value at the end points of the requested time range if a recorded\n",
    "# value does not exist at that time.\n",
    "recorded_values = list(attr[0].Data.RecordedValues(timerange, 0, None, \"\", False, 100))\n",
    "for i in range(0, len(recorded_values)-1):\n",
    "    print(recorded_values[i].Value, recorded_values[i].Timestamp)"
   ]
  },
  {
   "cell_type": "markdown",
   "metadata": {},
   "source": [
    "## Valores Calculados"
   ]
  },
  {
   "cell_type": "code",
   "execution_count": 41,
   "metadata": {},
   "outputs": [],
   "source": [
    "timerange = AFTimeRange(\"*-3d\", \"*\")\n",
    "span = AFTimeSpan.Parse('1d')\n",
    "summaries = list(attr[0].Data.Summaries(timerange, span, AFSummaryTypes.Average, AFCalculationBasis.TimeWeighted, \n",
    "                                        AFTimestampCalculation.Auto))\n",
    "for i in range(0, len(summaries)-1):\n",
    "    print(summaries[i].Value, summaries[i].Timestamp)"
   ]
  },
  {
   "cell_type": "code",
   "execution_count": null,
   "metadata": {},
   "outputs": [],
   "source": []
  },
  {
   "cell_type": "code",
   "execution_count": null,
   "metadata": {},
   "outputs": [],
   "source": [
    "nternal static int CountBadData(AFElement element, int depth)\n",
    " 2{\n",
    " 3    int count = 0;\n",
    " 4\n",
    " 5    // we can use the AFAttributeList to retrieve values from\n",
    " 6    // multiple attributes at one time.  This is useful when the\n",
    " 7    // data is coming from a data reference, such as a PI Point, which\n",
    " 8    // supports retrieving the data in bulk.\n",
    " 9    AFAttributeList attributes = new AFAttributeList(element.Attributes);\n",
    "10    AFValues values = attributes.GetValue();\n",
    "11\n",
    "12    // count the bad values returned\n",
    "13    foreach (AFValue v in values)\n",
    "14    {\n",
    "15        if (!v.IsGood)\n",
    "16            count++;\n",
    "17    }\n",
    "18\n",
    "19    // count bad data in child elements too\n",
    "20    if (depth > 0)\n",
    "21    {\n",
    "22        foreach (AFElement childElement in element.Elements)\n",
    "23        {\n",
    "24            count += CountBadData(childElement, depth - 1);\n",
    "25        }\n",
    "26    }\n",
    "27\n",
    "28    return count;"
   ]
  },
  {
   "cell_type": "code",
   "execution_count": null,
   "metadata": {},
   "outputs": [],
   "source": []
  },
  {
   "cell_type": "code",
   "execution_count": null,
   "metadata": {},
   "outputs": [],
   "source": []
  },
  {
   "cell_type": "markdown",
   "metadata": {},
   "source": [
    "# Pruebas"
   ]
  },
  {
   "cell_type": "code",
   "execution_count": 105,
   "metadata": {},
   "outputs": [],
   "source": [
    "afservers = PISystems()"
   ]
  },
  {
   "cell_type": "code",
   "execution_count": 106,
   "metadata": {},
   "outputs": [
    {
     "name": "stdout",
     "output_type": "stream",
     "text": [
      "PARCCVWPIEDA01\n"
     ]
    }
   ],
   "source": [
    "#afserver = afservers.DefaultPISystem\n",
    "AFServer = afservers['PARCCVWPIEDA01']\n",
    "#AFServer = afservers['QARCCVWPIE01']\n",
    "print(AFServer.Name)"
   ]
  },
  {
   "cell_type": "code",
   "execution_count": 108,
   "metadata": {},
   "outputs": [
    {
     "name": "stdout",
     "output_type": "stream",
     "text": [
      "DOF\n",
      "Database Name: DOF\n"
     ]
    }
   ],
   "source": [
    "# Acceso a una base de datos que no sea la default:\n",
    "myDB = AFServer.Databases.DefaultDatabase\n",
    "print(myDB.Name)\n",
    "myDB = AFServer.Databases.get_Item(\"DOF\")\n",
    "print ('Database Name: {0}'.format(myDB.Name))"
   ]
  },
  {
   "cell_type": "code",
   "execution_count": 137,
   "metadata": {},
   "outputs": [],
   "source": [
    "# Get a specific area of the element hierarchy to load \n",
    "search_element = \"PAMPA ENERGIA S.A.\"\n",
    "myArea = myDB.Elements.get_Item(search_element)\n",
    "if myArea is None:\n",
    "    print('Element ', search_element, ' was not found.')"
   ]
  },
  {
   "cell_type": "code",
   "execution_count": 138,
   "metadata": {},
   "outputs": [
    {
     "name": "stdout",
     "output_type": "stream",
     "text": [
      "PAMPA ENERGIA S.A.\n"
     ]
    }
   ],
   "source": [
    "print(myArea.Name)"
   ]
  },
  {
   "cell_type": "markdown",
   "metadata": {},
   "source": [
    "# NO OLVIDARSE DE Conectar la VPN"
   ]
  },
  {
   "cell_type": "code",
   "execution_count": 139,
   "metadata": {},
   "outputs": [
    {
     "ename": "CommunicationException",
     "evalue": "Cannot connect to server 'PARCCVWPIEDA01'.\n   en OSIsoft.AF.Support.AFProxy.Reconnect(AFCollectiveMember member, Boolean autoPrompt, AFConnectionPreference preference)\r\n   en OSIsoft.AF.Support.AFProxy.Reconnect()\r\n   en OSIsoft.AF.Support.AFSerialProxy.Call(String rpcName, ProxyDelegate codeBlock)\r\n   en OSIsoft.AF.Support.AFSerialProxy.LoadElementReferences(Guid[] ids, AFTime queryDate, dcReferenceInformation[]& references)\r\n   en OSIsoft.AF.Asset.AFElement.LoadElementReferences(IList`1 elements)\r\n   en OSIsoft.AF.Asset.AFElement.LoadElementsToDepth(IList`1 elements, Boolean fullLoad, Int32 depth, Int32 maxCount)",
     "output_type": "error",
     "traceback": [
      "\u001b[1;31m---------------------------------------------------------------------------\u001b[0m",
      "\u001b[1;31mSocketException\u001b[0m                           Traceback (most recent call last)",
      "\u001b[1;31mSocketException\u001b[0m: Host desconocido\n   en System.Net.Dns.GetAddrInfo(String name)\r\n   en System.Net.Dns.InternalGetHostByName(String hostName, Boolean includeIPv6)\r\n   en System.Net.Dns.GetHostEntry(String hostNameOrAddress)\r\n   en System.ServiceModel.Channels.DnsCache.Resolve(Uri uri)",
      "\nThe above exception was the direct cause of the following exception:\n",
      "\u001b[1;31mEndpointNotFoundException\u001b[0m                 Traceback (most recent call last)",
      "\u001b[1;31mEndpointNotFoundException\u001b[0m: No existen entradas DNS para el host parccvwpieda01.\n\r\nServer stack trace: \r\n   en System.ServiceModel.Channels.DnsCache.Resolve(Uri uri)\r\n   en System.ServiceModel.Channels.SocketConnectionInitiator.GetIPAddresses(Uri uri)\r\n   en System.ServiceModel.Channels.SocketConnectionInitiator.Connect(Uri uri, TimeSpan timeout)\r\n   en System.ServiceModel.Channels.BufferedConnectionInitiator.Connect(Uri uri, TimeSpan timeout)\r\n   en System.ServiceModel.Channels.ConnectionPoolHelper.EstablishConnection(TimeSpan timeout)\r\n   en System.ServiceModel.Channels.ClientFramingDuplexSessionChannel.OnOpen(TimeSpan timeout)\r\n   en System.ServiceModel.Channels.CommunicationObject.Open(TimeSpan timeout)\r\n   en System.ServiceModel.Channels.ServiceChannel.OnOpen(TimeSpan timeout)\r\n   en System.ServiceModel.Channels.CommunicationObject.Open(TimeSpan timeout)\r\n\r\nException rethrown at [0]: \r\n   en System.Runtime.Remoting.Proxies.RealProxy.HandleReturnMessage(IMessage reqMsg, IMessage retMsg)\r\n   en System.Runtime.Remoting.Proxies.RealProxy.PrivateInvoke(MessageData& msgData, Int32 type)\r\n   en System.ServiceModel.ICommunicationObject.Open(TimeSpan timeout)\r\n   en System.ServiceModel.ClientBase`1.System.ServiceModel.ICommunicationObject.Open(TimeSpan timeout)\r\n   en OSIsoft.AF.Support.AFProxy.Reconnect(Boolean autoPrompt, AFConnectionProtocol protocol, String host, Int32 port, String accountName, TimeSpan timeout)",
      "\nThe above exception was the direct cause of the following exception:\n",
      "\u001b[1;31mCommunicationException\u001b[0m                    Traceback (most recent call last)",
      "\u001b[1;32m<ipython-input-139-4b3b8b770c7c>\u001b[0m in \u001b[0;36m<module>\u001b[1;34m\u001b[0m\n\u001b[0;32m      3\u001b[0m \u001b[1;31m# to 3 additional levels of the hierarchy, not to exceed 1000 total elements.\u001b[0m\u001b[1;33m\u001b[0m\u001b[1;33m\u001b[0m\u001b[1;33m\u001b[0m\u001b[0m\n\u001b[0;32m      4\u001b[0m \u001b[1;31m# LoadElementsToDepth(IList<AFElement> elements, bool fullLoad, int depth, int maxCount)\u001b[0m\u001b[1;33m\u001b[0m\u001b[1;33m\u001b[0m\u001b[1;33m\u001b[0m\u001b[0m\n\u001b[1;32m----> 5\u001b[1;33m \u001b[0mLevel1_Elements\u001b[0m \u001b[1;33m=\u001b[0m \u001b[0mAFElement\u001b[0m\u001b[1;33m.\u001b[0m\u001b[0mLoadElementsToDepth\u001b[0m\u001b[1;33m(\u001b[0m\u001b[0mmyArea\u001b[0m\u001b[1;33m.\u001b[0m\u001b[0mElements\u001b[0m\u001b[1;33m,\u001b[0m \u001b[1;32mTrue\u001b[0m\u001b[1;33m,\u001b[0m \u001b[1;36m1\u001b[0m\u001b[1;33m,\u001b[0m \u001b[1;36m1000\u001b[0m\u001b[1;33m)\u001b[0m\u001b[1;33m;\u001b[0m\u001b[1;33m\u001b[0m\u001b[1;33m\u001b[0m\u001b[0m\n\u001b[0m",
      "\u001b[1;31mCommunicationException\u001b[0m: Cannot connect to server 'PARCCVWPIEDA01'.\n   en OSIsoft.AF.Support.AFProxy.Reconnect(AFCollectiveMember member, Boolean autoPrompt, AFConnectionPreference preference)\r\n   en OSIsoft.AF.Support.AFProxy.Reconnect()\r\n   en OSIsoft.AF.Support.AFSerialProxy.Call(String rpcName, ProxyDelegate codeBlock)\r\n   en OSIsoft.AF.Support.AFSerialProxy.LoadElementReferences(Guid[] ids, AFTime queryDate, dcReferenceInformation[]& references)\r\n   en OSIsoft.AF.Asset.AFElement.LoadElementReferences(IList`1 elements)\r\n   en OSIsoft.AF.Asset.AFElement.LoadElementsToDepth(IList`1 elements, Boolean fullLoad, Int32 depth, Int32 maxCount)"
     ]
    }
   ],
   "source": [
    "# Use AFElement.LoadToDepth to fully load this part of the hierarchy.\n",
    "# Note that care needs to be taken to not attempt to load too many objects into memory at once.  Here, we limit the load\n",
    "# to 3 additional levels of the hierarchy, not to exceed 1000 total elements.\n",
    "# LoadElementsToDepth(IList<AFElement> elements, bool fullLoad, int depth, int maxCount)\n",
    "Level1_Elements = AFElement.LoadElementsToDepth(myArea.Elements, True, 1, 1000);"
   ]
  },
  {
   "cell_type": "code",
   "execution_count": null,
   "metadata": {},
   "outputs": [],
   "source": [
    "type(Level1_Elements)"
   ]
  },
  {
   "cell_type": "code",
   "execution_count": null,
   "metadata": {},
   "outputs": [],
   "source": [
    "for element in Level1_Elements:\n",
    "    print(element)"
   ]
  },
  {
   "cell_type": "code",
   "execution_count": null,
   "metadata": {},
   "outputs": [],
   "source": [
    "myPISystem = PISystems.DefaultPISystem"
   ]
  },
  {
   "cell_type": "code",
   "execution_count": 20,
   "metadata": {},
   "outputs": [
    {
     "ename": "AttributeError",
     "evalue": "'NoneType' object has no attribute 'Attributes'",
     "output_type": "error",
     "traceback": [
      "\u001b[1;31m---------------------------------------------------------------------------\u001b[0m",
      "\u001b[1;31mAttributeError\u001b[0m                            Traceback (most recent call last)",
      "\u001b[1;32m<ipython-input-20-050cae2eb659>\u001b[0m in \u001b[0;36m<module>\u001b[1;34m\u001b[0m\n\u001b[1;32m----> 1\u001b[1;33m \u001b[0mattribute\u001b[0m \u001b[1;33m=\u001b[0m \u001b[0melement\u001b[0m\u001b[1;33m.\u001b[0m\u001b[0mAttributes\u001b[0m\u001b[1;33m.\u001b[0m\u001b[0mget_Item\u001b[0m\u001b[1;33m(\u001b[0m\u001b[1;34m\"Nombre Area\"\u001b[0m\u001b[1;33m)\u001b[0m\u001b[1;33m\u001b[0m\u001b[1;33m\u001b[0m\u001b[0m\n\u001b[0m",
      "\u001b[1;31mAttributeError\u001b[0m: 'NoneType' object has no attribute 'Attributes'"
     ]
    }
   ],
   "source": [
    "attribute = element.Attributes.get_Item(\"Nombre Area\")"
   ]
  },
  {
   "cell_type": "code",
   "execution_count": null,
   "metadata": {},
   "outputs": [],
   "source": [
    "name = pt.Name.lower()\n",
    "# CurrentValue\n",
    "print('\\nShowing PI Tag CurrentValue from {0}'.format(name))\n",
    "current_value = pt.CurrentValue()\n",
    "print( '{0}\\'s Current Value: {1}'.format(name, current_value.Value))"
   ]
  },
  {
   "cell_type": "code",
   "execution_count": null,
   "metadata": {},
   "outputs": [],
   "source": [
    "#recordedvalues\n",
    "timerange = AFTimeRange(\"*-3h\", \"*\")\n",
    "recorded = pt.RecordedValues(timerange, AFBoundaryType.Inside, \"\", False)\n",
    "print('\\nShowing PI Tag RecordedValues from {0}'.format(name))\n",
    "for event in recorded:\n",
    "    print('{0} value: {1}'.format(event.Timestamp.LocalTime, event.Value))"
   ]
  },
  {
   "cell_type": "code",
   "execution_count": null,
   "metadata": {},
   "outputs": [],
   "source": [
    "#plotValues\n",
    "plotvalues = pt.PlotValues(timerange, 100)\n",
    "print('\\nShowing PI Tag PlotValues from {0}'.format(name))\n",
    "for event in plotvalues:\n",
    "    print('{0} value: {1}'.format(event.Timestamp.LocalTime, event.Value))"
   ]
  },
  {
   "cell_type": "code",
   "execution_count": null,
   "metadata": {},
   "outputs": [],
   "source": [
    "#interpolatedvalues\n",
    "span = AFTimeSpan.Parse(\"1h\")\n",
    "interpolated = pt.InterpolatedValues(timerange, span, \"\", False)\n",
    "print('\\nShowing PI Tag InterpolatedValues from {0}'.format(name))\n",
    "for event in interpolated:\n",
    "    print('{0} value: {1}'.format(event.Timestamp.LocalTime, event.Value))"
   ]
  },
  {
   "cell_type": "code",
   "execution_count": null,
   "metadata": {},
   "outputs": [],
   "source": [
    "#summariesvalues\n",
    "summaries = pt.Summaries(timerange, span, AFSummaryTypes.Average, AFCalculationBasis.TimeWeighted, AFTimestampCalculation.Auto)\n",
    "print('\\nShowing PI Tag SummariesValues(Average) from {0}'.format(name))\n",
    "for summary in summaries:\n",
    "    for event in summary.Value:\n",
    "        print('{0} value: {1}'.format(event.Timestamp.LocalTime, event.Value))"
   ]
  },
  {
   "cell_type": "code",
   "execution_count": null,
   "metadata": {},
   "outputs": [],
   "source": [
    "#writeValue\n",
    "writept = PIPoint.FindPIPoint(piServer,\"PleaseEnterWriteTagName\")\n",
    "writeptname = writept.Name.lower()\n",
    "val = AFValue()\n",
    "val.Value = 20\n",
    "#val.Timestamp = AFTime(\"t+9h\")"
   ]
  },
  {
   "cell_type": "code",
   "execution_count": null,
   "metadata": {},
   "outputs": [],
   "source": [
    "print('\\nWrite value to {0} value: {1}'.format(writeptname, val.Value))\n",
    "writept.UpdateValue(val, AFUpdateOption.Replace, AFBufferOption.BufferIfPossible)"
   ]
  },
  {
   "cell_type": "code",
   "execution_count": null,
   "metadata": {},
   "outputs": [],
   "source": [
    "#Connect to AF\n",
    "print ('\\nConnect to AF')\n",
    "afServers = PISystems()\n",
    "afServer = afServers.DefaultPISystem\n",
    "DB = afServer.Databases.DefaultDatabase\n",
    "#DB = afServer.Databases.get_Item(\"NuGreen\")\n",
    "element = DB.Elements.get_Item(\"NuGreen\").Elements.get_Item(\"Little Rock\").\\\n",
    "    Elements.get_Item(\"Extruding Process\").Elements.get_Item(\"Equipment\").Elements.get_Item(\"K-435\")"
   ]
  },
  {
   "cell_type": "code",
   "execution_count": null,
   "metadata": {},
   "outputs": [],
   "source": [
    "attribute = element.Attributes.get_Item(\"Steam Flow\")\n",
    "attval = attribute.GetValue()"
   ]
  },
  {
   "cell_type": "code",
   "execution_count": null,
   "metadata": {},
   "outputs": [],
   "source": [
    "print ('Element Name: {0}'.format(element.Name))\n",
    "print ('Attribute Name: {0} | Value : {1} {2}'.format(attribute.Name, attval.Value, attribute.DefaultUOM))"
   ]
  },
  {
   "cell_type": "code",
   "execution_count": null,
   "metadata": {},
   "outputs": [],
   "source": [
    "#create element with attribute\n",
    "print('\\nCreate Element with Attribute')\n",
    "if DB.Elements.get_Item(\"Test New Element\") is not None:\n",
    "    print(\"Already Existing Element: Test New Element\")\n",
    "else:\n",
    "    newelement = DB.Elements.Add(\"Test New Element\")\n",
    "    newelement.Description = \"Created element from PIthon\"\n",
    "    newattribute = newelement.Attributes.Add(\"Test Attribute\")\n",
    "    newattribute.DataReferencePlugIn = afServer.DataReferencePlugIns.get_Item(\"PI Point\")\n",
    "    newattribute.DataReference.ConfigString = \"cdt158\"\n",
    "    DB.CheckIn()\n",
    "    print(\"Created new Element : Test New Element\")"
   ]
  },
  {
   "cell_type": "code",
   "execution_count": null,
   "metadata": {},
   "outputs": [],
   "source": []
  },
  {
   "cell_type": "code",
   "execution_count": null,
   "metadata": {},
   "outputs": [],
   "source": []
  },
  {
   "cell_type": "code",
   "execution_count": null,
   "metadata": {},
   "outputs": [],
   "source": []
  },
  {
   "cell_type": "code",
   "execution_count": null,
   "metadata": {},
   "outputs": [],
   "source": []
  }
 ],
 "metadata": {
  "kernelspec": {
   "display_name": "Python 3.8 (pycaret_env)",
   "language": "python",
   "name": "pycaret_env"
  },
  "language_info": {
   "codemirror_mode": {
    "name": "ipython",
    "version": 3
   },
   "file_extension": ".py",
   "mimetype": "text/x-python",
   "name": "python",
   "nbconvert_exporter": "python",
   "pygments_lexer": "ipython3",
   "version": "3.8.12"
  }
 },
 "nbformat": 4,
 "nbformat_minor": 4
}
