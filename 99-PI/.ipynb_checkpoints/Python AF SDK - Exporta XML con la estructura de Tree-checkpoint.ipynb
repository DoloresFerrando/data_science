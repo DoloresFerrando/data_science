{
 "cells": [
  {
   "cell_type": "markdown",
   "metadata": {},
   "source": [
    "# Esquema básico de python para acceder a AF"
   ]
  },
  {
   "cell_type": "code",
   "execution_count": 19,
   "metadata": {},
   "outputs": [],
   "source": [
    "import pathlib\n",
    "from pathlib import Path\n",
    "import os\n",
    "import os.path"
   ]
  },
  {
   "cell_type": "code",
   "execution_count": 24,
   "metadata": {},
   "outputs": [],
   "source": [
    "import datetime\n",
    "from datetime import timedelta\n",
    "from datetime import datetime\n",
    "import time"
   ]
  },
  {
   "cell_type": "code",
   "execution_count": 106,
   "metadata": {},
   "outputs": [],
   "source": [
    "# Librería para gestionar XMLs\n",
    "from xml.etree import ElementTree as ET"
   ]
  },
  {
   "cell_type": "markdown",
   "metadata": {},
   "source": [
    "## Librerías PI"
   ]
  },
  {
   "cell_type": "code",
   "execution_count": 1,
   "metadata": {},
   "outputs": [],
   "source": [
    "# sys module provides access to some variables used or maintained by the interpreter and to functions that interact \n",
    "# strongly with the interpreter. It is always available. https://docs.python.org/3/library/sys.html\n",
    "# clr es la forma de declarar el package pythonnet (.net para python)\n",
    "import sys\n",
    "import clr"
   ]
  },
  {
   "cell_type": "code",
   "execution_count": 2,
   "metadata": {},
   "outputs": [
    {
     "data": {
      "text/plain": [
       "<System.Reflection.RuntimeAssembly object at 0x00000246531196C8>"
      ]
     },
     "execution_count": 2,
     "metadata": {},
     "output_type": "execute_result"
    }
   ],
   "source": [
    "sys.path.append(r'C:\\Program Files (x86)\\PIPC\\AF\\PublicAssemblies\\4.0')  \n",
    "clr.AddReference('OSIsoft.AFSDK')"
   ]
  },
  {
   "cell_type": "code",
   "execution_count": 3,
   "metadata": {},
   "outputs": [],
   "source": [
    "from OSIsoft.AF import *\n",
    "from OSIsoft.AF.PI import *\n",
    "from OSIsoft.AF.Asset import *\n",
    "from OSIsoft.AF.Data import *\n",
    "from OSIsoft.AF.Time import *\n",
    "from OSIsoft.AF.UnitsOfMeasure import *\n",
    "from OSIsoft.AF.Search import *"
   ]
  },
  {
   "cell_type": "code",
   "execution_count": 4,
   "metadata": {},
   "outputs": [],
   "source": [
    "#initializes a C# list: from System.Collections.Generic import List\n",
    "# Implicit loading is deprecated. Please use clr.AddReference('System.Collections').\n",
    "clr.AddReference('System.Collections')\n",
    "from System.Collections.Generic import List"
   ]
  },
  {
   "cell_type": "markdown",
   "metadata": {},
   "source": [
    "## Conexión a la Base AF"
   ]
  },
  {
   "cell_type": "code",
   "execution_count": 5,
   "metadata": {},
   "outputs": [],
   "source": [
    "afservers = PISystems()"
   ]
  },
  {
   "cell_type": "code",
   "execution_count": 6,
   "metadata": {},
   "outputs": [
    {
     "name": "stdout",
     "output_type": "stream",
     "text": [
      "PARCCVWPIEDA01\n"
     ]
    }
   ],
   "source": [
    "#afserver = afservers.DefaultPISystem\n",
    "AFServer = afservers['PARCCVWPIEDA01']\n",
    "#AFServer = afservers['QARCCVWPIE01']\n",
    "print(AFServer.Name)"
   ]
  },
  {
   "cell_type": "code",
   "execution_count": 7,
   "metadata": {},
   "outputs": [
    {
     "name": "stdout",
     "output_type": "stream",
     "text": [
      "Database Name: DOF\n"
     ]
    }
   ],
   "source": [
    "# Acceso a una base de datos que no sea la default:\n",
    "#DB = AFServer.Databases.DefaultDatabase\n",
    "#print(DB.Name)\n",
    "DB = AFServer.Databases.get_Item(\"DOF\")\n",
    "print ('Database Name: {0}'.format(DB.Name))"
   ]
  },
  {
   "cell_type": "markdown",
   "metadata": {},
   "source": [
    "## Se arma un Dict con los Elementos"
   ]
  },
  {
   "cell_type": "code",
   "execution_count": 8,
   "metadata": {},
   "outputs": [
    {
     "name": "stdout",
     "output_type": "stream",
     "text": [
      "SCh-0012\n",
      "SCh-0061\n"
     ]
    }
   ],
   "source": [
    "# Armo un dict para acceder a los objetos por el nombre del objeto, en este caso, el nombre del pozo\n",
    "\n",
    "### OJO ESTOY FILTRANDO SÓLO UN POZO PARA PROBAR, LUEGO SACAR EL FILTRO Name: SCh-12\n",
    "wells_dict = dict()\n",
    "for well in AFElementSearch(DB, \"Search\", \"Root:'PAMPA ENERGIA S.A.\\Sierra Chata' Template:'Pozo' (Name:'SCh-0012' OR Name:'SCh-0061')\").FindObjects():\n",
    "    wells_dict[well.Name] = well\n",
    "for well in wells_dict:\n",
    "    #print(wells_dict['SCh-0012'].Name)\n",
    "    print(well)"
   ]
  },
  {
   "cell_type": "code",
   "execution_count": 38,
   "metadata": {},
   "outputs": [
    {
     "name": "stdout",
     "output_type": "stream",
     "text": [
      "El Mangrullo Instalaciones\n",
      "El Mangrullo Pozos\n",
      "Parva Negra Este Instalaciones\n",
      "Parva Negra Este Pozos\n",
      "Red de Transporte EMED (Tratayen-TGS)\n",
      "Red de Transporte PM-110\n",
      "Red de Transporte PMF-306/PM-87\n",
      "Red de Transporte PMF-322/PMF-90\n",
      "Red de Transporte PMF-500\n",
      "Red de Transporte PR ADLA\n",
      "Red de Transporte PR PELSA\n",
      "Rincón de Aranda Pozos\n",
      "Sierra Chata Instalaciones\n",
      "Sierra Chata Pozos\n"
     ]
    }
   ],
   "source": [
    "for element in DB.Elements:\n",
    "    for child in element.Elements:\n",
    "        for grand_child in child.Elements:\n",
    "            print(child, grand_child)"
   ]
  },
  {
   "cell_type": "code",
   "execution_count": 63,
   "metadata": {},
   "outputs": [],
   "source": [
    "root = DB.Elements"
   ]
  },
  {
   "cell_type": "code",
   "execution_count": 77,
   "metadata": {},
   "outputs": [],
   "source": [
    "tree = List[AFElements]()"
   ]
  },
  {
   "cell_type": "code",
   "execution_count": 78,
   "metadata": {},
   "outputs": [],
   "source": [
    "tree.Add(root)"
   ]
  },
  {
   "cell_type": "code",
   "execution_count": 109,
   "metadata": {},
   "outputs": [
    {
     "data": {
      "text/plain": [
       "'El Mangrullo'"
      ]
     },
     "execution_count": 109,
     "metadata": {},
     "output_type": "execute_result"
    }
   ],
   "source": [
    "# Para recorrer el árbol:\n",
    "# En cada nivel se tiene un objeto AFElements, con el método get_Item(0) se obtienen los elementos de ese nivel\n",
    "# con .Elements se referencia a las ramas que cuelgan de ese elemento.\n",
    "# con get_Item(0) se accede a los distintos elementos hijo. Cada elemento tendrá sus propiedades.\n",
    "tree[0].get_Item(0).Elements.get_Item(3).Name"
   ]
  },
  {
   "cell_type": "code",
   "execution_count": 100,
   "metadata": {},
   "outputs": [],
   "source": [
    "# Métodos y propiedades del root (AFElements):\n",
    "#dir(tree[0])"
   ]
  },
  {
   "cell_type": "code",
   "execution_count": 111,
   "metadata": {},
   "outputs": [],
   "source": [
    "elMangrullo = tree[0].get_Item(0).Elements.get_Item(3)"
   ]
  },
  {
   "cell_type": "code",
   "execution_count": 112,
   "metadata": {},
   "outputs": [],
   "source": [
    "str_xml = DB.ExportXml(elMangrullo, PIExportMode.Flat) #, os.path.join(str_path_output, 'af.xml'), timerange_start, timerange_end)\n",
    "#str_xml"
   ]
  },
  {
   "cell_type": "code",
   "execution_count": 104,
   "metadata": {},
   "outputs": [],
   "source": [
    "xml_data = ET.XML(str_xml)"
   ]
  },
  {
   "cell_type": "code",
   "execution_count": 113,
   "metadata": {},
   "outputs": [],
   "source": [
    "with open(os.path.join(str_path_output, 'EMA.xml'), \"w\") as f:\n",
    "    #f.write(ET.tostring(xml_data))\n",
    "    f.write(str_xml)"
   ]
  },
  {
   "cell_type": "markdown",
   "metadata": {},
   "source": [
    "## Estructura XML exportada"
   ]
  },
  {
   "cell_type": "code",
   "execution_count": null,
   "metadata": {},
   "outputs": [],
   "source": [
    "<AF PIPersist ...>\n",
    "    <AFElement>\n",
    "        <Id>\n",
    "        <Name>\n",
    "        <Template>\n",
    "        <VersionID>\n",
    "        <AFAttribute>\n",
    "        ...\n",
    "        <AFAttribute>\n",
    "    <AFElement ReferenceType = \"Parent Child\">\n",
    "        <Id>\n",
    "        <Name>\n",
    "        <Template>\n",
    "        <VersionID>\n",
    "        <AFAttribute>\n",
    "        ...\n",
    "        <AFAttribute>\n",
    "        <AFAnalysis>"
   ]
  },
  {
   "cell_type": "code",
   "execution_count": 16,
   "metadata": {},
   "outputs": [],
   "source": [
    "str_path_output = pathlib.Path().absolute()\n",
    "#df_aux_1.to_csv(os.path.join(str_path_output, 'historian.csv'), index=False)"
   ]
  },
  {
   "cell_type": "code",
   "execution_count": 25,
   "metadata": {},
   "outputs": [],
   "source": [
    "ts_min_str = '2021-04-13 00:00:00'\n",
    "ts_min = datetime.strptime(ts_min_str, \"%Y-%m-%d %H:%M:%S\")\n",
    "timerange_start = AFTime(ts_min_str)\n",
    "# Acá necesito poder armar una fecha con el \"*\" llevado a la hora PENDIENTE\n",
    "timerange_end = AFTime(datetime(AFTime.Now.LocalTime.Year, AFTime.Now.LocalTime.Month, AFTime.Now.LocalTime.Day, \n",
    "                            AFTime.Now.LocalTime.Hour, 0, 0).strftime(\"%Y-%m-%d %H:%M:%S\"))"
   ]
  },
  {
   "cell_type": "code",
   "execution_count": null,
   "metadata": {},
   "outputs": [],
   "source": []
  },
  {
   "cell_type": "code",
   "execution_count": null,
   "metadata": {},
   "outputs": [],
   "source": []
  },
  {
   "cell_type": "code",
   "execution_count": null,
   "metadata": {},
   "outputs": [],
   "source": []
  },
  {
   "cell_type": "code",
   "execution_count": null,
   "metadata": {},
   "outputs": [],
   "source": []
  },
  {
   "cell_type": "code",
   "execution_count": null,
   "metadata": {},
   "outputs": [],
   "source": []
  }
 ],
 "metadata": {
  "kernelspec": {
   "display_name": "Python 3",
   "language": "python",
   "name": "python3"
  },
  "language_info": {
   "codemirror_mode": {
    "name": "ipython",
    "version": 3
   },
   "file_extension": ".py",
   "mimetype": "text/x-python",
   "name": "python",
   "nbconvert_exporter": "python",
   "pygments_lexer": "ipython3",
   "version": "3.7.6"
  }
 },
 "nbformat": 4,
 "nbformat_minor": 4
}
