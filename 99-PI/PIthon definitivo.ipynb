{
 "cells": [
  {
   "cell_type": "markdown",
   "id": "06ca7738-324d-4684-a5ac-7cf838a08c07",
   "metadata": {},
   "source": [
    "# Ejemplo Acceso a una PI AF Database\n",
    "Requiere tener instalado: pythonnet\n",
    "http://pythonnet.github.io/\n",
    "\n",
    "Confirmar dónde se encuentran las dlls: OSIsoft.AFSDK.dll en su máquina."
   ]
  },
  {
   "cell_type": "markdown",
   "id": "f9e08f4d-6d63-4c61-b8e3-51fd05a3cda1",
   "metadata": {},
   "source": [
    "# 0- Preparación del Ambiente"
   ]
  },
  {
   "cell_type": "code",
   "execution_count": null,
   "id": "96087bb4-5c89-49ab-8613-bdf7d78a443a",
   "metadata": {},
   "outputs": [],
   "source": [
    "#!pip install pythonnet"
   ]
  },
  {
   "cell_type": "code",
   "execution_count": 1,
   "id": "04d61430-9ce7-479e-81a2-966a56912141",
   "metadata": {},
   "outputs": [],
   "source": [
    "# sys module provides access to some variables used or maintained by the interpreter and to functions that interact \n",
    "# strongly with the interpreter. It is always available. https://docs.python.org/3/library/sys.html\n",
    "# clr es la forma de declarar el package pythonnet (.net para python)\n",
    "import sys\n",
    "import clr"
   ]
  },
  {
   "cell_type": "code",
   "execution_count": 2,
   "id": "0e97fd79-139d-4d24-8983-8b4d3a33aa7f",
   "metadata": {},
   "outputs": [
    {
     "data": {
      "text/plain": [
       "<System.Reflection.RuntimeAssembly object at 0x0000021AC7D1CA30>"
      ]
     },
     "execution_count": 2,
     "metadata": {},
     "output_type": "execute_result"
    }
   ],
   "source": [
    "sys.path.append(r'C:\\Program Files (x86)\\PIPC\\AF\\PublicAssemblies\\4.0')  \n",
    "clr.AddReference('OSIsoft.AFSDK')"
   ]
  },
  {
   "cell_type": "code",
   "execution_count": 3,
   "id": "219304f1-698a-4b08-acb0-fefd9dc4d170",
   "metadata": {},
   "outputs": [],
   "source": [
    "from OSIsoft.AF import *\n",
    "from OSIsoft.AF.PI import *\n",
    "from OSIsoft.AF.Asset import *\n",
    "from OSIsoft.AF.Data import *\n",
    "from OSIsoft.AF.Time import *\n",
    "from OSIsoft.AF.UnitsOfMeasure import *\n",
    "from OSIsoft.AF.Search import *"
   ]
  },
  {
   "cell_type": "code",
   "execution_count": 4,
   "id": "d8d5691b-6ae4-4ea5-b9c1-508e2a57beae",
   "metadata": {},
   "outputs": [],
   "source": [
    "#initializes a C# list: from System.Collections.Generic import List\n",
    "# Implicit loading is deprecated. Please use clr.AddReference('System.Collections').\n",
    "clr.AddReference('System.Collections')\n",
    "from System.Collections.Generic import List"
   ]
  },
  {
   "cell_type": "code",
   "execution_count": 5,
   "id": "cb59dc55-6bb1-498a-b4aa-3c542e960281",
   "metadata": {},
   "outputs": [],
   "source": [
    "from datetime import datetime, timedelta"
   ]
  },
  {
   "cell_type": "code",
   "execution_count": 6,
   "id": "81ec502f-e673-4a51-b84b-99ec40ad6315",
   "metadata": {},
   "outputs": [],
   "source": [
    "import pandas as pd"
   ]
  },
  {
   "cell_type": "markdown",
   "id": "f1f388b7-28da-4871-8a93-1446c12f486b",
   "metadata": {},
   "source": [
    "# 1- Acceso a una AF Database"
   ]
  },
  {
   "cell_type": "code",
   "execution_count": 10,
   "id": "a5bd569c-498e-465e-8d9d-b919371d0b7e",
   "metadata": {},
   "outputs": [
    {
     "name": "stdout",
     "output_type": "stream",
     "text": [
      "Tipo de Datos: <class 'OSIsoft.AF.PISystems'>\n",
      "192.168.103.66\n",
      "PARCCVWPIEDA01\n",
      "QARCCVWPIE01\n"
     ]
    }
   ],
   "source": [
    "#https://docs.osisoft.com/bundle/af-sdk/page/html/pisystem-hierarchy.htm\n",
    "afservers = PISystems()\n",
    "print('Tipo de Datos:', type(afservers))\n",
    "iterator = afservers.GetEnumerator()\n",
    "for server in iterator:\n",
    "    print(server.Name)"
   ]
  },
  {
   "cell_type": "code",
   "execution_count": 13,
   "id": "b45f338b-ebb4-4f9e-8873-3fc50ba62ec1",
   "metadata": {},
   "outputs": [
    {
     "name": "stdout",
     "output_type": "stream",
     "text": [
      "PARCCVWPIEDA01 69941c34-7d8c-491f-b5b8-70bb5f66436f Clase: <class 'OSIsoft.AF.PISystem'>\n"
     ]
    }
   ],
   "source": [
    "# Objeto para la base de datos que busco consultar\n",
    "# https://docs.osisoft.com/bundle/af-sdk/page/html/T_OSIsoft_AF_PISystem.htm\n",
    "#afserver = afservers.DefaultPISystem\n",
    "AFServer = afservers['PARCCVWPIEDA01']\n",
    "#AFServer = afservers['QARCCVWPIE01']\n",
    "print(AFServer.Name, AFServer.UniqueID, 'Clase:', type(AFServer))"
   ]
  },
  {
   "cell_type": "code",
   "execution_count": 14,
   "id": "04fac783-0448-49cf-92a7-fb742f0d8546",
   "metadata": {},
   "outputs": [
    {
     "name": "stdout",
     "output_type": "stream",
     "text": [
      "DOF <class 'OSIsoft.AF.PISystem'>\n",
      "Database Name: DOF <class 'OSIsoft.AF.AFDatabase'>\n"
     ]
    }
   ],
   "source": [
    "# Acceso a una base de datos que no sea la default:\n",
    "# afserver.Databases: https://docs.osisoft.com/bundle/af-sdk/page/html/T_OSIsoft_AF_AFDatabases.htm\n",
    "# Databases.Database:\n",
    "DB = AFServer.Databases.DefaultDatabase\n",
    "print(DB.Name, type(AFServer))\n",
    "DB = AFServer.Databases.get_Item(\"DOF\")\n",
    "print ('Database Name: {0}'.format(DB.Name), type(DB))"
   ]
  },
  {
   "cell_type": "markdown",
   "id": "d29505e7-b2e1-4404-99b0-fd6676151f7f",
   "metadata": {},
   "source": [
    "# 2- Recorrer la estructura de Assets y Atributos"
   ]
  },
  {
   "cell_type": "code",
   "execution_count": 15,
   "id": "9f13cf8e-2fe3-4ea9-a04c-86900c19a2a4",
   "metadata": {},
   "outputs": [
    {
     "data": {
      "text/plain": [
       "OSIsoft.AF.Asset.AFElements"
      ]
     },
     "execution_count": 15,
     "metadata": {},
     "output_type": "execute_result"
    }
   ],
   "source": [
    "type(DB.Elements)"
   ]
  },
  {
   "cell_type": "code",
   "execution_count": 64,
   "id": "6ce58f29-337b-41e8-96e8-daec3c5927b3",
   "metadata": {},
   "outputs": [
    {
     "name": "stdout",
     "output_type": "stream",
     "text": [
      "Nivel 1: PAMPA ENERGIA S.A.\n",
      "Nivel 2: Sierra Chata <class 'str'>\n",
      "Attribute: Promedio Entrega Gas 9300 (PlanGasAr) 752,211409022177 Miles Metros Cubicos\n",
      "Primeros 10 Atributos y su valor actual:\n",
      "Plan Gas. Promedio Acumulado Venta Gas@9300 Participación 31/1/2022 00:00:00 600,00001152 Miles Metros Cubicos OSIsoft.AF.Data.AFData\n",
      "Promedio Entrega Gas 9300 (PlanGasAr) 31/1/2022 00:00:00 752,211409022177 Miles Metros Cubicos OSIsoft.AF.Data.AFData\n",
      "Venta Prom. Gas 9300 vs Plan Anual en Participación (b) 31/1/2022 00:00:00 152,211397502177 Miles Metros Cubicos OSIsoft.AF.Data.AFData\n",
      "Venta Gas 9300 vs Plan Gas Mes en Participación (b) 31/1/2022 00:00:00 157,615714534688 Miles Metros Cubicos OSIsoft.AF.Data.AFData\n",
      "FC 31/1/2022 00:00:00 0,987197469894487 None OSIsoft.AF.Data.AFData\n",
      "Producción Balance Mensual de Petróleo 1/12/2021 00:00:00 2,07375535483871 Cubic Meter per Day OSIsoft.AF.Data.AFData\n",
      "Promedio Balance Diario Gas @9300 Pozos Tight 31/1/2022 00:00:00 98,4015675806452 Miles Metros Cubicos OSIsoft.AF.Data.AFData\n",
      "Promedio Mensual Entrega Gas9300 2/1/2022 09:33:00 0 Miles Metros Cubicos OSIsoft.AF.Data.AFData\n",
      "Promedio Anual Entrega Gas9300 1/2/2022 14:04:00 1650,85263356855 None OSIsoft.AF.Data.AFData\n",
      "Entrega Balance Diario Area Gas@9300 en Participación 31/1/2022 00:00:00 757,615726054688 Miles Metros Cubicos OSIsoft.AF.Data.AFData\n"
     ]
    }
   ],
   "source": [
    "for element in DB.Elements:\n",
    "    print('Nivel 1:', element.Name)\n",
    "    # Puedo guardar los atributos en una lista:\n",
    "    asset_lst = list(element.Elements)\n",
    "    for subelement in element.Elements:\n",
    "        if subelement.Name == 'Sierra Chata':\n",
    "            print('Nivel 2:', subelement.Name, type(subelement.Name))\n",
    "            # Puedo guardar los atributos en una lista:\n",
    "            attr_lst = list(subelement.Attributes)\n",
    "            # No encontré otra manera de acceder a un atributo, más que esta:\n",
    "            attr = subelement.Attributes.GetItem('Promedio Entrega Gas 9300 (PlanGasAr)', True, True, True)\n",
    "            print('Attribute:', attr, attr.GetValue(), attr.get_DefaultUOM())\n",
    "            i = 0\n",
    "            print('Primeros 10 Atributos y su valor actual:')\n",
    "            for attribute in subelement.Attributes:\n",
    "                if i < 10:\n",
    "                    print(attribute.Name, attribute.GetValue().Timestamp, attribute.GetValue(), attribute.DisplayUOM, attribute.Data)\n",
    "                    i +=1"
   ]
  },
  {
   "cell_type": "markdown",
   "id": "b8d58376-39ed-4cc7-b70f-26d6712f0723",
   "metadata": {},
   "source": [
    "# 3- Consultas de Datos"
   ]
  },
  {
   "cell_type": "markdown",
   "id": "9542fb78-7911-472d-a223-7efdaeef83b4",
   "metadata": {},
   "source": [
    "## Armo los objetos con assets y sus atributos"
   ]
  },
  {
   "cell_type": "code",
   "execution_count": 158,
   "id": "e4196e0c-e992-4fd7-b25b-7aabb3c53e0d",
   "metadata": {},
   "outputs": [
    {
     "data": {
      "text/plain": [
       "'PAMPA ENERGIA S.A.'"
      ]
     },
     "execution_count": 158,
     "metadata": {},
     "output_type": "execute_result"
    }
   ],
   "source": [
    "# 1° Objeto del arbol:\n",
    "root = DB.Elements.get_Item(0)\n",
    "root.Name"
   ]
  },
  {
   "cell_type": "code",
   "execution_count": 160,
   "id": "37ff4eab-7533-4882-b73b-7e42f2b969e3",
   "metadata": {},
   "outputs": [
    {
     "name": "stdout",
     "output_type": "stream",
     "text": [
      "Nivel 1, ejemplo de Asset: Sierra Chata\n"
     ]
    }
   ],
   "source": [
    "# Lista con los objetos que cuelgan del root (Nivel 1)\n",
    "asset_lst = list(root.Elements)\n",
    "print('Nivel 1, ejemplo de Asset:', asset_lst[13].Name)"
   ]
  },
  {
   "cell_type": "code",
   "execution_count": 166,
   "id": "26f0a248-a3c1-4ba8-9033-808425f38058",
   "metadata": {},
   "outputs": [
    {
     "name": "stdout",
     "output_type": "stream",
     "text": [
      "Nivel 1, ejemplo de atributo: Plan Gas. Promedio Acumulado Venta Gas@9300 Participación 31/1/2022 00:00:00 600,00001152 Miles Metros Cubicos - Objeto padre: Sierra Chata\n"
     ]
    }
   ],
   "source": [
    "# Puedo armar otra lista con los atributos de un asset:\n",
    "attr_lst = list(asset_lst[13].Attributes)\n",
    "print('Nivel 1, ejemplo de atributo:', attr_lst[0].Name, attr_lst[0].GetValue().Timestamp, attr_lst[0].GetValue(), \n",
    "      attr_lst[0].DisplayUOM, '- Objeto padre:', attr_lst[0].Element.Name)"
   ]
  },
  {
   "cell_type": "markdown",
   "id": "a4c92b0e-bab8-45fd-a865-e158a2b2d98e",
   "metadata": {},
   "source": [
    "## Consultas - Definición de Rango de Tiempo de la consulta"
   ]
  },
  {
   "cell_type": "code",
   "execution_count": 167,
   "id": "803f56ab-8dd4-4255-993f-131e7461fd52",
   "metadata": {},
   "outputs": [
    {
     "name": "stdout",
     "output_type": "stream",
     "text": [
      "1/2/2022 15:08:18 1/2/2022 15:07:18 -1m\n"
     ]
    }
   ],
   "source": [
    "# Defino un rango de tiempo para consultas de datos históricos\n",
    "\n",
    "#myTimeRange.StartTime = New AFTime(DateTime.UtcNow.AddHours(-1))\n",
    "#myTimeRange.EndTime = AFTime.Now\n",
    "#### Tiempo Absoluto:\n",
    "#timerange_start = AFTime('2022-01-28 00:00:00')\n",
    "#### Tiempo Relativo:\n",
    "timerange_start = AFTime('*')\n",
    "timerange_span = AFTimeSpan.Parse('-1m') # 1h, 1d, para restar tiempo: -1m, -1h, etc\n",
    "timerange_end = AFTime.op_Addition(timerange_start, timerange_span)\n",
    "timerange = AFTimeRange(timerange_start, timerange_end)\n",
    "print(timerange_start, timerange_end, timerange_span)\n",
    "\n",
    "#timerange = AFTimeRange(\"*-31d\", \"*-30d\")\n",
    "#print(type(timerange), timerange.StartTime, timerange.EndTime, timerange.Span) # Span parece que es en días."
   ]
  },
  {
   "cell_type": "code",
   "execution_count": 107,
   "id": "d0fd4d02-eae7-40ec-9dd4-bc10ed2a2281",
   "metadata": {},
   "outputs": [
    {
     "name": "stdout",
     "output_type": "stream",
     "text": [
      "Attribute: Caudal Instantáneo Area 1/2/2022 14:29:42 2074,67914539883 Miles Metros Cubicos\n"
     ]
    }
   ],
   "source": [
    "# Busco el atributo:\n",
    "attr = asset_lst[13].Attributes.GetItem('Caudal Instantáneo Area', True, True, True)\n",
    "print('Attribute:', attr, attr.GetValue().Timestamp, attr.GetValue(), attr.get_DefaultUOM())"
   ]
  },
  {
   "cell_type": "markdown",
   "id": "f353e31f-76ea-4255-bc22-b3dd8ee58354",
   "metadata": {},
   "source": [
    "## Consulta de Valores Guardados (no interpolados)"
   ]
  },
  {
   "cell_type": "code",
   "execution_count": 174,
   "id": "c4187787-13ca-4ab8-b275-67eff1d1ddd2",
   "metadata": {},
   "outputs": [
    {
     "name": "stdout",
     "output_type": "stream",
     "text": [
      "Elemento: Sierra Chata Attribute: Caudal Instantáneo Area Time Range: 1/2/2022 15:08:18 - 1/2/2022 15:07:18\n",
      "1/2/2022 15:08:12 True 2090.7539309638023\n",
      "1/2/2022 15:08:04 True 2090.458989040634\n",
      "1/2/2022 15:07:59 True 2088.2242362918523\n",
      "1/2/2022 15:07:57 True 2088.1788011490903\n",
      "1/2/2022 15:07:54 True 2089.9287282441674\n",
      "1/2/2022 15:07:49 True 2098.917635505719\n",
      "1/2/2022 15:07:44 True 2104.139021712268\n",
      "1/2/2022 15:07:42 True 2104.306878703034\n",
      "1/2/2022 15:07:34 True 2098.8905217051506\n",
      "1/2/2022 15:07:29 True 2098.8552889497964\n",
      "1/2/2022 15:07:27 True 2097.4498923020205\n",
      "1/2/2022 15:07:24 True 2098.7008290944195\n",
      "1/2/2022 15:07:19 True 2095.989003284382\n"
     ]
    }
   ],
   "source": [
    "################ RECORDED VALUES ##########################\n",
    "# https://docs.osisoft.com/bundle/af-sdk/page/html/T_OSIsoft_AF_Data_AFData.htm: \n",
    "# The AFData object is associated with a single AFAttribute and is used to retrieve and set extended historical data. \n",
    "# It is accessed through the Data property of an AFAttribute.\n",
    "values_lst = attr.Data.RecordedValues(timerange, AFBoundaryType.Inside, attr.DisplayUOM, \"\", False, 24)\n",
    "# Valores:\n",
    "print('Elemento:', attr.Element.Name, 'Attribute:', attr.Name, 'Time Range:', timerange)\n",
    "for val in values_lst:\n",
    "    print(val.Timestamp, val.IsGood, val.Value)"
   ]
  },
  {
   "cell_type": "markdown",
   "id": "9d564033-5956-45d7-84eb-bf81fbc55286",
   "metadata": {},
   "source": [
    "## Consulta de Valores Interpolados"
   ]
  },
  {
   "cell_type": "code",
   "execution_count": 116,
   "id": "cc6285dc-554f-4dd1-bf94-2a34615f0412",
   "metadata": {},
   "outputs": [
    {
     "name": "stdout",
     "output_type": "stream",
     "text": [
      "TimeSpan  1hr\n"
     ]
    }
   ],
   "source": [
    "################ INTERPOLATED VALUES ###########################\n",
    "# Definir el intervalo de consulta:\n",
    "\n",
    "# A AFTimeSpan represents a time interval (duration of time or elapsed time) that is measured as a positive or negative \n",
    "# number of years, months, days, hours, minutes, seconds, milliseconds, and fractions of a millisecond. \n",
    "# Create AFTimeSpan using constructor\n",
    "\n",
    "now = AFTime.Now\n",
    "span = AFTimeSpan.Parse('1h')\n",
    "print(\"TimeSpan \", span)"
   ]
  },
  {
   "cell_type": "code",
   "execution_count": 117,
   "id": "3d742723-642e-4734-91f9-37b5e001927a",
   "metadata": {},
   "outputs": [
    {
     "name": "stdout",
     "output_type": "stream",
     "text": [
      "1/2/2022 14:40:11 31/1/2022 14:40:11 -1d\n"
     ]
    }
   ],
   "source": [
    "# Defino un rango de tiempo para consultas de datos históricos\n",
    "\n",
    "#myTimeRange.StartTime = New AFTime(DateTime.UtcNow.AddHours(-1))\n",
    "#myTimeRange.EndTime = AFTime.Now\n",
    "#### Tiempo Absoluto:\n",
    "#timerange_start = AFTime('2022-01-28 00:00:00')\n",
    "#### Tiempo Relativo:\n",
    "timerange_start = AFTime('*')\n",
    "timerange_span = AFTimeSpan.Parse('-1d') # 1h, 1d, para restar tiempo: -1m, -1h, etc\n",
    "timerange_end = AFTime.op_Addition(timerange_start, timerange_span)\n",
    "timerange = AFTimeRange(timerange_start, timerange_end)\n",
    "print(timerange_start, timerange_end, timerange_span)\n",
    "\n",
    "#timerange = AFTimeRange(\"*-31d\", \"*-30d\")\n",
    "#print(type(timerange), timerange.StartTime, timerange.EndTime, timerange.Span) # Span parece que es en días."
   ]
  },
  {
   "cell_type": "code",
   "execution_count": 118,
   "id": "3f5d568d-28b9-4169-be38-9487482a4f5c",
   "metadata": {},
   "outputs": [
    {
     "name": "stdout",
     "output_type": "stream",
     "text": [
      "Elemento: Sierra Chata Attribute: Caudal Instantáneo Area Span: 1hr Time Range: 1/2/2022 14:40:11 - 31/1/2022 14:40:11\n",
      "1/2/2022 14:40:11 True 2104.670190861272\n",
      "1/2/2022 13:40:11 True 2094.302814200136\n",
      "1/2/2022 12:40:11 True 2062.761025376386\n",
      "1/2/2022 11:40:11 True 2072.9825351726627\n",
      "1/2/2022 10:40:11 True 2068.67293183509\n",
      "1/2/2022 09:40:11 True 2089.6886954394317\n",
      "1/2/2022 08:40:11 True 2069.119422738335\n",
      "1/2/2022 07:40:11 True 2105.6960852152974\n",
      "1/2/2022 06:40:11 True 2083.422850587233\n",
      "1/2/2022 05:40:11 True 2105.389455105402\n",
      "1/2/2022 04:40:11 True 2048.406973869008\n",
      "1/2/2022 03:40:11 True 2088.8558384135695\n",
      "1/2/2022 02:40:11 True 2111.259568168777\n",
      "1/2/2022 01:40:11 True 2115.8636061726374\n",
      "1/2/2022 00:40:11 True 2102.827300994807\n",
      "31/1/2022 23:40:11 True 2122.255941668722\n",
      "31/1/2022 22:40:11 True 2056.642624328451\n",
      "31/1/2022 21:40:11 True 2078.1262293902014\n",
      "31/1/2022 20:40:11 True 2057.935915659773\n",
      "31/1/2022 19:40:11 True 2086.284045865055\n",
      "31/1/2022 18:40:11 True 2105.3409632450953\n",
      "31/1/2022 17:40:11 True 2113.938665317913\n",
      "31/1/2022 16:40:11 True 2141.5242647785444\n",
      "31/1/2022 15:40:11 True 2113.464946294319\n",
      "31/1/2022 14:40:11 True 2165.5076484744377\n"
     ]
    }
   ],
   "source": [
    "# Realizar la consulta:\n",
    "\n",
    "# When a positive interval (span) is specified, the interval calculation begins at the earliest bounding time in the \n",
    "# timeRange and applies the interval repeatedly in time ascending direction to generate the calculation intervals.\n",
    "# If a negative interval is specified, the interval calculation begins at the latest bounding time in the timeRange and \n",
    "# applies the interval repeatedly in time descending direction to generate the calculation intervals. Note that the order of values returned will still be reflected by the timeRange, regardless of the interval sign.\n",
    "\n",
    "values_lst = attr.Data.InterpolatedValues(timerange, span, attr.DisplayUOM, \"\", False)\n",
    "# Valores:\n",
    "print('Elemento:', attr.Element.Name, 'Attribute:', attr.Name, 'Span:', span, 'Time Range:', timerange)\n",
    "for val in values_lst:\n",
    "    print(val.Timestamp, val.IsGood, val.Value)"
   ]
  },
  {
   "cell_type": "markdown",
   "id": "a042cb13-f7fb-424e-b94e-c44e9c53f5af",
   "metadata": {},
   "source": [
    "## Consulta de Valores Agregados"
   ]
  },
  {
   "cell_type": "code",
   "execution_count": 155,
   "id": "66551011-36f3-4fa1-ad41-82495e9ceed8",
   "metadata": {},
   "outputs": [
    {
     "name": "stdout",
     "output_type": "stream",
     "text": [
      "Elemento: Sierra Chata Atributo: Caudal Instantáneo Area Intervalo: 29/1/2022 15:00:05 - 1/2/2022 15:00:05 Span 1d Average\n",
      "29/1/2022 15:00:05 2009.9646469210784\n",
      "30/1/2022 15:00:05 2012.2049223236445\n",
      "31/1/2022 15:00:05 2093.554190332176\n"
     ]
    }
   ],
   "source": [
    "timerange = AFTimeRange(\"*-3d\", \"*\")\n",
    "span = AFTimeSpan.Parse('1d')\n",
    "# Data.Summaries devuelve un iterable, por eso me quedo en el primer elemento (que es de tipo AFValues):\n",
    "summaries = list(attr.Data.Summaries(timerange, span, AFSummaryTypes.Average, AFCalculationBasis.TimeWeighted, \n",
    "                                        AFTimestampCalculation.Auto))[0].Value\n",
    "print('Elemento:', attr.Element.Name, 'Atributo:', attr.Name, 'Intervalo:', timerange, 'Span', span, 'Average')\n",
    "for summ in summaries:\n",
    "    print(summ.Timestamp, summ.Value)"
   ]
  },
  {
   "cell_type": "markdown",
   "id": "2f2be5fe-48b2-4d70-95a3-44d32e00a7c2",
   "metadata": {},
   "source": [
    "## Convertir los datos a un Pandas Database"
   ]
  },
  {
   "cell_type": "code",
   "execution_count": 175,
   "id": "66c2d6a1-0200-4f67-857a-99768385545d",
   "metadata": {},
   "outputs": [],
   "source": [
    "add_1_hour = timedelta(hours=1)\n",
    "\n",
    "dataset_1 = list()\n",
    "\n",
    "for val in values_lst:\n",
    "    if val.IsGood:\n",
    "        timestamp = datetime(val.Timestamp.LocalTime.Year, val.Timestamp.LocalTime.Month, val.Timestamp.LocalTime.Day, \n",
    "                            val.Timestamp.LocalTime.Hour, val.Timestamp.LocalTime.Minute, val.Timestamp.LocalTime.Second)\n",
    "        dataset_1.append([val.Attribute.Element.Name, val.Attribute.Name, val.Timestamp, val.Value, val.Attribute.DisplayUOM])"
   ]
  },
  {
   "cell_type": "code",
   "execution_count": 176,
   "id": "fc9acf96-6e3b-4974-9592-81cef8c62be7",
   "metadata": {},
   "outputs": [
    {
     "data": {
      "text/html": [
       "<div>\n",
       "<style scoped>\n",
       "    .dataframe tbody tr th:only-of-type {\n",
       "        vertical-align: middle;\n",
       "    }\n",
       "\n",
       "    .dataframe tbody tr th {\n",
       "        vertical-align: top;\n",
       "    }\n",
       "\n",
       "    .dataframe thead th {\n",
       "        text-align: right;\n",
       "    }\n",
       "</style>\n",
       "<table border=\"1\" class=\"dataframe\">\n",
       "  <thead>\n",
       "    <tr style=\"text-align: right;\">\n",
       "      <th></th>\n",
       "      <th>Asset</th>\n",
       "      <th>Attribute</th>\n",
       "      <th>Timestamp</th>\n",
       "      <th>Value</th>\n",
       "      <th>UOM</th>\n",
       "    </tr>\n",
       "  </thead>\n",
       "  <tbody>\n",
       "    <tr>\n",
       "      <th>0</th>\n",
       "      <td>Sierra Chata</td>\n",
       "      <td>Caudal Instantáneo Area</td>\n",
       "      <td>1/2/2022 15:08:12</td>\n",
       "      <td>2090.753931</td>\n",
       "      <td>Miles Metros Cubicos</td>\n",
       "    </tr>\n",
       "    <tr>\n",
       "      <th>1</th>\n",
       "      <td>Sierra Chata</td>\n",
       "      <td>Caudal Instantáneo Area</td>\n",
       "      <td>1/2/2022 15:08:04</td>\n",
       "      <td>2090.458989</td>\n",
       "      <td>Miles Metros Cubicos</td>\n",
       "    </tr>\n",
       "    <tr>\n",
       "      <th>2</th>\n",
       "      <td>Sierra Chata</td>\n",
       "      <td>Caudal Instantáneo Area</td>\n",
       "      <td>1/2/2022 15:07:59</td>\n",
       "      <td>2088.224236</td>\n",
       "      <td>Miles Metros Cubicos</td>\n",
       "    </tr>\n",
       "    <tr>\n",
       "      <th>3</th>\n",
       "      <td>Sierra Chata</td>\n",
       "      <td>Caudal Instantáneo Area</td>\n",
       "      <td>1/2/2022 15:07:57</td>\n",
       "      <td>2088.178801</td>\n",
       "      <td>Miles Metros Cubicos</td>\n",
       "    </tr>\n",
       "    <tr>\n",
       "      <th>4</th>\n",
       "      <td>Sierra Chata</td>\n",
       "      <td>Caudal Instantáneo Area</td>\n",
       "      <td>1/2/2022 15:07:54</td>\n",
       "      <td>2089.928728</td>\n",
       "      <td>Miles Metros Cubicos</td>\n",
       "    </tr>\n",
       "    <tr>\n",
       "      <th>5</th>\n",
       "      <td>Sierra Chata</td>\n",
       "      <td>Caudal Instantáneo Area</td>\n",
       "      <td>1/2/2022 15:07:49</td>\n",
       "      <td>2098.917636</td>\n",
       "      <td>Miles Metros Cubicos</td>\n",
       "    </tr>\n",
       "    <tr>\n",
       "      <th>6</th>\n",
       "      <td>Sierra Chata</td>\n",
       "      <td>Caudal Instantáneo Area</td>\n",
       "      <td>1/2/2022 15:07:44</td>\n",
       "      <td>2104.139022</td>\n",
       "      <td>Miles Metros Cubicos</td>\n",
       "    </tr>\n",
       "    <tr>\n",
       "      <th>7</th>\n",
       "      <td>Sierra Chata</td>\n",
       "      <td>Caudal Instantáneo Area</td>\n",
       "      <td>1/2/2022 15:07:42</td>\n",
       "      <td>2104.306879</td>\n",
       "      <td>Miles Metros Cubicos</td>\n",
       "    </tr>\n",
       "    <tr>\n",
       "      <th>8</th>\n",
       "      <td>Sierra Chata</td>\n",
       "      <td>Caudal Instantáneo Area</td>\n",
       "      <td>1/2/2022 15:07:34</td>\n",
       "      <td>2098.890522</td>\n",
       "      <td>Miles Metros Cubicos</td>\n",
       "    </tr>\n",
       "    <tr>\n",
       "      <th>9</th>\n",
       "      <td>Sierra Chata</td>\n",
       "      <td>Caudal Instantáneo Area</td>\n",
       "      <td>1/2/2022 15:07:29</td>\n",
       "      <td>2098.855289</td>\n",
       "      <td>Miles Metros Cubicos</td>\n",
       "    </tr>\n",
       "    <tr>\n",
       "      <th>10</th>\n",
       "      <td>Sierra Chata</td>\n",
       "      <td>Caudal Instantáneo Area</td>\n",
       "      <td>1/2/2022 15:07:27</td>\n",
       "      <td>2097.449892</td>\n",
       "      <td>Miles Metros Cubicos</td>\n",
       "    </tr>\n",
       "    <tr>\n",
       "      <th>11</th>\n",
       "      <td>Sierra Chata</td>\n",
       "      <td>Caudal Instantáneo Area</td>\n",
       "      <td>1/2/2022 15:07:24</td>\n",
       "      <td>2098.700829</td>\n",
       "      <td>Miles Metros Cubicos</td>\n",
       "    </tr>\n",
       "    <tr>\n",
       "      <th>12</th>\n",
       "      <td>Sierra Chata</td>\n",
       "      <td>Caudal Instantáneo Area</td>\n",
       "      <td>1/2/2022 15:07:19</td>\n",
       "      <td>2095.989003</td>\n",
       "      <td>Miles Metros Cubicos</td>\n",
       "    </tr>\n",
       "  </tbody>\n",
       "</table>\n",
       "</div>"
      ],
      "text/plain": [
       "           Asset                Attribute          Timestamp        Value  \\\n",
       "0   Sierra Chata  Caudal Instantáneo Area  1/2/2022 15:08:12  2090.753931   \n",
       "1   Sierra Chata  Caudal Instantáneo Area  1/2/2022 15:08:04  2090.458989   \n",
       "2   Sierra Chata  Caudal Instantáneo Area  1/2/2022 15:07:59  2088.224236   \n",
       "3   Sierra Chata  Caudal Instantáneo Area  1/2/2022 15:07:57  2088.178801   \n",
       "4   Sierra Chata  Caudal Instantáneo Area  1/2/2022 15:07:54  2089.928728   \n",
       "5   Sierra Chata  Caudal Instantáneo Area  1/2/2022 15:07:49  2098.917636   \n",
       "6   Sierra Chata  Caudal Instantáneo Area  1/2/2022 15:07:44  2104.139022   \n",
       "7   Sierra Chata  Caudal Instantáneo Area  1/2/2022 15:07:42  2104.306879   \n",
       "8   Sierra Chata  Caudal Instantáneo Area  1/2/2022 15:07:34  2098.890522   \n",
       "9   Sierra Chata  Caudal Instantáneo Area  1/2/2022 15:07:29  2098.855289   \n",
       "10  Sierra Chata  Caudal Instantáneo Area  1/2/2022 15:07:27  2097.449892   \n",
       "11  Sierra Chata  Caudal Instantáneo Area  1/2/2022 15:07:24  2098.700829   \n",
       "12  Sierra Chata  Caudal Instantáneo Area  1/2/2022 15:07:19  2095.989003   \n",
       "\n",
       "                     UOM  \n",
       "0   Miles Metros Cubicos  \n",
       "1   Miles Metros Cubicos  \n",
       "2   Miles Metros Cubicos  \n",
       "3   Miles Metros Cubicos  \n",
       "4   Miles Metros Cubicos  \n",
       "5   Miles Metros Cubicos  \n",
       "6   Miles Metros Cubicos  \n",
       "7   Miles Metros Cubicos  \n",
       "8   Miles Metros Cubicos  \n",
       "9   Miles Metros Cubicos  \n",
       "10  Miles Metros Cubicos  \n",
       "11  Miles Metros Cubicos  \n",
       "12  Miles Metros Cubicos  "
      ]
     },
     "execution_count": 176,
     "metadata": {},
     "output_type": "execute_result"
    }
   ],
   "source": [
    "df = pd.DataFrame(dataset_1, columns=['Asset', 'Attribute', 'Timestamp', 'Value', 'UOM'])\n",
    "df"
   ]
  },
  {
   "cell_type": "markdown",
   "id": "fbf8169a-17d5-4f96-b518-d49e4bd1f6b8",
   "metadata": {},
   "source": [
    "# Otra Forma no tan clara"
   ]
  },
  {
   "cell_type": "code",
   "execution_count": 108,
   "id": "ddfd8257-6603-41a8-b820-c3a355265cd1",
   "metadata": {},
   "outputs": [],
   "source": [
    "# GetValues(AFTimeRange timeRange, int numberOfValues, UOM desiredUOM) \n",
    "# numberOfValues: If 0, then all recorded values within the timeRange will be returned with an interpolated value at the start\n",
    "# and end time, if possible. If less than zero: will return evenly spaced interpolated values across the timeRange, \n",
    "# with a value returned at both end points of the time range. For example, specifying -25 over a 24 hour period will produce \n",
    "# an hourly value.\n",
    "# If the number of values requested is greater than zero, the method will behave like the PlotValues method.\n",
    "values = attr.GetValues(timerange, 0, attr.DisplayUOM)\n",
    "values_lst = list(values)"
   ]
  },
  {
   "cell_type": "code",
   "execution_count": 109,
   "id": "e37b0cc6-9c11-4df7-96bc-f069af8c3a92",
   "metadata": {},
   "outputs": [
    {
     "name": "stdout",
     "output_type": "stream",
     "text": [
      "Sierra Chata Caudal Instantáneo Area Miles Metros Cubicos\n",
      "1/2/2022 14:29:49 2074.6775240898132 Miles Metros Cubicos\n",
      "Sierra Chata Caudal Instantáneo Area Miles Metros Cubicos\n",
      "1/2/2022 14:29:44 2074.6775240898132 Miles Metros Cubicos\n",
      "Sierra Chata Caudal Instantáneo Area Miles Metros Cubicos\n",
      "1/2/2022 14:29:42 2074.6791453988267 Miles Metros Cubicos\n",
      "Sierra Chata Caudal Instantáneo Area Miles Metros Cubicos\n",
      "1/2/2022 14:29:34 2077.2211876511574 Miles Metros Cubicos\n",
      "Sierra Chata Caudal Instantáneo Area Miles Metros Cubicos\n",
      "1/2/2022 14:29:29 2077.8977283798977 Miles Metros Cubicos\n",
      "Sierra Chata Caudal Instantáneo Area Miles Metros Cubicos\n",
      "1/2/2022 14:29:27 2047.7712358088943 Miles Metros Cubicos\n",
      "Sierra Chata Caudal Instantáneo Area Miles Metros Cubicos\n",
      "1/2/2022 14:29:24 2049.5392437041837 Miles Metros Cubicos\n",
      "Sierra Chata Caudal Instantáneo Area Miles Metros Cubicos\n",
      "1/2/2022 14:29:19 2068.866398870945 Miles Metros Cubicos\n",
      "Sierra Chata Caudal Instantáneo Area Miles Metros Cubicos\n",
      "1/2/2022 14:29:14 2102.4010592103004 Miles Metros Cubicos\n",
      "Sierra Chata Caudal Instantáneo Area Miles Metros Cubicos\n",
      "1/2/2022 14:29:12 2102.3198974026946 Miles Metros Cubicos\n",
      "Sierra Chata Caudal Instantáneo Area Miles Metros Cubicos\n",
      "1/2/2022 14:29:04 2096.4456787109375 Miles Metros Cubicos\n",
      "Sierra Chata Caudal Instantáneo Area Miles Metros Cubicos\n",
      "1/2/2022 14:28:59 2096.613631955834 Miles Metros Cubicos\n",
      "Sierra Chata Caudal Instantáneo Area Miles Metros Cubicos\n",
      "1/2/2022 14:28:57 2095.7330864436644 Miles Metros Cubicos\n",
      "Sierra Chata Caudal Instantáneo Area Miles Metros Cubicos\n",
      "1/2/2022 14:28:54 2093.330760704771 Miles Metros Cubicos\n",
      "Sierra Chata Caudal Instantáneo Area Miles Metros Cubicos\n",
      "1/2/2022 14:28:49 2087.8392422952506 Miles Metros Cubicos\n"
     ]
    }
   ],
   "source": [
    "# OJO: los datos aparecen del más reciente al más antiguo:\n",
    "for value in values_lst:\n",
    "    print(value.Attribute.Element, value.Attribute, value.Attribute.DisplayUOM)\n",
    "    att_UOM = value.Attribute.DisplayUOM\n",
    "    print(value.Timestamp, value.Value, att_UOM)"
   ]
  },
  {
   "cell_type": "code",
   "execution_count": null,
   "id": "caad8377-462d-4822-a310-50a8ae7ecaee",
   "metadata": {},
   "outputs": [],
   "source": []
  }
 ],
 "metadata": {
  "kernelspec": {
   "display_name": "Python 3.8 (pycaret_env)",
   "language": "python",
   "name": "pycaret_env"
  },
  "language_info": {
   "codemirror_mode": {
    "name": "ipython",
    "version": 3
   },
   "file_extension": ".py",
   "mimetype": "text/x-python",
   "name": "python",
   "nbconvert_exporter": "python",
   "pygments_lexer": "ipython3",
   "version": "3.8.12"
  }
 },
 "nbformat": 4,
 "nbformat_minor": 5
}
