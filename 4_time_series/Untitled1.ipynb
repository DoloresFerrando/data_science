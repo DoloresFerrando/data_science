{
 "cells": [
  {
   "cell_type": "code",
   "execution_count": 1,
   "id": "0e739abe-7f7f-4df9-bf52-06a7b3c7fcb3",
   "metadata": {},
   "outputs": [],
   "source": [
    "import numpy as np\n",
    "import pandas as pd\n",
    "import matplotlib.pyplot as plt\n",
    "%matplotlib inline"
   ]
  },
  {
   "cell_type": "code",
   "execution_count": 2,
   "id": "9d0782cf-1837-46ec-9414-e86657620ee3",
   "metadata": {},
   "outputs": [],
   "source": [
    "import datetime"
   ]
  },
  {
   "cell_type": "code",
   "execution_count": 3,
   "id": "5d22cfad-9086-47e2-85b3-666ccfcda53e",
   "metadata": {},
   "outputs": [],
   "source": [
    "import re"
   ]
  },
  {
   "cell_type": "code",
   "execution_count": 4,
   "id": "a4bf184f-9640-4ed0-b965-a7e0f28bfe83",
   "metadata": {},
   "outputs": [],
   "source": [
    "import warnings\n",
    "warnings.filterwarnings(\"ignore\", category=Warning)"
   ]
  },
  {
   "cell_type": "code",
   "execution_count": 5,
   "id": "059190e5-a95b-44b7-82b4-a2a5270795e4",
   "metadata": {},
   "outputs": [],
   "source": [
    "# Seteos de Pandas para ver mejor la info. https://pandas.pydata.org/pandas-docs/stable/user_guide/options.html\n",
    "# In max_columns and max_rows ‘None’ value means unlimited.\n",
    "pd.set_option('display.max_rows', 100)\n",
    "# Conviene setear min_rows también porque cuando se superan las max_rows, sólo muestra la cantidad indicada en min_rows.\n",
    "pd.set_option('display.min_rows', 10)\n",
    "pd.set_option('display.max_columns', 500)\n",
    "pd.set_option('display.width', 1000)\n",
    "pd.options.display.max_colwidth = 100\n",
    "pd.options.display.float_format = '{:.1f}'.format"
   ]
  },
  {
   "cell_type": "code",
   "execution_count": 90,
   "id": "5f0a24ec-c21d-40aa-8e57-17a177ecb73c",
   "metadata": {},
   "outputs": [
    {
     "name": "stderr",
     "output_type": "stream",
     "text": [
      "[nltk_data] Downloading package punkt to\n",
      "[nltk_data]     C:\\Users\\COLMO\\AppData\\Roaming\\nltk_data...\n",
      "[nltk_data]   Package punkt is already up-to-date!\n",
      "[nltk_data] Downloading package averaged_perceptron_tagger to\n",
      "[nltk_data]     C:\\Users\\COLMO\\AppData\\Roaming\\nltk_data...\n",
      "[nltk_data]   Package averaged_perceptron_tagger is already up-to-\n",
      "[nltk_data]       date!\n",
      "[nltk_data] Downloading package wordnet to\n",
      "[nltk_data]     C:\\Users\\COLMO\\AppData\\Roaming\\nltk_data...\n",
      "[nltk_data]   Package wordnet is already up-to-date!\n"
     ]
    }
   ],
   "source": [
    "# Natural Languaje whit Python: https://machinelearningmastery.com/clean-text-machine-learning-python/\n",
    "import nltk\n",
    "nltk.download('punkt')\n",
    "nltk.download('averaged_perceptron_tagger')\n",
    "nltk.download('wordnet')\n",
    "\n",
    "# PunktSentenceTokenizer es un segmentador sencillo que básicamente segmenta por puntos. sent_tokenizer(), \n",
    "# es una instancia especial del PunktSenteceTokenizer que ha sido entrenada y que funciona bien para varias lenguas europeas. \n",
    "from nltk.tokenize import sent_tokenize\n",
    "from nltk.tokenize import word_tokenize\n",
    "import string\n",
    "\n",
    "from nltk.corpus import stopwords\n",
    "#nltk.download('stopwords')\n",
    "stop_words = set(stopwords.words('spanish'))"
   ]
  },
  {
   "cell_type": "code",
   "execution_count": 91,
   "id": "34d84b17-f054-4ac7-8dcf-a319e6678b6a",
   "metadata": {},
   "outputs": [
    {
     "name": "stdout",
     "output_type": "stream",
     "text": [
      "['Hoy el Sr. Smith y la Sra.', 'Johanson se encontrarán en St.', 'Fe y Corrientes.']\n"
     ]
    }
   ],
   "source": [
    "# segmentador para una lengua determinada (probar para ver si toma los . al final de una palabra como abreviatura \"Sr.\")\n",
    "#import nltk.data\n",
    "parrafo=\"Hoy el Sr. Smith y la Sra. Johanson se encontrarán en St. Fe y Corrientes.\"\n",
    "segmentador=nltk.data.load('nltk:tokenizers/punkt/spanish.pickle')\n",
    "segmentos=segmentador.tokenize(parrafo)\n",
    "print(segmentos)"
   ]
  },
  {
   "cell_type": "code",
   "execution_count": 105,
   "id": "6e0dcd9c-1deb-4c9c-a314-e6d91858ca6f",
   "metadata": {},
   "outputs": [],
   "source": [
    "#En los ficheros adjuntos podéis encontrar una lista de abreviaciones. \n",
    "#Ahora lo que haremos será cargar el spanish.pickle que hemos entrenado y modificarlo añadiendo la lista de abreviaturas \n",
    "#y acrónimos del fichero. Grabaremos este nuevo segmentador como spanish-mod.pickle. (programa-4-14.py)\n",
    "import nltk.data\n",
    "import codecs\n",
    "import pickle\n",
    "segmentador=nltk.data.load('nltk:tokenizers/punkt/spanish.pickle')\n",
    "archivo_abreviaturas=codecs.open(\"abr-spa.txt\",\"r\", encoding=\"utf-8\")\n",
    "abreviaturas_extra =[]\n",
    "for abreviatura in archivo_abreviaturas.readlines():\n",
    "    abreviatura=abreviatura.rstrip()\n",
    "    abreviaturas_extra.append(abreviatura)\n",
    "segmentador._params.abbrev_types.update(abreviaturas_extra)\n",
    "out = open(\"spanish-mod.pickle\",\"wb\")\n",
    "pickle.dump(segmentador, out)\n",
    "out.close()"
   ]
  },
  {
   "cell_type": "code",
   "execution_count": 107,
   "id": "1739d63a-122f-47a2-b375-856c54e6dc2b",
   "metadata": {},
   "outputs": [
    {
     "name": "stdout",
     "output_type": "stream",
     "text": [
      "['dato migrado - k01 8:30 hs.a 12:00 hs.', 'en mtto preventivo se realiza cambio de aceite y bujias.-']\n"
     ]
    }
   ],
   "source": [
    "parrafo=\"Hoy el Sr. Smith y la Sra. Johanson se encontrarán en St. Fe y Corrientes.\"\n",
    "parrafo='Dato Migrado - K01 8:30 Hs.a 12:00 Hs. En Mtto preventivo se realiza cambio de aceite y bujias.-'\n",
    "segmentador=nltk.data.load('spanish-mod.pickle')\n",
    "#abreviaturas_extra = ['St']\n",
    "#segmentador._params.abbrev_types.update(abreviaturas_extra)\n",
    "segmentos=segmentador.tokenize(parrafo.lower())\n",
    "print(segmentos)"
   ]
  },
  {
   "cell_type": "code",
   "execution_count": null,
   "id": "8cfc0132-caac-4fb9-8366-50f3180d504f",
   "metadata": {},
   "outputs": [],
   "source": [
    "#https://xwiki.recursos.uoc.edu/wiki/matm21564es/view/test/\n",
    "# Si no indicamos nada en el momento de llamar a PlaintextCorpusReader utiliza:\n",
    "#Tokenitzador: word_tokenizer=WordPunctTokenizer(),\n",
    "#Segmentador: sent_tokenizer=nltk.data.LazyLoader('tokenizers/punkt/english.pickle') \n",
    "#Es decir, asume por defecto que la lengua del corpus es el inglés."
   ]
  },
  {
   "cell_type": "code",
   "execution_count": 6,
   "id": "9f002823-2048-4eff-9411-fd9c6d64d35a",
   "metadata": {},
   "outputs": [],
   "source": [
    "path_data = 'C:\\\\Users\\\\COLMO\\\\OneDrive\\\\0-Data Science\\\\data_science\\\\data_pampa'\n",
    "#path_data = 'C:\\\\Users\\\\Usuario\\\\OneDrive\\\\0-Data Science\\\\data_science\\\\data_pampa'\n",
    "#path_data = 'C:\\\\Users\\\\COLMO\\\\data_mining\\\\data_pampa'"
   ]
  },
  {
   "cell_type": "code",
   "execution_count": 28,
   "id": "26c2031d-e1b5-4e44-9e41-e68b21aa0986",
   "metadata": {},
   "outputs": [
    {
     "name": "stdout",
     "output_type": "stream",
     "text": [
      "(22007, 15)\n",
      "equipment_id             int64\n",
      "element                 object\n",
      "timestamp       datetime64[ns]\n",
      "estado                  object\n",
      "comments                object\n",
      "mant_prog              float64\n",
      "mant_no_prog           float64\n",
      "en_reserva             float64\n",
      "en_marcha              float64\n",
      "rpm                    float64\n",
      "press_succ             float64\n",
      "press_desc             float64\n",
      "temp_succ              float64\n",
      "temp_desc              float64\n",
      "caudal                 float64\n",
      "dtype: object\n",
      "equipment_id     0.0\n",
      "element          0.0\n",
      "timestamp        0.0\n",
      "estado          16.9\n",
      "comments         0.0\n",
      "mant_prog       41.7\n",
      "mant_no_prog    41.4\n",
      "en_reserva      41.8\n",
      "en_marcha       41.8\n",
      "rpm             19.7\n",
      "press_succ      19.7\n",
      "press_desc      19.7\n",
      "temp_succ        2.0\n",
      "temp_desc        2.0\n",
      "caudal         100.0\n",
      "dtype: float64\n"
     ]
    },
    {
     "data": {
      "text/html": [
       "<div>\n",
       "<style scoped>\n",
       "    .dataframe tbody tr th:only-of-type {\n",
       "        vertical-align: middle;\n",
       "    }\n",
       "\n",
       "    .dataframe tbody tr th {\n",
       "        vertical-align: top;\n",
       "    }\n",
       "\n",
       "    .dataframe thead th {\n",
       "        text-align: right;\n",
       "    }\n",
       "</style>\n",
       "<table border=\"1\" class=\"dataframe\">\n",
       "  <thead>\n",
       "    <tr style=\"text-align: right;\">\n",
       "      <th></th>\n",
       "      <th>equipment_id</th>\n",
       "      <th>element</th>\n",
       "      <th>timestamp</th>\n",
       "      <th>estado</th>\n",
       "      <th>comments</th>\n",
       "      <th>mant_prog</th>\n",
       "      <th>mant_no_prog</th>\n",
       "      <th>en_reserva</th>\n",
       "      <th>en_marcha</th>\n",
       "      <th>rpm</th>\n",
       "      <th>press_succ</th>\n",
       "      <th>press_desc</th>\n",
       "      <th>temp_succ</th>\n",
       "      <th>temp_desc</th>\n",
       "      <th>caudal</th>\n",
       "    </tr>\n",
       "  </thead>\n",
       "  <tbody>\n",
       "    <tr>\n",
       "      <th>22002</th>\n",
       "      <td>116</td>\n",
       "      <td>K-09</td>\n",
       "      <td>2022-02-18</td>\n",
       "      <td>En Reserva</td>\n",
       "      <td>02:40hs Queda E/R.</td>\n",
       "      <td>0.0</td>\n",
       "      <td>0.0</td>\n",
       "      <td>3.5</td>\n",
       "      <td>20.5</td>\n",
       "      <td>0.0</td>\n",
       "      <td>0.0</td>\n",
       "      <td>0.0</td>\n",
       "      <td>0.0</td>\n",
       "      <td>0.0</td>\n",
       "      <td>NaN</td>\n",
       "    </tr>\n",
       "    <tr>\n",
       "      <th>22003</th>\n",
       "      <td>116</td>\n",
       "      <td>K-09</td>\n",
       "      <td>2022-02-19</td>\n",
       "      <td>En Reserva</td>\n",
       "      <td>Sin Novedades</td>\n",
       "      <td>0.0</td>\n",
       "      <td>0.0</td>\n",
       "      <td>24.0</td>\n",
       "      <td>0.0</td>\n",
       "      <td>0.0</td>\n",
       "      <td>0.0</td>\n",
       "      <td>0.0</td>\n",
       "      <td>0.0</td>\n",
       "      <td>0.0</td>\n",
       "      <td>NaN</td>\n",
       "    </tr>\n",
       "    <tr>\n",
       "      <th>22004</th>\n",
       "      <td>116</td>\n",
       "      <td>K-09</td>\n",
       "      <td>2022-02-20</td>\n",
       "      <td>En Reserva</td>\n",
       "      <td>Sin Novedades</td>\n",
       "      <td>0.0</td>\n",
       "      <td>0.0</td>\n",
       "      <td>24.0</td>\n",
       "      <td>0.0</td>\n",
       "      <td>0.0</td>\n",
       "      <td>0.0</td>\n",
       "      <td>0.0</td>\n",
       "      <td>0.0</td>\n",
       "      <td>0.0</td>\n",
       "      <td>NaN</td>\n",
       "    </tr>\n",
       "    <tr>\n",
       "      <th>22005</th>\n",
       "      <td>116</td>\n",
       "      <td>K-09</td>\n",
       "      <td>2022-02-21</td>\n",
       "      <td>En Funcionamiento</td>\n",
       "      <td>10:45 hs Se deja E/S nuevamente.-</td>\n",
       "      <td>0.0</td>\n",
       "      <td>0.0</td>\n",
       "      <td>5.0</td>\n",
       "      <td>19.0</td>\n",
       "      <td>1055.0</td>\n",
       "      <td>6.4</td>\n",
       "      <td>35.8</td>\n",
       "      <td>15.9</td>\n",
       "      <td>107.9</td>\n",
       "      <td>NaN</td>\n",
       "    </tr>\n",
       "    <tr>\n",
       "      <th>22006</th>\n",
       "      <td>116</td>\n",
       "      <td>K-09</td>\n",
       "      <td>2022-02-22</td>\n",
       "      <td>En Funcionamiento</td>\n",
       "      <td>Sin Novedades</td>\n",
       "      <td>0.0</td>\n",
       "      <td>0.0</td>\n",
       "      <td>0.0</td>\n",
       "      <td>24.0</td>\n",
       "      <td>1055.0</td>\n",
       "      <td>7.0</td>\n",
       "      <td>35.9</td>\n",
       "      <td>18.8</td>\n",
       "      <td>109.7</td>\n",
       "      <td>NaN</td>\n",
       "    </tr>\n",
       "  </tbody>\n",
       "</table>\n",
       "</div>"
      ],
      "text/plain": [
       "       equipment_id element  timestamp             estado                           comments  mant_prog  mant_no_prog  en_reserva  en_marcha    rpm  press_succ  press_desc  temp_succ  temp_desc  caudal\n",
       "22002           116    K-09 2022-02-18         En Reserva                 02:40hs Queda E/R.        0.0           0.0         3.5       20.5    0.0         0.0         0.0        0.0        0.0     NaN\n",
       "22003           116    K-09 2022-02-19         En Reserva                      Sin Novedades        0.0           0.0        24.0        0.0    0.0         0.0         0.0        0.0        0.0     NaN\n",
       "22004           116    K-09 2022-02-20         En Reserva                      Sin Novedades        0.0           0.0        24.0        0.0    0.0         0.0         0.0        0.0        0.0     NaN\n",
       "22005           116    K-09 2022-02-21  En Funcionamiento  10:45 hs Se deja E/S nuevamente.-        0.0           0.0         5.0       19.0 1055.0         6.4        35.8       15.9      107.9     NaN\n",
       "22006           116    K-09 2022-02-22  En Funcionamiento                      Sin Novedades        0.0           0.0         0.0       24.0 1055.0         7.0        35.9       18.8      109.7     NaN"
      ]
     },
     "execution_count": 28,
     "metadata": {},
     "output_type": "execute_result"
    }
   ],
   "source": [
    "file = 'EMA_compresores_diario_ok.csv'\n",
    "df_diario = pd.read_csv(path_data + '\\\\' + file, sep=';', encoding='UTF-8', decimal = '.')\n",
    "df_diario.drop(columns='Unnamed: 0', inplace=True)\n",
    "df_diario.timestamp = pd.to_datetime(df_diario.timestamp, format='%Y-%m-%d') # %H:%M:%S')\n",
    "equipment_id = [25, 26, 27, 108, 109, 110, 111, 115, 116]\n",
    "df_diario = df_diario[df_diario.equipment_id.isin(equipment_id)]\n",
    "df_diario.reset_index(drop=True, inplace=True)\n",
    "print(df_diario.shape)\n",
    "print(df_diario.dtypes)\n",
    "print(100*df_diario.isna().sum()/len(df_diario))\n",
    "df_diario.tail()"
   ]
  },
  {
   "cell_type": "code",
   "execution_count": 31,
   "id": "af9ce0e2-533b-48cd-922c-4019bad58150",
   "metadata": {},
   "outputs": [
    {
     "name": "stdout",
     "output_type": "stream",
     "text": [
      "Registros con datos Horarios (en horas o comentarios no nulos): (14338, 7) ----> NaN se reemplaza x 0.\n",
      "element        0.0\n",
      "timestamp      0.0\n",
      "comments       0.0\n",
      "mant_prog      0.0\n",
      "mant_no_prog   0.0\n",
      "en_reserva     0.0\n",
      "en_marcha      0.0\n",
      "total          0.0\n",
      "dtype: float64\n",
      "Registros con horas total < 24: (1523, 8)\n"
     ]
    }
   ],
   "source": [
    "# HAY 6876 REGISTROS QUE NO TIENEN DATOS DE HORAS Y NO TIENEN COMENTARIOS Hasta el 2019-05-13\n",
    "# --> se podrían eliminar para el estudio o recortar el estudio a partir del 14/5/2019\n",
    "# Los registros que quedan, se reemplaza NaN por 0. Igualmente, pueden no tener horas desagregadas. Pero tienen comentarios.\n",
    "# Se puede intentar hacer algo entre los 2.\n",
    "df_copy = df_diario[['element', 'timestamp', 'comments', 'mant_prog', 'mant_no_prog', 'en_reserva', 'en_marcha']].copy()\n",
    "df_sin_datos = df_copy[(df_copy.mant_prog.isna()) & (df_copy.mant_no_prog.isna()) \n",
    "                & (df_copy.en_reserva.isna()) & (df_copy.en_marcha.isna())\n",
    "                & ((df_copy.comments=='Sin Novedades') | (df_copy.comments=='Dato Migrado -'))]\n",
    "df_copy = df_copy[~df_copy.index.isin(df_sin_datos.index.to_list())]\n",
    "print('Registros con datos Horarios (en horas o comentarios no nulos):', df_copy.shape, '----> NaN se reemplaza x 0.')\n",
    "# Qué pasa si reemplazo los NaN por 0?\n",
    "df_copy.mant_prog.fillna(0, inplace=True)\n",
    "df_copy.mant_no_prog.fillna(0, inplace=True)\n",
    "df_copy.en_reserva.fillna(0, inplace=True)\n",
    "df_copy.en_marcha.fillna(0, inplace=True)\n",
    "df_copy['total'] = df_copy.mant_prog + df_copy.mant_no_prog + df_copy.en_reserva + df_copy.en_marcha\n",
    "# % Nulos --> los registros que quedan tienen NaN\n",
    "print(100*df_copy.isna().sum()/len(df_copy))\n",
    "print('Registros con horas total < 24:', df_copy[df_copy.total<24].shape)"
   ]
  },
  {
   "cell_type": "code",
   "execution_count": 47,
   "id": "15d5fa68-aa76-433d-86ad-97de1aa10564",
   "metadata": {},
   "outputs": [
    {
     "name": "stdout",
     "output_type": "stream",
     "text": [
      "Registros con datos Horarios (en horas o comentarios no nulos): (14338, 8)\n",
      "Registros sólo con Mant Prog: (482, 8)\n",
      "Registros sólo con Mant NO Prog: (1741, 8)\n",
      "Registros sólo con ambos mantenimientos: (106, 8)\n",
      "Registros Analizar Comments: (1420, 8)\n",
      "Subtotal: 3749\n",
      "Registros Sin Mantenimiento: (10589, 8)\n",
      "Total: 14338\n"
     ]
    }
   ],
   "source": [
    "print('Registros con datos Horarios (en horas o comentarios no nulos):', df_copy.shape)\n",
    "df_mp = df_copy[(df_copy.mant_prog>0) & (df_copy.mant_no_prog==0)]\n",
    "print('Registros sólo con Mant Prog:', df_mp.shape)\n",
    "df_mnp = df_copy[(df_copy.mant_prog==0) & (df_copy.mant_no_prog>0)]\n",
    "print('Registros sólo con Mant NO Prog:', df_mnp.shape)\n",
    "df_2 = df_copy[(df_copy.mant_prog>0) & (df_copy.mant_no_prog>0)]\n",
    "print('Registros sólo con ambos mantenimientos:', df_2.shape)\n",
    "df_sin_horas = df_copy[(df_copy.total==0)]\n",
    "print('Registros Analizar Comments:', df_sin_horas.shape)\n",
    "print('Subtotal:', df_mp.shape[0]+df_mnp.shape[0]+df_2.shape[0]+df_sin_horas.shape[0])\n",
    "df_sin_mant = df_copy[(df_copy.mant_prog==0) & (df_copy.mant_no_prog==0) & (df_copy.total>0)]\n",
    "print('Registros Sin Mantenimiento:', df_sin_mant.shape)\n",
    "print('Total:', df_mp.shape[0]+df_mnp.shape[0]+df_2.shape[0]+df_sin_horas.shape[0]+df_sin_mant.shape[0])"
   ]
  },
  {
   "cell_type": "code",
   "execution_count": 48,
   "id": "47d7448c-3ab4-42e9-b275-2bc76cf4dce4",
   "metadata": {},
   "outputs": [],
   "source": [
    "# Los registros con horas únicamente en mant prog xor mant no prog se pueden LABELEAR directamente:\n",
    "df_mp['mp'] = 1\n",
    "df_mp['mnp'] = 0\n",
    "df_mnp['mp'] = 0\n",
    "df_mnp['mnp'] = 1"
   ]
  },
  {
   "cell_type": "code",
   "execution_count": 50,
   "id": "d99692f9-da15-4e22-b330-dff31a328a35",
   "metadata": {},
   "outputs": [
    {
     "data": {
      "text/html": [
       "<div>\n",
       "<style scoped>\n",
       "    .dataframe tbody tr th:only-of-type {\n",
       "        vertical-align: middle;\n",
       "    }\n",
       "\n",
       "    .dataframe tbody tr th {\n",
       "        vertical-align: top;\n",
       "    }\n",
       "\n",
       "    .dataframe thead th {\n",
       "        text-align: right;\n",
       "    }\n",
       "</style>\n",
       "<table border=\"1\" class=\"dataframe\">\n",
       "  <thead>\n",
       "    <tr style=\"text-align: right;\">\n",
       "      <th></th>\n",
       "      <th>element</th>\n",
       "      <th>timestamp</th>\n",
       "      <th>comments</th>\n",
       "      <th>mant_prog</th>\n",
       "      <th>mant_no_prog</th>\n",
       "      <th>en_reserva</th>\n",
       "      <th>en_marcha</th>\n",
       "      <th>total</th>\n",
       "      <th>mp</th>\n",
       "      <th>mnp</th>\n",
       "    </tr>\n",
       "  </thead>\n",
       "  <tbody>\n",
       "    <tr>\n",
       "      <th>0</th>\n",
       "      <td>K-01</td>\n",
       "      <td>2013-09-26</td>\n",
       "      <td>Dato Migrado -</td>\n",
       "      <td>0.2</td>\n",
       "      <td>0.0</td>\n",
       "      <td>0.0</td>\n",
       "      <td>23.8</td>\n",
       "      <td>24.0</td>\n",
       "      <td>1</td>\n",
       "      <td>0</td>\n",
       "    </tr>\n",
       "    <tr>\n",
       "      <th>1</th>\n",
       "      <td>K-01</td>\n",
       "      <td>2013-10-22</td>\n",
       "      <td>Dato Migrado - K01 8:30 Hs.a 12:00 Hs. En Mtto preventivo se realiza cambio de aceite y bujias.-</td>\n",
       "      <td>3.5</td>\n",
       "      <td>0.0</td>\n",
       "      <td>0.0</td>\n",
       "      <td>20.5</td>\n",
       "      <td>24.0</td>\n",
       "      <td>1</td>\n",
       "      <td>0</td>\n",
       "    </tr>\n",
       "    <tr>\n",
       "      <th>2</th>\n",
       "      <td>K-01</td>\n",
       "      <td>2013-11-19</td>\n",
       "      <td>Dato Migrado - De 08:45 a 12:10 Hs Personal de Ing y mant, realiza Dynaprove</td>\n",
       "      <td>3.2</td>\n",
       "      <td>0.0</td>\n",
       "      <td>0.1</td>\n",
       "      <td>20.7</td>\n",
       "      <td>24.0</td>\n",
       "      <td>1</td>\n",
       "      <td>0</td>\n",
       "    </tr>\n",
       "    <tr>\n",
       "      <th>3</th>\n",
       "      <td>K-01</td>\n",
       "      <td>2013-11-26</td>\n",
       "      <td>Dato Migrado - K - 01</td>\n",
       "      <td>24.0</td>\n",
       "      <td>0.0</td>\n",
       "      <td>0.0</td>\n",
       "      <td>0.0</td>\n",
       "      <td>24.0</td>\n",
       "      <td>1</td>\n",
       "      <td>0</td>\n",
       "    </tr>\n",
       "    <tr>\n",
       "      <th>4</th>\n",
       "      <td>K-01</td>\n",
       "      <td>2013-11-27</td>\n",
       "      <td>Dato Migrado - K - 01</td>\n",
       "      <td>24.0</td>\n",
       "      <td>0.0</td>\n",
       "      <td>0.0</td>\n",
       "      <td>0.0</td>\n",
       "      <td>24.0</td>\n",
       "      <td>1</td>\n",
       "      <td>0</td>\n",
       "    </tr>\n",
       "  </tbody>\n",
       "</table>\n",
       "</div>"
      ],
      "text/plain": [
       "  element  timestamp                                                                                          comments  mant_prog  mant_no_prog  en_reserva  en_marcha  total  mp  mnp\n",
       "0    K-01 2013-09-26                                                                                    Dato Migrado -        0.2           0.0         0.0       23.8   24.0   1    0\n",
       "1    K-01 2013-10-22  Dato Migrado - K01 8:30 Hs.a 12:00 Hs. En Mtto preventivo se realiza cambio de aceite y bujias.-        3.5           0.0         0.0       20.5   24.0   1    0\n",
       "2    K-01 2013-11-19                      Dato Migrado - De 08:45 a 12:10 Hs Personal de Ing y mant, realiza Dynaprove        3.2           0.0         0.1       20.7   24.0   1    0\n",
       "3    K-01 2013-11-26                                                                             Dato Migrado - K - 01       24.0           0.0         0.0        0.0   24.0   1    0\n",
       "4    K-01 2013-11-27                                                                             Dato Migrado - K - 01       24.0           0.0         0.0        0.0   24.0   1    0"
      ]
     },
     "execution_count": 50,
     "metadata": {},
     "output_type": "execute_result"
    }
   ],
   "source": [
    "df_labeled = pd.concat([df_mp, df_mnp], ignore_index=True)\n",
    "df_labeled.head()"
   ]
  },
  {
   "attachments": {
    "bec0a0ce-79bc-426f-911d-d933136ebfbf.png": {
     "image/png": "[encoded data removed]"
    }
   },
   "cell_type": "markdown",
   "id": "e66d6abf-e7f7-4e3c-b2bf-a46b7898172a",
   "metadata": {},
   "source": [
    "## Text Pre-Processing\n",
    "* Simple text cleaning processes: Some of the common text cleaning process involves:\n",
    "    * Removing punctuations, special characters, URLs & hashtags\n",
    "    * Removing leading, trailing & extra white spaces/tabs\n",
    "    * Typos, slangs are corrected, abbreviations are written in their long forms\n",
    "* Stop-word removal: We can remove a list of generic stop words from the English vocabulary using nltk. A few such words are ‘i’,’you’,’a’,’the’,’he’,’which’ etc.\n",
    "* Stemming: Refers to the process of slicing the end or the beginning of words with the intention of removing affixes(prefix/suffix)\n",
    "* Lemmatization: It is the process of reducing the word to its base form<br>\n",
    "![image.png](attachment:bec0a0ce-79bc-426f-911d-d933136ebfbf.png)"
   ]
  },
  {
   "cell_type": "code",
   "execution_count": 59,
   "id": "cce6a5b2-6d4d-4c81-8b7a-8f798421ff4d",
   "metadata": {},
   "outputs": [],
   "source": [
    "string.punctuation # '!\"#$%&\\'()*+,-./:;<=>?@[\\\\]^_`{|}~'\n",
    "punct = string.punctuation"
   ]
  },
  {
   "cell_type": "code",
   "execution_count": 63,
   "id": "09083157-93a7-4f04-b7c7-7345d290fa00",
   "metadata": {},
   "outputs": [
    {
     "data": {
      "text/plain": [
       "Int64Index([   1,    2,    3,    4,    6,    7,    8,    9,   10,   11,\n",
       "            ...\n",
       "            2213, 2214, 2215, 2216, 2217, 2218, 2219, 2220, 2221, 2222], dtype='int64', length=2002)"
      ]
     },
     "execution_count": 63,
     "metadata": {},
     "output_type": "execute_result"
    }
   ],
   "source": [
    "df_labeled[df_labeled.comments!='Dato Migrado -'].index"
   ]
  },
  {
   "cell_type": "code",
   "execution_count": 65,
   "id": "dd234895-15c6-4fd2-9d96-ccd0d6166c69",
   "metadata": {},
   "outputs": [],
   "source": [
    "mant_prog = ['mpr', 'programado', 'preventivo']\n",
    "mant_no_prog = ['paro', 'correctivo', 'falla', 'mnp', 'f/s']"
   ]
  },
  {
   "cell_type": "code",
   "execution_count": 75,
   "id": "db0dcef7-8314-45e0-b0ba-d732551b7e9a",
   "metadata": {},
   "outputs": [
    {
     "name": "stdout",
     "output_type": "stream",
     "text": [
      "Dato Migrado - De 08:45 a 12:10 Hs Personal de Ing y mant, realiza Dynaprove\n",
      "dato migrado de a hs personal de ing y mant realiza dynaprove\n",
      "dato migrado hs personal ing mant realiza dynaprove\n"
     ]
    },
    {
     "data": {
      "text/plain": [
       "[('dato', 'NN'),\n",
       " ('migrado', 'NN'),\n",
       " ('hs', 'VBD'),\n",
       " ('personal', 'JJ'),\n",
       " ('ing', 'NN'),\n",
       " ('mant', 'JJ'),\n",
       " ('realiza', 'NN'),\n",
       " ('dynaprove', 'NN')]"
      ]
     },
     "execution_count": 75,
     "metadata": {},
     "output_type": "execute_result"
    }
   ],
   "source": [
    "iloc = 2\n",
    "text = df_labeled.loc[iloc].comments\n",
    "print(text)\n",
    "text = preprocess(text)\n",
    "print(text)\n",
    "text = stopword(text)\n",
    "print(text)\n",
    "word_pos_tags = nltk.pos_tag(word_tokenize(text))\n",
    "word_pos_tags"
   ]
  },
  {
   "cell_type": "code",
   "execution_count": 51,
   "id": "a112bbc3-cdc3-459f-a1e0-a1194257a819",
   "metadata": {},
   "outputs": [],
   "source": [
    "def preprocess(text):\n",
    "    text = text.lower() \n",
    "    text = text.strip()  \n",
    "    text = re.compile('<.*?>').sub('', text) \n",
    "    text = re.compile('[%s]' % re.escape(string.punctuation)).sub(' ', text)  \n",
    "    text = re.sub('\\s+', ' ', text)  \n",
    "    text = re.sub(r'\\[[0-9]*\\]',' ',text) \n",
    "    text=re.sub(r'[^\\w\\s]', '', str(text).lower().strip())\n",
    "    text = re.sub(r'\\d',' ',text) \n",
    "    text = re.sub(r'\\s+',' ',text) \n",
    "    return text"
   ]
  },
  {
   "cell_type": "code",
   "execution_count": 68,
   "id": "f76817a0-8a0b-4a47-a2f0-2231ea9521c2",
   "metadata": {},
   "outputs": [],
   "source": [
    "# STOPWORD REMOVAL\n",
    "def stopword(text):\n",
    "    a = [i for i in text.split() if i not in stopwords.words('spanish')]\n",
    "    return ' '.join(a)"
   ]
  },
  {
   "cell_type": "code",
   "execution_count": 110,
   "id": "4d80f5dc-8118-4868-a495-d88812c86934",
   "metadata": {},
   "outputs": [
    {
     "name": "stdout",
     "output_type": "stream",
     "text": [
      "dato migrado hs personal ing mant realiza dynaprove\n"
     ]
    },
    {
     "data": {
      "text/plain": [
       "'dato migrado hs personal ing mant realiza dynaprov'"
      ]
     },
     "execution_count": 110,
     "metadata": {},
     "output_type": "execute_result"
    }
   ],
   "source": [
    "# Stemming: Refers to the process of slicing the end or the beginning of words with the intention of removing (prefix/suffix)\n",
    "from nltk.stem import SnowballStemmer\n",
    "\n",
    "#from nltk.stem import WordNetLemmatizer\n",
    "## Initialize the lemmatizer\n",
    "#wl = WordNetLemmatizer()\n",
    "\n",
    "#from nltk.corpus import wordnet"
   ]
  },
  {
   "cell_type": "code",
   "execution_count": 116,
   "id": "fc241784-4289-4e9d-8137-c443eb6dce9d",
   "metadata": {},
   "outputs": [
    {
     "name": "stdout",
     "output_type": "stream",
     "text": [
      "Dato Migrado - K01 de 09:00 A 12:00 Hs. En mtto progrmado por cambio de aceite.- se deja en servicio nuevamente.-\n"
     ]
    },
    {
     "data": {
      "text/plain": [
       "'dato migrado - k01 de 09:00 a 12:00 hs. en mtto progrmado por cambio de aceite.- se deja en servicio nuevamente.-'"
      ]
     },
     "execution_count": 116,
     "metadata": {},
     "output_type": "execute_result"
    }
   ],
   "source": [
    "iloc = 6\n",
    "text = df_labeled.loc[iloc].comments\n",
    "spanish_stemmer = SnowballStemmer('spanish')\n",
    "print(text)\n",
    "spanish_stemmer.stem(text)"
   ]
  },
  {
   "cell_type": "code",
   "execution_count": null,
   "id": "9b654723-bc61-4b5b-bb77-90e107d95691",
   "metadata": {},
   "outputs": [],
   "source": [
    "#### NO ENCONTRÉ COMO TAGGEAR EN ESPAÑOL con NLTK --> pruebo Spacy (ver abajo)\n",
    "#LEMMATIZATION: Lemmatization is the process of reducing the word to its base form\n",
    "# This is a helper function to map NTLK position tags\n",
    "# part-of-speech tagging is the second step in the typical NLP pipeline, following tokenization.\n",
    "# \"and\" is CC, a coordinating conjunction; \"now\" and \"completely\" are RB, or adverbs; for is IN, a preposition; \n",
    "# \"something\" is NN, a noun; and \"different\" is JJ, an adjective.\n",
    "# tagging in spanish: https://stackoverflow.com/questions/14732465/nltk-tagging-spanish-words-using-a-corpus\n",
    "# https://colab.research.google.com/github/vitojph/kschool-nlp-18/blob/master/notebooks/nltk-pos.ipynb#scrollTo=lDe8oDmwnSxN\n",
    "# Mejor: https://notebook.community/vitojph/kschool-nlp/notebooks-py3/pos-tagger-es\n",
    "def get_wordnet_pos(tag):\n",
    "    if tag.startswith('J'):\n",
    "        return wordnet.ADJ\n",
    "    elif tag.startswith('V'):\n",
    "        return wordnet.VERB\n",
    "    elif tag.startswith('N'):\n",
    "        return wordnet.NOUN\n",
    "    elif tag.startswith('R'):\n",
    "        return wordnet.ADV\n",
    "    else:\n",
    "        return wordnet.NOUN"
   ]
  },
  {
   "cell_type": "code",
   "execution_count": null,
   "id": "6206956e-b043-4f75-9d60-45e6a05bf523",
   "metadata": {},
   "outputs": [],
   "source": [
    "# Tokenize the sentence\n",
    "def lemmatizer(text):\n",
    "    word_pos_tags = nltk.pos_tag(word_tokenize(text)) # Get position tags\n",
    "    a = [wl.lemmatize(tag[0], get_wordnet_pos(tag[1])) for idx, tag in enumerate(word_pos_tags)] # Map the position tag and lemmatize the word/token\n",
    "    return \" \".join(a)"
   ]
  },
  {
   "cell_type": "code",
   "execution_count": 80,
   "id": "b1b87522-63e7-44ed-85c5-06012fc5cbf3",
   "metadata": {},
   "outputs": [
    {
     "name": "stdout",
     "output_type": "stream",
     "text": [
      "[('EDF', 'np00000'), ('tiene', 'vmip3s0'), ('previsto', 'aq0msp'), ('invertir', 'vmn0000'), ('194', 'Z'), ('millones', 'ncmp000'), ('de', 'sps00'), ('euros', 'Zm'), ('-Fpa-', 'Fpa'), ('186', 'Z'), ('millones', 'ncmp000'), ('de', 'sps00'), ('dólares', 'Zm'), ('-Fpt-', 'Fpt'), ('en', 'sps00'), ('la', 'da0fs0'), ('central', 'ncfs000'), ('de', 'sps00'), ('Río_Bravo', 'np00000'), (',', 'Fc'), ('con', 'sps00'), ('una', 'di0fs0'), ('potencia', 'ncfs000'), ('de', 'sps00'), ('495', 'Z'), ('megavatios', 'ncmp000'), (',', 'Fc'), ('y', 'cc'), ('134', 'Z'), ('millones', 'ncmp000'), ('de', 'sps00'), ('euros', 'Zm'), ('-Fpa-', 'Fpa'), ('28', 'Z'), ('millones', 'ncmp000'), ('de', 'sps00'), ('dólares', 'Zm'), ('-Fpt-', 'Fpt'), ('en', 'sps00'), ('Saltillo', 'np00000'), (',', 'Fc'), ('que', 'pr0cn000'), ('como', 'cs'), ('la', 'da0fs0'), ('primera', 'ao0fs0'), ('funcionará', 'vmif3s0'), ('con', 'sps00'), ('gas', 'ncms000'), ('natural', 'aq0cs0'), ('y', 'cc'), ('cuya', 'pr0fs000'), ('potencia', 'ncfs000'), ('prevista', 'aq0fsp'), ('es', 'vsip3s0'), ('de', 'sps00'), ('247', 'Z'), ('megavatios', 'ncmp000'), ('.', 'Fp')]\n"
     ]
    }
   ],
   "source": [
    "#nltk.download('universal_tagset')\n",
    "#nltk.download('cess_esp')\n",
    "from nltk.corpus import cess_esp\n",
    "\n",
    "# NLTK: CESS_ESP, un treebank anotado a partir de una colección de noticias en español.\n",
    "# TreeBank (denominado también como Corpus parseado o más ampliamente Penn Treebank) es un corpus lingüístico en el que cada frase ha sido parseada, es decir anotada con su estructura sintáctica. La estructura sintáctica se ha representado generalmente como una estructura arbórea que recibe la denominación de TreeBank.\n",
    "cess_esp = cess_esp.tagged_sents()\n",
    "print(cess_esp[5])\n",
    "\n",
    "#cess_esp._tagset = \"es-ancora\"\n",
    "#oraciones = cess_esp.tagged_sents(tagset=\"universal\")\n",
    "#print(oraciones[0])\n",
    "\n"
   ]
  },
  {
   "cell_type": "code",
   "execution_count": 117,
   "id": "28e4c732-5885-4b4e-8e40-b3cb5c51119b",
   "metadata": {},
   "outputs": [],
   "source": [
    "import spacy"
   ]
  },
  {
   "cell_type": "code",
   "execution_count": null,
   "id": "0cb423cc-9fd8-436f-957d-29730a0c3def",
   "metadata": {},
   "outputs": [],
   "source": []
  }
 ],
 "metadata": {
  "kernelspec": {
   "display_name": "Python 3.8 (pycaret_env)",
   "language": "python",
   "name": "pycaret_env"
  },
  "language_info": {
   "codemirror_mode": {
    "name": "ipython",
    "version": 3
   },
   "file_extension": ".py",
   "mimetype": "text/x-python",
   "name": "python",
   "nbconvert_exporter": "python",
   "pygments_lexer": "ipython3",
   "version": "3.8.12"
  }
 },
 "nbformat": 4,
 "nbformat_minor": 5
}
