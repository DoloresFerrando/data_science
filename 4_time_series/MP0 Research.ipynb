{
 "cells": [
  {
   "cell_type": "markdown",
   "id": "0c9c94fd-40fe-4f6c-9601-d2baedd6f638",
   "metadata": {},
   "source": [
    "# Research\n",
    "AVEVA’s solution is built on an **algorithm called OPTiCS that uses Advanced Pattern Recognition and machine learning technology.**<br>\n",
    "### Predictive maintenance Definition\n",
    "is a set of activities that detect changes in the physical condition of equipment (signs of failure) in order to carry out the appropriate maintenance work for maximizing the service life of equipment without increasing the risk of failure.\n",
    "Predictive maintenance can be disaggregated into two specific sub-categories:\n",
    "* _**Statistical-based predictive maintenance**_. The information generated from all stoppages facilitates development of\n",
    "statistical models for predicting failure and thus enables the developing of a preventive maintenance policy.\n",
    "* _**Condition-based predictive maintenance**_. Conditionbased monitoring is related to the examination of wear\n",
    "processes in mechanical components. The wear process is preceded by changes in the machine’s behavior although this does not cause sudden mechanical failure.<br>\n",
    "Predictive maintenance does not rely only on industrial or average lifetime statistics (i.e., mean time to failure (MTTF)) to schedule maintenance activities, but uses direct monitoring of the mechanical condition, system efficiency, and other indicators to determine the actual MTTF or loss of efficiency for each machine, material, product, or system in the plant.\n",
    "\n",
    "Operation planners require the information whether the system will fail in a determined time period. For example, in the next\n",
    "week and the next month, what are the corresponding probabilities of the system failure?"
   ]
  },
  {
   "cell_type": "markdown",
   "id": "5e49d83c-14ca-4525-8f32-e272e6ac344f",
   "metadata": {},
   "source": [
    "in recent studies, the deep learning (DL) methods become one of the most popular trends in data-driven diagnostic and prognostics that allows automatically extracting and constructing the useful information without the expertise knowledge of signal processing."
   ]
  },
  {
   "cell_type": "markdown",
   "id": "96e65404-a41e-4985-8ea0-863cfe663e90",
   "metadata": {},
   "source": [
    "## LSTM\n",
    "Long Short-Term Memory (LSTM) network is an architecture specialized in discovering the underlying time series patterns to predict the system RUL. It's one of Recurrent Neural Network (RNN) architectures. _**Capacity of learning over long time sequences and retaining memory.**_\n",
    "### LSTM Classifier\n",
    "**Problem:** a maintenance planner needs to know the possibility of a system failure in different time windows. These information can be evaluated using the RUL probability distribution (based on the degradation modeling) Not easy! <br>\n",
    "**--> To overcome this situation***, use a data-driven prognostic method that directly provides the probability of the system failure without prior knowledge of the failure mechanism.\n",
    "Most literature is focused on the construction of regression models to predict the RUL value. The result accuracy strictly depends\n",
    "on the prediction horizon and can lead to a wrong decision when using the predicted RUL value at the first stage of the system lifetime.<br>\n",
    "The paper's approach is based on defining the problem as the probability that the system RUL belongs to different **classes**: every class corresponds to every time window."
   ]
  },
  {
   "cell_type": "markdown",
   "id": "6ac426f3-adf3-41d2-8a29-f7521cfda63a",
   "metadata": {},
   "source": [
    "### Data Preparation\n",
    "#### Normalization\n",
    "The input data are obtained from multiple sensor sources with different ranges of values. LSTM requieres normalize every feature value by its **mean and variance.**\n",
    "#### Labeling\n",
    "Se debe marcar la historia de acuerdo a cuánto tiempo falta para la falla. Asumiendo distintas categorías, dependiendo de las ventanas que tiempo que requiera el planner (1, 2 semanas) Queda una tercera categoría que se aplica a los registros que están por fuera de esas ventanas de tiempo.\n"
   ]
  },
  {
   "cell_type": "code",
   "execution_count": null,
   "id": "8926bdb3-5d78-44e1-a6da-661fbb9504ca",
   "metadata": {},
   "outputs": [],
   "source": []
  },
  {
   "cell_type": "code",
   "execution_count": null,
   "id": "6c00f077-0bfd-4632-8211-ad6288434ce7",
   "metadata": {},
   "outputs": [],
   "source": []
  },
  {
   "cell_type": "code",
   "execution_count": null,
   "id": "dca48019-aca2-4822-8496-9fff66cb85b7",
   "metadata": {},
   "outputs": [],
   "source": []
  }
 ],
 "metadata": {
  "kernelspec": {
   "display_name": "Python 3.8 (py38)",
   "language": "python",
   "name": "py38"
  },
  "language_info": {
   "codemirror_mode": {
    "name": "ipython",
    "version": 3
   },
   "file_extension": ".py",
   "mimetype": "text/x-python",
   "name": "python",
   "nbconvert_exporter": "python",
   "pygments_lexer": "ipython3",
   "version": "3.8.12"
  }
 },
 "nbformat": 4,
 "nbformat_minor": 5
}
