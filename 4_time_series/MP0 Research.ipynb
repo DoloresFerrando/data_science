{
 "cells": [
  {
   "cell_type": "markdown",
   "id": "0c9c94fd-40fe-4f6c-9601-d2baedd6f638",
   "metadata": {},
   "source": [
    "# Research\n",
    "AVEVA’s solution is built on an **algorithm called OPTiCS that uses Advanced Pattern Recognition and machine learning technology.**<br>\n",
    "### Predictive maintenance Definition\n",
    "is a set of activities that detect changes in the physical condition of equipment (signs of failure) in order to carry out the appropriate maintenance work for maximizing the service life of equipment without increasing the risk of failure.\n",
    "Predictive maintenance can be disaggregated into two specific sub-categories:\n",
    "* _**Statistical-based predictive maintenance**_. The information generated from all stoppages facilitates development of\n",
    "statistical models for predicting failure and thus enables the developing of a preventive maintenance policy.\n",
    "* _**Condition-based predictive maintenance**_. Conditionbased monitoring is related to the examination of wear\n",
    "processes in mechanical components. The wear process is preceded by changes in the machine’s behavior although this does not cause sudden mechanical failure.<br>\n",
    "Predictive maintenance does not rely only on industrial or average lifetime statistics (i.e., mean time to failure (MTTF)) to schedule maintenance activities, but uses direct monitoring of the mechanical condition, system efficiency, and other indicators to determine the actual MTTF or loss of efficiency for each machine, material, product, or system in the plant. "
   ]
  },
  {
   "cell_type": "markdown",
   "id": "96e65404-a41e-4985-8ea0-863cfe663e90",
   "metadata": {},
   "source": [
    "## LSTM\n",
    "Long Short-Term Memory (LSTM) network is an architecture specialized in discovering the underlying time series patterns to predict the system RUL."
   ]
  },
  {
   "cell_type": "code",
   "execution_count": null,
   "id": "c0986ef7-2a55-4f2f-9f96-6f445fd89088",
   "metadata": {},
   "outputs": [],
   "source": []
  },
  {
   "cell_type": "code",
   "execution_count": null,
   "id": "6b8ae0d9-b258-4701-b685-190aa81983fb",
   "metadata": {},
   "outputs": [],
   "source": []
  },
  {
   "cell_type": "code",
   "execution_count": null,
   "id": "8926bdb3-5d78-44e1-a6da-661fbb9504ca",
   "metadata": {},
   "outputs": [],
   "source": []
  },
  {
   "cell_type": "code",
   "execution_count": null,
   "id": "6c00f077-0bfd-4632-8211-ad6288434ce7",
   "metadata": {},
   "outputs": [],
   "source": []
  },
  {
   "cell_type": "code",
   "execution_count": null,
   "id": "dca48019-aca2-4822-8496-9fff66cb85b7",
   "metadata": {},
   "outputs": [],
   "source": []
  }
 ],
 "metadata": {
  "kernelspec": {
   "display_name": "Python 3.8 (py38)",
   "language": "python",
   "name": "py38"
  },
  "language_info": {
   "codemirror_mode": {
    "name": "ipython",
    "version": 3
   },
   "file_extension": ".py",
   "mimetype": "text/x-python",
   "name": "python",
   "nbconvert_exporter": "python",
   "pygments_lexer": "ipython3",
   "version": "3.8.12"
  }
 },
 "nbformat": 4,
 "nbformat_minor": 5
}
