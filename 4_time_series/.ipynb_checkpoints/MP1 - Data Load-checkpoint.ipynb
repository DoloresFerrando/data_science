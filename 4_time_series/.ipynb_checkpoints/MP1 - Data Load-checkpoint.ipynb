{
 "cells": [
  {
   "cell_type": "markdown",
   "id": "06ca7738-324d-4684-a5ac-7cf838a08c07",
   "metadata": {},
   "source": [
    "# Mantenimiento Predictivo 1 - Load Data From Sources"
   ]
  },
  {
   "cell_type": "markdown",
   "id": "f9e08f4d-6d63-4c61-b8e3-51fd05a3cda1",
   "metadata": {},
   "source": [
    "## (1) PI Load Real Time Data\n",
    "### 0- Preparación del Ambiente\n",
    "Requiere tener instalado: pythonnet\n",
    "http://pythonnet.github.io/\n",
    "\n",
    "Confirmar dónde se encuentran las dlls: OSIsoft.AFSDK.dll en su máquina."
   ]
  },
  {
   "cell_type": "code",
   "execution_count": null,
   "id": "96087bb4-5c89-49ab-8613-bdf7d78a443a",
   "metadata": {},
   "outputs": [],
   "source": [
    "#!pip install pythonnet"
   ]
  },
  {
   "cell_type": "code",
   "execution_count": 1,
   "id": "04d61430-9ce7-479e-81a2-966a56912141",
   "metadata": {},
   "outputs": [],
   "source": [
    "# sys module provides access to some variables used or maintained by the interpreter and to functions that interact \n",
    "# strongly with the interpreter. It is always available. https://docs.python.org/3/library/sys.html\n",
    "# clr es la forma de declarar el package pythonnet (.net para python)\n",
    "import sys\n",
    "import clr"
   ]
  },
  {
   "cell_type": "code",
   "execution_count": 2,
   "id": "0e97fd79-139d-4d24-8983-8b4d3a33aa7f",
   "metadata": {},
   "outputs": [
    {
     "data": {
      "text/plain": [
       "<System.Reflection.RuntimeAssembly object at 0x0000014F1DEFBAF0>"
      ]
     },
     "execution_count": 2,
     "metadata": {},
     "output_type": "execute_result"
    }
   ],
   "source": [
    "sys.path.append(r'C:\\Program Files (x86)\\PIPC\\AF\\PublicAssemblies\\4.0')  \n",
    "clr.AddReference('OSIsoft.AFSDK')"
   ]
  },
  {
   "cell_type": "code",
   "execution_count": 3,
   "id": "219304f1-698a-4b08-acb0-fefd9dc4d170",
   "metadata": {},
   "outputs": [],
   "source": [
    "from OSIsoft.AF import *\n",
    "from OSIsoft.AF.PI import *\n",
    "from OSIsoft.AF.Asset import *\n",
    "from OSIsoft.AF.Data import *\n",
    "from OSIsoft.AF.Time import *\n",
    "from OSIsoft.AF.UnitsOfMeasure import *\n",
    "from OSIsoft.AF.Search import *"
   ]
  },
  {
   "cell_type": "code",
   "execution_count": 4,
   "id": "d8d5691b-6ae4-4ea5-b9c1-508e2a57beae",
   "metadata": {},
   "outputs": [],
   "source": [
    "#initializes a C# list: from System.Collections.Generic import List\n",
    "# Implicit loading is deprecated. Please use clr.AddReference('System.Collections').\n",
    "clr.AddReference('System.Collections')\n",
    "from System.Collections.Generic import List"
   ]
  },
  {
   "cell_type": "code",
   "execution_count": 3,
   "id": "cb59dc55-6bb1-498a-b4aa-3c542e960281",
   "metadata": {},
   "outputs": [],
   "source": [
    "from datetime import datetime, timedelta"
   ]
  },
  {
   "cell_type": "code",
   "execution_count": 27,
   "id": "81ec502f-e673-4a51-b84b-99ec40ad6315",
   "metadata": {},
   "outputs": [],
   "source": [
    "import numpy as np\n",
    "import pandas as pd\n",
    "import warnings\n",
    "warnings.filterwarnings(\"ignore\", category=Warning)"
   ]
  },
  {
   "cell_type": "markdown",
   "id": "f1f388b7-28da-4871-8a93-1446c12f486b",
   "metadata": {},
   "source": [
    "### 1- Acceso a la AF Database"
   ]
  },
  {
   "cell_type": "code",
   "execution_count": 73,
   "id": "a5bd569c-498e-465e-8d9d-b919371d0b7e",
   "metadata": {},
   "outputs": [
    {
     "name": "stdout",
     "output_type": "stream",
     "text": [
      "Tipo de Datos: <class 'OSIsoft.AF.PISystems'>\n",
      "192.168.103.66\n",
      "PARCCVWPIEDA01\n",
      "QARCCVWPIE01\n"
     ]
    }
   ],
   "source": [
    "#https://docs.osisoft.com/bundle/af-sdk/page/html/pisystem-hierarchy.htm\n",
    "afservers = PISystems()\n",
    "print('Tipo de Datos:', type(afservers))\n",
    "iterator = afservers.GetEnumerator()\n",
    "for server in iterator:\n",
    "    print(server.Name)"
   ]
  },
  {
   "cell_type": "code",
   "execution_count": 74,
   "id": "b45f338b-ebb4-4f9e-8873-3fc50ba62ec1",
   "metadata": {},
   "outputs": [
    {
     "name": "stdout",
     "output_type": "stream",
     "text": [
      "PARCCVWPIEDA01 69941c34-7d8c-491f-b5b8-70bb5f66436f Clase: <class 'OSIsoft.AF.PISystem'>\n"
     ]
    }
   ],
   "source": [
    "# Objeto para la base de datos que busco consultar\n",
    "# https://docs.osisoft.com/bundle/af-sdk/page/html/T_OSIsoft_AF_PISystem.htm\n",
    "#afserver = afservers.DefaultPISystem\n",
    "AFServer = afservers['PARCCVWPIEDA01']\n",
    "#AFServer = afservers['QARCCVWPIE01']\n",
    "print(AFServer.Name, AFServer.UniqueID, 'Clase:', type(AFServer))"
   ]
  },
  {
   "cell_type": "code",
   "execution_count": 75,
   "id": "04fac783-0448-49cf-92a7-fb742f0d8546",
   "metadata": {},
   "outputs": [
    {
     "name": "stdout",
     "output_type": "stream",
     "text": [
      "DOF <class 'OSIsoft.AF.PISystem'>\n",
      "Database Name: DOF <class 'OSIsoft.AF.AFDatabase'>\n"
     ]
    }
   ],
   "source": [
    "# Acceso a una base de datos que no sea la default:\n",
    "# afserver.Databases: https://docs.osisoft.com/bundle/af-sdk/page/html/T_OSIsoft_AF_AFDatabases.htm\n",
    "# Databases.Database:\n",
    "DB = AFServer.Databases.DefaultDatabase\n",
    "print(DB.Name, type(AFServer))\n",
    "DB = AFServer.Databases.get_Item(\"DOF\")\n",
    "print ('Database Name: {0}'.format(DB.Name), type(DB))"
   ]
  },
  {
   "cell_type": "markdown",
   "id": "b8d58376-39ed-4cc7-b70f-26d6712f0723",
   "metadata": {},
   "source": [
    "### 2- Consultas - Objetos con assets y sus atributos"
   ]
  },
  {
   "cell_type": "code",
   "execution_count": 76,
   "id": "e4196e0c-e992-4fd7-b25b-7aabb3c53e0d",
   "metadata": {},
   "outputs": [
    {
     "data": {
      "text/plain": [
       "'PAMPA ENERGIA S.A.'"
      ]
     },
     "execution_count": 76,
     "metadata": {},
     "output_type": "execute_result"
    }
   ],
   "source": [
    "# 1° Objeto del arbol:\n",
    "root = DB.Elements.get_Item(0)\n",
    "root.Name"
   ]
  },
  {
   "cell_type": "code",
   "execution_count": 38,
   "id": "37ff4eab-7533-4882-b73b-7e42f2b969e3",
   "metadata": {},
   "outputs": [
    {
     "name": "stdout",
     "output_type": "stream",
     "text": [
      "El Mangrullo\n",
      "Instalaciones\n",
      "PTG EMAN\n",
      "Compresores\n",
      "K-01\n"
     ]
    }
   ],
   "source": [
    "# Busco los objetos que necesito:\n",
    "asset_lst = list(root.Elements)\n",
    "EMA = asset_lst[3]\n",
    "print(EMA.Name)\n",
    "EMA_Inst = list(asset_lst[3].Elements)[0]\n",
    "print(EMA_Inst.Name)\n",
    "EMA_PTG = list(EMA_Inst.Elements)[3]\n",
    "print(EMA_PTG.Name)\n",
    "EMA_PTG_Comp = list(EMA_PTG.Elements)[0]\n",
    "print(EMA_PTG_Comp.Name)\n",
    "EMA_PTG_K_01 = list(EMA_PTG_Comp.Elements)[0]\n",
    "print(EMA_PTG_K_01.Name)\n",
    "#EMA_PTG_K_02 = list(EMA_PTG_Comp.Elements)[1]\n",
    "#EMA_PTG_K_03 = list(EMA_PTG_Comp.Elements)[2]\n",
    "#EMA_PTG_K_04 = list(EMA_PTG_Comp.Elements)[3]\n",
    "#EMA_PTG_K_05 = list(EMA_PTG_Comp.Elements)[4]\n",
    "#EMA_PTG_K_06 = list(EMA_PTG_Comp.Elements)[5]\n",
    "#EMA_PTG_K_07 = list(EMA_PTG_Comp.Elements)[6]\n",
    "#EMA_PTG_K_08 = list(EMA_PTG_Comp.Elements)[7]\n",
    "#EMA_PTG_K_09 = list(EMA_PTG_Comp.Elements)[8]"
   ]
  },
  {
   "cell_type": "code",
   "execution_count": 166,
   "id": "26f0a248-a3c1-4ba8-9033-808425f38058",
   "metadata": {},
   "outputs": [
    {
     "name": "stdout",
     "output_type": "stream",
     "text": [
      "Nivel 1, ejemplo de atributo: Plan Gas. Promedio Acumulado Venta Gas@9300 Participación 31/1/2022 00:00:00 600,00001152 Miles Metros Cubicos - Objeto padre: Sierra Chata\n"
     ]
    }
   ],
   "source": [
    "# Puedo armar otra lista con los atributos de un asset:\n",
    "attr_lst = list(asset_lst[13].Attributes)\n",
    "print('Nivel 1, ejemplo de atributo:', attr_lst[0].Name, attr_lst[0].GetValue().Timestamp, attr_lst[0].GetValue(), \n",
    "      attr_lst[0].DisplayUOM, '- Objeto padre:', attr_lst[0].Element.Name)"
   ]
  },
  {
   "cell_type": "code",
   "execution_count": 44,
   "id": "5169a5eb-cd1c-4981-8147-5f2912483d17",
   "metadata": {},
   "outputs": [
    {
     "name": "stdout",
     "output_type": "stream",
     "text": [
      "Attribute: Carga Motriz Compresor 21/2/2022 16:26:31 91,748046875 ampere\n"
     ]
    }
   ],
   "source": [
    "# Busco el atributo:\n",
    "attr = EMA_PTG_K_01.Attributes.GetItem('Carga Motriz Compresor', True, True, True)\n",
    "print('Attribute:', attr, attr.GetValue().Timestamp, attr.GetValue(), attr.get_DefaultUOM())"
   ]
  },
  {
   "cell_type": "code",
   "execution_count": 77,
   "id": "dc384418-ecfd-447a-9028-dfecc71bd517",
   "metadata": {},
   "outputs": [],
   "source": [
    "# Listado de Atributos\n",
    "attr_lst = ['Carga Motriz Compresor', 'Presion Descarga Cil. 1y3 Compresor', 'Presion Descarga Cil. 2y4 Compresor',\n",
    "           'Presion Succion Compresor', 'RPMs Instantanea']"
   ]
  },
  {
   "cell_type": "markdown",
   "id": "a4c92b0e-bab8-45fd-a865-e158a2b2d98e",
   "metadata": {},
   "source": [
    "### 3- Consultas - Definición de Rango de Tiempo de la consulta"
   ]
  },
  {
   "cell_type": "code",
   "execution_count": 78,
   "id": "53d9855c-2909-46ca-9688-66399eb11db9",
   "metadata": {},
   "outputs": [
    {
     "name": "stdout",
     "output_type": "stream",
     "text": [
      "TimeSpan  5m\n"
     ]
    }
   ],
   "source": [
    "################ INTERPOLATED VALUES ###########################\n",
    "# Definir el intervalo de consulta:\n",
    "\n",
    "# A AFTimeSpan represents a time interval (duration of time or elapsed time) that is measured as a positive or negative \n",
    "# number of years, months, days, hours, minutes, seconds, milliseconds, and fractions of a millisecond. \n",
    "# Create AFTimeSpan using constructor\n",
    "\n",
    "now = AFTime.Now\n",
    "span = AFTimeSpan.Parse('5m')\n",
    "print(\"TimeSpan \", span)"
   ]
  },
  {
   "cell_type": "code",
   "execution_count": 79,
   "id": "f3acee49-a06d-4837-95dc-20a3b1bcdc95",
   "metadata": {},
   "outputs": [
    {
     "name": "stdout",
     "output_type": "stream",
     "text": [
      "23/2/2022 12:55:43 1/9/2021 00:00:00 -174d\n"
     ]
    }
   ],
   "source": [
    "# Defino un rango de tiempo para consultas de datos históricos\n",
    "#### Tiempo Relativo:\n",
    "timerange_start = AFTime('*')\n",
    "#timerange_span = AFTimeSpan.Parse('-174d') # 1h, 1d, para restar tiempo: -1m, -1h, etc\n",
    "#timerange_end = AFTime.op_Addition(timerange_start, timerange_span)\n",
    "timerange_end = AFTime('2021-09-01 00:00:00')\n",
    "timerange = AFTimeRange(timerange_start, timerange_end)\n",
    "print(timerange_start, timerange_end, timerange_span)"
   ]
  },
  {
   "cell_type": "code",
   "execution_count": 80,
   "id": "2a497473-3e8f-4f8b-9e8f-2e66993e56c0",
   "metadata": {},
   "outputs": [
    {
     "data": {
      "text/html": [
       "<div>\n",
       "<style scoped>\n",
       "    .dataframe tbody tr th:only-of-type {\n",
       "        vertical-align: middle;\n",
       "    }\n",
       "\n",
       "    .dataframe tbody tr th {\n",
       "        vertical-align: top;\n",
       "    }\n",
       "\n",
       "    .dataframe thead th {\n",
       "        text-align: right;\n",
       "    }\n",
       "</style>\n",
       "<table border=\"1\" class=\"dataframe\">\n",
       "  <thead>\n",
       "    <tr style=\"text-align: right;\">\n",
       "      <th></th>\n",
       "      <th>asset</th>\n",
       "      <th>attribute</th>\n",
       "      <th>timestamp</th>\n",
       "      <th>value</th>\n",
       "      <th>UOM</th>\n",
       "    </tr>\n",
       "  </thead>\n",
       "  <tbody>\n",
       "    <tr>\n",
       "      <th>0</th>\n",
       "      <td>K-01</td>\n",
       "      <td>Carga Motriz Compresor</td>\n",
       "      <td>23/2/2022 12:55:00</td>\n",
       "      <td>96.09375</td>\n",
       "      <td>ampere</td>\n",
       "    </tr>\n",
       "    <tr>\n",
       "      <th>1</th>\n",
       "      <td>K-01</td>\n",
       "      <td>Carga Motriz Compresor</td>\n",
       "      <td>23/2/2022 12:50:00</td>\n",
       "      <td>96.09375</td>\n",
       "      <td>ampere</td>\n",
       "    </tr>\n",
       "    <tr>\n",
       "      <th>2</th>\n",
       "      <td>K-01</td>\n",
       "      <td>Carga Motriz Compresor</td>\n",
       "      <td>23/2/2022 12:45:00</td>\n",
       "      <td>95.849609</td>\n",
       "      <td>ampere</td>\n",
       "    </tr>\n",
       "    <tr>\n",
       "      <th>3</th>\n",
       "      <td>K-01</td>\n",
       "      <td>Carga Motriz Compresor</td>\n",
       "      <td>23/2/2022 12:40:00</td>\n",
       "      <td>95.996094</td>\n",
       "      <td>ampere</td>\n",
       "    </tr>\n",
       "    <tr>\n",
       "      <th>4</th>\n",
       "      <td>K-01</td>\n",
       "      <td>Carga Motriz Compresor</td>\n",
       "      <td>23/2/2022 12:35:00</td>\n",
       "      <td>95.996094</td>\n",
       "      <td>ampere</td>\n",
       "    </tr>\n",
       "    <tr>\n",
       "      <th>...</th>\n",
       "      <td>...</td>\n",
       "      <td>...</td>\n",
       "      <td>...</td>\n",
       "      <td>...</td>\n",
       "      <td>...</td>\n",
       "    </tr>\n",
       "    <tr>\n",
       "      <th>2275015</th>\n",
       "      <td>K-09</td>\n",
       "      <td>RPMs Instantanea</td>\n",
       "      <td>1/9/2021 00:20:00</td>\n",
       "      <td>1159.565674</td>\n",
       "      <td>revolution per minute</td>\n",
       "    </tr>\n",
       "    <tr>\n",
       "      <th>2275016</th>\n",
       "      <td>K-09</td>\n",
       "      <td>RPMs Instantanea</td>\n",
       "      <td>1/9/2021 00:15:00</td>\n",
       "      <td>1160.199097</td>\n",
       "      <td>revolution per minute</td>\n",
       "    </tr>\n",
       "    <tr>\n",
       "      <th>2275017</th>\n",
       "      <td>K-09</td>\n",
       "      <td>RPMs Instantanea</td>\n",
       "      <td>1/9/2021 00:10:00</td>\n",
       "      <td>1158.687866</td>\n",
       "      <td>revolution per minute</td>\n",
       "    </tr>\n",
       "    <tr>\n",
       "      <th>2275018</th>\n",
       "      <td>K-09</td>\n",
       "      <td>RPMs Instantanea</td>\n",
       "      <td>1/9/2021 00:05:00</td>\n",
       "      <td>1160.011353</td>\n",
       "      <td>revolution per minute</td>\n",
       "    </tr>\n",
       "    <tr>\n",
       "      <th>2275019</th>\n",
       "      <td>K-09</td>\n",
       "      <td>RPMs Instantanea</td>\n",
       "      <td>1/9/2021 00:00:00</td>\n",
       "      <td>1160.155518</td>\n",
       "      <td>revolution per minute</td>\n",
       "    </tr>\n",
       "  </tbody>\n",
       "</table>\n",
       "<p>2275020 rows × 5 columns</p>\n",
       "</div>"
      ],
      "text/plain": [
       "        asset               attribute           timestamp        value  \\\n",
       "0        K-01  Carga Motriz Compresor  23/2/2022 12:55:00     96.09375   \n",
       "1        K-01  Carga Motriz Compresor  23/2/2022 12:50:00     96.09375   \n",
       "2        K-01  Carga Motriz Compresor  23/2/2022 12:45:00    95.849609   \n",
       "3        K-01  Carga Motriz Compresor  23/2/2022 12:40:00    95.996094   \n",
       "4        K-01  Carga Motriz Compresor  23/2/2022 12:35:00    95.996094   \n",
       "...       ...                     ...                 ...          ...   \n",
       "2275015  K-09        RPMs Instantanea   1/9/2021 00:20:00  1159.565674   \n",
       "2275016  K-09        RPMs Instantanea   1/9/2021 00:15:00  1160.199097   \n",
       "2275017  K-09        RPMs Instantanea   1/9/2021 00:10:00  1158.687866   \n",
       "2275018  K-09        RPMs Instantanea   1/9/2021 00:05:00  1160.011353   \n",
       "2275019  K-09        RPMs Instantanea   1/9/2021 00:00:00  1160.155518   \n",
       "\n",
       "                           UOM  \n",
       "0                       ampere  \n",
       "1                       ampere  \n",
       "2                       ampere  \n",
       "3                       ampere  \n",
       "4                       ampere  \n",
       "...                        ...  \n",
       "2275015  revolution per minute  \n",
       "2275016  revolution per minute  \n",
       "2275017  revolution per minute  \n",
       "2275018  revolution per minute  \n",
       "2275019  revolution per minute  \n",
       "\n",
       "[2275020 rows x 5 columns]"
      ]
     },
     "execution_count": 80,
     "metadata": {},
     "output_type": "execute_result"
    }
   ],
   "source": [
    "#df_hist = pd.DataFrame(columns=['Asset', 'Attribute', 'Timestamp', 'Value', 'UOM'])\n",
    "df_row = list()\n",
    "pdlist = [] # en esta lista quedan todos los df para luego concatenarlos\n",
    "\n",
    "for element in list(EMA_PTG_Comp.Elements):\n",
    "    for attr in attr_lst:\n",
    "        attr_obj = element.Attributes.GetItem(attr, True, True, True)\n",
    "        values_lst = attr_obj.Data.InterpolatedValues(timerange, span, attr_obj.DisplayUOM, \"\", False)\n",
    "        for val in values_lst:\n",
    "            if True:\n",
    "                #if val.IsGood:\n",
    "                df_row.append([val.Attribute.Element.Name, val.Attribute.Name, val.Timestamp, val.Value, \n",
    "                                  val.Attribute.DisplayUOM])\n",
    "df_hist = pd.DataFrame(df_row, columns=['element', 'attribute', 'timestamp', 'value', 'uom'])\n",
    "df_hist.head()"
   ]
  },
  {
   "cell_type": "code",
   "execution_count": 94,
   "id": "920bb553-b97e-4793-83bb-173b1b50f93e",
   "metadata": {},
   "outputs": [],
   "source": [
    "df_hist.rename(columns={'asset': 'element', 'UOM': 'uom'}, inplace=True)"
   ]
  },
  {
   "cell_type": "code",
   "execution_count": 89,
   "id": "cf799492-9098-4f81-ad0f-97e67fad2158",
   "metadata": {},
   "outputs": [
    {
     "name": "stdout",
     "output_type": "stream",
     "text": [
      "(2275020, 5)\n",
      "element              object\n",
      "attribute            object\n",
      "timestamp    datetime64[ns]\n",
      "value                object\n",
      "UOM                  object\n",
      "dtype: object\n"
     ]
    },
    {
     "data": {
      "text/html": [
       "<div>\n",
       "<style scoped>\n",
       "    .dataframe tbody tr th:only-of-type {\n",
       "        vertical-align: middle;\n",
       "    }\n",
       "\n",
       "    .dataframe tbody tr th {\n",
       "        vertical-align: top;\n",
       "    }\n",
       "\n",
       "    .dataframe thead th {\n",
       "        text-align: right;\n",
       "    }\n",
       "</style>\n",
       "<table border=\"1\" class=\"dataframe\">\n",
       "  <thead>\n",
       "    <tr style=\"text-align: right;\">\n",
       "      <th></th>\n",
       "      <th>element</th>\n",
       "      <th>attribute</th>\n",
       "      <th>timestamp</th>\n",
       "      <th>value</th>\n",
       "      <th>UOM</th>\n",
       "    </tr>\n",
       "  </thead>\n",
       "  <tbody>\n",
       "    <tr>\n",
       "      <th>2275015</th>\n",
       "      <td>K-09</td>\n",
       "      <td>RPMs Instantanea</td>\n",
       "      <td>2021-09-01 00:20:00</td>\n",
       "      <td>1159.565674</td>\n",
       "      <td>revolution per minute</td>\n",
       "    </tr>\n",
       "    <tr>\n",
       "      <th>2275016</th>\n",
       "      <td>K-09</td>\n",
       "      <td>RPMs Instantanea</td>\n",
       "      <td>2021-09-01 00:15:00</td>\n",
       "      <td>1160.199097</td>\n",
       "      <td>revolution per minute</td>\n",
       "    </tr>\n",
       "    <tr>\n",
       "      <th>2275017</th>\n",
       "      <td>K-09</td>\n",
       "      <td>RPMs Instantanea</td>\n",
       "      <td>2021-09-01 00:10:00</td>\n",
       "      <td>1158.687866</td>\n",
       "      <td>revolution per minute</td>\n",
       "    </tr>\n",
       "    <tr>\n",
       "      <th>2275018</th>\n",
       "      <td>K-09</td>\n",
       "      <td>RPMs Instantanea</td>\n",
       "      <td>2021-09-01 00:05:00</td>\n",
       "      <td>1160.011353</td>\n",
       "      <td>revolution per minute</td>\n",
       "    </tr>\n",
       "    <tr>\n",
       "      <th>2275019</th>\n",
       "      <td>K-09</td>\n",
       "      <td>RPMs Instantanea</td>\n",
       "      <td>2021-09-01 00:00:00</td>\n",
       "      <td>1160.155518</td>\n",
       "      <td>revolution per minute</td>\n",
       "    </tr>\n",
       "  </tbody>\n",
       "</table>\n",
       "</div>"
      ],
      "text/plain": [
       "        element         attribute           timestamp        value  \\\n",
       "2275015    K-09  RPMs Instantanea 2021-09-01 00:20:00  1159.565674   \n",
       "2275016    K-09  RPMs Instantanea 2021-09-01 00:15:00  1160.199097   \n",
       "2275017    K-09  RPMs Instantanea 2021-09-01 00:10:00  1158.687866   \n",
       "2275018    K-09  RPMs Instantanea 2021-09-01 00:05:00  1160.011353   \n",
       "2275019    K-09  RPMs Instantanea 2021-09-01 00:00:00  1160.155518   \n",
       "\n",
       "                           UOM  \n",
       "2275015  revolution per minute  \n",
       "2275016  revolution per minute  \n",
       "2275017  revolution per minute  \n",
       "2275018  revolution per minute  \n",
       "2275019  revolution per minute  "
      ]
     },
     "execution_count": 89,
     "metadata": {},
     "output_type": "execute_result"
    }
   ],
   "source": [
    "df_hist.timestamp = df_hist.timestamp.astype(str)\n",
    "df_hist.timestamp = df_hist.timestamp.apply(lambda x: x.split(' ')[0].split('/')[2] + '-' + \n",
    "                                                      x.split(' ')[0].split('/')[1].zfill(2) + '-' +\n",
    "                                                      x.split(' ')[0].split('/')[0].zfill(2) + ' ' + x.split(' ')[1])\n",
    "df_hist.timestamp = pd.to_datetime(df_hist.timestamp, format='%Y-%m-%d %H:%M:%S')\n",
    "print(df_hist.shape)\n",
    "print(df_hist.dtypes)\n",
    "df_hist.tail()"
   ]
  },
  {
   "cell_type": "code",
   "execution_count": 92,
   "id": "87a8c633-7a1a-4226-bc1b-aa0f686b1a4b",
   "metadata": {},
   "outputs": [
    {
     "data": {
      "text/html": [
       "<div>\n",
       "<style scoped>\n",
       "    .dataframe tbody tr th:only-of-type {\n",
       "        vertical-align: middle;\n",
       "    }\n",
       "\n",
       "    .dataframe tbody tr th {\n",
       "        vertical-align: top;\n",
       "    }\n",
       "\n",
       "    .dataframe thead th {\n",
       "        text-align: right;\n",
       "    }\n",
       "</style>\n",
       "<table border=\"1\" class=\"dataframe\">\n",
       "  <thead>\n",
       "    <tr style=\"text-align: right;\">\n",
       "      <th></th>\n",
       "      <th>element</th>\n",
       "      <th>attribute</th>\n",
       "      <th>timestamp</th>\n",
       "      <th>value</th>\n",
       "      <th>UOM</th>\n",
       "    </tr>\n",
       "  </thead>\n",
       "  <tbody>\n",
       "    <tr>\n",
       "      <th>0</th>\n",
       "      <td>K-01</td>\n",
       "      <td>Carga Motriz Compresor</td>\n",
       "      <td>2022-02-23 12:55:00</td>\n",
       "      <td>96.09375</td>\n",
       "      <td>ampere</td>\n",
       "    </tr>\n",
       "    <tr>\n",
       "      <th>50556</th>\n",
       "      <td>K-01</td>\n",
       "      <td>Presion Descarga Cil. 1y3 Compresor</td>\n",
       "      <td>2022-02-23 12:55:00</td>\n",
       "      <td>88.208076</td>\n",
       "      <td>kilogram-force per square centimeter</td>\n",
       "    </tr>\n",
       "    <tr>\n",
       "      <th>101112</th>\n",
       "      <td>K-01</td>\n",
       "      <td>Presion Descarga Cil. 2y4 Compresor</td>\n",
       "      <td>2022-02-23 12:55:00</td>\n",
       "      <td>89.334175</td>\n",
       "      <td>kilogram-force per square centimeter</td>\n",
       "    </tr>\n",
       "    <tr>\n",
       "      <th>151668</th>\n",
       "      <td>K-01</td>\n",
       "      <td>Presion Succion Compresor</td>\n",
       "      <td>2022-02-23 12:55:00</td>\n",
       "      <td>35.969379</td>\n",
       "      <td>kilogram-force per square centimeter</td>\n",
       "    </tr>\n",
       "    <tr>\n",
       "      <th>202224</th>\n",
       "      <td>K-01</td>\n",
       "      <td>RPMs Instantanea</td>\n",
       "      <td>2022-02-23 12:55:00</td>\n",
       "      <td>1172.734009</td>\n",
       "      <td>revolution per minute</td>\n",
       "    </tr>\n",
       "  </tbody>\n",
       "</table>\n",
       "</div>"
      ],
      "text/plain": [
       "       element                            attribute           timestamp  \\\n",
       "0         K-01               Carga Motriz Compresor 2022-02-23 12:55:00   \n",
       "50556     K-01  Presion Descarga Cil. 1y3 Compresor 2022-02-23 12:55:00   \n",
       "101112    K-01  Presion Descarga Cil. 2y4 Compresor 2022-02-23 12:55:00   \n",
       "151668    K-01            Presion Succion Compresor 2022-02-23 12:55:00   \n",
       "202224    K-01                     RPMs Instantanea 2022-02-23 12:55:00   \n",
       "\n",
       "              value                                   UOM  \n",
       "0          96.09375                                ampere  \n",
       "50556     88.208076  kilogram-force per square centimeter  \n",
       "101112    89.334175  kilogram-force per square centimeter  \n",
       "151668    35.969379  kilogram-force per square centimeter  \n",
       "202224  1172.734009                 revolution per minute  "
      ]
     },
     "execution_count": 92,
     "metadata": {},
     "output_type": "execute_result"
    }
   ],
   "source": [
    "# press_suc 'Presion Succion Compresor' press_1 'Presion Descarga Cil. 1y3 Compresor' \n",
    "# rpm 'RPMs Instantanea\t' carga_motriz 'Carga Motriz Compresor' press_2 'Presion Descarga Cil. 2y4 Compresor'\n",
    "attr_lst = ['Presion Succion Compresor', 'Presion Descarga Cil. 1y3 Compresor', 'RPMs Instantanea', 'Carga Motriz Compresor', \n",
    "            'Presion Descarga Cil. 2y4 Compresor']\n",
    "feat_lst = ['press_suc', 'press_1', 'rpm', 'carga_matriz', 'press_2']\n",
    "df_hist.drop_duplicates(subset=['attribute'])"
   ]
  },
  {
   "cell_type": "code",
   "execution_count": 131,
   "id": "8454038f-6135-4c93-995a-dae7df8bd0cb",
   "metadata": {},
   "outputs": [
    {
     "data": {
      "text/html": [
       "<div>\n",
       "<style scoped>\n",
       "    .dataframe tbody tr th:only-of-type {\n",
       "        vertical-align: middle;\n",
       "    }\n",
       "\n",
       "    .dataframe tbody tr th {\n",
       "        vertical-align: top;\n",
       "    }\n",
       "\n",
       "    .dataframe thead th {\n",
       "        text-align: right;\n",
       "    }\n",
       "</style>\n",
       "<table border=\"1\" class=\"dataframe\">\n",
       "  <thead>\n",
       "    <tr style=\"text-align: right;\">\n",
       "      <th></th>\n",
       "      <th>element</th>\n",
       "      <th>timestamp</th>\n",
       "      <th>press_suc</th>\n",
       "      <th>press_1</th>\n",
       "      <th>rpm</th>\n",
       "      <th>carga_matriz</th>\n",
       "      <th>press_2</th>\n",
       "    </tr>\n",
       "  </thead>\n",
       "  <tbody>\n",
       "    <tr>\n",
       "      <th>454999</th>\n",
       "      <td>K-09</td>\n",
       "      <td>2021-09-01 00:20:00</td>\n",
       "      <td>6.668857</td>\n",
       "      <td>17.618895</td>\n",
       "      <td>1159.565674</td>\n",
       "      <td>89.257812</td>\n",
       "      <td>35.136398</td>\n",
       "    </tr>\n",
       "    <tr>\n",
       "      <th>455000</th>\n",
       "      <td>K-09</td>\n",
       "      <td>2021-09-01 00:15:00</td>\n",
       "      <td>6.668857</td>\n",
       "      <td>17.618895</td>\n",
       "      <td>1160.199097</td>\n",
       "      <td>89.84375</td>\n",
       "      <td>35.136398</td>\n",
       "    </tr>\n",
       "    <tr>\n",
       "      <th>455001</th>\n",
       "      <td>K-09</td>\n",
       "      <td>2021-09-01 00:10:00</td>\n",
       "      <td>6.668857</td>\n",
       "      <td>17.831966</td>\n",
       "      <td>1158.687866</td>\n",
       "      <td>89.84375</td>\n",
       "      <td>35.136398</td>\n",
       "    </tr>\n",
       "    <tr>\n",
       "      <th>455002</th>\n",
       "      <td>K-09</td>\n",
       "      <td>2021-09-01 00:05:00</td>\n",
       "      <td>6.668857</td>\n",
       "      <td>17.831966</td>\n",
       "      <td>1160.011353</td>\n",
       "      <td>89.84375</td>\n",
       "      <td>34.934364</td>\n",
       "    </tr>\n",
       "    <tr>\n",
       "      <th>455003</th>\n",
       "      <td>K-09</td>\n",
       "      <td>2021-09-01 00:00:00</td>\n",
       "      <td>6.668857</td>\n",
       "      <td>17.831966</td>\n",
       "      <td>1160.155518</td>\n",
       "      <td>89.501953</td>\n",
       "      <td>35.158478</td>\n",
       "    </tr>\n",
       "  </tbody>\n",
       "</table>\n",
       "</div>"
      ],
      "text/plain": [
       "       element           timestamp press_suc    press_1          rpm  \\\n",
       "454999    K-09 2021-09-01 00:20:00  6.668857  17.618895  1159.565674   \n",
       "455000    K-09 2021-09-01 00:15:00  6.668857  17.618895  1160.199097   \n",
       "455001    K-09 2021-09-01 00:10:00  6.668857  17.831966  1158.687866   \n",
       "455002    K-09 2021-09-01 00:05:00  6.668857  17.831966  1160.011353   \n",
       "455003    K-09 2021-09-01 00:00:00  6.668857  17.831966  1160.155518   \n",
       "\n",
       "       carga_matriz    press_2  \n",
       "454999    89.257812  35.136398  \n",
       "455000     89.84375  35.136398  \n",
       "455001     89.84375  35.136398  \n",
       "455002     89.84375  34.934364  \n",
       "455003    89.501953  35.158478  "
      ]
     },
     "execution_count": 131,
     "metadata": {},
     "output_type": "execute_result"
    }
   ],
   "source": [
    "df_aux_1 = df_hist[df_hist.attribute==attr_lst[0]]\n",
    "df_aux_1.rename(columns={'value': feat_lst[0]}, inplace=True)\n",
    "df_aux_1.drop(columns=['attribute', 'uom'], inplace=True)\n",
    "for i in range(1, len(attr_lst)):\n",
    "    df_aux_2 = df_hist[df_hist.attribute==attr_lst[i]]\n",
    "    df_aux_2.rename(columns={'value': feat_lst[i]}, inplace=True)\n",
    "    df_aux_2.drop(columns=['attribute', 'uom'], inplace=True)\n",
    "    df_aux_1 = pd.merge(df_aux_1, df_aux_2,  how='left', left_on=['element', 'timestamp'], right_on = ['element', 'timestamp'])\n",
    "df_aux_1.reset_index(drop=True, inplace=True)\n",
    "df_aux_1.tail()"
   ]
  },
  {
   "cell_type": "code",
   "execution_count": 135,
   "id": "50f367b6-df4b-4e66-a588-7e364e63bea4",
   "metadata": {},
   "outputs": [
    {
     "data": {
      "text/plain": [
       "0          35.96937942504883\n",
       "1          35.70281219482422\n",
       "9                         -1\n",
       "10         35.83472442626953\n",
       "31        35.385414123535156\n",
       "                 ...        \n",
       "454146      7.41523551940918\n",
       "454147     7.626288414001465\n",
       "454149     6.900794982910156\n",
       "454495    6.9282755851745605\n",
       "454677     6.542445182800293\n",
       "Name: press_suc, Length: 17964, dtype: object"
      ]
     },
     "execution_count": 135,
     "metadata": {},
     "output_type": "execute_result"
    }
   ],
   "source": [
    "# La única forma de seleccionar 'Bad' es tratando la columna como astype(str) OJO:\n",
    "#df_aux_1[df_aux_1.rpm=='Bad'] NO FUNCIONA\n",
    "df_aux_1.press_suc.astype(str).replace('Bad', '-1').drop_duplicates()"
   ]
  },
  {
   "cell_type": "code",
   "execution_count": 120,
   "id": "a10c7eaf-bcf9-46cc-9614-6f13ee9ca989",
   "metadata": {},
   "outputs": [
    {
     "data": {
      "text/plain": [
       "element                 object\n",
       "timestamp       datetime64[ns]\n",
       "press_suc               object\n",
       "press_1                 object\n",
       "rpm                     object\n",
       "carga_matriz            object\n",
       "press_2                 object\n",
       "dtype: object"
      ]
     },
     "execution_count": 120,
     "metadata": {},
     "output_type": "execute_result"
    }
   ],
   "source": [
    "df_aux_1.dtypes"
   ]
  },
  {
   "cell_type": "code",
   "execution_count": 136,
   "id": "945f2a67-c210-4d28-b0d3-ebb7d300ba4a",
   "metadata": {},
   "outputs": [
    {
     "name": "stdout",
     "output_type": "stream",
     "text": [
      "element                 object\n",
      "timestamp       datetime64[ns]\n",
      "press_suc              float64\n",
      "press_1                float64\n",
      "rpm                    float64\n",
      "carga_matriz           float64\n",
      "press_2                float64\n",
      "dtype: object\n"
     ]
    },
    {
     "data": {
      "text/html": [
       "<div>\n",
       "<style scoped>\n",
       "    .dataframe tbody tr th:only-of-type {\n",
       "        vertical-align: middle;\n",
       "    }\n",
       "\n",
       "    .dataframe tbody tr th {\n",
       "        vertical-align: top;\n",
       "    }\n",
       "\n",
       "    .dataframe thead th {\n",
       "        text-align: right;\n",
       "    }\n",
       "</style>\n",
       "<table border=\"1\" class=\"dataframe\">\n",
       "  <thead>\n",
       "    <tr style=\"text-align: right;\">\n",
       "      <th></th>\n",
       "      <th>element</th>\n",
       "      <th>timestamp</th>\n",
       "      <th>press_suc</th>\n",
       "      <th>press_1</th>\n",
       "      <th>rpm</th>\n",
       "      <th>carga_matriz</th>\n",
       "      <th>press_2</th>\n",
       "    </tr>\n",
       "  </thead>\n",
       "  <tbody>\n",
       "    <tr>\n",
       "      <th>0</th>\n",
       "      <td>K-01</td>\n",
       "      <td>2022-02-23 12:55:00</td>\n",
       "      <td>35.969379</td>\n",
       "      <td>88.208076</td>\n",
       "      <td>1172.734009</td>\n",
       "      <td>96.093750</td>\n",
       "      <td>89.334175</td>\n",
       "    </tr>\n",
       "    <tr>\n",
       "      <th>1</th>\n",
       "      <td>K-01</td>\n",
       "      <td>2022-02-23 12:50:00</td>\n",
       "      <td>35.702812</td>\n",
       "      <td>88.139069</td>\n",
       "      <td>1172.676270</td>\n",
       "      <td>96.093750</td>\n",
       "      <td>89.278976</td>\n",
       "    </tr>\n",
       "    <tr>\n",
       "      <th>2</th>\n",
       "      <td>K-01</td>\n",
       "      <td>2022-02-23 12:45:00</td>\n",
       "      <td>35.702812</td>\n",
       "      <td>88.139069</td>\n",
       "      <td>1172.648193</td>\n",
       "      <td>95.849609</td>\n",
       "      <td>89.278976</td>\n",
       "    </tr>\n",
       "    <tr>\n",
       "      <th>3</th>\n",
       "      <td>K-01</td>\n",
       "      <td>2022-02-23 12:40:00</td>\n",
       "      <td>35.702812</td>\n",
       "      <td>88.139069</td>\n",
       "      <td>1173.026123</td>\n",
       "      <td>95.996094</td>\n",
       "      <td>89.278976</td>\n",
       "    </tr>\n",
       "    <tr>\n",
       "      <th>4</th>\n",
       "      <td>K-01</td>\n",
       "      <td>2022-02-23 12:35:00</td>\n",
       "      <td>35.702812</td>\n",
       "      <td>88.139069</td>\n",
       "      <td>1173.027832</td>\n",
       "      <td>95.996094</td>\n",
       "      <td>89.278976</td>\n",
       "    </tr>\n",
       "  </tbody>\n",
       "</table>\n",
       "</div>"
      ],
      "text/plain": [
       "  element           timestamp  press_suc    press_1          rpm  \\\n",
       "0    K-01 2022-02-23 12:55:00  35.969379  88.208076  1172.734009   \n",
       "1    K-01 2022-02-23 12:50:00  35.702812  88.139069  1172.676270   \n",
       "2    K-01 2022-02-23 12:45:00  35.702812  88.139069  1172.648193   \n",
       "3    K-01 2022-02-23 12:40:00  35.702812  88.139069  1173.026123   \n",
       "4    K-01 2022-02-23 12:35:00  35.702812  88.139069  1173.027832   \n",
       "\n",
       "   carga_matriz    press_2  \n",
       "0     96.093750  89.334175  \n",
       "1     96.093750  89.278976  \n",
       "2     95.849609  89.278976  \n",
       "3     95.996094  89.278976  \n",
       "4     95.996094  89.278976  "
      ]
     },
     "execution_count": 136,
     "metadata": {},
     "output_type": "execute_result"
    }
   ],
   "source": [
    "# El .astype no reconoce como float a los strings con \",\" --> reemplazo por \".\"\n",
    "# Los valores Bad, Comm Fail y I/O Timeout hay que convertirlos a numéricos. NO tengo claro cómo conviene \"labelearlos\", \n",
    "# por ahora, los convierto a un número negativo\n",
    "for column in df_aux_1.columns[2:]:\n",
    "    if df_aux_1[column].dtype == 'object':\n",
    "        #df_aux_1[column] = df_aux_1[column].str.replace(',', '.')\n",
    "        df_aux_1[column] = df_aux_1[column].astype(str).replace('Bad', '-1')\n",
    "        df_aux_1[column] = df_aux_1[column].astype(str).replace('Comm Fail', '-2')\n",
    "        df_aux_1[column] = df_aux_1[column].astype(str).replace('I/O Timeout', '-3')\n",
    "        df_aux_1[column] = df_aux_1[column].astype('float64' , copy=True)\n",
    "print(df_aux_1.dtypes)\n",
    "df_aux_1.head()"
   ]
  },
  {
   "cell_type": "code",
   "execution_count": 137,
   "id": "efe31dd1-48c0-4dd0-9fc5-8183714d7889",
   "metadata": {},
   "outputs": [
    {
     "data": {
      "text/plain": [
       "element         0.0\n",
       "timestamp       0.0\n",
       "press_suc       0.0\n",
       "press_1         0.0\n",
       "rpm             0.0\n",
       "carga_matriz    0.0\n",
       "press_2         0.0\n",
       "dtype: float64"
      ]
     },
     "execution_count": 137,
     "metadata": {},
     "output_type": "execute_result"
    }
   ],
   "source": [
    "# % Nulos\n",
    "100*df_aux_1.isna().sum()/len(df_aux_1)"
   ]
  },
  {
   "cell_type": "code",
   "execution_count": 5,
   "id": "817eb184-2f0a-43e8-bfc2-f52c41780c53",
   "metadata": {},
   "outputs": [],
   "source": [
    "#path_data = 'C:\\\\Users\\\\COLMO\\\\OneDrive\\\\0-Data Science\\\\data_science\\\\data_pampa'\n",
    "path_data = 'C:\\\\Users\\\\Usuario\\\\OneDrive\\\\0-Data Science\\\\data_science\\\\data_pampa'"
   ]
  },
  {
   "cell_type": "code",
   "execution_count": 8,
   "id": "2eaf41e4-b188-432f-9d52-3c1ae6dd4409",
   "metadata": {},
   "outputs": [],
   "source": [
    "output_file = 'EMA_compresores_5min_AF_ok.csv'\n",
    "df_hist.to_csv(path_data + '\\\\' + output_file, sep=';', encoding='UTF-8', decimal = '.')"
   ]
  },
  {
   "cell_type": "code",
   "execution_count": 7,
   "id": "a7da92d3-5068-4317-9ba8-61e067d21cd8",
   "metadata": {},
   "outputs": [],
   "source": [
    "file = 'EMA_compresores_5min_AF_ok.csv'"
   ]
  },
  {
   "cell_type": "code",
   "execution_count": 73,
   "id": "bb6cd81c-f2ce-452e-b2b8-9b6a9482cd1e",
   "metadata": {},
   "outputs": [
    {
     "name": "stdout",
     "output_type": "stream",
     "text": [
      "(2251260, 5)\n",
      "element              object\n",
      "attribute            object\n",
      "timestamp    datetime64[ns]\n",
      "value                object\n",
      "uom                  object\n",
      "dtype: object\n"
     ]
    },
    {
     "data": {
      "text/html": [
       "<div>\n",
       "<style scoped>\n",
       "    .dataframe tbody tr th:only-of-type {\n",
       "        vertical-align: middle;\n",
       "    }\n",
       "\n",
       "    .dataframe tbody tr th {\n",
       "        vertical-align: top;\n",
       "    }\n",
       "\n",
       "    .dataframe thead th {\n",
       "        text-align: right;\n",
       "    }\n",
       "</style>\n",
       "<table border=\"1\" class=\"dataframe\">\n",
       "  <thead>\n",
       "    <tr style=\"text-align: right;\">\n",
       "      <th></th>\n",
       "      <th>element</th>\n",
       "      <th>attribute</th>\n",
       "      <th>timestamp</th>\n",
       "      <th>value</th>\n",
       "      <th>uom</th>\n",
       "    </tr>\n",
       "  </thead>\n",
       "  <tbody>\n",
       "    <tr>\n",
       "      <th>2251255</th>\n",
       "      <td>K-09</td>\n",
       "      <td>RPMs Instantanea</td>\n",
       "      <td>2021-09-01 00:20:00</td>\n",
       "      <td>1159.565673828125</td>\n",
       "      <td>revolution per minute</td>\n",
       "    </tr>\n",
       "    <tr>\n",
       "      <th>2251256</th>\n",
       "      <td>K-09</td>\n",
       "      <td>RPMs Instantanea</td>\n",
       "      <td>2021-09-01 00:15:00</td>\n",
       "      <td>1160.1990966796875</td>\n",
       "      <td>revolution per minute</td>\n",
       "    </tr>\n",
       "    <tr>\n",
       "      <th>2251257</th>\n",
       "      <td>K-09</td>\n",
       "      <td>RPMs Instantanea</td>\n",
       "      <td>2021-09-01 00:10:00</td>\n",
       "      <td>1158.6878662109375</td>\n",
       "      <td>revolution per minute</td>\n",
       "    </tr>\n",
       "    <tr>\n",
       "      <th>2251258</th>\n",
       "      <td>K-09</td>\n",
       "      <td>RPMs Instantanea</td>\n",
       "      <td>2021-09-01 00:05:00</td>\n",
       "      <td>1160.0113525390625</td>\n",
       "      <td>revolution per minute</td>\n",
       "    </tr>\n",
       "    <tr>\n",
       "      <th>2251259</th>\n",
       "      <td>K-09</td>\n",
       "      <td>RPMs Instantanea</td>\n",
       "      <td>2021-09-01 00:00:00</td>\n",
       "      <td>1160.155517578125</td>\n",
       "      <td>revolution per minute</td>\n",
       "    </tr>\n",
       "  </tbody>\n",
       "</table>\n",
       "</div>"
      ],
      "text/plain": [
       "        element         attribute           timestamp               value  \\\n",
       "2251255    K-09  RPMs Instantanea 2021-09-01 00:20:00   1159.565673828125   \n",
       "2251256    K-09  RPMs Instantanea 2021-09-01 00:15:00  1160.1990966796875   \n",
       "2251257    K-09  RPMs Instantanea 2021-09-01 00:10:00  1158.6878662109375   \n",
       "2251258    K-09  RPMs Instantanea 2021-09-01 00:05:00  1160.0113525390625   \n",
       "2251259    K-09  RPMs Instantanea 2021-09-01 00:00:00   1160.155517578125   \n",
       "\n",
       "                           uom  \n",
       "2251255  revolution per minute  \n",
       "2251256  revolution per minute  \n",
       "2251257  revolution per minute  \n",
       "2251258  revolution per minute  \n",
       "2251259  revolution per minute  "
      ]
     },
     "execution_count": 73,
     "metadata": {},
     "output_type": "execute_result"
    }
   ],
   "source": [
    "df_comp = pd.read_csv(path_data + '\\\\' + file, sep=';', encoding='UTF-8', decimal = '.', dayfirst=True)\n",
    "df_comp.drop(columns=['Unnamed: 0'], inplace=True)\n",
    "df_comp.columns = df_comp.columns.str.lower()\n",
    "df_comp.rename(columns={'asset': 'element'}, inplace=True)\n",
    "df_comp.timestamp = df_comp.timestamp.apply(lambda x: x.split(' ')[0].split('/')[2] + '-' + \n",
    "                                                      x.split(' ')[0].split('/')[1].zfill(2) + '-' +\n",
    "                                                      x.split(' ')[0].split('/')[0].zfill(2) + ' ' + x.split(' ')[1])\n",
    "df_comp.timestamp = pd.to_datetime(df_comp.timestamp, format='%Y-%m-%d %H:%M:%S')\n",
    "print(df_comp.shape)\n",
    "print(df_comp.dtypes)\n",
    "df_comp.tail()"
   ]
  },
  {
   "cell_type": "code",
   "execution_count": 74,
   "id": "624f485a-0b04-4e8f-b3b4-05eb3ab96073",
   "metadata": {},
   "outputs": [
    {
     "data": {
      "text/html": [
       "<div>\n",
       "<style scoped>\n",
       "    .dataframe tbody tr th:only-of-type {\n",
       "        vertical-align: middle;\n",
       "    }\n",
       "\n",
       "    .dataframe tbody tr th {\n",
       "        vertical-align: top;\n",
       "    }\n",
       "\n",
       "    .dataframe thead th {\n",
       "        text-align: right;\n",
       "    }\n",
       "</style>\n",
       "<table border=\"1\" class=\"dataframe\">\n",
       "  <thead>\n",
       "    <tr style=\"text-align: right;\">\n",
       "      <th></th>\n",
       "      <th>element</th>\n",
       "      <th>attribute</th>\n",
       "      <th>timestamp</th>\n",
       "      <th>value</th>\n",
       "      <th>uom</th>\n",
       "    </tr>\n",
       "  </thead>\n",
       "  <tbody>\n",
       "    <tr>\n",
       "      <th>0</th>\n",
       "      <td>K-01</td>\n",
       "      <td>Carga Motriz Compresor</td>\n",
       "      <td>2022-02-21 16:55:00</td>\n",
       "      <td>92.138671875</td>\n",
       "      <td>ampere</td>\n",
       "    </tr>\n",
       "    <tr>\n",
       "      <th>50028</th>\n",
       "      <td>K-01</td>\n",
       "      <td>Presion Descarga Cil. 1y3 Compresor</td>\n",
       "      <td>2022-02-21 16:55:00</td>\n",
       "      <td>89.37281799316406</td>\n",
       "      <td>kilogram-force per square centimeter</td>\n",
       "    </tr>\n",
       "    <tr>\n",
       "      <th>100056</th>\n",
       "      <td>K-01</td>\n",
       "      <td>Presion Descarga Cil. 2y4 Compresor</td>\n",
       "      <td>2022-02-21 16:55:00</td>\n",
       "      <td>90.47408294677734</td>\n",
       "      <td>kilogram-force per square centimeter</td>\n",
       "    </tr>\n",
       "    <tr>\n",
       "      <th>150084</th>\n",
       "      <td>K-01</td>\n",
       "      <td>Presion Succion Compresor</td>\n",
       "      <td>2022-02-21 16:55:00</td>\n",
       "      <td>34.569236755371094</td>\n",
       "      <td>kilogram-force per square centimeter</td>\n",
       "    </tr>\n",
       "    <tr>\n",
       "      <th>200112</th>\n",
       "      <td>K-01</td>\n",
       "      <td>RPMs Instantanea</td>\n",
       "      <td>2022-02-21 16:55:00</td>\n",
       "      <td>1172.8941650390625</td>\n",
       "      <td>revolution per minute</td>\n",
       "    </tr>\n",
       "  </tbody>\n",
       "</table>\n",
       "</div>"
      ],
      "text/plain": [
       "       element                            attribute           timestamp  \\\n",
       "0         K-01               Carga Motriz Compresor 2022-02-21 16:55:00   \n",
       "50028     K-01  Presion Descarga Cil. 1y3 Compresor 2022-02-21 16:55:00   \n",
       "100056    K-01  Presion Descarga Cil. 2y4 Compresor 2022-02-21 16:55:00   \n",
       "150084    K-01            Presion Succion Compresor 2022-02-21 16:55:00   \n",
       "200112    K-01                     RPMs Instantanea 2022-02-21 16:55:00   \n",
       "\n",
       "                     value                                   uom  \n",
       "0             92.138671875                                ampere  \n",
       "50028    89.37281799316406  kilogram-force per square centimeter  \n",
       "100056   90.47408294677734  kilogram-force per square centimeter  \n",
       "150084  34.569236755371094  kilogram-force per square centimeter  \n",
       "200112  1172.8941650390625                 revolution per minute  "
      ]
     },
     "execution_count": 74,
     "metadata": {},
     "output_type": "execute_result"
    }
   ],
   "source": [
    "# press_suc 'Presion Succion Compresor' press_1 'Presion Descarga Cil. 1y3 Compresor' \n",
    "# rpm 'RPMs Instantanea\t' carga_motriz 'Carga Motriz Compresor' press_2 'Presion Descarga Cil. 2y4 Compresor'\n",
    "attr_lst = ['Presion Succion Compresor', 'Presion Descarga Cil. 1y3 Compresor', 'RPMs Instantanea', 'Carga Motriz Compresor', \n",
    "            'Presion Descarga Cil. 2y4 Compresor']\n",
    "feat_lst = ['press_suc', 'press_1', 'rpm', 'carga_matriz', 'press_2']\n",
    "df_comp.drop_duplicates(subset=['attribute'])"
   ]
  },
  {
   "cell_type": "code",
   "execution_count": null,
   "id": "969012b9-d355-4970-a560-0d4798c2cf53",
   "metadata": {},
   "outputs": [
    {
     "data": {
      "text/html": [
       "<div>\n",
       "<style scoped>\n",
       "    .dataframe tbody tr th:only-of-type {\n",
       "        vertical-align: middle;\n",
       "    }\n",
       "\n",
       "    .dataframe tbody tr th {\n",
       "        vertical-align: top;\n",
       "    }\n",
       "\n",
       "    .dataframe thead th {\n",
       "        text-align: right;\n",
       "    }\n",
       "</style>\n",
       "<table border=\"1\" class=\"dataframe\">\n",
       "  <thead>\n",
       "    <tr style=\"text-align: right;\">\n",
       "      <th></th>\n",
       "      <th>element</th>\n",
       "      <th>timestamp</th>\n",
       "      <th>press_suc</th>\n",
       "      <th>press_1</th>\n",
       "      <th>rpm</th>\n",
       "      <th>carga_matriz</th>\n",
       "      <th>press_2</th>\n",
       "    </tr>\n",
       "  </thead>\n",
       "  <tbody>\n",
       "    <tr>\n",
       "      <th>0</th>\n",
       "      <td>K-01</td>\n",
       "      <td>2022-02-21 16:55:00</td>\n",
       "      <td>34.569236755371094</td>\n",
       "      <td>89.37281799316406</td>\n",
       "      <td>1172.8941650390625</td>\n",
       "      <td>92.138671875</td>\n",
       "      <td>90.47408294677734</td>\n",
       "    </tr>\n",
       "    <tr>\n",
       "      <th>1</th>\n",
       "      <td>K-01</td>\n",
       "      <td>2022-02-21 16:50:00</td>\n",
       "      <td>34.569236755371094</td>\n",
       "      <td>89.37281799316406</td>\n",
       "      <td>1172.7244873046875</td>\n",
       "      <td>91.845703125</td>\n",
       "      <td>90.47408294677734</td>\n",
       "    </tr>\n",
       "    <tr>\n",
       "      <th>2</th>\n",
       "      <td>K-01</td>\n",
       "      <td>2022-02-21 16:45:00</td>\n",
       "      <td>34.356258392333984</td>\n",
       "      <td>89.37281799316406</td>\n",
       "      <td>1172.8651123046875</td>\n",
       "      <td>91.748046875</td>\n",
       "      <td>90.47408294677734</td>\n",
       "    </tr>\n",
       "    <tr>\n",
       "      <th>3</th>\n",
       "      <td>K-01</td>\n",
       "      <td>2022-02-21 16:40:00</td>\n",
       "      <td>34.356258392333984</td>\n",
       "      <td>89.37281799316406</td>\n",
       "      <td>1172.442626953125</td>\n",
       "      <td>91.845703125</td>\n",
       "      <td>90.47408294677734</td>\n",
       "    </tr>\n",
       "    <tr>\n",
       "      <th>4</th>\n",
       "      <td>K-01</td>\n",
       "      <td>2022-02-21 16:35:00</td>\n",
       "      <td>34.356258392333984</td>\n",
       "      <td>89.14373779296875</td>\n",
       "      <td>1172.8486328125</td>\n",
       "      <td>91.845703125</td>\n",
       "      <td>90.22290802001953</td>\n",
       "    </tr>\n",
       "    <tr>\n",
       "      <th>...</th>\n",
       "      <td>...</td>\n",
       "      <td>...</td>\n",
       "      <td>...</td>\n",
       "      <td>...</td>\n",
       "      <td>...</td>\n",
       "      <td>...</td>\n",
       "      <td>...</td>\n",
       "    </tr>\n",
       "    <tr>\n",
       "      <th>450247</th>\n",
       "      <td>K-09</td>\n",
       "      <td>2021-09-01 00:20:00</td>\n",
       "      <td>6.668857097625732</td>\n",
       "      <td>17.618894577026367</td>\n",
       "      <td>1159.565673828125</td>\n",
       "      <td>89.2578125</td>\n",
       "      <td>35.13639831542969</td>\n",
       "    </tr>\n",
       "    <tr>\n",
       "      <th>450248</th>\n",
       "      <td>K-09</td>\n",
       "      <td>2021-09-01 00:15:00</td>\n",
       "      <td>6.668857097625732</td>\n",
       "      <td>17.618894577026367</td>\n",
       "      <td>1160.1990966796875</td>\n",
       "      <td>89.84375</td>\n",
       "      <td>35.13639831542969</td>\n",
       "    </tr>\n",
       "    <tr>\n",
       "      <th>450249</th>\n",
       "      <td>K-09</td>\n",
       "      <td>2021-09-01 00:10:00</td>\n",
       "      <td>6.668857097625732</td>\n",
       "      <td>17.831966400146484</td>\n",
       "      <td>1158.6878662109375</td>\n",
       "      <td>89.84375</td>\n",
       "      <td>35.13639831542969</td>\n",
       "    </tr>\n",
       "    <tr>\n",
       "      <th>450250</th>\n",
       "      <td>K-09</td>\n",
       "      <td>2021-09-01 00:05:00</td>\n",
       "      <td>6.668857097625732</td>\n",
       "      <td>17.831966400146484</td>\n",
       "      <td>1160.0113525390625</td>\n",
       "      <td>89.84375</td>\n",
       "      <td>34.934364318847656</td>\n",
       "    </tr>\n",
       "    <tr>\n",
       "      <th>450251</th>\n",
       "      <td>K-09</td>\n",
       "      <td>2021-09-01 00:00:00</td>\n",
       "      <td>6.668857097625732</td>\n",
       "      <td>17.831966400146484</td>\n",
       "      <td>1160.155517578125</td>\n",
       "      <td>89.501953125</td>\n",
       "      <td>35.158477783203125</td>\n",
       "    </tr>\n",
       "  </tbody>\n",
       "</table>\n",
       "<p>450252 rows × 7 columns</p>\n",
       "</div>"
      ],
      "text/plain": [
       "       element           timestamp           press_suc             press_1  \\\n",
       "0         K-01 2022-02-21 16:55:00  34.569236755371094   89.37281799316406   \n",
       "1         K-01 2022-02-21 16:50:00  34.569236755371094   89.37281799316406   \n",
       "2         K-01 2022-02-21 16:45:00  34.356258392333984   89.37281799316406   \n",
       "3         K-01 2022-02-21 16:40:00  34.356258392333984   89.37281799316406   \n",
       "4         K-01 2022-02-21 16:35:00  34.356258392333984   89.14373779296875   \n",
       "...        ...                 ...                 ...                 ...   \n",
       "450247    K-09 2021-09-01 00:20:00   6.668857097625732  17.618894577026367   \n",
       "450248    K-09 2021-09-01 00:15:00   6.668857097625732  17.618894577026367   \n",
       "450249    K-09 2021-09-01 00:10:00   6.668857097625732  17.831966400146484   \n",
       "450250    K-09 2021-09-01 00:05:00   6.668857097625732  17.831966400146484   \n",
       "450251    K-09 2021-09-01 00:00:00   6.668857097625732  17.831966400146484   \n",
       "\n",
       "                       rpm  carga_matriz             press_2  \n",
       "0       1172.8941650390625  92.138671875   90.47408294677734  \n",
       "1       1172.7244873046875  91.845703125   90.47408294677734  \n",
       "2       1172.8651123046875  91.748046875   90.47408294677734  \n",
       "3        1172.442626953125  91.845703125   90.47408294677734  \n",
       "4          1172.8486328125  91.845703125   90.22290802001953  \n",
       "...                    ...           ...                 ...  \n",
       "450247   1159.565673828125    89.2578125   35.13639831542969  \n",
       "450248  1160.1990966796875      89.84375   35.13639831542969  \n",
       "450249  1158.6878662109375      89.84375   35.13639831542969  \n",
       "450250  1160.0113525390625      89.84375  34.934364318847656  \n",
       "450251   1160.155517578125  89.501953125  35.158477783203125  \n",
       "\n",
       "[450252 rows x 7 columns]"
      ]
     },
     "execution_count": 85,
     "metadata": {},
     "output_type": "execute_result"
    }
   ],
   "source": [
    "df_aux_1 = df_comp[df_comp.attribute==attr_lst[0]]\n",
    "df_aux_1.rename(columns={'value': feat_lst[0]}, inplace=True)\n",
    "df_aux_1.drop(columns=['attribute', 'uom'], inplace=True)\n",
    "for i in range(1, len(attr_lst)):\n",
    "    df_aux_2 = df_comp[df_comp.attribute==attr_lst[i]]\n",
    "    df_aux_2.rename(columns={'value': feat_lst[i]}, inplace=True)\n",
    "    df_aux_2.drop(columns=['attribute', 'uom'], inplace=True)\n",
    "    df_aux_1 = pd.merge(df_aux_1, df_aux_2,  how='left', left_on=['element', 'timestamp'], right_on = ['element', 'timestamp'])\n",
    "df_aux_1.tail"
   ]
  },
  {
   "cell_type": "code",
   "execution_count": 90,
   "id": "a12c5c89-64df-49e5-8956-f2c597916ad1",
   "metadata": {},
   "outputs": [
    {
     "name": "stdout",
     "output_type": "stream",
     "text": [
      "element                 object\n",
      "timestamp       datetime64[ns]\n",
      "press_suc              float64\n",
      "press_1                float64\n",
      "rpm                    float64\n",
      "carga_matriz           float64\n",
      "press_2                float64\n",
      "dtype: object\n"
     ]
    },
    {
     "data": {
      "text/html": [
       "<div>\n",
       "<style scoped>\n",
       "    .dataframe tbody tr th:only-of-type {\n",
       "        vertical-align: middle;\n",
       "    }\n",
       "\n",
       "    .dataframe tbody tr th {\n",
       "        vertical-align: top;\n",
       "    }\n",
       "\n",
       "    .dataframe thead th {\n",
       "        text-align: right;\n",
       "    }\n",
       "</style>\n",
       "<table border=\"1\" class=\"dataframe\">\n",
       "  <thead>\n",
       "    <tr style=\"text-align: right;\">\n",
       "      <th></th>\n",
       "      <th>element</th>\n",
       "      <th>timestamp</th>\n",
       "      <th>press_suc</th>\n",
       "      <th>press_1</th>\n",
       "      <th>rpm</th>\n",
       "      <th>carga_matriz</th>\n",
       "      <th>press_2</th>\n",
       "    </tr>\n",
       "  </thead>\n",
       "  <tbody>\n",
       "    <tr>\n",
       "      <th>0</th>\n",
       "      <td>K-01</td>\n",
       "      <td>2022-02-21 16:55:00</td>\n",
       "      <td>34.569237</td>\n",
       "      <td>89.372818</td>\n",
       "      <td>1172.894165</td>\n",
       "      <td>92.138672</td>\n",
       "      <td>90.474083</td>\n",
       "    </tr>\n",
       "    <tr>\n",
       "      <th>1</th>\n",
       "      <td>K-01</td>\n",
       "      <td>2022-02-21 16:50:00</td>\n",
       "      <td>34.569237</td>\n",
       "      <td>89.372818</td>\n",
       "      <td>1172.724487</td>\n",
       "      <td>91.845703</td>\n",
       "      <td>90.474083</td>\n",
       "    </tr>\n",
       "    <tr>\n",
       "      <th>2</th>\n",
       "      <td>K-01</td>\n",
       "      <td>2022-02-21 16:45:00</td>\n",
       "      <td>34.356258</td>\n",
       "      <td>89.372818</td>\n",
       "      <td>1172.865112</td>\n",
       "      <td>91.748047</td>\n",
       "      <td>90.474083</td>\n",
       "    </tr>\n",
       "    <tr>\n",
       "      <th>3</th>\n",
       "      <td>K-01</td>\n",
       "      <td>2022-02-21 16:40:00</td>\n",
       "      <td>34.356258</td>\n",
       "      <td>89.372818</td>\n",
       "      <td>1172.442627</td>\n",
       "      <td>91.845703</td>\n",
       "      <td>90.474083</td>\n",
       "    </tr>\n",
       "    <tr>\n",
       "      <th>4</th>\n",
       "      <td>K-01</td>\n",
       "      <td>2022-02-21 16:35:00</td>\n",
       "      <td>34.356258</td>\n",
       "      <td>89.143738</td>\n",
       "      <td>1172.848633</td>\n",
       "      <td>91.845703</td>\n",
       "      <td>90.222908</td>\n",
       "    </tr>\n",
       "  </tbody>\n",
       "</table>\n",
       "</div>"
      ],
      "text/plain": [
       "  element           timestamp  press_suc    press_1          rpm  \\\n",
       "0    K-01 2022-02-21 16:55:00  34.569237  89.372818  1172.894165   \n",
       "1    K-01 2022-02-21 16:50:00  34.569237  89.372818  1172.724487   \n",
       "2    K-01 2022-02-21 16:45:00  34.356258  89.372818  1172.865112   \n",
       "3    K-01 2022-02-21 16:40:00  34.356258  89.372818  1172.442627   \n",
       "4    K-01 2022-02-21 16:35:00  34.356258  89.143738  1172.848633   \n",
       "\n",
       "   carga_matriz    press_2  \n",
       "0     92.138672  90.474083  \n",
       "1     91.845703  90.474083  \n",
       "2     91.748047  90.474083  \n",
       "3     91.845703  90.474083  \n",
       "4     91.845703  90.222908  "
      ]
     },
     "execution_count": 90,
     "metadata": {},
     "output_type": "execute_result"
    }
   ],
   "source": [
    "# El .astype no reconoce como float a los strings con \",\" --> reemplazo por \".\"\n",
    "# Los valores Bad, Comm Fail y I/O Timeout hay que convertirlos a numéricos. NO tengo claro cómo conviene \"labelearlos\", \n",
    "# por ahora, los convierto a un número negativo\n",
    "for column in df_aux_1.columns[2:]:\n",
    "    #df_aux_1[column] = df_aux_1[column].str.replace(',', '.')\n",
    "    df_aux_1[column] = df_aux_1[column].str.replace('Bad', '-1')\n",
    "    df_aux_1[column] = df_aux_1[column].str.replace('Comm Fail', '-2')\n",
    "    df_aux_1[column] = df_aux_1[column].str.replace('I/O Timeout', '-3')\n",
    "    df_aux_1[column] = df_aux_1[column].astype('float64' , copy=True)\n",
    "print(df_aux_1.dtypes)\n",
    "df_aux_1.head()"
   ]
  },
  {
   "cell_type": "code",
   "execution_count": 91,
   "id": "7e63356c-e27f-41d6-a58a-7ddd7fa31972",
   "metadata": {},
   "outputs": [
    {
     "data": {
      "text/plain": [
       "element         0.0\n",
       "timestamp       0.0\n",
       "press_suc       0.0\n",
       "press_1         0.0\n",
       "rpm             0.0\n",
       "carga_matriz    0.0\n",
       "press_2         0.0\n",
       "dtype: float64"
      ]
     },
     "execution_count": 91,
     "metadata": {},
     "output_type": "execute_result"
    }
   ],
   "source": [
    "# % Nulos\n",
    "100*df_aux_1.isna().sum()/len(df_aux_1)"
   ]
  },
  {
   "cell_type": "code",
   "execution_count": 92,
   "id": "9ec844c7-ae8c-4f3e-b44f-26e149123411",
   "metadata": {},
   "outputs": [],
   "source": [
    "output_file = 'EMA_compresores_5min_ok.csv'\n",
    "df_aux_1.to_csv(path_data + '\\\\' + output_file, sep=';', encoding='UTF-8', decimal = '.')"
   ]
  },
  {
   "cell_type": "markdown",
   "id": "a705a9d5-61d3-439c-a49a-4a7cc2d7dee9",
   "metadata": {},
   "source": [
    "# (2) PI from Datalink"
   ]
  },
  {
   "cell_type": "code",
   "execution_count": 13,
   "id": "61fb464f-b4b1-45a5-928b-a08c44ddb755",
   "metadata": {},
   "outputs": [],
   "source": [
    "file = 'EMA_compresores_5min.csv'"
   ]
  },
  {
   "cell_type": "code",
   "execution_count": 14,
   "id": "616f88c6-8016-49bc-a641-59ab27230a06",
   "metadata": {},
   "outputs": [
    {
     "data": {
      "text/plain": [
       "('Spanish_Argentina', '1252')"
      ]
     },
     "execution_count": 14,
     "metadata": {},
     "output_type": "execute_result"
    }
   ],
   "source": [
    "import locale\n",
    "locale.getlocale()"
   ]
  },
  {
   "cell_type": "code",
   "execution_count": 15,
   "id": "1fd46b78-49cb-4068-be4c-a45266bcf18d",
   "metadata": {},
   "outputs": [
    {
     "data": {
      "text/plain": [
       "(48086, 46)"
      ]
     },
     "execution_count": 15,
     "metadata": {},
     "output_type": "execute_result"
    }
   ],
   "source": [
    "# pd.read_csv()'http://files.grouplens.org/datasets/movielens/ml-100k/u.item', sep='|', names=m_cols, usecols=range(5), \n",
    "# encoding='windows-1251' o 'UTF-8')\n",
    "df_comp = pd.read_csv(path_data + '\\\\' + file, sep=';', encoding='windows-1251').rename(columns={'Unnamed: 0': 'timestamp'})\n",
    "df_comp.columns = df_comp.columns.str.lower()\n",
    "df_comp.shape"
   ]
  },
  {
   "cell_type": "code",
   "execution_count": 16,
   "id": "ba0efbf7-a41b-43b1-a026-7d4d56399d49",
   "metadata": {},
   "outputs": [],
   "source": [
    "# Estructura del nombre de tags esperada: K-01_COMP_RPM"
   ]
  },
  {
   "cell_type": "code",
   "execution_count": 17,
   "id": "7686587f-ab0f-435b-8ebc-4f5387c33451",
   "metadata": {},
   "outputs": [
    {
     "data": {
      "text/plain": [
       "['k-01', 'k-02', 'k-03', 'k-04', 'k-05', 'k-06', 'k-07', 'k-08', 'k-09']"
      ]
     },
     "execution_count": 17,
     "metadata": {},
     "output_type": "execute_result"
    }
   ],
   "source": [
    "# Necesito obtener el listado de compresores: splitteo por el caracter \"_\", tomo sólo el primer elemento splitteado, busco los uniques (set)\n",
    "# convierto el set en lista:\n",
    "element_lst = list(set([re.split(\"_\", x)[0] for x in df_comp.columns[1:]]))\n",
    "element_lst.sort() # Ordena in place y devuelve nan por eso se debe poner abajo que lo muestre.\n",
    "element_lst"
   ]
  },
  {
   "cell_type": "code",
   "execution_count": 18,
   "id": "dd2455e5-781e-4fc3-8573-51d7ff28315b",
   "metadata": {},
   "outputs": [
    {
     "data": {
      "text/plain": [
       "['comp_rpm',\n",
       " 'em_carga_motriz',\n",
       " 'presion_succion',\n",
       " 'presion_descarga 1y3',\n",
       " 'presion_descarga 2y4']"
      ]
     },
     "execution_count": 18,
     "metadata": {},
     "output_type": "execute_result"
    }
   ],
   "source": [
    "# Listado de tags\n",
    "tag_lst = list(set([re.split(\"_\", x, maxsplit=1)[1] for x in df_comp.columns[1:]]))\n",
    "tag_lst"
   ]
  },
  {
   "cell_type": "code",
   "execution_count": 19,
   "id": "fe8a7851-84fb-459f-91ac-06f58c74980e",
   "metadata": {},
   "outputs": [
    {
     "data": {
      "text/plain": [
       "{'k-01_comp_rpm': 'comp_rpm',\n",
       " 'k-01_em_carga_motriz': 'em_carga_motriz',\n",
       " 'k-01_presion_succion': 'presion_succion',\n",
       " 'k-01_presion_descarga 1y3': 'presion_descarga 1y3',\n",
       " 'k-01_presion_descarga 2y4': 'presion_descarga 2y4'}"
      ]
     },
     "execution_count": 19,
     "metadata": {},
     "output_type": "execute_result"
    }
   ],
   "source": [
    "keys = [element_lst[0]+'_'+x for x in tag_lst]\n",
    "values = [x for x in tag_lst]\n",
    "dict(zip(keys, values))"
   ]
  },
  {
   "cell_type": "code",
   "execution_count": 17,
   "id": "7135cf69-e4ae-493d-a5a6-5fdee9e0a00c",
   "metadata": {},
   "outputs": [
    {
     "name": "stdout",
     "output_type": "stream",
     "text": [
      "k-01_presion_succion\n"
     ]
    },
    {
     "data": {
      "text/html": [
       "<div>\n",
       "<style scoped>\n",
       "    .dataframe tbody tr th:only-of-type {\n",
       "        vertical-align: middle;\n",
       "    }\n",
       "\n",
       "    .dataframe tbody tr th {\n",
       "        vertical-align: top;\n",
       "    }\n",
       "\n",
       "    .dataframe thead th {\n",
       "        text-align: right;\n",
       "    }\n",
       "</style>\n",
       "<table border=\"1\" class=\"dataframe\">\n",
       "  <thead>\n",
       "    <tr style=\"text-align: right;\">\n",
       "      <th></th>\n",
       "      <th>timestamp</th>\n",
       "      <th>presion_succion</th>\n",
       "      <th>presion_descarga 1y3</th>\n",
       "      <th>comp_rpm</th>\n",
       "      <th>em_carga_motriz</th>\n",
       "      <th>presion_descarga 2y4</th>\n",
       "      <th>element</th>\n",
       "    </tr>\n",
       "  </thead>\n",
       "  <tbody>\n",
       "    <tr>\n",
       "      <th>432769</th>\n",
       "      <td>14-feb-22 16:45:00</td>\n",
       "      <td>6,682048798</td>\n",
       "      <td>18,11018372</td>\n",
       "      <td>1168,453491</td>\n",
       "      <td>94,97070313</td>\n",
       "      <td>37,53433228</td>\n",
       "      <td>k-09</td>\n",
       "    </tr>\n",
       "    <tr>\n",
       "      <th>432770</th>\n",
       "      <td>14-feb-22 16:50:00</td>\n",
       "      <td>6,682048798</td>\n",
       "      <td>18,38177109</td>\n",
       "      <td>1171,169067</td>\n",
       "      <td>95,21484375</td>\n",
       "      <td>37,53433228</td>\n",
       "      <td>k-09</td>\n",
       "    </tr>\n",
       "    <tr>\n",
       "      <th>432771</th>\n",
       "      <td>14-feb-22 16:55:00</td>\n",
       "      <td>6,682048798</td>\n",
       "      <td>18,38177109</td>\n",
       "      <td>1171,936401</td>\n",
       "      <td>94,43359375</td>\n",
       "      <td>37,53433228</td>\n",
       "      <td>k-09</td>\n",
       "    </tr>\n",
       "    <tr>\n",
       "      <th>432772</th>\n",
       "      <td>14-feb-22 17:00:00</td>\n",
       "      <td>6,682048798</td>\n",
       "      <td>18,38177109</td>\n",
       "      <td>1172,822754</td>\n",
       "      <td>95,21484375</td>\n",
       "      <td>37,53433228</td>\n",
       "      <td>k-09</td>\n",
       "    </tr>\n",
       "    <tr>\n",
       "      <th>432773</th>\n",
       "      <td>14-feb-22 17:05:00</td>\n",
       "      <td>6,769986153</td>\n",
       "      <td>18,43807602</td>\n",
       "      <td>1172,820801</td>\n",
       "      <td>94,3359375</td>\n",
       "      <td>37,65245819</td>\n",
       "      <td>k-09</td>\n",
       "    </tr>\n",
       "  </tbody>\n",
       "</table>\n",
       "</div>"
      ],
      "text/plain": [
       "                 timestamp presion_succion presion_descarga 1y3     comp_rpm em_carga_motriz presion_descarga 2y4 element\n",
       "432769  14-feb-22 16:45:00     6,682048798          18,11018372  1168,453491     94,97070313          37,53433228    k-09\n",
       "432770  14-feb-22 16:50:00     6,682048798          18,38177109  1171,169067     95,21484375          37,53433228    k-09\n",
       "432771  14-feb-22 16:55:00     6,682048798          18,38177109  1171,936401     94,43359375          37,53433228    k-09\n",
       "432772  14-feb-22 17:00:00     6,682048798          18,38177109  1172,822754     95,21484375          37,53433228    k-09\n",
       "432773  14-feb-22 17:05:00     6,769986153          18,43807602  1172,820801      94,3359375          37,65245819    k-09"
      ]
     },
     "execution_count": 17,
     "metadata": {},
     "output_type": "execute_result"
    }
   ],
   "source": [
    "print(element_lst[0]+'_'+tag_lst[0])\n",
    "df_list = []\n",
    "for element in element_lst:\n",
    "    df_aux_columns = ['timestamp']\n",
    "    for tag in tag_lst:\n",
    "        df_aux_columns.append(element+'_'+tag)\n",
    "    keys = [element+'_'+x for x in tag_lst]\n",
    "    values = [x for x in tag_lst]\n",
    "    rename_col_dict = dict(zip(keys, values))\n",
    "    df_aux = df_comp[df_aux_columns].rename(columns=rename_col_dict)\n",
    "    df_aux['element'] = element\n",
    "    df_list.append(df_aux)\n",
    "df_hist = pd.concat(df_list, ignore_index=True)\n",
    "df_hist.tail()"
   ]
  },
  {
   "cell_type": "code",
   "execution_count": 18,
   "id": "74e1fdd8-a255-469d-96e9-33b21db06ef6",
   "metadata": {},
   "outputs": [],
   "source": [
    "# Se renombran columnas para facilidad de uso\n",
    "df_hist.rename(columns={'presion_descarga 1y3': 'press_1', 'presion_succion': 'press_suc', 'presion_descarga 2y4': 'press_2', \n",
    "                       'comp_rpm': 'rpm', 'em_carga_motriz': 'carga_motriz'}, inplace=True)"
   ]
  },
  {
   "cell_type": "code",
   "execution_count": 19,
   "id": "2912a0af-1f66-491d-be93-cc72bd96d743",
   "metadata": {},
   "outputs": [
    {
     "data": {
      "text/html": [
       "<div>\n",
       "<style scoped>\n",
       "    .dataframe tbody tr th:only-of-type {\n",
       "        vertical-align: middle;\n",
       "    }\n",
       "\n",
       "    .dataframe tbody tr th {\n",
       "        vertical-align: top;\n",
       "    }\n",
       "\n",
       "    .dataframe thead th {\n",
       "        text-align: right;\n",
       "    }\n",
       "</style>\n",
       "<table border=\"1\" class=\"dataframe\">\n",
       "  <thead>\n",
       "    <tr style=\"text-align: right;\">\n",
       "      <th></th>\n",
       "      <th>timestamp</th>\n",
       "      <th>press_suc</th>\n",
       "      <th>press_1</th>\n",
       "      <th>rpm</th>\n",
       "      <th>carga_motriz</th>\n",
       "      <th>press_2</th>\n",
       "      <th>element</th>\n",
       "    </tr>\n",
       "  </thead>\n",
       "  <tbody>\n",
       "    <tr>\n",
       "      <th>0</th>\n",
       "      <td>2021-08-31 18:00:00</td>\n",
       "      <td>34,26144409</td>\n",
       "      <td>89,3755722</td>\n",
       "      <td>1173,366211</td>\n",
       "      <td>97,75390625</td>\n",
       "      <td>90,52375793</td>\n",
       "      <td>k-01</td>\n",
       "    </tr>\n",
       "    <tr>\n",
       "      <th>1</th>\n",
       "      <td>2021-08-31 18:05:00</td>\n",
       "      <td>34,26144409</td>\n",
       "      <td>89,3755722</td>\n",
       "      <td>1173,895508</td>\n",
       "      <td>97,02148438</td>\n",
       "      <td>90,31398773</td>\n",
       "      <td>k-01</td>\n",
       "    </tr>\n",
       "    <tr>\n",
       "      <th>2</th>\n",
       "      <td>2021-08-31 18:10:00</td>\n",
       "      <td>34,26144409</td>\n",
       "      <td>89,3755722</td>\n",
       "      <td>1173,163452</td>\n",
       "      <td>96,77734375</td>\n",
       "      <td>90,31398773</td>\n",
       "      <td>k-01</td>\n",
       "    </tr>\n",
       "    <tr>\n",
       "      <th>3</th>\n",
       "      <td>2021-08-31 18:15:00</td>\n",
       "      <td>34,26144409</td>\n",
       "      <td>89,15753937</td>\n",
       "      <td>1172,869263</td>\n",
       "      <td>97,65625</td>\n",
       "      <td>90,31398773</td>\n",
       "      <td>k-01</td>\n",
       "    </tr>\n",
       "    <tr>\n",
       "      <th>4</th>\n",
       "      <td>2021-08-31 18:20:00</td>\n",
       "      <td>34,26144409</td>\n",
       "      <td>88,22463989</td>\n",
       "      <td>1173,551025</td>\n",
       "      <td>96,875</td>\n",
       "      <td>89,5825882</td>\n",
       "      <td>k-01</td>\n",
       "    </tr>\n",
       "  </tbody>\n",
       "</table>\n",
       "</div>"
      ],
      "text/plain": [
       "            timestamp    press_suc      press_1          rpm carga_motriz      press_2 element\n",
       "0 2021-08-31 18:00:00  34,26144409   89,3755722  1173,366211  97,75390625  90,52375793    k-01\n",
       "1 2021-08-31 18:05:00  34,26144409   89,3755722  1173,895508  97,02148438  90,31398773    k-01\n",
       "2 2021-08-31 18:10:00  34,26144409   89,3755722  1173,163452  96,77734375  90,31398773    k-01\n",
       "3 2021-08-31 18:15:00  34,26144409  89,15753937  1172,869263     97,65625  90,31398773    k-01\n",
       "4 2021-08-31 18:20:00  34,26144409  88,22463989  1173,551025       96,875   89,5825882    k-01"
      ]
     },
     "execution_count": 19,
     "metadata": {},
     "output_type": "execute_result"
    }
   ],
   "source": [
    "# Correcciones de Tipo de Datos\n",
    "#df_hist.timestamp.replace(r\"\\d{2}-ago-\\d{4} \\d{2}:\\d{2}:\\d{2}\", r\"\\d{2}-aug-\\d{4} \\d{2}:\\d{2}:\\d{2}\", inplace=True, regex=True)\n",
    "#datetime.datetime.strptime('31-aug-21 18:00:00', '%d-%b-%y %H:%M:%S')\n",
    "df_hist.timestamp = df_hist.timestamp.str.replace('ago', 'aug')\n",
    "df_hist.timestamp = df_hist.timestamp.str.replace('ene', 'jan')\n",
    "df_hist.timestamp = df_hist.timestamp.str.replace('abr', 'apr')\n",
    "df_hist.timestamp = df_hist.timestamp.str.replace('ago', 'aug')\n",
    "df_hist.timestamp = df_hist.timestamp.str.replace('dic', 'dec')\n",
    "#df_hist.timestamp.astype('datetime64' , copy=False)\n",
    "# https://docs.python.org/3.7/library/datetime.html#strftime-strptime-behavior\n",
    "df_hist.timestamp = pd.to_datetime(df_hist.timestamp, dayfirst=True, format='%d-%b-%y %H:%M:%S')\n",
    "df_hist.head()"
   ]
  },
  {
   "cell_type": "code",
   "execution_count": 20,
   "id": "a7f02912-575e-4317-9dd5-7141b0f1bb1b",
   "metadata": {},
   "outputs": [
    {
     "data": {
      "text/plain": [
       "timestamp       datetime64[ns]\n",
       "press_suc               object\n",
       "press_1                 object\n",
       "rpm                     object\n",
       "carga_motriz            object\n",
       "press_2                 object\n",
       "element                 object\n",
       "dtype: object"
      ]
     },
     "execution_count": 20,
     "metadata": {},
     "output_type": "execute_result"
    }
   ],
   "source": [
    "df_hist.dtypes"
   ]
  },
  {
   "cell_type": "code",
   "execution_count": 21,
   "id": "749127fb-b994-4ee0-a2a4-02efdbfb5887",
   "metadata": {},
   "outputs": [
    {
     "name": "stdout",
     "output_type": "stream",
     "text": [
      "timestamp       datetime64[ns]\n",
      "press_suc              float64\n",
      "press_1                float64\n",
      "rpm                    float64\n",
      "carga_motriz           float64\n",
      "press_2                float64\n",
      "element                 object\n",
      "dtype: object\n"
     ]
    },
    {
     "data": {
      "text/html": [
       "<div>\n",
       "<style scoped>\n",
       "    .dataframe tbody tr th:only-of-type {\n",
       "        vertical-align: middle;\n",
       "    }\n",
       "\n",
       "    .dataframe tbody tr th {\n",
       "        vertical-align: top;\n",
       "    }\n",
       "\n",
       "    .dataframe thead th {\n",
       "        text-align: right;\n",
       "    }\n",
       "</style>\n",
       "<table border=\"1\" class=\"dataframe\">\n",
       "  <thead>\n",
       "    <tr style=\"text-align: right;\">\n",
       "      <th></th>\n",
       "      <th>timestamp</th>\n",
       "      <th>press_suc</th>\n",
       "      <th>press_1</th>\n",
       "      <th>rpm</th>\n",
       "      <th>carga_motriz</th>\n",
       "      <th>press_2</th>\n",
       "      <th>element</th>\n",
       "    </tr>\n",
       "  </thead>\n",
       "  <tbody>\n",
       "    <tr>\n",
       "      <th>0</th>\n",
       "      <td>2021-08-31 18:00:00</td>\n",
       "      <td>34.3</td>\n",
       "      <td>89.4</td>\n",
       "      <td>1173.4</td>\n",
       "      <td>97.8</td>\n",
       "      <td>90.5</td>\n",
       "      <td>k-01</td>\n",
       "    </tr>\n",
       "    <tr>\n",
       "      <th>1</th>\n",
       "      <td>2021-08-31 18:05:00</td>\n",
       "      <td>34.3</td>\n",
       "      <td>89.4</td>\n",
       "      <td>1173.9</td>\n",
       "      <td>97.0</td>\n",
       "      <td>90.3</td>\n",
       "      <td>k-01</td>\n",
       "    </tr>\n",
       "    <tr>\n",
       "      <th>2</th>\n",
       "      <td>2021-08-31 18:10:00</td>\n",
       "      <td>34.3</td>\n",
       "      <td>89.4</td>\n",
       "      <td>1173.2</td>\n",
       "      <td>96.8</td>\n",
       "      <td>90.3</td>\n",
       "      <td>k-01</td>\n",
       "    </tr>\n",
       "    <tr>\n",
       "      <th>3</th>\n",
       "      <td>2021-08-31 18:15:00</td>\n",
       "      <td>34.3</td>\n",
       "      <td>89.2</td>\n",
       "      <td>1172.9</td>\n",
       "      <td>97.7</td>\n",
       "      <td>90.3</td>\n",
       "      <td>k-01</td>\n",
       "    </tr>\n",
       "    <tr>\n",
       "      <th>4</th>\n",
       "      <td>2021-08-31 18:20:00</td>\n",
       "      <td>34.3</td>\n",
       "      <td>88.2</td>\n",
       "      <td>1173.6</td>\n",
       "      <td>96.9</td>\n",
       "      <td>89.6</td>\n",
       "      <td>k-01</td>\n",
       "    </tr>\n",
       "  </tbody>\n",
       "</table>\n",
       "</div>"
      ],
      "text/plain": [
       "            timestamp  press_suc  press_1    rpm  carga_motriz  press_2 element\n",
       "0 2021-08-31 18:00:00       34.3     89.4 1173.4          97.8     90.5    k-01\n",
       "1 2021-08-31 18:05:00       34.3     89.4 1173.9          97.0     90.3    k-01\n",
       "2 2021-08-31 18:10:00       34.3     89.4 1173.2          96.8     90.3    k-01\n",
       "3 2021-08-31 18:15:00       34.3     89.2 1172.9          97.7     90.3    k-01\n",
       "4 2021-08-31 18:20:00       34.3     88.2 1173.6          96.9     89.6    k-01"
      ]
     },
     "execution_count": 21,
     "metadata": {},
     "output_type": "execute_result"
    }
   ],
   "source": [
    "# El .astype no reconoce como float a los strings con \",\" --> reemplazo por \".\"\n",
    "# Los valores Bad, Comm Fail y I/O Timeout hay que convertirlos a numéricos. NO tengo claro cómo conviene \"labelearlos\", \n",
    "# por ahora, los convierto a un número negativo\n",
    "for column in df_hist.columns[1:-1]:\n",
    "    df_hist[column] = df_hist[column].str.replace(',', '.')\n",
    "    df_hist[column] = df_hist[column].str.replace('Bad', '-1')\n",
    "    df_hist[column] = df_hist[column].str.replace('Comm Fail', '-2')\n",
    "    df_hist[column] = df_hist[column].str.replace('I/O Timeout', '-3')\n",
    "    df_hist[column] = df_hist[column].astype('float64' , copy=True)\n",
    "print(df_hist.dtypes)\n",
    "df_hist.head()"
   ]
  },
  {
   "cell_type": "code",
   "execution_count": null,
   "id": "db25bd64-a86c-49ff-b738-39af17152ecc",
   "metadata": {},
   "outputs": [],
   "source": []
  },
  {
   "cell_type": "code",
   "execution_count": null,
   "id": "62fbdb16-476c-46c2-8b08-0386e6159577",
   "metadata": {},
   "outputs": [],
   "source": []
  },
  {
   "cell_type": "code",
   "execution_count": null,
   "id": "61ed3f20-bee9-4cc7-9b9f-a7321f442744",
   "metadata": {},
   "outputs": [],
   "source": []
  },
  {
   "cell_type": "code",
   "execution_count": null,
   "id": "903e7f9b-507c-471c-a22e-ba033ed25d1e",
   "metadata": {},
   "outputs": [],
   "source": []
  },
  {
   "cell_type": "code",
   "execution_count": null,
   "id": "19c03db7-f0ba-4c1a-8594-a823e2ae1536",
   "metadata": {},
   "outputs": [],
   "source": []
  },
  {
   "cell_type": "code",
   "execution_count": null,
   "id": "b4fa5b3a-d802-48e2-8ad6-f6463c88805e",
   "metadata": {},
   "outputs": [],
   "source": []
  },
  {
   "cell_type": "code",
   "execution_count": null,
   "id": "d6178151-37b3-4e43-b2c6-763a28ed51c3",
   "metadata": {},
   "outputs": [],
   "source": []
  },
  {
   "cell_type": "code",
   "execution_count": null,
   "id": "6fac0128-3f46-40b6-bef0-d7fa379531b9",
   "metadata": {},
   "outputs": [],
   "source": []
  },
  {
   "cell_type": "code",
   "execution_count": null,
   "id": "caad8377-462d-4822-a310-50a8ae7ecaee",
   "metadata": {},
   "outputs": [],
   "source": []
  }
 ],
 "metadata": {
  "kernelspec": {
   "display_name": "Python 3.8 (pycaret_env)",
   "language": "python",
   "name": "pycaret_env"
  },
  "language_info": {
   "codemirror_mode": {
    "name": "ipython",
    "version": 3
   },
   "file_extension": ".py",
   "mimetype": "text/x-python",
   "name": "python",
   "nbconvert_exporter": "python",
   "pygments_lexer": "ipython3",
   "version": "3.8.12"
  }
 },
 "nbformat": 4,
 "nbformat_minor": 5
}
