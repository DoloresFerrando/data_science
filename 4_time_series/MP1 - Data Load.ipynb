{
 "cells": [
  {
   "cell_type": "markdown",
   "id": "06ca7738-324d-4684-a5ac-7cf838a08c07",
   "metadata": {},
   "source": [
    "# Mantenimiento Predictivo"
   ]
  },
  {
   "cell_type": "markdown",
   "id": "f9e08f4d-6d63-4c61-b8e3-51fd05a3cda1",
   "metadata": {},
   "source": [
    "# Acceso a una PI AF Database\n",
    "Requiere tener instalado: pythonnet\n",
    "http://pythonnet.github.io/\n",
    "\n",
    "Confirmar dónde se encuentran las dlls: OSIsoft.AFSDK.dll en su máquina.\n",
    "# 0- Preparación del Ambiente"
   ]
  },
  {
   "cell_type": "code",
   "execution_count": null,
   "id": "96087bb4-5c89-49ab-8613-bdf7d78a443a",
   "metadata": {},
   "outputs": [],
   "source": [
    "#!pip install pythonnet"
   ]
  },
  {
   "cell_type": "code",
   "execution_count": 1,
   "id": "04d61430-9ce7-479e-81a2-966a56912141",
   "metadata": {},
   "outputs": [],
   "source": [
    "# sys module provides access to some variables used or maintained by the interpreter and to functions that interact \n",
    "# strongly with the interpreter. It is always available. https://docs.python.org/3/library/sys.html\n",
    "# clr es la forma de declarar el package pythonnet (.net para python)\n",
    "import sys\n",
    "import clr"
   ]
  },
  {
   "cell_type": "code",
   "execution_count": 2,
   "id": "0e97fd79-139d-4d24-8983-8b4d3a33aa7f",
   "metadata": {},
   "outputs": [
    {
     "data": {
      "text/plain": [
       "<System.Reflection.RuntimeAssembly object at 0x0000014F1DEFBAF0>"
      ]
     },
     "execution_count": 2,
     "metadata": {},
     "output_type": "execute_result"
    }
   ],
   "source": [
    "sys.path.append(r'C:\\Program Files (x86)\\PIPC\\AF\\PublicAssemblies\\4.0')  \n",
    "clr.AddReference('OSIsoft.AFSDK')"
   ]
  },
  {
   "cell_type": "code",
   "execution_count": 3,
   "id": "219304f1-698a-4b08-acb0-fefd9dc4d170",
   "metadata": {},
   "outputs": [],
   "source": [
    "from OSIsoft.AF import *\n",
    "from OSIsoft.AF.PI import *\n",
    "from OSIsoft.AF.Asset import *\n",
    "from OSIsoft.AF.Data import *\n",
    "from OSIsoft.AF.Time import *\n",
    "from OSIsoft.AF.UnitsOfMeasure import *\n",
    "from OSIsoft.AF.Search import *"
   ]
  },
  {
   "cell_type": "code",
   "execution_count": 4,
   "id": "d8d5691b-6ae4-4ea5-b9c1-508e2a57beae",
   "metadata": {},
   "outputs": [],
   "source": [
    "#initializes a C# list: from System.Collections.Generic import List\n",
    "# Implicit loading is deprecated. Please use clr.AddReference('System.Collections').\n",
    "clr.AddReference('System.Collections')\n",
    "from System.Collections.Generic import List"
   ]
  },
  {
   "cell_type": "code",
   "execution_count": 5,
   "id": "cb59dc55-6bb1-498a-b4aa-3c542e960281",
   "metadata": {},
   "outputs": [],
   "source": [
    "from datetime import datetime, timedelta"
   ]
  },
  {
   "cell_type": "code",
   "execution_count": 6,
   "id": "81ec502f-e673-4a51-b84b-99ec40ad6315",
   "metadata": {},
   "outputs": [],
   "source": [
    "import pandas as pd"
   ]
  },
  {
   "cell_type": "markdown",
   "id": "f1f388b7-28da-4871-8a93-1446c12f486b",
   "metadata": {},
   "source": [
    "# 1- Acceso a una AF Database"
   ]
  },
  {
   "cell_type": "code",
   "execution_count": 7,
   "id": "a5bd569c-498e-465e-8d9d-b919371d0b7e",
   "metadata": {},
   "outputs": [
    {
     "name": "stdout",
     "output_type": "stream",
     "text": [
      "Tipo de Datos: <class 'OSIsoft.AF.PISystems'>\n",
      "192.168.103.66\n",
      "PARCCVWPIEDA01\n",
      "QARCCVWPIE01\n"
     ]
    }
   ],
   "source": [
    "#https://docs.osisoft.com/bundle/af-sdk/page/html/pisystem-hierarchy.htm\n",
    "afservers = PISystems()\n",
    "print('Tipo de Datos:', type(afservers))\n",
    "iterator = afservers.GetEnumerator()\n",
    "for server in iterator:\n",
    "    print(server.Name)"
   ]
  },
  {
   "cell_type": "code",
   "execution_count": 8,
   "id": "b45f338b-ebb4-4f9e-8873-3fc50ba62ec1",
   "metadata": {},
   "outputs": [
    {
     "name": "stdout",
     "output_type": "stream",
     "text": [
      "PARCCVWPIEDA01 69941c34-7d8c-491f-b5b8-70bb5f66436f Clase: <class 'OSIsoft.AF.PISystem'>\n"
     ]
    }
   ],
   "source": [
    "# Objeto para la base de datos que busco consultar\n",
    "# https://docs.osisoft.com/bundle/af-sdk/page/html/T_OSIsoft_AF_PISystem.htm\n",
    "#afserver = afservers.DefaultPISystem\n",
    "AFServer = afservers['PARCCVWPIEDA01']\n",
    "#AFServer = afservers['QARCCVWPIE01']\n",
    "print(AFServer.Name, AFServer.UniqueID, 'Clase:', type(AFServer))"
   ]
  },
  {
   "cell_type": "code",
   "execution_count": 9,
   "id": "04fac783-0448-49cf-92a7-fb742f0d8546",
   "metadata": {},
   "outputs": [
    {
     "name": "stdout",
     "output_type": "stream",
     "text": [
      "DOF <class 'OSIsoft.AF.PISystem'>\n",
      "Database Name: DOF <class 'OSIsoft.AF.AFDatabase'>\n"
     ]
    }
   ],
   "source": [
    "# Acceso a una base de datos que no sea la default:\n",
    "# afserver.Databases: https://docs.osisoft.com/bundle/af-sdk/page/html/T_OSIsoft_AF_AFDatabases.htm\n",
    "# Databases.Database:\n",
    "DB = AFServer.Databases.DefaultDatabase\n",
    "print(DB.Name, type(AFServer))\n",
    "DB = AFServer.Databases.get_Item(\"DOF\")\n",
    "print ('Database Name: {0}'.format(DB.Name), type(DB))"
   ]
  },
  {
   "cell_type": "markdown",
   "id": "d29505e7-b2e1-4404-99b0-fd6676151f7f",
   "metadata": {},
   "source": [
    "# 2- Recorrer la estructura de Assets y Atributos"
   ]
  },
  {
   "cell_type": "code",
   "execution_count": 15,
   "id": "9f13cf8e-2fe3-4ea9-a04c-86900c19a2a4",
   "metadata": {},
   "outputs": [
    {
     "data": {
      "text/plain": [
       "OSIsoft.AF.Asset.AFElements"
      ]
     },
     "execution_count": 15,
     "metadata": {},
     "output_type": "execute_result"
    }
   ],
   "source": [
    "type(DB.Elements)"
   ]
  },
  {
   "cell_type": "code",
   "execution_count": 10,
   "id": "6ce58f29-337b-41e8-96e8-daec3c5927b3",
   "metadata": {},
   "outputs": [
    {
     "name": "stdout",
     "output_type": "stream",
     "text": [
      "Nivel 1: PAMPA ENERGIA S.A.\n",
      "Nivel 2: El Mangrullo <class 'str'>\n",
      "Attribute: Promedio Entrega Gas 9300 (PlanGasAr) 6131,75041992187 Miles Metros Cubicos\n",
      "Primeros 10 Atributos y su valor actual:\n",
      "Plan Gas. Promedio Acumulado Venta Gas@9300 Participación 20/2/2022 00:00:00 6000 Miles Metros Cubicos OSIsoft.AF.Data.AFData\n",
      "Promedio Entrega Gas 9300 (PlanGasAr) 20/2/2022 00:00:00 6131,75041992187 Miles Metros Cubicos OSIsoft.AF.Data.AFData\n",
      "Venta Prom. Gas 9300 vs Plan Anual en Participación (b) 20/2/2022 00:00:00 246,857568359375 Miles Metros Cubicos OSIsoft.AF.Data.AFData\n",
      "Venta Gas 9300 vs Plan Gas Mes en Participación (b) 20/2/2022 00:00:00 245,76220703125 Miles Metros Cubicos OSIsoft.AF.Data.AFData\n",
      "FC 20/2/2022 00:00:00 1,00571181547394 None OSIsoft.AF.Data.AFData\n",
      "Producción Balance Mensual de Petróleo 1/1/2022 00:00:00 6,6248064516129 Cubic Meter per Day OSIsoft.AF.Data.AFData\n",
      "Promedio Balance Diario Gas @9300 Pozos Tight 20/2/2022 00:00:00 74,36050855 Miles Metros Cubicos OSIsoft.AF.Data.AFData\n",
      "Promedio Mensual Entrega Gas9300 2/2/2022 07:46:00 0 Miles Metros Cubicos OSIsoft.AF.Data.AFData\n",
      "Promedio Anual Entrega Gas9300 21/2/2022 16:01:00 6116,37332452512 None OSIsoft.AF.Data.AFData\n",
      "Entrega Balance Diario Area Gas@9300 en Participación 20/2/2022 00:00:00 6245,76220703125 Miles Metros Cubicos OSIsoft.AF.Data.AFData\n"
     ]
    }
   ],
   "source": [
    "for element in DB.Elements:\n",
    "    print('Nivel 1:', element.Name)\n",
    "    # Puedo guardar los atributos en una lista:\n",
    "    asset_lst = list(element.Elements)\n",
    "    for subelement in element.Elements:\n",
    "        if subelement.Name == 'El Mangrullo':\n",
    "            print('Nivel 2:', subelement.Name, type(subelement.Name))\n",
    "            # Puedo guardar los atributos en una lista:\n",
    "            attr_lst = list(subelement.Attributes)\n",
    "            # No encontré otra manera de acceder a un atributo, más que esta:\n",
    "            attr = subelement.Attributes.GetItem('Promedio Entrega Gas 9300 (PlanGasAr)', True, True, True)\n",
    "            print('Attribute:', attr, attr.GetValue(), attr.get_DefaultUOM())\n",
    "            i = 0\n",
    "            print('Primeros 10 Atributos y su valor actual:')\n",
    "            for attribute in subelement.Attributes:\n",
    "                if i < 10:\n",
    "                    print(attribute.Name, attribute.GetValue().Timestamp, attribute.GetValue(), attribute.DisplayUOM, attribute.Data)\n",
    "                    i +=1"
   ]
  },
  {
   "cell_type": "markdown",
   "id": "b8d58376-39ed-4cc7-b70f-26d6712f0723",
   "metadata": {},
   "source": [
    "# 3- Consultas de Datos"
   ]
  },
  {
   "cell_type": "markdown",
   "id": "9542fb78-7911-472d-a223-7efdaeef83b4",
   "metadata": {},
   "source": [
    "## Armo los objetos con assets y sus atributos"
   ]
  },
  {
   "cell_type": "code",
   "execution_count": 12,
   "id": "e4196e0c-e992-4fd7-b25b-7aabb3c53e0d",
   "metadata": {},
   "outputs": [
    {
     "data": {
      "text/plain": [
       "'PAMPA ENERGIA S.A.'"
      ]
     },
     "execution_count": 12,
     "metadata": {},
     "output_type": "execute_result"
    }
   ],
   "source": [
    "# 1° Objeto del arbol:\n",
    "root = DB.Elements.get_Item(0)\n",
    "root.Name"
   ]
  },
  {
   "cell_type": "code",
   "execution_count": 38,
   "id": "37ff4eab-7533-4882-b73b-7e42f2b969e3",
   "metadata": {},
   "outputs": [
    {
     "name": "stdout",
     "output_type": "stream",
     "text": [
      "El Mangrullo\n",
      "Instalaciones\n",
      "PTG EMAN\n",
      "Compresores\n",
      "K-01\n"
     ]
    }
   ],
   "source": [
    "# Busco los objetos que necesito:\n",
    "asset_lst = list(root.Elements)\n",
    "EMA = asset_lst[3]\n",
    "print(EMA.Name)\n",
    "EMA_Inst = list(asset_lst[3].Elements)[0]\n",
    "print(EMA_Inst.Name)\n",
    "EMA_PTG = list(EMA_Inst.Elements)[3]\n",
    "print(EMA_PTG.Name)\n",
    "EMA_PTG_Comp = list(EMA_PTG.Elements)[0]\n",
    "print(EMA_PTG_Comp.Name)\n",
    "EMA_PTG_K_01 = list(EMA_PTG_Comp.Elements)[0]\n",
    "print(EMA_PTG_K_01.Name)\n",
    "EMA_PTG_K_02 = list(EMA_PTG_Comp.Elements)[1]\n",
    "EMA_PTG_K_03 = list(EMA_PTG_Comp.Elements)[2]\n",
    "EMA_PTG_K_04 = list(EMA_PTG_Comp.Elements)[3]\n",
    "EMA_PTG_K_05 = list(EMA_PTG_Comp.Elements)[4]\n",
    "EMA_PTG_K_06 = list(EMA_PTG_Comp.Elements)[5]\n",
    "EMA_PTG_K_07 = list(EMA_PTG_Comp.Elements)[6]\n",
    "EMA_PTG_K_08 = list(EMA_PTG_Comp.Elements)[7]\n",
    "EMA_PTG_K_09 = list(EMA_PTG_Comp.Elements)[8]"
   ]
  },
  {
   "cell_type": "code",
   "execution_count": 166,
   "id": "26f0a248-a3c1-4ba8-9033-808425f38058",
   "metadata": {},
   "outputs": [
    {
     "name": "stdout",
     "output_type": "stream",
     "text": [
      "Nivel 1, ejemplo de atributo: Plan Gas. Promedio Acumulado Venta Gas@9300 Participación 31/1/2022 00:00:00 600,00001152 Miles Metros Cubicos - Objeto padre: Sierra Chata\n"
     ]
    }
   ],
   "source": [
    "# Puedo armar otra lista con los atributos de un asset:\n",
    "attr_lst = list(asset_lst[13].Attributes)\n",
    "print('Nivel 1, ejemplo de atributo:', attr_lst[0].Name, attr_lst[0].GetValue().Timestamp, attr_lst[0].GetValue(), \n",
    "      attr_lst[0].DisplayUOM, '- Objeto padre:', attr_lst[0].Element.Name)"
   ]
  },
  {
   "cell_type": "markdown",
   "id": "a4c92b0e-bab8-45fd-a865-e158a2b2d98e",
   "metadata": {},
   "source": [
    "## Consultas - Definición de Rango de Tiempo de la consulta"
   ]
  },
  {
   "cell_type": "code",
   "execution_count": 44,
   "id": "5169a5eb-cd1c-4981-8147-5f2912483d17",
   "metadata": {},
   "outputs": [
    {
     "name": "stdout",
     "output_type": "stream",
     "text": [
      "Attribute: Carga Motriz Compresor 21/2/2022 16:26:31 91,748046875 ampere\n"
     ]
    }
   ],
   "source": [
    "# Busco el atributo:\n",
    "attr = EMA_PTG_K_01.Attributes.GetItem('Carga Motriz Compresor', True, True, True)\n",
    "print('Attribute:', attr, attr.GetValue().Timestamp, attr.GetValue(), attr.get_DefaultUOM())"
   ]
  },
  {
   "cell_type": "code",
   "execution_count": 49,
   "id": "dc384418-ecfd-447a-9028-dfecc71bd517",
   "metadata": {},
   "outputs": [],
   "source": [
    "attr_lst = ['Carga Motriz Compresor', 'Presion Descarga Cil. 1y3 Compresor', 'Presion Descarga Cil. 2y4 Compresor',\n",
    "           'Presion Succion Compresor', 'RPMs Instantanea']"
   ]
  },
  {
   "cell_type": "code",
   "execution_count": 51,
   "id": "53d9855c-2909-46ca-9688-66399eb11db9",
   "metadata": {},
   "outputs": [
    {
     "name": "stdout",
     "output_type": "stream",
     "text": [
      "TimeSpan  5m\n"
     ]
    }
   ],
   "source": [
    "################ INTERPOLATED VALUES ###########################\n",
    "# Definir el intervalo de consulta:\n",
    "\n",
    "# A AFTimeSpan represents a time interval (duration of time or elapsed time) that is measured as a positive or negative \n",
    "# number of years, months, days, hours, minutes, seconds, milliseconds, and fractions of a millisecond. \n",
    "# Create AFTimeSpan using constructor\n",
    "\n",
    "now = AFTime.Now\n",
    "span = AFTimeSpan.Parse('5m')\n",
    "print(\"TimeSpan \", span)"
   ]
  },
  {
   "cell_type": "code",
   "execution_count": 70,
   "id": "f3acee49-a06d-4837-95dc-20a3b1bcdc95",
   "metadata": {},
   "outputs": [
    {
     "name": "stdout",
     "output_type": "stream",
     "text": [
      "21/2/2022 16:56:12 1/9/2021 00:00:00 -174d\n"
     ]
    }
   ],
   "source": [
    "# Defino un rango de tiempo para consultas de datos históricos\n",
    "#### Tiempo Relativo:\n",
    "timerange_start = AFTime('*')\n",
    "#timerange_span = AFTimeSpan.Parse('-174d') # 1h, 1d, para restar tiempo: -1m, -1h, etc\n",
    "#timerange_end = AFTime.op_Addition(timerange_start, timerange_span)\n",
    "timerange_end = AFTime('2021-09-01 00:00:00')\n",
    "timerange = AFTimeRange(timerange_start, timerange_end)\n",
    "print(timerange_start, timerange_end, timerange_span)"
   ]
  },
  {
   "cell_type": "code",
   "execution_count": 71,
   "id": "2a497473-3e8f-4f8b-9e8f-2e66993e56c0",
   "metadata": {},
   "outputs": [
    {
     "data": {
      "text/html": [
       "<div>\n",
       "<style scoped>\n",
       "    .dataframe tbody tr th:only-of-type {\n",
       "        vertical-align: middle;\n",
       "    }\n",
       "\n",
       "    .dataframe tbody tr th {\n",
       "        vertical-align: top;\n",
       "    }\n",
       "\n",
       "    .dataframe thead th {\n",
       "        text-align: right;\n",
       "    }\n",
       "</style>\n",
       "<table border=\"1\" class=\"dataframe\">\n",
       "  <thead>\n",
       "    <tr style=\"text-align: right;\">\n",
       "      <th></th>\n",
       "      <th>Asset</th>\n",
       "      <th>Attribute</th>\n",
       "      <th>Timestamp</th>\n",
       "      <th>Value</th>\n",
       "      <th>UOM</th>\n",
       "    </tr>\n",
       "  </thead>\n",
       "  <tbody>\n",
       "    <tr>\n",
       "      <th>0</th>\n",
       "      <td>K-01</td>\n",
       "      <td>Carga Motriz Compresor</td>\n",
       "      <td>21/2/2022 16:55:00</td>\n",
       "      <td>92.138672</td>\n",
       "      <td>ampere</td>\n",
       "    </tr>\n",
       "    <tr>\n",
       "      <th>1</th>\n",
       "      <td>K-01</td>\n",
       "      <td>Carga Motriz Compresor</td>\n",
       "      <td>21/2/2022 16:50:00</td>\n",
       "      <td>91.845703</td>\n",
       "      <td>ampere</td>\n",
       "    </tr>\n",
       "    <tr>\n",
       "      <th>2</th>\n",
       "      <td>K-01</td>\n",
       "      <td>Carga Motriz Compresor</td>\n",
       "      <td>21/2/2022 16:45:00</td>\n",
       "      <td>91.748047</td>\n",
       "      <td>ampere</td>\n",
       "    </tr>\n",
       "    <tr>\n",
       "      <th>3</th>\n",
       "      <td>K-01</td>\n",
       "      <td>Carga Motriz Compresor</td>\n",
       "      <td>21/2/2022 16:40:00</td>\n",
       "      <td>91.845703</td>\n",
       "      <td>ampere</td>\n",
       "    </tr>\n",
       "    <tr>\n",
       "      <th>4</th>\n",
       "      <td>K-01</td>\n",
       "      <td>Carga Motriz Compresor</td>\n",
       "      <td>21/2/2022 16:35:00</td>\n",
       "      <td>91.845703</td>\n",
       "      <td>ampere</td>\n",
       "    </tr>\n",
       "    <tr>\n",
       "      <th>...</th>\n",
       "      <td>...</td>\n",
       "      <td>...</td>\n",
       "      <td>...</td>\n",
       "      <td>...</td>\n",
       "      <td>...</td>\n",
       "    </tr>\n",
       "    <tr>\n",
       "      <th>2251255</th>\n",
       "      <td>K-09</td>\n",
       "      <td>RPMs Instantanea</td>\n",
       "      <td>1/9/2021 00:20:00</td>\n",
       "      <td>1159.565674</td>\n",
       "      <td>revolution per minute</td>\n",
       "    </tr>\n",
       "    <tr>\n",
       "      <th>2251256</th>\n",
       "      <td>K-09</td>\n",
       "      <td>RPMs Instantanea</td>\n",
       "      <td>1/9/2021 00:15:00</td>\n",
       "      <td>1160.199097</td>\n",
       "      <td>revolution per minute</td>\n",
       "    </tr>\n",
       "    <tr>\n",
       "      <th>2251257</th>\n",
       "      <td>K-09</td>\n",
       "      <td>RPMs Instantanea</td>\n",
       "      <td>1/9/2021 00:10:00</td>\n",
       "      <td>1158.687866</td>\n",
       "      <td>revolution per minute</td>\n",
       "    </tr>\n",
       "    <tr>\n",
       "      <th>2251258</th>\n",
       "      <td>K-09</td>\n",
       "      <td>RPMs Instantanea</td>\n",
       "      <td>1/9/2021 00:05:00</td>\n",
       "      <td>1160.011353</td>\n",
       "      <td>revolution per minute</td>\n",
       "    </tr>\n",
       "    <tr>\n",
       "      <th>2251259</th>\n",
       "      <td>K-09</td>\n",
       "      <td>RPMs Instantanea</td>\n",
       "      <td>1/9/2021 00:00:00</td>\n",
       "      <td>1160.155518</td>\n",
       "      <td>revolution per minute</td>\n",
       "    </tr>\n",
       "  </tbody>\n",
       "</table>\n",
       "<p>2251260 rows × 5 columns</p>\n",
       "</div>"
      ],
      "text/plain": [
       "        Asset               Attribute           Timestamp        Value  \\\n",
       "0        K-01  Carga Motriz Compresor  21/2/2022 16:55:00    92.138672   \n",
       "1        K-01  Carga Motriz Compresor  21/2/2022 16:50:00    91.845703   \n",
       "2        K-01  Carga Motriz Compresor  21/2/2022 16:45:00    91.748047   \n",
       "3        K-01  Carga Motriz Compresor  21/2/2022 16:40:00    91.845703   \n",
       "4        K-01  Carga Motriz Compresor  21/2/2022 16:35:00    91.845703   \n",
       "...       ...                     ...                 ...          ...   \n",
       "2251255  K-09        RPMs Instantanea   1/9/2021 00:20:00  1159.565674   \n",
       "2251256  K-09        RPMs Instantanea   1/9/2021 00:15:00  1160.199097   \n",
       "2251257  K-09        RPMs Instantanea   1/9/2021 00:10:00  1158.687866   \n",
       "2251258  K-09        RPMs Instantanea   1/9/2021 00:05:00  1160.011353   \n",
       "2251259  K-09        RPMs Instantanea   1/9/2021 00:00:00  1160.155518   \n",
       "\n",
       "                           UOM  \n",
       "0                       ampere  \n",
       "1                       ampere  \n",
       "2                       ampere  \n",
       "3                       ampere  \n",
       "4                       ampere  \n",
       "...                        ...  \n",
       "2251255  revolution per minute  \n",
       "2251256  revolution per minute  \n",
       "2251257  revolution per minute  \n",
       "2251258  revolution per minute  \n",
       "2251259  revolution per minute  \n",
       "\n",
       "[2251260 rows x 5 columns]"
      ]
     },
     "execution_count": 71,
     "metadata": {},
     "output_type": "execute_result"
    }
   ],
   "source": [
    "#df_hist = pd.DataFrame(columns=['Asset', 'Attribute', 'Timestamp', 'Value', 'UOM'])\n",
    "df_row = list()\n",
    "pdlist = [] # en esta lista quedan todos los df para luego concatenarlos\n",
    "\n",
    "for element in list(EMA_PTG_Comp.Elements):\n",
    "    for attr in attr_lst:\n",
    "        attr_obj = element.Attributes.GetItem(attr, True, True, True)\n",
    "        values_lst = attr_obj.Data.InterpolatedValues(timerange, span, attr_obj.DisplayUOM, \"\", False)\n",
    "        for val in values_lst:\n",
    "            if True:\n",
    "                #if val.IsGood:\n",
    "                df_row.append([val.Attribute.Element.Name, val.Attribute.Name, val.Timestamp, val.Value, \n",
    "                                  val.Attribute.DisplayUOM])\n",
    "df_hist = pd.DataFrame(df_row, columns=['Asset', 'Attribute', 'Timestamp', 'Value', 'UOM'])\n",
    "df_hist"
   ]
  },
  {
   "cell_type": "code",
   "execution_count": 67,
   "id": "817eb184-2f0a-43e8-bfc2-f52c41780c53",
   "metadata": {},
   "outputs": [],
   "source": [
    "path_data = 'C:\\\\Users\\\\COLMO\\\\OneDrive\\\\0-Data Science\\\\data_science\\\\data_pampa'\n",
    "#path_data = 'C:\\\\Users\\\\Usuario\\\\OneDrive\\\\0-Data Science\\\\data_science\\\\data_pampa'"
   ]
  },
  {
   "cell_type": "code",
   "execution_count": null,
   "id": "2eaf41e4-b188-432f-9d52-3c1ae6dd4409",
   "metadata": {},
   "outputs": [],
   "source": [
    "output_file = 'EMA_compresores_5min_AF_ok.csv'\n",
    "df_hist.to_csv(path_data + '\\\\' + output_file, sep=';', encoding='UTF-8', decimal = '.')"
   ]
  },
  {
   "cell_type": "code",
   "execution_count": null,
   "id": "a7da92d3-5068-4317-9ba8-61e067d21cd8",
   "metadata": {},
   "outputs": [],
   "source": []
  },
  {
   "cell_type": "code",
   "execution_count": null,
   "id": "bb6cd81c-f2ce-452e-b2b8-9b6a9482cd1e",
   "metadata": {},
   "outputs": [],
   "source": []
  },
  {
   "cell_type": "code",
   "execution_count": null,
   "id": "1bb5e4db-5e01-4da1-b2e8-3d0c4fcf073a",
   "metadata": {},
   "outputs": [],
   "source": []
  },
  {
   "cell_type": "code",
   "execution_count": 48,
   "id": "94ddc6b4-6c4d-46ae-ace0-574f543334e6",
   "metadata": {},
   "outputs": [
    {
     "name": "stdout",
     "output_type": "stream",
     "text": [
      "Elemento: K-01 Attribute: Carga Motriz Compresor Span: 5m Time Range: 21/2/2022 16:28:06 - 21/2/2022 15:28:06\n",
      "21/2/2022 16:28:06 True 91.748046875\n",
      "21/2/2022 16:23:06 True 91.943359375\n",
      "21/2/2022 16:18:06 True 91.943359375\n",
      "21/2/2022 16:13:06 True 91.650390625\n",
      "21/2/2022 16:08:06 True 91.552734375\n",
      "21/2/2022 16:03:06 True 91.943359375\n",
      "21/2/2022 15:58:06 True 91.650390625\n",
      "21/2/2022 15:53:06 True 91.748046875\n",
      "21/2/2022 15:48:06 True 91.748046875\n",
      "21/2/2022 15:43:06 True 91.748046875\n",
      "21/2/2022 15:38:06 True 91.50390625\n",
      "21/2/2022 15:33:06 True 91.69921875\n",
      "21/2/2022 15:28:06 True 91.455078125\n"
     ]
    }
   ],
   "source": [
    "# Realizar la consulta:\n",
    "\n",
    "# When a positive interval (span) is specified, the interval calculation begins at the earliest bounding time in the \n",
    "# timeRange and applies the interval repeatedly in time ascending direction to generate the calculation intervals.\n",
    "# If a negative interval is specified, the interval calculation begins at the latest bounding time in the timeRange and \n",
    "# applies the interval repeatedly in time descending direction to generate the calculation intervals. Note that the order of values returned will still be reflected by the timeRange, regardless of the interval sign.\n",
    "\n",
    "values_lst = attr.Data.InterpolatedValues(timerange, span, attr.DisplayUOM, \"\", False)\n",
    "# Valores:\n",
    "print('Elemento:', attr.Element.Name, 'Attribute:', attr.Name, 'Span:', span, 'Time Range:', timerange)\n",
    "for val in values_lst:\n",
    "    print(val.Timestamp, val.IsGood, val.Value)"
   ]
  },
  {
   "cell_type": "code",
   "execution_count": null,
   "id": "624f485a-0b04-4e8f-b3b4-05eb3ab96073",
   "metadata": {},
   "outputs": [],
   "source": []
  },
  {
   "cell_type": "code",
   "execution_count": null,
   "id": "969012b9-d355-4970-a560-0d4798c2cf53",
   "metadata": {},
   "outputs": [],
   "source": []
  },
  {
   "cell_type": "code",
   "execution_count": null,
   "id": "0cf6c656-7aef-4988-849b-5a6ca3de9258",
   "metadata": {},
   "outputs": [],
   "source": []
  },
  {
   "cell_type": "code",
   "execution_count": null,
   "id": "a5f60065-9294-429a-b2f3-47f35be0e795",
   "metadata": {},
   "outputs": [],
   "source": []
  },
  {
   "cell_type": "code",
   "execution_count": null,
   "id": "db25bd64-a86c-49ff-b738-39af17152ecc",
   "metadata": {},
   "outputs": [],
   "source": []
  },
  {
   "cell_type": "code",
   "execution_count": 175,
   "id": "4e7fc5b5-60ed-45f9-be46-6d6e8b0108c8",
   "metadata": {},
   "outputs": [],
   "source": [
    "add_1_hour = timedelta(hours=1)\n",
    "\n",
    "dataset_1 = list()\n",
    "\n",
    "for val in values_lst:\n",
    "    if val.IsGood:\n",
    "        timestamp = datetime(val.Timestamp.LocalTime.Year, val.Timestamp.LocalTime.Month, val.Timestamp.LocalTime.Day, \n",
    "                            val.Timestamp.LocalTime.Hour, val.Timestamp.LocalTime.Minute, val.Timestamp.LocalTime.Second)\n",
    "        dataset_1.append([val.Attribute.Element.Name, val.Attribute.Name, val.Timestamp, val.Value, val.Attribute.DisplayUOM])"
   ]
  },
  {
   "cell_type": "code",
   "execution_count": 176,
   "id": "2ba794c7-b463-46c1-92b4-c536970ec4e4",
   "metadata": {},
   "outputs": [
    {
     "data": {
      "text/html": [
       "<div>\n",
       "<style scoped>\n",
       "    .dataframe tbody tr th:only-of-type {\n",
       "        vertical-align: middle;\n",
       "    }\n",
       "\n",
       "    .dataframe tbody tr th {\n",
       "        vertical-align: top;\n",
       "    }\n",
       "\n",
       "    .dataframe thead th {\n",
       "        text-align: right;\n",
       "    }\n",
       "</style>\n",
       "<table border=\"1\" class=\"dataframe\">\n",
       "  <thead>\n",
       "    <tr style=\"text-align: right;\">\n",
       "      <th></th>\n",
       "      <th>Asset</th>\n",
       "      <th>Attribute</th>\n",
       "      <th>Timestamp</th>\n",
       "      <th>Value</th>\n",
       "      <th>UOM</th>\n",
       "    </tr>\n",
       "  </thead>\n",
       "  <tbody>\n",
       "    <tr>\n",
       "      <th>0</th>\n",
       "      <td>Sierra Chata</td>\n",
       "      <td>Caudal Instantáneo Area</td>\n",
       "      <td>1/2/2022 15:08:12</td>\n",
       "      <td>2090.753931</td>\n",
       "      <td>Miles Metros Cubicos</td>\n",
       "    </tr>\n",
       "    <tr>\n",
       "      <th>1</th>\n",
       "      <td>Sierra Chata</td>\n",
       "      <td>Caudal Instantáneo Area</td>\n",
       "      <td>1/2/2022 15:08:04</td>\n",
       "      <td>2090.458989</td>\n",
       "      <td>Miles Metros Cubicos</td>\n",
       "    </tr>\n",
       "    <tr>\n",
       "      <th>2</th>\n",
       "      <td>Sierra Chata</td>\n",
       "      <td>Caudal Instantáneo Area</td>\n",
       "      <td>1/2/2022 15:07:59</td>\n",
       "      <td>2088.224236</td>\n",
       "      <td>Miles Metros Cubicos</td>\n",
       "    </tr>\n",
       "    <tr>\n",
       "      <th>3</th>\n",
       "      <td>Sierra Chata</td>\n",
       "      <td>Caudal Instantáneo Area</td>\n",
       "      <td>1/2/2022 15:07:57</td>\n",
       "      <td>2088.178801</td>\n",
       "      <td>Miles Metros Cubicos</td>\n",
       "    </tr>\n",
       "    <tr>\n",
       "      <th>4</th>\n",
       "      <td>Sierra Chata</td>\n",
       "      <td>Caudal Instantáneo Area</td>\n",
       "      <td>1/2/2022 15:07:54</td>\n",
       "      <td>2089.928728</td>\n",
       "      <td>Miles Metros Cubicos</td>\n",
       "    </tr>\n",
       "    <tr>\n",
       "      <th>5</th>\n",
       "      <td>Sierra Chata</td>\n",
       "      <td>Caudal Instantáneo Area</td>\n",
       "      <td>1/2/2022 15:07:49</td>\n",
       "      <td>2098.917636</td>\n",
       "      <td>Miles Metros Cubicos</td>\n",
       "    </tr>\n",
       "    <tr>\n",
       "      <th>6</th>\n",
       "      <td>Sierra Chata</td>\n",
       "      <td>Caudal Instantáneo Area</td>\n",
       "      <td>1/2/2022 15:07:44</td>\n",
       "      <td>2104.139022</td>\n",
       "      <td>Miles Metros Cubicos</td>\n",
       "    </tr>\n",
       "    <tr>\n",
       "      <th>7</th>\n",
       "      <td>Sierra Chata</td>\n",
       "      <td>Caudal Instantáneo Area</td>\n",
       "      <td>1/2/2022 15:07:42</td>\n",
       "      <td>2104.306879</td>\n",
       "      <td>Miles Metros Cubicos</td>\n",
       "    </tr>\n",
       "    <tr>\n",
       "      <th>8</th>\n",
       "      <td>Sierra Chata</td>\n",
       "      <td>Caudal Instantáneo Area</td>\n",
       "      <td>1/2/2022 15:07:34</td>\n",
       "      <td>2098.890522</td>\n",
       "      <td>Miles Metros Cubicos</td>\n",
       "    </tr>\n",
       "    <tr>\n",
       "      <th>9</th>\n",
       "      <td>Sierra Chata</td>\n",
       "      <td>Caudal Instantáneo Area</td>\n",
       "      <td>1/2/2022 15:07:29</td>\n",
       "      <td>2098.855289</td>\n",
       "      <td>Miles Metros Cubicos</td>\n",
       "    </tr>\n",
       "    <tr>\n",
       "      <th>10</th>\n",
       "      <td>Sierra Chata</td>\n",
       "      <td>Caudal Instantáneo Area</td>\n",
       "      <td>1/2/2022 15:07:27</td>\n",
       "      <td>2097.449892</td>\n",
       "      <td>Miles Metros Cubicos</td>\n",
       "    </tr>\n",
       "    <tr>\n",
       "      <th>11</th>\n",
       "      <td>Sierra Chata</td>\n",
       "      <td>Caudal Instantáneo Area</td>\n",
       "      <td>1/2/2022 15:07:24</td>\n",
       "      <td>2098.700829</td>\n",
       "      <td>Miles Metros Cubicos</td>\n",
       "    </tr>\n",
       "    <tr>\n",
       "      <th>12</th>\n",
       "      <td>Sierra Chata</td>\n",
       "      <td>Caudal Instantáneo Area</td>\n",
       "      <td>1/2/2022 15:07:19</td>\n",
       "      <td>2095.989003</td>\n",
       "      <td>Miles Metros Cubicos</td>\n",
       "    </tr>\n",
       "  </tbody>\n",
       "</table>\n",
       "</div>"
      ],
      "text/plain": [
       "           Asset                Attribute          Timestamp        Value  \\\n",
       "0   Sierra Chata  Caudal Instantáneo Area  1/2/2022 15:08:12  2090.753931   \n",
       "1   Sierra Chata  Caudal Instantáneo Area  1/2/2022 15:08:04  2090.458989   \n",
       "2   Sierra Chata  Caudal Instantáneo Area  1/2/2022 15:07:59  2088.224236   \n",
       "3   Sierra Chata  Caudal Instantáneo Area  1/2/2022 15:07:57  2088.178801   \n",
       "4   Sierra Chata  Caudal Instantáneo Area  1/2/2022 15:07:54  2089.928728   \n",
       "5   Sierra Chata  Caudal Instantáneo Area  1/2/2022 15:07:49  2098.917636   \n",
       "6   Sierra Chata  Caudal Instantáneo Area  1/2/2022 15:07:44  2104.139022   \n",
       "7   Sierra Chata  Caudal Instantáneo Area  1/2/2022 15:07:42  2104.306879   \n",
       "8   Sierra Chata  Caudal Instantáneo Area  1/2/2022 15:07:34  2098.890522   \n",
       "9   Sierra Chata  Caudal Instantáneo Area  1/2/2022 15:07:29  2098.855289   \n",
       "10  Sierra Chata  Caudal Instantáneo Area  1/2/2022 15:07:27  2097.449892   \n",
       "11  Sierra Chata  Caudal Instantáneo Area  1/2/2022 15:07:24  2098.700829   \n",
       "12  Sierra Chata  Caudal Instantáneo Area  1/2/2022 15:07:19  2095.989003   \n",
       "\n",
       "                     UOM  \n",
       "0   Miles Metros Cubicos  \n",
       "1   Miles Metros Cubicos  \n",
       "2   Miles Metros Cubicos  \n",
       "3   Miles Metros Cubicos  \n",
       "4   Miles Metros Cubicos  \n",
       "5   Miles Metros Cubicos  \n",
       "6   Miles Metros Cubicos  \n",
       "7   Miles Metros Cubicos  \n",
       "8   Miles Metros Cubicos  \n",
       "9   Miles Metros Cubicos  \n",
       "10  Miles Metros Cubicos  \n",
       "11  Miles Metros Cubicos  \n",
       "12  Miles Metros Cubicos  "
      ]
     },
     "execution_count": 176,
     "metadata": {},
     "output_type": "execute_result"
    }
   ],
   "source": [
    "df = pd.DataFrame(dataset_1, columns=['Asset', 'Attribute', 'Timestamp', 'Value', 'UOM'])\n",
    "df"
   ]
  },
  {
   "cell_type": "code",
   "execution_count": null,
   "id": "62fbdb16-476c-46c2-8b08-0386e6159577",
   "metadata": {},
   "outputs": [],
   "source": []
  },
  {
   "cell_type": "code",
   "execution_count": null,
   "id": "61ed3f20-bee9-4cc7-9b9f-a7321f442744",
   "metadata": {},
   "outputs": [],
   "source": []
  },
  {
   "cell_type": "code",
   "execution_count": null,
   "id": "903e7f9b-507c-471c-a22e-ba033ed25d1e",
   "metadata": {},
   "outputs": [],
   "source": []
  },
  {
   "cell_type": "code",
   "execution_count": null,
   "id": "19c03db7-f0ba-4c1a-8594-a823e2ae1536",
   "metadata": {},
   "outputs": [],
   "source": []
  },
  {
   "cell_type": "code",
   "execution_count": null,
   "id": "b4fa5b3a-d802-48e2-8ad6-f6463c88805e",
   "metadata": {},
   "outputs": [],
   "source": []
  },
  {
   "cell_type": "code",
   "execution_count": null,
   "id": "d6178151-37b3-4e43-b2c6-763a28ed51c3",
   "metadata": {},
   "outputs": [],
   "source": []
  },
  {
   "cell_type": "code",
   "execution_count": null,
   "id": "6fac0128-3f46-40b6-bef0-d7fa379531b9",
   "metadata": {},
   "outputs": [],
   "source": []
  },
  {
   "cell_type": "code",
   "execution_count": 39,
   "id": "803f56ab-8dd4-4255-993f-131e7461fd52",
   "metadata": {},
   "outputs": [
    {
     "name": "stdout",
     "output_type": "stream",
     "text": [
      "21/2/2022 16:24:08 21/2/2022 16:19:08 -5m\n"
     ]
    }
   ],
   "source": [
    "# Defino un rango de tiempo para consultas de datos históricos\n",
    "\n",
    "#myTimeRange.StartTime = New AFTime(DateTime.UtcNow.AddHours(-1))\n",
    "#myTimeRange.EndTime = AFTime.Now\n",
    "#### Tiempo Absoluto:\n",
    "#timerange_start = AFTime('2022-01-28 00:00:00')\n",
    "#### Tiempo Relativo:\n",
    "timerange_start = AFTime('*')\n",
    "timerange_span = AFTimeSpan.Parse('-5m') # 1h, 1d, para restar tiempo: -1m, -1h, etc\n",
    "timerange_end = AFTime.op_Addition(timerange_start, timerange_span)\n",
    "timerange = AFTimeRange(timerange_start, timerange_end)\n",
    "print(timerange_start, timerange_end, timerange_span)\n",
    "\n",
    "#timerange = AFTimeRange(\"*-31d\", \"*-30d\")\n",
    "#print(type(timerange), timerange.StartTime, timerange.EndTime, timerange.Span) # Span parece que es en días."
   ]
  },
  {
   "cell_type": "markdown",
   "id": "f353e31f-76ea-4255-bc22-b3dd8ee58354",
   "metadata": {},
   "source": [
    "## Consulta de Valores Guardados (no interpolados)"
   ]
  },
  {
   "cell_type": "code",
   "execution_count": 174,
   "id": "c4187787-13ca-4ab8-b275-67eff1d1ddd2",
   "metadata": {},
   "outputs": [
    {
     "name": "stdout",
     "output_type": "stream",
     "text": [
      "Elemento: Sierra Chata Attribute: Caudal Instantáneo Area Time Range: 1/2/2022 15:08:18 - 1/2/2022 15:07:18\n",
      "1/2/2022 15:08:12 True 2090.7539309638023\n",
      "1/2/2022 15:08:04 True 2090.458989040634\n",
      "1/2/2022 15:07:59 True 2088.2242362918523\n",
      "1/2/2022 15:07:57 True 2088.1788011490903\n",
      "1/2/2022 15:07:54 True 2089.9287282441674\n",
      "1/2/2022 15:07:49 True 2098.917635505719\n",
      "1/2/2022 15:07:44 True 2104.139021712268\n",
      "1/2/2022 15:07:42 True 2104.306878703034\n",
      "1/2/2022 15:07:34 True 2098.8905217051506\n",
      "1/2/2022 15:07:29 True 2098.8552889497964\n",
      "1/2/2022 15:07:27 True 2097.4498923020205\n",
      "1/2/2022 15:07:24 True 2098.7008290944195\n",
      "1/2/2022 15:07:19 True 2095.989003284382\n"
     ]
    }
   ],
   "source": [
    "################ RECORDED VALUES ##########################\n",
    "# https://docs.osisoft.com/bundle/af-sdk/page/html/T_OSIsoft_AF_Data_AFData.htm: \n",
    "# The AFData object is associated with a single AFAttribute and is used to retrieve and set extended historical data. \n",
    "# It is accessed through the Data property of an AFAttribute.\n",
    "values_lst = attr.Data.RecordedValues(timerange, AFBoundaryType.Inside, attr.DisplayUOM, \"\", False, 24)\n",
    "# Valores:\n",
    "print('Elemento:', attr.Element.Name, 'Attribute:', attr.Name, 'Time Range:', timerange)\n",
    "for val in values_lst:\n",
    "    print(val.Timestamp, val.IsGood, val.Value)"
   ]
  },
  {
   "cell_type": "markdown",
   "id": "9d564033-5956-45d7-84eb-bf81fbc55286",
   "metadata": {},
   "source": [
    "## Consulta de Valores Interpolados"
   ]
  },
  {
   "cell_type": "code",
   "execution_count": 41,
   "id": "cc6285dc-554f-4dd1-bf94-2a34615f0412",
   "metadata": {},
   "outputs": [
    {
     "name": "stdout",
     "output_type": "stream",
     "text": [
      "TimeSpan  5m\n"
     ]
    }
   ],
   "source": [
    "################ INTERPOLATED VALUES ###########################\n",
    "# Definir el intervalo de consulta:\n",
    "\n",
    "# A AFTimeSpan represents a time interval (duration of time or elapsed time) that is measured as a positive or negative \n",
    "# number of years, months, days, hours, minutes, seconds, milliseconds, and fractions of a millisecond. \n",
    "# Create AFTimeSpan using constructor\n",
    "\n",
    "now = AFTime.Now\n",
    "span = AFTimeSpan.Parse('5m')\n",
    "print(\"TimeSpan \", span)"
   ]
  },
  {
   "cell_type": "code",
   "execution_count": 47,
   "id": "3d742723-642e-4734-91f9-37b5e001927a",
   "metadata": {},
   "outputs": [
    {
     "name": "stdout",
     "output_type": "stream",
     "text": [
      "21/2/2022 16:28:06 21/2/2022 15:28:06 -1hr\n"
     ]
    }
   ],
   "source": [
    "# Defino un rango de tiempo para consultas de datos históricos\n",
    "\n",
    "#myTimeRange.StartTime = New AFTime(DateTime.UtcNow.AddHours(-1))\n",
    "#myTimeRange.EndTime = AFTime.Now\n",
    "#### Tiempo Absoluto:\n",
    "#timerange_start = AFTime('2022-01-28 00:00:00')\n",
    "#### Tiempo Relativo:\n",
    "timerange_start = AFTime('*')\n",
    "timerange_span = AFTimeSpan.Parse('-1h') # 1h, 1d, para restar tiempo: -1m, -1h, etc\n",
    "timerange_end = AFTime.op_Addition(timerange_start, timerange_span)\n",
    "timerange = AFTimeRange(timerange_start, timerange_end)\n",
    "print(timerange_start, timerange_end, timerange_span)\n",
    "\n",
    "#timerange = AFTimeRange(\"*-31d\", \"*-30d\")\n",
    "#print(type(timerange), timerange.StartTime, timerange.EndTime, timerange.Span) # Span parece que es en días."
   ]
  },
  {
   "cell_type": "code",
   "execution_count": 48,
   "id": "3f5d568d-28b9-4169-be38-9487482a4f5c",
   "metadata": {},
   "outputs": [
    {
     "name": "stdout",
     "output_type": "stream",
     "text": [
      "Elemento: K-01 Attribute: Carga Motriz Compresor Span: 5m Time Range: 21/2/2022 16:28:06 - 21/2/2022 15:28:06\n",
      "21/2/2022 16:28:06 True 91.748046875\n",
      "21/2/2022 16:23:06 True 91.943359375\n",
      "21/2/2022 16:18:06 True 91.943359375\n",
      "21/2/2022 16:13:06 True 91.650390625\n",
      "21/2/2022 16:08:06 True 91.552734375\n",
      "21/2/2022 16:03:06 True 91.943359375\n",
      "21/2/2022 15:58:06 True 91.650390625\n",
      "21/2/2022 15:53:06 True 91.748046875\n",
      "21/2/2022 15:48:06 True 91.748046875\n",
      "21/2/2022 15:43:06 True 91.748046875\n",
      "21/2/2022 15:38:06 True 91.50390625\n",
      "21/2/2022 15:33:06 True 91.69921875\n",
      "21/2/2022 15:28:06 True 91.455078125\n"
     ]
    }
   ],
   "source": [
    "# Realizar la consulta:\n",
    "\n",
    "# When a positive interval (span) is specified, the interval calculation begins at the earliest bounding time in the \n",
    "# timeRange and applies the interval repeatedly in time ascending direction to generate the calculation intervals.\n",
    "# If a negative interval is specified, the interval calculation begins at the latest bounding time in the timeRange and \n",
    "# applies the interval repeatedly in time descending direction to generate the calculation intervals. Note that the order of values returned will still be reflected by the timeRange, regardless of the interval sign.\n",
    "\n",
    "values_lst = attr.Data.InterpolatedValues(timerange, span, attr.DisplayUOM, \"\", False)\n",
    "# Valores:\n",
    "print('Elemento:', attr.Element.Name, 'Attribute:', attr.Name, 'Span:', span, 'Time Range:', timerange)\n",
    "for val in values_lst:\n",
    "    print(val.Timestamp, val.IsGood, val.Value)"
   ]
  },
  {
   "cell_type": "markdown",
   "id": "a042cb13-f7fb-424e-b94e-c44e9c53f5af",
   "metadata": {},
   "source": [
    "## Consulta de Valores Agregados"
   ]
  },
  {
   "cell_type": "code",
   "execution_count": 185,
   "id": "66551011-36f3-4fa1-ad41-82495e9ceed8",
   "metadata": {},
   "outputs": [
    {
     "name": "stdout",
     "output_type": "stream",
     "text": [
      "Elemento: Sierra Chata Atributo: Caudal Instantáneo Area Intervalo: 29/1/2022 18:56:03 - 1/2/2022 18:56:03 Span 1d Average\n",
      "29/1/2022 18:56:03 2002.6858600976068\n",
      "30/1/2022 18:56:03 2034.53307924541\n",
      "31/1/2022 18:56:03 2083.6623124662365\n"
     ]
    }
   ],
   "source": [
    "timerange = AFTimeRange(\"*-3d\", \"*\")\n",
    "span = AFTimeSpan.Parse('1d')\n",
    "# Data.Summaries devuelve un iterable, por eso me quedo en el primer elemento (que es de tipo AFValues), sino, usar Summary()\n",
    "# https://docs.osisoft.com/bundle/af-sdk/page/html/T_OSIsoft_AF_Data_AFCalculationBasis.htm\n",
    "summaries = list(attr.Data.Summaries(timerange, span, AFSummaryTypes.Average, AFCalculationBasis.TimeWeighted, \n",
    "                                        AFTimestampCalculation.Auto))[0].Value\n",
    "#summaries = attr.Data.Summary(timerange, AFSummaryTypes.Average, AFCalculationBasis.TimeWeighted, AFTimestampCalculation.Auto)\n",
    "print('Elemento:', attr.Element.Name, 'Atributo:', attr.Name, 'Intervalo:', timerange, 'Span', span, 'Average')\n",
    "for summ in summaries:\n",
    "    # Cuando uso Summary() no tiene el atributo Timestamp print(summ.Key, summ.Value)\n",
    "    print(summ.Timestamp, summ.Value)"
   ]
  },
  {
   "cell_type": "markdown",
   "id": "2f2be5fe-48b2-4d70-95a3-44d32e00a7c2",
   "metadata": {},
   "source": [
    "## Convertir los datos a un Pandas Database"
   ]
  },
  {
   "cell_type": "code",
   "execution_count": 175,
   "id": "66c2d6a1-0200-4f67-857a-99768385545d",
   "metadata": {},
   "outputs": [],
   "source": [
    "add_1_hour = timedelta(hours=1)\n",
    "\n",
    "dataset_1 = list()\n",
    "\n",
    "for val in values_lst:\n",
    "    if val.IsGood:\n",
    "        timestamp = datetime(val.Timestamp.LocalTime.Year, val.Timestamp.LocalTime.Month, val.Timestamp.LocalTime.Day, \n",
    "                            val.Timestamp.LocalTime.Hour, val.Timestamp.LocalTime.Minute, val.Timestamp.LocalTime.Second)\n",
    "        dataset_1.append([val.Attribute.Element.Name, val.Attribute.Name, val.Timestamp, val.Value, val.Attribute.DisplayUOM])"
   ]
  },
  {
   "cell_type": "code",
   "execution_count": 176,
   "id": "fc9acf96-6e3b-4974-9592-81cef8c62be7",
   "metadata": {},
   "outputs": [
    {
     "data": {
      "text/html": [
       "<div>\n",
       "<style scoped>\n",
       "    .dataframe tbody tr th:only-of-type {\n",
       "        vertical-align: middle;\n",
       "    }\n",
       "\n",
       "    .dataframe tbody tr th {\n",
       "        vertical-align: top;\n",
       "    }\n",
       "\n",
       "    .dataframe thead th {\n",
       "        text-align: right;\n",
       "    }\n",
       "</style>\n",
       "<table border=\"1\" class=\"dataframe\">\n",
       "  <thead>\n",
       "    <tr style=\"text-align: right;\">\n",
       "      <th></th>\n",
       "      <th>Asset</th>\n",
       "      <th>Attribute</th>\n",
       "      <th>Timestamp</th>\n",
       "      <th>Value</th>\n",
       "      <th>UOM</th>\n",
       "    </tr>\n",
       "  </thead>\n",
       "  <tbody>\n",
       "    <tr>\n",
       "      <th>0</th>\n",
       "      <td>Sierra Chata</td>\n",
       "      <td>Caudal Instantáneo Area</td>\n",
       "      <td>1/2/2022 15:08:12</td>\n",
       "      <td>2090.753931</td>\n",
       "      <td>Miles Metros Cubicos</td>\n",
       "    </tr>\n",
       "    <tr>\n",
       "      <th>1</th>\n",
       "      <td>Sierra Chata</td>\n",
       "      <td>Caudal Instantáneo Area</td>\n",
       "      <td>1/2/2022 15:08:04</td>\n",
       "      <td>2090.458989</td>\n",
       "      <td>Miles Metros Cubicos</td>\n",
       "    </tr>\n",
       "    <tr>\n",
       "      <th>2</th>\n",
       "      <td>Sierra Chata</td>\n",
       "      <td>Caudal Instantáneo Area</td>\n",
       "      <td>1/2/2022 15:07:59</td>\n",
       "      <td>2088.224236</td>\n",
       "      <td>Miles Metros Cubicos</td>\n",
       "    </tr>\n",
       "    <tr>\n",
       "      <th>3</th>\n",
       "      <td>Sierra Chata</td>\n",
       "      <td>Caudal Instantáneo Area</td>\n",
       "      <td>1/2/2022 15:07:57</td>\n",
       "      <td>2088.178801</td>\n",
       "      <td>Miles Metros Cubicos</td>\n",
       "    </tr>\n",
       "    <tr>\n",
       "      <th>4</th>\n",
       "      <td>Sierra Chata</td>\n",
       "      <td>Caudal Instantáneo Area</td>\n",
       "      <td>1/2/2022 15:07:54</td>\n",
       "      <td>2089.928728</td>\n",
       "      <td>Miles Metros Cubicos</td>\n",
       "    </tr>\n",
       "    <tr>\n",
       "      <th>5</th>\n",
       "      <td>Sierra Chata</td>\n",
       "      <td>Caudal Instantáneo Area</td>\n",
       "      <td>1/2/2022 15:07:49</td>\n",
       "      <td>2098.917636</td>\n",
       "      <td>Miles Metros Cubicos</td>\n",
       "    </tr>\n",
       "    <tr>\n",
       "      <th>6</th>\n",
       "      <td>Sierra Chata</td>\n",
       "      <td>Caudal Instantáneo Area</td>\n",
       "      <td>1/2/2022 15:07:44</td>\n",
       "      <td>2104.139022</td>\n",
       "      <td>Miles Metros Cubicos</td>\n",
       "    </tr>\n",
       "    <tr>\n",
       "      <th>7</th>\n",
       "      <td>Sierra Chata</td>\n",
       "      <td>Caudal Instantáneo Area</td>\n",
       "      <td>1/2/2022 15:07:42</td>\n",
       "      <td>2104.306879</td>\n",
       "      <td>Miles Metros Cubicos</td>\n",
       "    </tr>\n",
       "    <tr>\n",
       "      <th>8</th>\n",
       "      <td>Sierra Chata</td>\n",
       "      <td>Caudal Instantáneo Area</td>\n",
       "      <td>1/2/2022 15:07:34</td>\n",
       "      <td>2098.890522</td>\n",
       "      <td>Miles Metros Cubicos</td>\n",
       "    </tr>\n",
       "    <tr>\n",
       "      <th>9</th>\n",
       "      <td>Sierra Chata</td>\n",
       "      <td>Caudal Instantáneo Area</td>\n",
       "      <td>1/2/2022 15:07:29</td>\n",
       "      <td>2098.855289</td>\n",
       "      <td>Miles Metros Cubicos</td>\n",
       "    </tr>\n",
       "    <tr>\n",
       "      <th>10</th>\n",
       "      <td>Sierra Chata</td>\n",
       "      <td>Caudal Instantáneo Area</td>\n",
       "      <td>1/2/2022 15:07:27</td>\n",
       "      <td>2097.449892</td>\n",
       "      <td>Miles Metros Cubicos</td>\n",
       "    </tr>\n",
       "    <tr>\n",
       "      <th>11</th>\n",
       "      <td>Sierra Chata</td>\n",
       "      <td>Caudal Instantáneo Area</td>\n",
       "      <td>1/2/2022 15:07:24</td>\n",
       "      <td>2098.700829</td>\n",
       "      <td>Miles Metros Cubicos</td>\n",
       "    </tr>\n",
       "    <tr>\n",
       "      <th>12</th>\n",
       "      <td>Sierra Chata</td>\n",
       "      <td>Caudal Instantáneo Area</td>\n",
       "      <td>1/2/2022 15:07:19</td>\n",
       "      <td>2095.989003</td>\n",
       "      <td>Miles Metros Cubicos</td>\n",
       "    </tr>\n",
       "  </tbody>\n",
       "</table>\n",
       "</div>"
      ],
      "text/plain": [
       "           Asset                Attribute          Timestamp        Value  \\\n",
       "0   Sierra Chata  Caudal Instantáneo Area  1/2/2022 15:08:12  2090.753931   \n",
       "1   Sierra Chata  Caudal Instantáneo Area  1/2/2022 15:08:04  2090.458989   \n",
       "2   Sierra Chata  Caudal Instantáneo Area  1/2/2022 15:07:59  2088.224236   \n",
       "3   Sierra Chata  Caudal Instantáneo Area  1/2/2022 15:07:57  2088.178801   \n",
       "4   Sierra Chata  Caudal Instantáneo Area  1/2/2022 15:07:54  2089.928728   \n",
       "5   Sierra Chata  Caudal Instantáneo Area  1/2/2022 15:07:49  2098.917636   \n",
       "6   Sierra Chata  Caudal Instantáneo Area  1/2/2022 15:07:44  2104.139022   \n",
       "7   Sierra Chata  Caudal Instantáneo Area  1/2/2022 15:07:42  2104.306879   \n",
       "8   Sierra Chata  Caudal Instantáneo Area  1/2/2022 15:07:34  2098.890522   \n",
       "9   Sierra Chata  Caudal Instantáneo Area  1/2/2022 15:07:29  2098.855289   \n",
       "10  Sierra Chata  Caudal Instantáneo Area  1/2/2022 15:07:27  2097.449892   \n",
       "11  Sierra Chata  Caudal Instantáneo Area  1/2/2022 15:07:24  2098.700829   \n",
       "12  Sierra Chata  Caudal Instantáneo Area  1/2/2022 15:07:19  2095.989003   \n",
       "\n",
       "                     UOM  \n",
       "0   Miles Metros Cubicos  \n",
       "1   Miles Metros Cubicos  \n",
       "2   Miles Metros Cubicos  \n",
       "3   Miles Metros Cubicos  \n",
       "4   Miles Metros Cubicos  \n",
       "5   Miles Metros Cubicos  \n",
       "6   Miles Metros Cubicos  \n",
       "7   Miles Metros Cubicos  \n",
       "8   Miles Metros Cubicos  \n",
       "9   Miles Metros Cubicos  \n",
       "10  Miles Metros Cubicos  \n",
       "11  Miles Metros Cubicos  \n",
       "12  Miles Metros Cubicos  "
      ]
     },
     "execution_count": 176,
     "metadata": {},
     "output_type": "execute_result"
    }
   ],
   "source": [
    "df = pd.DataFrame(dataset_1, columns=['Asset', 'Attribute', 'Timestamp', 'Value', 'UOM'])\n",
    "df"
   ]
  },
  {
   "cell_type": "markdown",
   "id": "fbf8169a-17d5-4f96-b518-d49e4bd1f6b8",
   "metadata": {},
   "source": [
    "# Otra Forma no tan clara"
   ]
  },
  {
   "cell_type": "code",
   "execution_count": 108,
   "id": "ddfd8257-6603-41a8-b820-c3a355265cd1",
   "metadata": {},
   "outputs": [],
   "source": [
    "# GetValues(AFTimeRange timeRange, int numberOfValues, UOM desiredUOM) \n",
    "# numberOfValues: If 0, then all recorded values within the timeRange will be returned with an interpolated value at the start\n",
    "# and end time, if possible. If less than zero: will return evenly spaced interpolated values across the timeRange, \n",
    "# with a value returned at both end points of the time range. For example, specifying -25 over a 24 hour period will produce \n",
    "# an hourly value.\n",
    "# If the number of values requested is greater than zero, the method will behave like the PlotValues method.\n",
    "values = attr.GetValues(timerange, 0, attr.DisplayUOM)\n",
    "values_lst = list(values)"
   ]
  },
  {
   "cell_type": "code",
   "execution_count": 109,
   "id": "e37b0cc6-9c11-4df7-96bc-f069af8c3a92",
   "metadata": {},
   "outputs": [
    {
     "name": "stdout",
     "output_type": "stream",
     "text": [
      "Sierra Chata Caudal Instantáneo Area Miles Metros Cubicos\n",
      "1/2/2022 14:29:49 2074.6775240898132 Miles Metros Cubicos\n",
      "Sierra Chata Caudal Instantáneo Area Miles Metros Cubicos\n",
      "1/2/2022 14:29:44 2074.6775240898132 Miles Metros Cubicos\n",
      "Sierra Chata Caudal Instantáneo Area Miles Metros Cubicos\n",
      "1/2/2022 14:29:42 2074.6791453988267 Miles Metros Cubicos\n",
      "Sierra Chata Caudal Instantáneo Area Miles Metros Cubicos\n",
      "1/2/2022 14:29:34 2077.2211876511574 Miles Metros Cubicos\n",
      "Sierra Chata Caudal Instantáneo Area Miles Metros Cubicos\n",
      "1/2/2022 14:29:29 2077.8977283798977 Miles Metros Cubicos\n",
      "Sierra Chata Caudal Instantáneo Area Miles Metros Cubicos\n",
      "1/2/2022 14:29:27 2047.7712358088943 Miles Metros Cubicos\n",
      "Sierra Chata Caudal Instantáneo Area Miles Metros Cubicos\n",
      "1/2/2022 14:29:24 2049.5392437041837 Miles Metros Cubicos\n",
      "Sierra Chata Caudal Instantáneo Area Miles Metros Cubicos\n",
      "1/2/2022 14:29:19 2068.866398870945 Miles Metros Cubicos\n",
      "Sierra Chata Caudal Instantáneo Area Miles Metros Cubicos\n",
      "1/2/2022 14:29:14 2102.4010592103004 Miles Metros Cubicos\n",
      "Sierra Chata Caudal Instantáneo Area Miles Metros Cubicos\n",
      "1/2/2022 14:29:12 2102.3198974026946 Miles Metros Cubicos\n",
      "Sierra Chata Caudal Instantáneo Area Miles Metros Cubicos\n",
      "1/2/2022 14:29:04 2096.4456787109375 Miles Metros Cubicos\n",
      "Sierra Chata Caudal Instantáneo Area Miles Metros Cubicos\n",
      "1/2/2022 14:28:59 2096.613631955834 Miles Metros Cubicos\n",
      "Sierra Chata Caudal Instantáneo Area Miles Metros Cubicos\n",
      "1/2/2022 14:28:57 2095.7330864436644 Miles Metros Cubicos\n",
      "Sierra Chata Caudal Instantáneo Area Miles Metros Cubicos\n",
      "1/2/2022 14:28:54 2093.330760704771 Miles Metros Cubicos\n",
      "Sierra Chata Caudal Instantáneo Area Miles Metros Cubicos\n",
      "1/2/2022 14:28:49 2087.8392422952506 Miles Metros Cubicos\n"
     ]
    }
   ],
   "source": [
    "# OJO: los datos aparecen del más reciente al más antiguo:\n",
    "for value in values_lst:\n",
    "    print(value.Attribute.Element, value.Attribute, value.Attribute.DisplayUOM)\n",
    "    att_UOM = value.Attribute.DisplayUOM\n",
    "    print(value.Timestamp, value.Value, att_UOM)"
   ]
  },
  {
   "cell_type": "code",
   "execution_count": null,
   "id": "caad8377-462d-4822-a310-50a8ae7ecaee",
   "metadata": {},
   "outputs": [],
   "source": []
  }
 ],
 "metadata": {
  "kernelspec": {
   "display_name": "Python 3.8 (pycaret_env)",
   "language": "python",
   "name": "pycaret_env"
  },
  "language_info": {
   "codemirror_mode": {
    "name": "ipython",
    "version": 3
   },
   "file_extension": ".py",
   "mimetype": "text/x-python",
   "name": "python",
   "nbconvert_exporter": "python",
   "pygments_lexer": "ipython3",
   "version": "3.8.12"
  }
 },
 "nbformat": 4,
 "nbformat_minor": 5
}
