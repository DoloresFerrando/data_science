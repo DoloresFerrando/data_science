{
 "cells": [
  {
   "cell_type": "markdown",
   "id": "b1a5cc03-d904-4286-a63d-1425c7ff3406",
   "metadata": {},
   "source": [
    "Ejemplo de Forecasting con regresión para datos con series de tiempo: https://github.com/pycaret/pycaret/blob/time_series/examples/TimeSeries_Forecasting.ipynb"
   ]
  },
  {
   "cell_type": "code",
   "execution_count": null,
   "id": "aec4f2b7-92ac-4d4a-80fa-abe354d0ebd9",
   "metadata": {},
   "outputs": [],
   "source": []
  }
 ],
 "metadata": {
  "kernelspec": {
   "display_name": "Python 3.8 (pycaret_env)",
   "language": "python",
   "name": "pycaret_env"
  },
  "language_info": {
   "codemirror_mode": {
    "name": "ipython",
    "version": 3
   },
   "file_extension": ".py",
   "mimetype": "text/x-python",
   "name": "python",
   "nbconvert_exporter": "python",
   "pygments_lexer": "ipython3",
   "version": "3.8.12"
  }
 },
 "nbformat": 4,
 "nbformat_minor": 5
}
