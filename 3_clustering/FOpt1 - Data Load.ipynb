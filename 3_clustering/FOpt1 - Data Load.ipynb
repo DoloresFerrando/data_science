{
 "cells": [
  {
   "cell_type": "code",
   "execution_count": null,
   "id": "40f47ceb-a378-4975-a977-784bcde24a63",
   "metadata": {},
   "outputs": [],
   "source": []
  },
  {
   "cell_type": "code",
   "execution_count": 6,
   "id": "54924a8b-2437-478f-89ab-070251a43cb3",
   "metadata": {},
   "outputs": [],
   "source": [
    "# Initialization\n",
    "from pathlib import Path\n",
    "import os\n",
    "#import os.path"
   ]
  },
  {
   "cell_type": "code",
   "execution_count": 2,
   "id": "fc80e2cc-064c-43b6-a9f7-b9a033953544",
   "metadata": {},
   "outputs": [],
   "source": [
    "import numpy as np\n",
    "import pandas as pd"
   ]
  },
  {
   "cell_type": "code",
   "execution_count": 27,
   "id": "d0f29608-0ad7-4c7d-b638-3bd73d6b8b78",
   "metadata": {},
   "outputs": [],
   "source": [
    "import warnings\n",
    "warnings.filterwarnings(\"ignore\", category=Warning)"
   ]
  },
  {
   "cell_type": "code",
   "execution_count": 28,
   "id": "3f35882a-067d-4442-ab80-f60176c66b0e",
   "metadata": {},
   "outputs": [],
   "source": [
    "# Seteos de Pandas para ver mejor la info. https://pandas.pydata.org/pandas-docs/stable/user_guide/options.html\n",
    "# In max_columns and max_rows ‘None’ value means unlimited.\n",
    "pd.set_option('display.max_rows', 100)\n",
    "# Conviene setear min_rows también porque cuando se superan las max_rows, sólo muestra la cantidad indicada en min_rows.\n",
    "pd.set_option('display.min_rows', 10)\n",
    "pd.set_option('display.max_columns', 500)\n",
    "pd.set_option('display.width', 1000)\n",
    "pd.options.display.max_colwidth = 100\n",
    "pd.options.display.float_format = '{:.1f}'.format"
   ]
  },
  {
   "cell_type": "code",
   "execution_count": 3,
   "id": "c27628ca-e903-403d-95a6-a233443848cb",
   "metadata": {},
   "outputs": [],
   "source": [
    "# para analizar strings con regular expressions\n",
    "import re"
   ]
  },
  {
   "cell_type": "code",
   "execution_count": 4,
   "id": "2ca90327-2d2b-4943-a67c-57279e6eab02",
   "metadata": {},
   "outputs": [],
   "source": [
    "import datetime"
   ]
  },
  {
   "cell_type": "code",
   "execution_count": 15,
   "id": "af50571d-90a2-4174-9d59-f24350331d89",
   "metadata": {},
   "outputs": [],
   "source": [
    "#start_dir = os.getcwd()\n",
    "str_path = r'\\\\pfsnas01\\Depart\\DirE&P\\GTNOP\\01-RNQN\\4-Proyectos'\n",
    "p = Path(str_path)"
   ]
  },
  {
   "cell_type": "code",
   "execution_count": 38,
   "id": "9b788bfc-27b6-45d3-9ef4-80a8c086de9a",
   "metadata": {},
   "outputs": [
    {
     "name": "stdout",
     "output_type": "stream",
     "text": [
      "Process Start: 2022-03-08 14:27:20.046754\n",
      "Execution time: 0.00 hours 0.00 minutes 29.00 seconds\n"
     ]
    }
   ],
   "source": [
    "# https://stackoverflow.com/questions/6639394/what-is-the-python-way-to-walk-a-directory-tree\n",
    "# ** means “this directory and all subdirectories, recursively”\n",
    "start = datetime.datetime.now()\n",
    "print(\"Process Start:\", start)\n",
    "lst_files = []\n",
    "\n",
    "for path_object in p.glob('**/*'):\n",
    "    if path_object.parent == '\\\\pfsnas01\\Depart\\DirE&P\\GTNOP\\01-RNQN\\4-Proyectos\\Convencionales':\n",
    "        continue\n",
    "    if path_object.is_file() and path_object.suffix.lower() == '.las':\n",
    "        lst_file = [path_object.name, path_object.parent]\n",
    "        lst_files.append(lst_file)\n",
    "    #elif path_object.is_dir():\n",
    "    #    print(f\"hi, I'm a dir: {path_object}\")\n",
    "#    if '~' in file.name:\n",
    "#        print(os.path.join(root, name))\n",
    "#    for dir in dirs:\n",
    "#        print(os.path.join(root, name))\n",
    "\n",
    "df_final = pd.DataFrame(lst_files, columns=['file', 'path'])\n",
    "end = datetime.datetime.now()\n",
    "hours = (end-start).seconds//3600\n",
    "minutes = ((end-start).seconds - (hours * 3600))//60\n",
    "seconds = (end-start).seconds%60\n",
    "print('Execution time: {0:.2f} hours'.format(hours), '{0:.2f} minutes'.format(minutes), '{0:.2f} seconds'.format(seconds))\n",
    "df_final"
   ]
  },
  {
   "cell_type": "code",
   "execution_count": 44,
   "id": "8aefa9ba-1298-4ca5-8690-4596ccce0ec5",
   "metadata": {},
   "outputs": [
    {
     "data": {
      "text/html": [
       "<div>\n",
       "<style scoped>\n",
       "    .dataframe tbody tr th:only-of-type {\n",
       "        vertical-align: middle;\n",
       "    }\n",
       "\n",
       "    .dataframe tbody tr th {\n",
       "        vertical-align: top;\n",
       "    }\n",
       "\n",
       "    .dataframe thead th {\n",
       "        text-align: right;\n",
       "    }\n",
       "</style>\n",
       "<table border=\"1\" class=\"dataframe\">\n",
       "  <thead>\n",
       "    <tr style=\"text-align: right;\">\n",
       "      <th></th>\n",
       "      <th>file</th>\n",
       "      <th>parent</th>\n",
       "    </tr>\n",
       "  </thead>\n",
       "  <tbody>\n",
       "    <tr>\n",
       "      <th>0</th>\n",
       "      <td>RN.a-2009(d)_AIT-PPC-SONIC-GPIT_R3.1_TP.las</td>\n",
       "      <td>\\\\pfsnas01\\Depart\\DirE&amp;P\\GTNOP\\01-RNQN\\4-Proyectos\\4.0 Ejecucion 2017\\01-Pozos\\RN-2009\\01 Antece...</td>\n",
       "    </tr>\n",
       "    <tr>\n",
       "      <th>1</th>\n",
       "      <td>RN.a-2009(d)_AIT-PPC-SONIC-GPIT_R3.1_TR.las</td>\n",
       "      <td>\\\\pfsnas01\\Depart\\DirE&amp;P\\GTNOP\\01-RNQN\\4-Proyectos\\4.0 Ejecucion 2017\\01-Pozos\\RN-2009\\01 Antece...</td>\n",
       "    </tr>\n",
       "    <tr>\n",
       "      <th>2</th>\n",
       "      <td>RN.a-2009(d)_CALIPER_R3.1_TP.las</td>\n",
       "      <td>\\\\pfsnas01\\Depart\\DirE&amp;P\\GTNOP\\01-RNQN\\4-Proyectos\\4.0 Ejecucion 2017\\01-Pozos\\RN-2009\\01 Antece...</td>\n",
       "    </tr>\n",
       "    <tr>\n",
       "      <th>3</th>\n",
       "      <td>RN.a-2009(d)_CBL-VDL_R3.1_TP.las</td>\n",
       "      <td>\\\\pfsnas01\\Depart\\DirE&amp;P\\GTNOP\\01-RNQN\\4-Proyectos\\4.0 Ejecucion 2017\\01-Pozos\\RN-2009\\01 Antece...</td>\n",
       "    </tr>\n",
       "    <tr>\n",
       "      <th>4</th>\n",
       "      <td>RN.a-2009(d)_CBL-VDL_R3.1_TR.las</td>\n",
       "      <td>\\\\pfsnas01\\Depart\\DirE&amp;P\\GTNOP\\01-RNQN\\4-Proyectos\\4.0 Ejecucion 2017\\01-Pozos\\RN-2009\\01 Antece...</td>\n",
       "    </tr>\n",
       "    <tr>\n",
       "      <th>...</th>\n",
       "      <td>...</td>\n",
       "      <td>...</td>\n",
       "    </tr>\n",
       "    <tr>\n",
       "      <th>1287</th>\n",
       "      <td>rn-65_II.las</td>\n",
       "      <td>\\\\pfsnas01\\Depart\\DirE&amp;P\\GTNOP\\01-RNQN\\4-Proyectos\\Convencionales\\Quintuco\\LAS Provisorio\\RN-65</td>\n",
       "    </tr>\n",
       "    <tr>\n",
       "      <th>1288</th>\n",
       "      <td>RN-65_SPBS.LAS</td>\n",
       "      <td>\\\\pfsnas01\\Depart\\DirE&amp;P\\GTNOP\\01-RNQN\\4-Proyectos\\Convencionales\\Quintuco\\LAS Provisorio\\RN-65</td>\n",
       "    </tr>\n",
       "    <tr>\n",
       "      <th>1289</th>\n",
       "      <td>rn-66_I.las</td>\n",
       "      <td>\\\\pfsnas01\\Depart\\DirE&amp;P\\GTNOP\\01-RNQN\\4-Proyectos\\Convencionales\\Quintuco\\LAS Provisorio\\RN-66</td>\n",
       "    </tr>\n",
       "    <tr>\n",
       "      <th>1290</th>\n",
       "      <td>rn-66_II.las</td>\n",
       "      <td>\\\\pfsnas01\\Depart\\DirE&amp;P\\GTNOP\\01-RNQN\\4-Proyectos\\Convencionales\\Quintuco\\LAS Provisorio\\RN-66</td>\n",
       "    </tr>\n",
       "    <tr>\n",
       "      <th>1291</th>\n",
       "      <td>RN-66_SPBS.LAS</td>\n",
       "      <td>\\\\pfsnas01\\Depart\\DirE&amp;P\\GTNOP\\01-RNQN\\4-Proyectos\\Convencionales\\Quintuco\\LAS Provisorio\\RN-66</td>\n",
       "    </tr>\n",
       "  </tbody>\n",
       "</table>\n",
       "<p>1292 rows × 2 columns</p>\n",
       "</div>"
      ],
      "text/plain": [
       "                                             file                                                                                               parent\n",
       "0     RN.a-2009(d)_AIT-PPC-SONIC-GPIT_R3.1_TP.las  \\\\pfsnas01\\Depart\\DirE&P\\GTNOP\\01-RNQN\\4-Proyectos\\4.0 Ejecucion 2017\\01-Pozos\\RN-2009\\01 Antece...\n",
       "1     RN.a-2009(d)_AIT-PPC-SONIC-GPIT_R3.1_TR.las  \\\\pfsnas01\\Depart\\DirE&P\\GTNOP\\01-RNQN\\4-Proyectos\\4.0 Ejecucion 2017\\01-Pozos\\RN-2009\\01 Antece...\n",
       "2                RN.a-2009(d)_CALIPER_R3.1_TP.las  \\\\pfsnas01\\Depart\\DirE&P\\GTNOP\\01-RNQN\\4-Proyectos\\4.0 Ejecucion 2017\\01-Pozos\\RN-2009\\01 Antece...\n",
       "3                RN.a-2009(d)_CBL-VDL_R3.1_TP.las  \\\\pfsnas01\\Depart\\DirE&P\\GTNOP\\01-RNQN\\4-Proyectos\\4.0 Ejecucion 2017\\01-Pozos\\RN-2009\\01 Antece...\n",
       "4                RN.a-2009(d)_CBL-VDL_R3.1_TR.las  \\\\pfsnas01\\Depart\\DirE&P\\GTNOP\\01-RNQN\\4-Proyectos\\4.0 Ejecucion 2017\\01-Pozos\\RN-2009\\01 Antece...\n",
       "...                                           ...                                                                                                  ...\n",
       "1287                                 rn-65_II.las      \\\\pfsnas01\\Depart\\DirE&P\\GTNOP\\01-RNQN\\4-Proyectos\\Convencionales\\Quintuco\\LAS Provisorio\\RN-65\n",
       "1288                               RN-65_SPBS.LAS      \\\\pfsnas01\\Depart\\DirE&P\\GTNOP\\01-RNQN\\4-Proyectos\\Convencionales\\Quintuco\\LAS Provisorio\\RN-65\n",
       "1289                                  rn-66_I.las      \\\\pfsnas01\\Depart\\DirE&P\\GTNOP\\01-RNQN\\4-Proyectos\\Convencionales\\Quintuco\\LAS Provisorio\\RN-66\n",
       "1290                                 rn-66_II.las      \\\\pfsnas01\\Depart\\DirE&P\\GTNOP\\01-RNQN\\4-Proyectos\\Convencionales\\Quintuco\\LAS Provisorio\\RN-66\n",
       "1291                               RN-66_SPBS.LAS      \\\\pfsnas01\\Depart\\DirE&P\\GTNOP\\01-RNQN\\4-Proyectos\\Convencionales\\Quintuco\\LAS Provisorio\\RN-66\n",
       "\n",
       "[1292 rows x 2 columns]"
      ]
     },
     "execution_count": 44,
     "metadata": {},
     "output_type": "execute_result"
    }
   ],
   "source": [
    "df_final = pd.DataFrame(lst_files, columns=['file', 'parent'])\n",
    "df_final"
   ]
  },
  {
   "cell_type": "code",
   "execution_count": 61,
   "id": "f1816690-ad08-4045-9406-d5df861e65c7",
   "metadata": {},
   "outputs": [
    {
     "name": "stdout",
     "output_type": "stream",
     "text": [
      "RN.a-2009(d)_AIT-PPC-SONIC-GPIT_R3.1_TP.las\n",
      "\\\\pfsnas01\\Depart\\DirE&P\\GTNOP\\01-RNQN\\4-Proyectos\\4.0 Ejecucion 2017\\01-Pozos\\RN-2009\\01 Antecedentes\\Info Pozo\\01-Perfora\\b-Operación\n",
      "Principal\n"
     ]
    },
    {
     "data": {
      "text/plain": [
       "WindowsPath('//pfsnas01/Depart/DirE&P/GTNOP/01-RNQN/4-Proyectos/4.0 Ejecucion 2017/01-Pozos/RN-2009/01 Antecedentes/Info Pozo/01-Perfora/b-Operación/Perfiles/Principal')"
      ]
     },
     "execution_count": 61,
     "metadata": {},
     "output_type": "execute_result"
    }
   ],
   "source": [
    "#df_final.path.drop_duplicates()\n",
    "#df_final[df_final.parent.isna()]\n",
    "print(df_final.iloc[0].file)\n",
    "\n",
    "print(df_final.iloc[0].parent.parents[1])\n",
    "print(df_final.iloc[0].parent.name)\n",
    "df_final.iloc[0].parent"
   ]
  },
  {
   "cell_type": "code",
   "execution_count": 20,
   "id": "f443f2f2-fcbe-44a6-adbb-012f8b79d54d",
   "metadata": {},
   "outputs": [
    {
     "name": "stdout",
     "output_type": "stream",
     "text": [
      "Process Start: 2022-03-08 14:00:18.291485\n"
     ]
    },
    {
     "ename": "AttributeError",
     "evalue": "'str' object has no attribute 'suffix'",
     "output_type": "error",
     "traceback": [
      "\u001b[1;31m---------------------------------------------------------------------------\u001b[0m",
      "\u001b[1;31mAttributeError\u001b[0m                            Traceback (most recent call last)",
      "Input \u001b[1;32mIn [20]\u001b[0m, in \u001b[0;36m<cell line: 5>\u001b[1;34m()\u001b[0m\n\u001b[0;32m      6\u001b[0m \u001b[38;5;28;01mfor\u001b[39;00m file \u001b[38;5;129;01min\u001b[39;00m files:\n\u001b[0;32m      7\u001b[0m     file_path \u001b[38;5;241m=\u001b[39m os\u001b[38;5;241m.\u001b[39mpath\u001b[38;5;241m.\u001b[39mjoin(root, file)\n\u001b[1;32m----> 8\u001b[0m     \u001b[38;5;28;01mif\u001b[39;00m file_path\u001b[38;5;241m.\u001b[39msuffix\u001b[38;5;241m.\u001b[39mlower() \u001b[38;5;241m==\u001b[39m \u001b[38;5;124m'\u001b[39m\u001b[38;5;124m.las\u001b[39m\u001b[38;5;124m'\u001b[39m:\n\u001b[0;32m      9\u001b[0m         lst_file \u001b[38;5;241m=\u001b[39m [file_path\u001b[38;5;241m.\u001b[39mname, file_path]\n\u001b[0;32m     10\u001b[0m         lst_files\u001b[38;5;241m.\u001b[39mappend(lst_file)\n",
      "\u001b[1;31mAttributeError\u001b[0m: 'str' object has no attribute 'suffix'"
     ]
    }
   ],
   "source": [
    "start = datetime.datetime.now()\n",
    "print(\"Process Start:\", start)\n",
    "lst_files = []\n",
    "\n",
    "for root, dirs, files in os.walk(str_path, topdown=True):\n",
    "    for file in files:\n",
    "        file_path = os.path.join(root, file)\n",
    "        if file_path.suffix.lower() == '.las':\n",
    "            lst_file = [file_path.name, file_path]\n",
    "            lst_files.append(lst_file)\n",
    "#    if '~' in file.name:\n",
    "#        print(os.path.join(root, name))\n",
    "#    for dir in dirs:\n",
    "#        print(os.path.join(root, name))\n",
    "\n",
    "df_final = pd.concat(lst_files, ignore_index=True)\n",
    "end = datetime.datetime.now()\n",
    "hours = (end-start).seconds//3600\n",
    "minutes = ((end-start).seconds - (hours * 3600))//60\n",
    "seconds = (end-start).seconds%60\n",
    "print('Execution time: {0:.2f} hours'.format(hours), '{0:.2f} minutes'.format(minutes), '{0:.2f} seconds'.format(seconds))"
   ]
  },
  {
   "cell_type": "code",
   "execution_count": null,
   "id": "d29632a1-be78-4b9c-a602-3529624f74bf",
   "metadata": {},
   "outputs": [],
   "source": [
    "# p es la variable donde guardo el path (luego de la inicialización)\n",
    "#file[file.find('Resumenes')+len('Resumenes')+1:]\n",
    "\n",
    "start = datetime.datetime.now()\n",
    "print(\"Process Start:\", start)\n",
    "lst_df = []\n",
    "\n",
    "start_dir = os.getcwd()\n",
    "\n",
    "list_of_dir = [x for x in p.iterdir() if x.is_dir()]\n",
    "for dir in list_of_dir:\n",
    "    if True:\n",
    "    #if dir.name > '2012':\n",
    "        list_of_subdir = [y for y in dir.iterdir() if y.is_dir()]\n",
    "        for subdir in list_of_subdir:\n",
    "            # Verifico que el subdirectorio a procesar sea un período. Paterns:\n",
    "            if re.search(r'\\d\\d_', subdir.name) or re.search(r'\\d\\d -', subdir.name) or \\\n",
    "                re.search(r'\\d\\d-', subdir.name):\n",
    "            #if subdir.name == '01 - Ene':\n",
    "#            if True:\n",
    "                # Lista de las columnas del dataframe de stock:\n",
    "                list_headers = []\n",
    "                if dir.name == '2008':\n",
    "                list_of_files = [z for z in subdir.iterdir() if z.is_file()]\n",
    "                for file in list_of_files:\n",
    "                    if '~' in file.name:\n",
    "                        file_log.write('Archivo con Error:' + file.name + '\\n')\n",
    "                        #print('Archivo con Error:', file.name)\n",
    "                    else:\n",
    "                        file_log.write('Archivo a Procesar:' + file.name + '\\n')\n",
    "                        if file.suffix.lower() == '.pdf':\n",
    "\n",
    "                \n",
    "                \n",
    "#list_of_files = [z for z in p.iterdir() if z.is_file()]\n",
    "#for file in list_of_files:\n",
    "#    if '~' in file.name:\n",
    "#        #file_log.write('Archivo con Error:' + file.name + '\\n')\n",
    "#        print('Archivo con Error:', file.name)\n",
    "#    else:\n",
    "#        #file_log.write('Archivo a Procesar:' + file.name + '\\n')\n",
    "#        print(file.name)\n",
    "#        if file.suffix.lower() == '.pdf':\n",
    "#            if True:\n",
    "#            #if file.name == '201611 resumen.pdf':\n",
    "#                # 1- leo el pdf - Debería devolver una única tabla\n",
    "#                file_path = os.path.join(str_path, file.name)\n",
    "#                df = func_build_df_from_pdf2(file_path, file.name)\n",
    "#                df2 = func_arrange_df_Santander(df, 'SALDO INICIAL', 'SALDO FINAL')\n",
    "#                lst_df.append(df2)\n",
    "                \n",
    "df_final = pd.concat(lst_df, ignore_index=True)\n",
    "end = datetime.datetime.now()\n",
    "hours = (end-start).seconds//3600\n",
    "minutes = ((end-start).seconds - (hours * 3600))//60\n",
    "seconds = (end-start).seconds%60\n",
    "print('Execution time: {0:.2f} hours'.format(hours), '{0:.2f} minutes'.format(minutes), '{0:.2f} seconds'.format(seconds))"
   ]
  }
 ],
 "metadata": {
  "kernelspec": {
   "display_name": "Python 3.8 (py38)",
   "language": "python",
   "name": "py38"
  },
  "language_info": {
   "codemirror_mode": {
    "name": "ipython",
    "version": 3
   },
   "file_extension": ".py",
   "mimetype": "text/x-python",
   "name": "python",
   "nbconvert_exporter": "python",
   "pygments_lexer": "ipython3",
   "version": "3.8.12"
  }
 },
 "nbformat": 4,
 "nbformat_minor": 5
}
